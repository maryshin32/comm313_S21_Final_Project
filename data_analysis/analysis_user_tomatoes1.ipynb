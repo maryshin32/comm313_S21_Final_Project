{
 "cells": [
  {
   "cell_type": "markdown",
   "metadata": {},
   "source": [
    "# Analysis of User Reviews from Rotten Tomatoes Pt. 1/2\n",
    "\n",
    "In my notebooks titled `tomatoes_host_user` and `tomatoes_parasite_user`, I went through the Rotten Tomatoes website (site that contains movie reviews) and scraped user reviews of [_The Host_](https://www.rottentomatoes.com/m/the_host_2007) and [_Parasite_](https://www.rottentomatoes.com/m/parasite_2019), respectively. After scraping, cleaning, and organizing the user review data for both movies, I wrote them out as JSON files so that I can run my series of analyses on the data! \n",
    "\n",
    "In this notebook, similar to the steps I went through in the notebook called `analysis_user_metacritic`, I will be going through user review data of both movies, and again, the overall question I'm trying to answer is: **Was _Parasite_ more well-received (higher percentage of positively rated reviews, higher sentiment scores throughout reviews) than _The Host_**? \n",
    "\n",
    "I will split up my analysis into 5 parts, and only parts 1-2 are in this notebook. Analyses 3-5 are in the next notebook titled `analysis_user_tomatoes2`. Here is the full list of my analyses:\n",
    "1. Looking at positively, neutrally, and negatively rated reviews of each movie \n",
    "2. Keyness analysis & KWIC concordance analysis for pos and neg reviews\n",
    "3. Using VADER to run sentiment analysis round 1\n",
    "4. Using the NRC VAD Lexicon for sentiment analysis round 2\n",
    "5. Using the NRC Emotion Lexicon for sentiment analysis round 3\n",
    "\n",
    "Therefore, the bulk of my project and what will help me answer my overall research question, relies on **sentiment analysis!** I'm very excited to see what results we'll end up with, and how we can better understand the public audience sentiment of both movies!\n",
    "\n",
    "Now, before we dive into my analyses, let's run some set-up cells:"
   ]
  },
  {
   "cell_type": "code",
   "execution_count": 1,
   "metadata": {},
   "outputs": [],
   "source": [
    "import json\n",
    "from nltk.sentiment import SentimentIntensityAnalyzer\n",
    "from collections import Counter\n",
    "import seaborn as sns\n",
    "import pandas as pd\n",
    "import matplotlib.pyplot as plt\n",
    "import math\n",
    "import random"
   ]
  },
  {
   "cell_type": "code",
   "execution_count": 2,
   "metadata": {},
   "outputs": [],
   "source": [
    "chars_to_remove = '.,!?/()'\n",
    "random.seed(0)"
   ]
  },
  {
   "cell_type": "code",
   "execution_count": 3,
   "metadata": {},
   "outputs": [],
   "source": [
    "%run functions.ipynb"
   ]
  },
  {
   "cell_type": "markdown",
   "metadata": {},
   "source": [
    "## Analysis pt. 1: Splitting into positive and negative ratings, Keyness Analysis\n",
    "\n",
    "### Is there a higher percentage of positively rated reviews of _Parasite_ than that of _The Host_ ?\n",
    "\n",
    "### Looking at user reviews of _The Host_ :\n",
    "\n",
    "I'm going to load in the text data of these user reviews from Rotten Tomatoes (RT), look at how many reviews I have, and then run some analyses, including dividing the reviews by score (which was given on a five-star range, so scores run from 0 to 5) and also sentiment analysis."
   ]
  },
  {
   "cell_type": "code",
   "execution_count": 4,
   "metadata": {},
   "outputs": [],
   "source": [
    "# Loading in the text data:\n",
    "rt_host_user = json.load(open('../data/user_reviews/tomatoes_host_user.json'))"
   ]
  },
  {
   "cell_type": "markdown",
   "metadata": {},
   "source": [
    "Let's see what the data structure looks like, and also how many user reviews we have of _The Host_"
   ]
  },
  {
   "cell_type": "code",
   "execution_count": 5,
   "metadata": {},
   "outputs": [
    {
     "data": {
      "text/plain": [
       "{'date': 'Dec 30, 2009',\n",
       " 'score': 3.5,\n",
       " 'text': 'For a monster movie this was quite good. Decent special effects and good acting all around. I feel that the aspect of military involvement and the supposed virus scare was never really expanded upon properly, leaving lots of \"why?\" when the credits role. Overall a great overseas horror flick, and I gotta say it\\'s good to see something from that part of te globe where te main antagonist is NOT a woman with long black hair hanging in front of her face :)'}"
      ]
     },
     "execution_count": 5,
     "metadata": {},
     "output_type": "execute_result"
    }
   ],
   "source": [
    "# First review in the list, to look at the structure:\n",
    "rt_host_user[0]"
   ]
  },
  {
   "cell_type": "code",
   "execution_count": 6,
   "metadata": {},
   "outputs": [
    {
     "data": {
      "text/plain": [
       "4855"
      ]
     },
     "execution_count": 6,
     "metadata": {},
     "output_type": "execute_result"
    }
   ],
   "source": [
    "# How many user reviews of The Host in my data:\n",
    "len(rt_host_user)"
   ]
  },
  {
   "cell_type": "markdown",
   "metadata": {},
   "source": [
    "So we have a list of dictionaries, in which each dictionary (each unit) represents a user review that was posted on RT. The information I've pulled from the RT site is the date of the review, the score that the reviewer gave (on a scale of 0-5, or out of 5 stars), and the text of the review. We are working with 4,855 user reviews here! That's a pretty good amount to carry out some textual analysis on. \n",
    "\n",
    "For the first part of this user review analysis, I want to split the reviews into positive, negative, and neutral scores. So I'll make three separate lists, one with all the positive reviews (those with a score rating greater than or equal to 4 stars), one with all the negative reviews (those with a score rating lower than 3), and lump together everything in between into a list of neutral reviews (scores between 3 and 4)."
   ]
  },
  {
   "cell_type": "code",
   "execution_count": 7,
   "metadata": {},
   "outputs": [],
   "source": [
    "# Splitting into positive and negative user reviews:\n",
    "\n",
    "pos_host = []\n",
    "neg_host = []\n",
    "neu_host = []\n",
    "\n",
    "for review in rt_host_user:\n",
    "    if review['score']>=4:\n",
    "        pos_host.append(review)\n",
    "    elif review['score']<3:\n",
    "        neg_host.append(review)\n",
    "    else:\n",
    "        neu_host.append(review)"
   ]
  },
  {
   "cell_type": "code",
   "execution_count": 8,
   "metadata": {
    "scrolled": true
   },
   "outputs": [
    {
     "data": {
      "text/plain": [
       "2385"
      ]
     },
     "execution_count": 8,
     "metadata": {},
     "output_type": "execute_result"
    }
   ],
   "source": [
    "# How many reviews scored the movie higher than 3 stars:\n",
    "len(pos_host)"
   ]
  },
  {
   "cell_type": "code",
   "execution_count": 9,
   "metadata": {
    "scrolled": true
   },
   "outputs": [
    {
     "data": {
      "text/plain": [
       "852"
      ]
     },
     "execution_count": 9,
     "metadata": {},
     "output_type": "execute_result"
    }
   ],
   "source": [
    "# How many reviews scored the movie lower than 3 stars:\n",
    "len(neg_host)"
   ]
  },
  {
   "cell_type": "code",
   "execution_count": 10,
   "metadata": {},
   "outputs": [
    {
     "data": {
      "text/plain": [
       "1618"
      ]
     },
     "execution_count": 10,
     "metadata": {},
     "output_type": "execute_result"
    }
   ],
   "source": [
    "len(neu_host)"
   ]
  },
  {
   "cell_type": "code",
   "execution_count": 11,
   "metadata": {},
   "outputs": [
    {
     "data": {
      "text/plain": [
       "49.12461380020597"
      ]
     },
     "execution_count": 11,
     "metadata": {},
     "output_type": "execute_result"
    }
   ],
   "source": [
    "# Percentage of positive reviews:\n",
    "(len(pos_host) / len(rt_host_user)) * 100"
   ]
  },
  {
   "cell_type": "code",
   "execution_count": 12,
   "metadata": {},
   "outputs": [
    {
     "data": {
      "text/plain": [
       "50.87538619979403"
      ]
     },
     "execution_count": 12,
     "metadata": {},
     "output_type": "execute_result"
    }
   ],
   "source": [
    "# Percentage of negative and neutral reviews:\n",
    "((len(neg_host) + len(neu_host)) / len(rt_host_user)) * 100"
   ]
  },
  {
   "cell_type": "markdown",
   "metadata": {},
   "source": [
    "### Observations\n",
    "\n",
    "* This is pretty fascinating! Based on the initial analysis, it looks like the reviews are split pretty evenly between positively scored reviews (represents about 49.1% of the reviews) and negatively or neutrally scored ones (about 50.9% of the reviews), with a little more negative than positive scored reviews!\n",
    "* Although this does not tell us exactly what kinds of language the audience is using to rate _The Host_ on RT, we do know that quantitatively, the ratings are divided. It's not particularly leaning towards user reviews being completely negative or positive. \n",
    "* But it is important to note that overall, there is a slightly higher percentage of negatively or neutrally scored reviews than positively scores reviews.\n",
    "\n",
    "We can take a look at some of the positive and negative reviews, just to get a sample of what user reviews say about the movie:"
   ]
  },
  {
   "cell_type": "code",
   "execution_count": 13,
   "metadata": {
    "scrolled": true
   },
   "outputs": [
    {
     "data": {
      "text/plain": [
       "[{'date': 'Dec 15, 2009',\n",
       "  'score': 2.5,\n",
       "  'text': \"It wasn't really as thrilling as I expected it to be, and some of the character's stupidity/lack of will was frustrating. That said, it's not a bad movie. Definitely watchable.\"},\n",
       " {'date': 'Dec 01, 2009',\n",
       "  'score': 1.5,\n",
       "  'text': 'Did not like!   They did make a really good monster though, but the movie sucked.'},\n",
       " {'date': 'Nov 26, 2009',\n",
       "  'score': 2,\n",
       "  'text': 'Not as good as i had hoped. I always like to see how the americans are portrayed in asian films--bossy, know-it-all fools, mostly, and the host is no exception.'},\n",
       " {'date': 'Nov 04, 2009',\n",
       "  'score': 2,\n",
       "  'text': \"People here like it. I don't know why. The creature is good, the idea is good, even the intentions of the writers were probably good, but the comic relief parts were painfully unpleasant, the story makes no sense, and some of the actors should have taken lessons, or died trying.\"},\n",
       " {'date': 'Oct 26, 2009',\n",
       "  'score': 2,\n",
       "  'text': 'please end...oh god, when will it end?'}]"
      ]
     },
     "execution_count": 13,
     "metadata": {},
     "output_type": "execute_result"
    }
   ],
   "source": [
    "# Looking at some of the negative user reviews:\n",
    "neg_host[:5]"
   ]
  },
  {
   "cell_type": "code",
   "execution_count": 14,
   "metadata": {
    "scrolled": true
   },
   "outputs": [
    {
     "data": {
      "text/plain": [
       "[{'date': 'Dec 25, 2009',\n",
       "  'score': 4,\n",
       "  'text': 'I liked this a lot more than Cloverfield. Great cinematography on top of a fun action packed monster drama. South Korea knocks it out of the park again.'},\n",
       " {'date': 'Dec 25, 2009',\n",
       "  'score': 5,\n",
       "  'text': \"I watched this film again recently. It's probably my fourth or fifth time and I still enjoyed it. I think I can watch this film over and over and over again and never get sick of it. One of the best monster movies ever.\"},\n",
       " {'date': 'Dec 22, 2009',\n",
       "  'score': 4.5,\n",
       "  'text': \"I hadn't seen it since in the theater and I picked up the Blu.  Its still amazing.  There's a lot of interesting social commentary underneath this ridiculously entertaining monster movie, but it successfully never goes overboard.  At the heart of it all is a really awesome, fully realized family.  The part when they're reintroduced as they're mourning the daughter's false death is classic.  See it, if you haven't already.  And if so, see it again.\"},\n",
       " {'date': 'Dec 19, 2009', 'score': 4.5, 'text': 'A right proper horror movie'},\n",
       " {'date': 'Dec 19, 2009', 'score': 4, 'text': 'Strange - but refreshing.'}]"
      ]
     },
     "execution_count": 14,
     "metadata": {},
     "output_type": "execute_result"
    }
   ],
   "source": [
    "# Looking at the first five positive user reviews:\n",
    "pos_host[:5]"
   ]
  },
  {
   "cell_type": "markdown",
   "metadata": {},
   "source": [
    "### Looking at user reviews of _Parasite_ :\n",
    "\n",
    "Now I'm going to carry out the same steps as above, but this time for user reviews of _Parasite_ . I'm going to load in the data, split into positive, negative, and neutral reviews based on the review scores, and make some observations, before going into the bulk of my project, which is carrying out sentiment analysis on the review data."
   ]
  },
  {
   "cell_type": "code",
   "execution_count": 15,
   "metadata": {},
   "outputs": [],
   "source": [
    "# Load in the data:\n",
    "rt_parasite_user = json.load(open('../data/user_reviews/tomatoes_parasite_user.json'))"
   ]
  },
  {
   "cell_type": "code",
   "execution_count": 16,
   "metadata": {},
   "outputs": [
    {
     "data": {
      "text/plain": [
       "{'date': 'May 1, 2021',\n",
       " 'score': 5,\n",
       " 'text': \"Watch it!!!!!!! I don't need to say a word, just trust me.\"}"
      ]
     },
     "execution_count": 16,
     "metadata": {},
     "output_type": "execute_result"
    }
   ],
   "source": [
    "# Look at the first item in the list:\n",
    "rt_parasite_user[0]"
   ]
  },
  {
   "cell_type": "code",
   "execution_count": 17,
   "metadata": {
    "scrolled": true
   },
   "outputs": [
    {
     "data": {
      "text/plain": [
       "4409"
      ]
     },
     "execution_count": 17,
     "metadata": {},
     "output_type": "execute_result"
    }
   ],
   "source": [
    "# Number of user reviews of Parasite in my data:\n",
    "len(rt_parasite_user)"
   ]
  },
  {
   "cell_type": "markdown",
   "metadata": {},
   "source": [
    "The list of dictionaries is in the same structure and has the same three categories of information: `date`, `score`, and `text` of the review. And we have 4,409 user reviews of _Parasite_ so now let's take a look at dividing them into positively rated, negatively rated, and neutral ones!"
   ]
  },
  {
   "cell_type": "code",
   "execution_count": 18,
   "metadata": {},
   "outputs": [],
   "source": [
    "# Splitting into positive and negative user reviews:\n",
    "\n",
    "pos_parasite = []\n",
    "neg_parasite = []\n",
    "neu_parasite = []\n",
    "\n",
    "for review in rt_parasite_user:\n",
    "    if review['score']>=4:\n",
    "        pos_parasite.append(review)\n",
    "    elif review['score']<3:\n",
    "        neg_parasite.append(review)\n",
    "    else:\n",
    "        neu_parasite.append(review)"
   ]
  },
  {
   "cell_type": "code",
   "execution_count": 19,
   "metadata": {},
   "outputs": [
    {
     "data": {
      "text/plain": [
       "3503"
      ]
     },
     "execution_count": 19,
     "metadata": {},
     "output_type": "execute_result"
    }
   ],
   "source": [
    "# Number of positively rated reviews of Parasite: \n",
    "len(pos_parasite)"
   ]
  },
  {
   "cell_type": "code",
   "execution_count": 20,
   "metadata": {},
   "outputs": [
    {
     "data": {
      "text/plain": [
       "538"
      ]
     },
     "execution_count": 20,
     "metadata": {},
     "output_type": "execute_result"
    }
   ],
   "source": [
    "# Number of negatively rated reviews of Parasite:\n",
    "len(neg_parasite)"
   ]
  },
  {
   "cell_type": "code",
   "execution_count": 21,
   "metadata": {},
   "outputs": [
    {
     "data": {
      "text/plain": [
       "368"
      ]
     },
     "execution_count": 21,
     "metadata": {},
     "output_type": "execute_result"
    }
   ],
   "source": [
    "# Number of neutral reviews (scores between 3-4):\n",
    "len(neu_parasite)"
   ]
  },
  {
   "cell_type": "code",
   "execution_count": 22,
   "metadata": {},
   "outputs": [
    {
     "data": {
      "text/plain": [
       "79.4511227035609"
      ]
     },
     "execution_count": 22,
     "metadata": {},
     "output_type": "execute_result"
    }
   ],
   "source": [
    "# Percent of positively rated reviews:\n",
    "(len(pos_parasite) / len(rt_parasite_user)) * 100"
   ]
  },
  {
   "cell_type": "code",
   "execution_count": 23,
   "metadata": {},
   "outputs": [
    {
     "data": {
      "text/plain": [
       "20.5488772964391"
      ]
     },
     "execution_count": 23,
     "metadata": {},
     "output_type": "execute_result"
    }
   ],
   "source": [
    "# Percent of negatively or neutrally rated reviews:\n",
    "((len(neg_parasite) + len(neu_parasite)) / len(rt_parasite_user)) * 100"
   ]
  },
  {
   "cell_type": "code",
   "execution_count": 24,
   "metadata": {},
   "outputs": [
    {
     "data": {
      "text/plain": [
       "[{'date': 'May 1, 2021',\n",
       "  'score': 5,\n",
       "  'text': \"Watch it!!!!!!! I don't need to say a word, just trust me.\"},\n",
       " {'date': 'Apr 29, 2021',\n",
       "  'score': 5,\n",
       "  'text': 'unlike the justice league the snyder cut the parasite is not 4 hours long and actually good and balances its comedy, drama and horror elements with razor precision therefore it is pretentious therefore it is not kino'},\n",
       " {'date': 'Apr 28, 2021',\n",
       "  'score': 5,\n",
       "  'text': \"One of the best films I've ever seen in my life, couldn't have been executed better.\\nBrilliant actors, amazing script, great twist, just marvelous!\"},\n",
       " {'date': 'Apr 27, 2021',\n",
       "  'score': 5,\n",
       "  'text': \"This movie is a masterpiece in all senses. Parasite portrays the intimate true about the social classes. The movement of characters show how the difference between classes in life occurs. The colors and the photography speak without using words. The script is amazing, the film is of elegant suspense that doesn't show itself and makes the audience scream Wow! every moment. I think is a good movie to explain the social issues in a decadent society, which only cares about not losing its position of power.\"},\n",
       " {'date': 'Apr 27, 2021',\n",
       "  'score': 5,\n",
       "  'text': 'A masterpice with a heavy a realistic critic to the society.'}]"
      ]
     },
     "execution_count": 24,
     "metadata": {},
     "output_type": "execute_result"
    }
   ],
   "source": [
    "# Looking at a few of the positive reviews:\n",
    "\n",
    "pos_parasite[:5]"
   ]
  },
  {
   "cell_type": "code",
   "execution_count": 25,
   "metadata": {},
   "outputs": [
    {
     "data": {
      "text/plain": [
       "[{'date': 'Mar 26, 2021',\n",
       "  'score': 2,\n",
       "  'text': \"The movie was just ok, didn't understand why the huge propaganda and oscars..\"},\n",
       " {'date': 'Mar 21, 2021',\n",
       "  'score': 2,\n",
       "  'text': \"The first half of the film is good, but then it deteriorates to biblical proportions, it does not deserve an Oscar, it shows that it was because of racial issues, what a shame today's cinema gives me.\"},\n",
       " {'date': 'Jan 26, 2021',\n",
       "  'score': 1,\n",
       "  'text': '\"Parasite\" is as subtle as a sledgehammer.  After a promising start, the film devolves into a simplistic, cliche-ridden, predictable mess, replete with the graphic violence that\\'s de rigueur of contemporary films.  The imagery, symbolism, and metaphors are laughably over-the-top, enough to make even a middle-schooler\\'s eyes roll.  It\\'s about as sophisticated as a 3rd-rate TV show and not recommended to discerning viewers looking for substance.'},\n",
       " {'date': 'Jan 22, 2021',\n",
       "  'score': 2,\n",
       "  'text': 'The story is quarky and the cinematography is simple but beautiful. But its just another stereotypical movie that depicts the rich as cruel and out of the touch. Over simplistic villians and seems more interested in advancing a narrative. The movie is worth a watch but way overrated for people not interested in movies that affirm a political worldview.'},\n",
       " {'date': 'Jan 20, 2021',\n",
       "  'score': 2.5,\n",
       "  'text': \"Doing my best to keep this spoiler free, I would say that the film is watchable and it's probably worth seeing if only for social reasons as it does crop up here and there is most of my social circles that include movie fans.\\n\\nThe plot centres on the misfortunes of a family and their ability to take advantage of their son getting his foot in the door of a lucrative opportunity. It's then a story of how things can escalate when you get into a situation you aren't in control of to begin with and the stakes keep raising. There are no glaring problems with the plot or characters, unless (I'm told) you happen to be familiar with South Korean culture. And the film does a decent job of making you care about most of the characters in it as it appropriately develops most of the characters in it so you can understand them as people.\\n\\nThe problem comes in when you really start to pay attention to the characters and the decisions that they make. At it's core it poses the assumption that if you give someone an inch, they will take a mile. Which isn't unreasonable, until I add in that the mile would include driving over people, friends included, then it's a whole lot less reasonable and is only believable if we are talking about psychopaths.\\n\\nIn the same way while the situation might initially seem understandable you are doomed if you ever ask yourself the question; but would you? If you and your family were in a desperate situation would you risk it all for more when the chance of you getting busted is actually pretty high? Probably not. If you were to seemingly succeed, would you repeat the process? Well, maybe since you were daft enough to try it again, but really, why would you? The film makes no effort to explain why they keep choosing to escalate the situation when they seem to move out of the most desperate situation immediately after acquiring the first opportunity, which was given to them legitimately. Instead they plough ahead taking risk after risk, then pretty soon the characters seem to forget how precarious their position is and make several obviously terrible decisions which act as a catalyst for further escalating situations. Culminating into an entirely avoidable situation.\\n\\nThe biggest problem of all is that the means they use to go about setting up these further opportunities draw attention to how wicked they are as people and really sets you against them despite their own struggles. You then spend much of the film rooting for them to fail as much as you are hoping for everything to turn out alright, because although they were clearly desperate, it's equally apparent that they are bad people who don't hesitate to put other people in a situation as desperate as they have been in, so long as it's not them. I get the sense that this is supposed to be a duality within the film, but when one side completely overpowers the other, it doesn't work at all. The various bad circumstances that afflict the characters in no way comes even close to justifying their actions against others and just cements that fact that they are people who ultimately deserve to lose.\\n\\nThat being said, the acting, which I have seen criticised, isn't bad. It's not Hollywood A-list but then placing that kind of expectation on them is unreasonable and they easily outperform some actors/actresses in Hollywood who have had repeated work in the industry. The music is perfectly crafted to enhance the experience and it's clear no expense nor effort was sparing in the sets. It's an experience that is only harmed by how obscene the choices the characters make and keep making.\\n\\nWhile you are watching you could become engrossed enough to forget these kinds of details and considerations, and if you can do that you will enjoy it. If you have an eye for the particulars however, Parasite is fundamentally no different from a B-list horror movie where the situation only happens because of continued awful decisions on the part of the main cast. I don't feel that this fundamentally a bad movie, despite how much I may have gone on about its flaws, but it's not something you are every likely to watch twice and I seriously doubt it's something that will be remembered as anything other than 'that foreign film that won best picture that one time'\"}]"
      ]
     },
     "execution_count": 25,
     "metadata": {},
     "output_type": "execute_result"
    }
   ],
   "source": [
    "# Looking at a few negative reviews:\n",
    "\n",
    "neg_parasite[:5]"
   ]
  },
  {
   "cell_type": "markdown",
   "metadata": {},
   "source": [
    "### Observations\n",
    "\n",
    "* This is a stark contrast from the division between positive and negative rated reviews of _The Host_ ! For these user reviews of _Parasite_ that I've collected, it looks like they consist of overwhelmingly positive than negative or neutral scored reviews. \n",
    "* We can see that about 79.5% of reviews are positively rated (above 4 stars), versus about 20.5% of reviews are negatively (below 3 stars) or neutrally rated (between 3 and 4). \n",
    "* Another intriguing observation is that among negative or neutral reviews, there are more neutral reviews (1618) than negative ones (852) for _The Host_ whereas for _Parasite_ there are more negative reviews (538) than neutral (368) among this group. What this tells us is that for _The Host_ there were more neutral ratings and less polarization on either side of the rating spectrum, but for _Parasite_ we see that there is more polarization, since there's less neutral reviews and more on the extreme sides of the spectrum (pos or neg).\n",
    "\n",
    "Overall, this means that **Yes, there is a higher percentage of positively rated reviews of _Parasite_ than that of _The Host_**! \n",
    "\n",
    "With this information, I'm curious whether we can investigate what specific words are most frequently used for reviews of each movie? We can run some keyness analysis!\n",
    "\n",
    "## Analysis pt. 2: Keyness and KWIC concordance analysis\n",
    "\n",
    "### What kinds of words are people using in positive versus negative rated reviews?\n",
    "\n",
    "For each movie: \n",
    "\n",
    "I will first tokenize both the pos and neg review list, and then look at the frequency lists using the `Counter` function to see which words are most frequently used in both lists, and then run keyness analysis which will do a comparison of the normalized frequencies of linguistic items in my 2 lists. I will also show some KWIC (key word in context) concordance analysis to show what kinds of language are surrounding frequently used words in the pos and neg rated review lists."
   ]
  },
  {
   "cell_type": "code",
   "execution_count": 26,
   "metadata": {},
   "outputs": [],
   "source": [
    "sid = SentimentIntensityAnalyzer()"
   ]
  },
  {
   "cell_type": "markdown",
   "metadata": {},
   "source": [
    "**The Host**\n",
    "\n",
    "Tokenizing:"
   ]
  },
  {
   "cell_type": "code",
   "execution_count": 27,
   "metadata": {},
   "outputs": [],
   "source": [
    "pos_tokens_host = []\n",
    "for rev in pos_host:\n",
    "    toks=tokenize(rev['text'], lowercase=True, strip_chars=chars_to_remove)\n",
    "    pos_tokens_host.extend(toks)"
   ]
  },
  {
   "cell_type": "code",
   "execution_count": 28,
   "metadata": {},
   "outputs": [
    {
     "name": "stdout",
     "output_type": "stream",
     "text": [
      "95987 tokens in the positive reviews\n"
     ]
    }
   ],
   "source": [
    "print('{} tokens in the positive reviews'.format(len(pos_tokens_host)))"
   ]
  },
  {
   "cell_type": "code",
   "execution_count": 29,
   "metadata": {},
   "outputs": [],
   "source": [
    "neg_tokens_host = []\n",
    "for rev in neg_host:\n",
    "    toks=tokenize(rev['text'], lowercase=True, strip_chars=chars_to_remove)\n",
    "    neg_tokens_host.extend(toks)"
   ]
  },
  {
   "cell_type": "code",
   "execution_count": 30,
   "metadata": {},
   "outputs": [
    {
     "name": "stdout",
     "output_type": "stream",
     "text": [
      "32525 tokens in the negative reviews\n"
     ]
    }
   ],
   "source": [
    "print('{} tokens in the negative reviews'.format(len(neg_tokens_host)))"
   ]
  },
  {
   "cell_type": "markdown",
   "metadata": {},
   "source": [
    "Making frequency lists to look at most common words:"
   ]
  },
  {
   "cell_type": "code",
   "execution_count": 31,
   "metadata": {},
   "outputs": [],
   "source": [
    "pos_freq_host=Counter(pos_tokens_host)\n",
    "neg_freq_host=Counter(neg_tokens_host)"
   ]
  },
  {
   "cell_type": "code",
   "execution_count": 32,
   "metadata": {},
   "outputs": [
    {
     "data": {
      "text/plain": [
       "[('the', 5619),\n",
       " ('a', 3264),\n",
       " ('and', 2815),\n",
       " ('of', 2305),\n",
       " ('it', 1931),\n",
       " ('movie', 1844),\n",
       " ('monster', 1795),\n",
       " ('to', 1687),\n",
       " ('is', 1654),\n",
       " ('this', 1485),\n",
       " ('i', 1411),\n",
       " ('in', 1259),\n",
       " ('that', 1087),\n",
       " ('was', 869),\n",
       " ('but', 861),\n",
       " ('film', 775),\n",
       " ('with', 757),\n",
       " ('you', 629),\n",
       " ('great', 626),\n",
       " ('good', 572)]"
      ]
     },
     "execution_count": 32,
     "metadata": {},
     "output_type": "execute_result"
    }
   ],
   "source": [
    "pos_freq_host.most_common(20)"
   ]
  },
  {
   "cell_type": "code",
   "execution_count": 33,
   "metadata": {},
   "outputs": [
    {
     "data": {
      "text/plain": [
       "[('the', 1946),\n",
       " ('it', 842),\n",
       " ('a', 830),\n",
       " ('i', 824),\n",
       " ('and', 762),\n",
       " ('of', 669),\n",
       " ('was', 665),\n",
       " ('to', 645),\n",
       " ('this', 586),\n",
       " ('movie', 561),\n",
       " ('is', 438),\n",
       " ('but', 434),\n",
       " ('monster', 377),\n",
       " ('in', 362),\n",
       " ('that', 350),\n",
       " ('not', 306),\n",
       " ('for', 215),\n",
       " ('film', 209),\n",
       " ('with', 208),\n",
       " ('as', 207)]"
      ]
     },
     "execution_count": 33,
     "metadata": {},
     "output_type": "execute_result"
    }
   ],
   "source": [
    "neg_freq_host.most_common(20)"
   ]
  },
  {
   "cell_type": "markdown",
   "metadata": {},
   "source": [
    "Running keyness analysis to compare normalized frequencies of words and bigrams in the 2 lists:"
   ]
  },
  {
   "cell_type": "code",
   "execution_count": 34,
   "metadata": {},
   "outputs": [
    {
     "name": "stdout",
     "output_type": "stream",
     "text": [
      "WORD                     Corpus A Freq.Corpus B Freq.Keyness\n",
      "============================================================\n",
      "great                    626       77        91.124\n",
      "best                     371       29        88.169\n",
      "monster                  1795      377       78.819\n",
      "family                   419       52        60.223\n",
      "a                        3264      830       57.637\n",
      "love                     152       9         44.040\n",
      "awesome                  156       14        32.794\n",
      "and                      2815      762       31.537\n",
      "genre                    136       11        31.409\n",
      "you                      629       128       30.825\n",
      "it's                     544       109       28.055\n",
      "has                      254       40        24.292\n",
      "is                       1654      438       22.050\n",
      "very                     410       83        20.444\n",
      "excellent                87        7         20.182\n",
      "drama                    151       20        19.686\n",
      "bong                     74        5         19.651\n",
      "his                      113       13        18.009\n",
      "films                    153       22        17.395\n",
      "fantastic                79        7         16.810\n",
      "horror                   306       61        16.042\n",
      "movies                   386       83        15.532\n",
      "by                       269       52        15.510\n",
      "fun                      155       24        15.338\n",
      "years                    64        5         15.216\n",
      "action                   144       22        14.630\n",
      "korea                    126       18        14.491\n",
      "one                      559       133       14.412\n",
      "humor                    149       24        13.596\n",
      "amazing                  122       18        13.241\n",
      "south                    84        10        12.794\n",
      "of                       2305      669       12.784\n",
      "flick                    150       25        12.703\n",
      "hilarious                67        7         12.009\n",
      "an                       359       81        11.874\n",
      "sad                      61        6         11.688\n",
      "river                    97        14        10.955\n",
      "dark                     59        6         10.902\n",
      "hollywood                92        13        10.783\n",
      "comedy                   243       51        10.698\n",
      "while                    113       18        10.555\n",
      "its                      307       70        9.694\n",
      "creature                 221       47        9.270\n",
      "expect                   49        5         9.020\n",
      "film                     775       209       8.956\n",
      "most                     196       41        8.732\n",
      "giant                    72        10        8.691\n",
      "together                 67        9         8.542\n",
      "mix                      62        8         8.415\n",
      "joon-ho                  62        8         8.415\n"
     ]
    }
   ],
   "source": [
    "calculate_keyness(pos_freq_host, neg_freq_host, top=50)"
   ]
  },
  {
   "cell_type": "code",
   "execution_count": 35,
   "metadata": {
    "scrolled": true
   },
   "outputs": [
    {
     "name": "stdout",
     "output_type": "stream",
     "text": [
      "WORD                     Corpus A Freq.Corpus B Freq.Keyness\n",
      "============================================================\n",
      "was                      665       869       235.237\n",
      "i                        824       1411      145.485\n",
      "bad                      127       69        134.978\n",
      "didn't                   98        61        93.176\n",
      "crap                     37        11        56.423\n",
      "were                     112       121       55.738\n",
      "terrible                 43        18        54.660\n",
      "not                      306       526       53.354\n",
      "waste                    28        7         46.002\n",
      "did                      75        71        45.250\n",
      "just                     207       335       43.499\n",
      "but                      434       861       43.352\n",
      "reviews                  30        10        43.290\n",
      "why                      59        48        42.947\n",
      "horrible                 32        14        39.573\n",
      "stupid                   34        17        38.430\n",
      "it                       842       1931      36.013\n",
      "disappointed             26        10        34.744\n",
      "no                       82        100       33.178\n",
      "hype                     25        10        32.658\n",
      "couldn't                 26        12        31.054\n",
      "have                     178       307       30.695\n",
      "sucked                   20        6         30.372\n",
      "wanted                   23        10        28.556\n",
      "don't                    101       148       27.664\n",
      "been                     71        89        27.274\n",
      "me                       127       204       27.272\n",
      "enough                   40        35        26.709\n",
      "translation              20        8         26.126\n",
      "minutes                  42        40        25.135\n",
      "critics                  18        7         23.902\n",
      "wasn't                   40        41        21.572\n",
      "lost                     26        19        21.248\n",
      "supposed                 24        17        20.237\n",
      "thought                  55        71        19.943\n",
      "had                      95        154       19.866\n",
      "acting                   62        86        19.306\n",
      "maybe                    34        34        19.008\n",
      "rest                     23        17        18.578\n",
      "too                      85        137       18.075\n",
      "half                     24        19        18.013\n",
      "hour                     14        6         17.540\n",
      "didnt                    18        11        17.388\n",
      "plot                     65        99        16.148\n",
      "15                       14        7         15.824\n",
      "dubbing                  33        37        15.467\n",
      "annoying                 12        5         15.297\n",
      "dull                     12        5         15.297\n",
      "would                    83        141       15.037\n",
      "ok                       20        16        14.837\n"
     ]
    }
   ],
   "source": [
    "calculate_keyness(neg_freq_host, pos_freq_host, top=50)"
   ]
  },
  {
   "cell_type": "markdown",
   "metadata": {},
   "source": [
    "### Observations\n",
    "\n",
    "* Notable words that occur much more frequently in the positive rated reviews include: `great`, `best`, `monster`, and `awesome`. \n",
    "* `bong` is on the frequently used list, but the director's name is not mentioned as much as I thought!\n",
    "* Some words that stood out to me, that occurred much more frequently in the negative rated reviews include: `waste`, `terrible`, `translation`. \n",
    "\n",
    "Let's try displaying the keyness results:"
   ]
  },
  {
   "cell_type": "code",
   "execution_count": 36,
   "metadata": {},
   "outputs": [
    {
     "data": {
      "image/png": "[encoded data removed]",
      "text/plain": [
       "<Figure size 576x720 with 1 Axes>"
      ]
     },
     "metadata": {
      "needs_background": "light"
     },
     "output_type": "display_data"
    }
   ],
   "source": [
    "keywords_df = calculate_keyness(pos_freq_host, neg_freq_host, print_table=False, top=-1, keyness_threshold=-100000)\n",
    "kplot=plot_keyitems(keywords_df, 20, corpusA='Positive Reviews', corpusB='Negative Reviews')"
   ]
  },
  {
   "cell_type": "code",
   "execution_count": 37,
   "metadata": {
    "scrolled": true
   },
   "outputs": [
    {
     "data": {
      "text/html": [
       "\n",
       "        <div style=' float:left; width: 40%; text-align: center'>\n",
       "        <h3>Positive Reviews</h3>\n",
       "        \n",
       "            <div style=\"font-size: 22.561131889552712px; color: red; margin-bottom: 2px; float: left; \n",
       "            margin: 10px; padding: 2px; background-color: #f7f7f7; border-radius: 6px\">\n",
       "            great</div>\n",
       "            \n",
       "\n",
       "            <div style=\"font-size: 22.396270532469174px; color: red; margin-bottom: 2px; float: left; \n",
       "            margin: 10px; padding: 2px; background-color: #f7f7f7; border-radius: 6px\">\n",
       "            best</div>\n",
       "            \n",
       "\n",
       "            <div style=\"font-size: 21.83576629921681px; color: red; margin-bottom: 2px; float: left; \n",
       "            margin: 10px; padding: 2px; background-color: #f7f7f7; border-radius: 6px\">\n",
       "            monster</div>\n",
       "            \n",
       "\n",
       "            <div style=\"font-size: 20.490239280723404px; color: red; margin-bottom: 2px; float: left; \n",
       "            margin: 10px; padding: 2px; background-color: #f7f7f7; border-radius: 6px\">\n",
       "            family</div>\n",
       "            \n",
       "\n",
       "            <div style=\"font-size: 20.27085559524544px; color: red; margin-bottom: 2px; float: left; \n",
       "            margin: 10px; padding: 2px; background-color: #f7f7f7; border-radius: 6px\">\n",
       "            a</div>\n",
       "            \n",
       "\n",
       "            <div style=\"font-size: 18.925474284501284px; color: red; margin-bottom: 2px; float: left; \n",
       "            margin: 10px; padding: 2px; background-color: #f7f7f7; border-radius: 6px\">\n",
       "            love</div>\n",
       "            \n",
       "\n",
       "            <div style=\"font-size: 17.45125107950846px; color: red; margin-bottom: 2px; float: left; \n",
       "            margin: 10px; padding: 2px; background-color: #f7f7f7; border-radius: 6px\">\n",
       "            awesome</div>\n",
       "            \n",
       "\n",
       "            <div style=\"font-size: 17.255784181518038px; color: red; margin-bottom: 2px; float: left; \n",
       "            margin: 10px; padding: 2px; background-color: #f7f7f7; border-radius: 6px\">\n",
       "            and</div>\n",
       "            \n",
       "\n",
       "            <div style=\"font-size: 17.235492353126954px; color: red; margin-bottom: 2px; float: left; \n",
       "            margin: 10px; padding: 2px; background-color: #f7f7f7; border-radius: 6px\">\n",
       "            genre</div>\n",
       "            \n",
       "\n",
       "            <div style=\"font-size: 17.14157722861931px; color: red; margin-bottom: 2px; float: left; \n",
       "            margin: 10px; padding: 2px; background-color: #f7f7f7; border-radius: 6px\">\n",
       "            you</div>\n",
       "            \n",
       "\n",
       "            <div style=\"font-size: 16.670751686495265px; color: red; margin-bottom: 2px; float: left; \n",
       "            margin: 10px; padding: 2px; background-color: #f7f7f7; border-radius: 6px\">\n",
       "            it's</div>\n",
       "            \n",
       "\n",
       "            <div style=\"font-size: 15.950644326017807px; color: red; margin-bottom: 2px; float: left; \n",
       "            margin: 10px; padding: 2px; background-color: #f7f7f7; border-radius: 6px\">\n",
       "            has</div>\n",
       "            \n",
       "\n",
       "            <div style=\"font-size: 15.466477860538603px; color: red; margin-bottom: 2px; float: left; \n",
       "            margin: 10px; padding: 2px; background-color: #f7f7f7; border-radius: 6px\">\n",
       "            is</div>\n",
       "            \n",
       "\n",
       "            <div style=\"font-size: 15.08853856773934px; color: red; margin-bottom: 2px; float: left; \n",
       "            margin: 10px; padding: 2px; background-color: #f7f7f7; border-radius: 6px\">\n",
       "            very</div>\n",
       "            \n",
       "\n",
       "            <div style=\"font-size: 15.024049167774827px; color: red; margin-bottom: 2px; float: left; \n",
       "            margin: 10px; padding: 2px; background-color: #f7f7f7; border-radius: 6px\">\n",
       "            excellent</div>\n",
       "            \n",
       "\n",
       "            <div style=\"font-size: 14.899505768825403px; color: red; margin-bottom: 2px; float: left; \n",
       "            margin: 10px; padding: 2px; background-color: #f7f7f7; border-radius: 6px\">\n",
       "            drama</div>\n",
       "            \n",
       "\n",
       "            <div style=\"font-size: 14.890690430749077px; color: red; margin-bottom: 2px; float: left; \n",
       "            margin: 10px; padding: 2px; background-color: #f7f7f7; border-radius: 6px\">\n",
       "            bong</div>\n",
       "            \n",
       "\n",
       "            <div style=\"font-size: 14.45424321300969px; color: red; margin-bottom: 2px; float: left; \n",
       "            margin: 10px; padding: 2px; background-color: #f7f7f7; border-radius: 6px\">\n",
       "            his</div>\n",
       "            \n",
       "\n",
       "            <div style=\"font-size: 14.280936313751123px; color: red; margin-bottom: 2px; float: left; \n",
       "            margin: 10px; padding: 2px; background-color: #f7f7f7; border-radius: 6px\">\n",
       "            films</div>\n",
       "            \n",
       "\n",
       "            <div style=\"font-size: 14.109827369920538px; color: red; margin-bottom: 2px; float: left; \n",
       "            margin: 10px; padding: 2px; background-color: #f7f7f7; border-radius: 6px\">\n",
       "            fantastic</div>\n",
       "            \n",
       "\n",
       "            <div style=\"font-size: 13.87609540458113px; color: red; margin-bottom: 2px; float: left; \n",
       "            margin: 10px; padding: 2px; background-color: #f7f7f7; border-radius: 6px\">\n",
       "            horror</div>\n",
       "            \n",
       "\n",
       "            <div style=\"font-size: 13.714429554229584px; color: red; margin-bottom: 2px; float: left; \n",
       "            margin: 10px; padding: 2px; background-color: #f7f7f7; border-radius: 6px\">\n",
       "            movies</div>\n",
       "            \n",
       "\n",
       "            <div style=\"font-size: 13.707350273207615px; color: red; margin-bottom: 2px; float: left; \n",
       "            margin: 10px; padding: 2px; background-color: #f7f7f7; border-radius: 6px\">\n",
       "            by</div>\n",
       "            \n",
       "\n",
       "            <div style=\"font-size: 13.651614624837618px; color: red; margin-bottom: 2px; float: left; \n",
       "            margin: 10px; padding: 2px; background-color: #f7f7f7; border-radius: 6px\">\n",
       "            fun</div>\n",
       "            \n",
       "\n",
       "            <div style=\"font-size: 13.611891072675665px; color: red; margin-bottom: 2px; float: left; \n",
       "            margin: 10px; padding: 2px; background-color: #f7f7f7; border-radius: 6px\">\n",
       "            years</div>\n",
       "            \n",
       "\n",
       "            <div style=\"font-size: 13.41532924267847px; color: red; margin-bottom: 2px; float: left; \n",
       "            margin: 10px; padding: 2px; background-color: #f7f7f7; border-radius: 6px\">\n",
       "            action</div>\n",
       "            \n",
       "\n",
       "            <div style=\"font-size: 13.367524927160282px; color: red; margin-bottom: 2px; float: left; \n",
       "            margin: 10px; padding: 2px; background-color: #f7f7f7; border-radius: 6px\">\n",
       "            korea</div>\n",
       "            \n",
       "\n",
       "            <div style=\"font-size: 13.34016259409765px; color: red; margin-bottom: 2px; float: left; \n",
       "            margin: 10px; padding: 2px; background-color: #f7f7f7; border-radius: 6px\">\n",
       "            one</div>\n",
       "            \n",
       "\n",
       "            <div style=\"font-size: 13.04871806479422px; color: red; margin-bottom: 2px; float: left; \n",
       "            margin: 10px; padding: 2px; background-color: #f7f7f7; border-radius: 6px\">\n",
       "            humor</div>\n",
       "            \n",
       "\n",
       "            <div style=\"font-size: 12.916454449534394px; color: red; margin-bottom: 2px; float: left; \n",
       "            margin: 10px; padding: 2px; background-color: #f7f7f7; border-radius: 6px\">\n",
       "            amazing</div>\n",
       "            </div>\n",
       "       <div style='width: 40%; padding-left: 20px; float: left; '>\n",
       "       <h3 style=\"text-align: center\">Negative Reviews</h3>\n",
       "        \n",
       "            <div style=\"font-size: 15.869840975370028px; color: blue; margin-bottom: 2px; float: left; \n",
       "            margin: 10px; padding: 2px; background-color: #f7f7f7; border-radius: 6px\">\n",
       "            critics</div>\n",
       "            \n",
       "\n",
       "            <div style=\"font-size: 16.121211633938092px; color: blue; margin-bottom: 2px; float: left; \n",
       "            margin: 10px; padding: 2px; background-color: #f7f7f7; border-radius: 6px\">\n",
       "            minutes</div>\n",
       "            \n",
       "\n",
       "            <div style=\"font-size: 16.314728766165295px; color: blue; margin-bottom: 2px; float: left; \n",
       "            margin: 10px; padding: 2px; background-color: #f7f7f7; border-radius: 6px\">\n",
       "            translation</div>\n",
       "            \n",
       "\n",
       "            <div style=\"font-size: 16.42504614911265px; color: blue; margin-bottom: 2px; float: left; \n",
       "            margin: 10px; padding: 2px; background-color: #f7f7f7; border-radius: 6px\">\n",
       "            enough</div>\n",
       "            \n",
       "\n",
       "            <div style=\"font-size: 16.52925962061129px; color: blue; margin-bottom: 2px; float: left; \n",
       "            margin: 10px; padding: 2px; background-color: #f7f7f7; border-radius: 6px\">\n",
       "            me</div>\n",
       "            \n",
       "\n",
       "            <div style=\"font-size: 16.529701050593786px; color: blue; margin-bottom: 2px; float: left; \n",
       "            margin: 10px; padding: 2px; background-color: #f7f7f7; border-radius: 6px\">\n",
       "            been</div>\n",
       "            \n",
       "\n",
       "            <div style=\"font-size: 16.600647257733485px; color: blue; margin-bottom: 2px; float: left; \n",
       "            margin: 10px; padding: 2px; background-color: #f7f7f7; border-radius: 6px\">\n",
       "            don't</div>\n",
       "            \n",
       "\n",
       "            <div style=\"font-size: 16.7592893297209px; color: blue; margin-bottom: 2px; float: left; \n",
       "            margin: 10px; padding: 2px; background-color: #f7f7f7; border-radius: 6px\">\n",
       "            wanted</div>\n",
       "            \n",
       "\n",
       "            <div style=\"font-size: 17.06754462353877px; color: blue; margin-bottom: 2px; float: left; \n",
       "            margin: 10px; padding: 2px; background-color: #f7f7f7; border-radius: 6px\">\n",
       "            sucked</div>\n",
       "            \n",
       "\n",
       "            <div style=\"font-size: 17.12046671319402px; color: blue; margin-bottom: 2px; float: left; \n",
       "            margin: 10px; padding: 2px; background-color: #f7f7f7; border-radius: 6px\">\n",
       "            have</div>\n",
       "            \n",
       "\n",
       "            <div style=\"font-size: 17.178694389516004px; color: blue; margin-bottom: 2px; float: left; \n",
       "            margin: 10px; padding: 2px; background-color: #f7f7f7; border-radius: 6px\">\n",
       "            couldn't</div>\n",
       "            \n",
       "\n",
       "            <div style=\"font-size: 17.430446522736347px; color: blue; margin-bottom: 2px; float: left; \n",
       "            margin: 10px; padding: 2px; background-color: #f7f7f7; border-radius: 6px\">\n",
       "            hype</div>\n",
       "            \n",
       "\n",
       "            <div style=\"font-size: 17.509380524193595px; color: blue; margin-bottom: 2px; float: left; \n",
       "            margin: 10px; padding: 2px; background-color: #f7f7f7; border-radius: 6px\">\n",
       "            no</div>\n",
       "            \n",
       "\n",
       "            <div style=\"font-size: 17.740068758283954px; color: blue; margin-bottom: 2px; float: left; \n",
       "            margin: 10px; padding: 2px; background-color: #f7f7f7; border-radius: 6px\">\n",
       "            disappointed</div>\n",
       "            \n",
       "\n",
       "            <div style=\"font-size: 17.919349029042266px; color: blue; margin-bottom: 2px; float: left; \n",
       "            margin: 10px; padding: 2px; background-color: #f7f7f7; border-radius: 6px\">\n",
       "            it</div>\n",
       "            \n",
       "\n",
       "            <div style=\"font-size: 18.244189451018546px; color: blue; margin-bottom: 2px; float: left; \n",
       "            margin: 10px; padding: 2px; background-color: #f7f7f7; border-radius: 6px\">\n",
       "            stupid</div>\n",
       "            \n",
       "\n",
       "            <div style=\"font-size: 18.390761841738936px; color: blue; margin-bottom: 2px; float: left; \n",
       "            margin: 10px; padding: 2px; background-color: #f7f7f7; border-radius: 6px\">\n",
       "            horrible</div>\n",
       "            \n",
       "\n",
       "            <div style=\"font-size: 18.799790153825374px; color: blue; margin-bottom: 2px; float: left; \n",
       "            margin: 10px; padding: 2px; background-color: #f7f7f7; border-radius: 6px\">\n",
       "            why</div>\n",
       "            \n",
       "\n",
       "            <div style=\"font-size: 18.83962845842813px; color: blue; margin-bottom: 2px; float: left; \n",
       "            margin: 10px; padding: 2px; background-color: #f7f7f7; border-radius: 6px\">\n",
       "            reviews</div>\n",
       "            \n",
       "\n",
       "            <div style=\"font-size: 18.84676675891415px; color: blue; margin-bottom: 2px; float: left; \n",
       "            margin: 10px; padding: 2px; background-color: #f7f7f7; border-radius: 6px\">\n",
       "            but</div>\n",
       "            \n",
       "\n",
       "            <div style=\"font-size: 18.863639083708666px; color: blue; margin-bottom: 2px; float: left; \n",
       "            margin: 10px; padding: 2px; background-color: #f7f7f7; border-radius: 6px\">\n",
       "            just</div>\n",
       "            \n",
       "\n",
       "            <div style=\"font-size: 19.060965497158495px; color: blue; margin-bottom: 2px; float: left; \n",
       "            margin: 10px; padding: 2px; background-color: #f7f7f7; border-radius: 6px\">\n",
       "            did</div>\n",
       "            \n",
       "\n",
       "            <div style=\"font-size: 19.143414177109705px; color: blue; margin-bottom: 2px; float: left; \n",
       "            margin: 10px; padding: 2px; background-color: #f7f7f7; border-radius: 6px\">\n",
       "            waste</div>\n",
       "            \n",
       "\n",
       "            <div style=\"font-size: 19.8846985421287px; color: blue; margin-bottom: 2px; float: left; \n",
       "            margin: 10px; padding: 2px; background-color: #f7f7f7; border-radius: 6px\">\n",
       "            not</div>\n",
       "            \n",
       "\n",
       "            <div style=\"font-size: 20.00568513742351px; color: blue; margin-bottom: 2px; float: left; \n",
       "            margin: 10px; padding: 2px; background-color: #f7f7f7; border-radius: 6px\">\n",
       "            terrible</div>\n",
       "            \n",
       "\n",
       "            <div style=\"font-size: 20.10331195791497px; color: blue; margin-bottom: 2px; float: left; \n",
       "            margin: 10px; padding: 2px; background-color: #f7f7f7; border-radius: 6px\">\n",
       "            were</div>\n",
       "            \n",
       "\n",
       "            <div style=\"font-size: 20.16439459423321px; color: blue; margin-bottom: 2px; float: left; \n",
       "            margin: 10px; padding: 2px; background-color: #f7f7f7; border-radius: 6px\">\n",
       "            crap</div>\n",
       "            \n",
       "\n",
       "            <div style=\"font-size: 22.672454186176466px; color: blue; margin-bottom: 2px; float: left; \n",
       "            margin: 10px; padding: 2px; background-color: #f7f7f7; border-radius: 6px\">\n",
       "            didn't</div>\n",
       "            \n",
       "\n",
       "            <div style=\"font-size: 24.52557209147402px; color: blue; margin-bottom: 2px; float: left; \n",
       "            margin: 10px; padding: 2px; background-color: #f7f7f7; border-radius: 6px\">\n",
       "            bad</div>\n",
       "            \n",
       "\n",
       "            <div style=\"font-size: 24.900372396627944px; color: blue; margin-bottom: 2px; float: left; \n",
       "            margin: 10px; padding: 2px; background-color: #f7f7f7; border-radius: 6px\">\n",
       "            i</div>\n",
       "            </div>\n",
       "    "
      ],
      "text/plain": [
       "<IPython.core.display.HTML object>"
      ]
     },
     "metadata": {},
     "output_type": "display_data"
    }
   ],
   "source": [
    "# Another way of displaying the results:\n",
    "show_keyitems(keywords_df, 30, corpusA='Positive Reviews', corpusB='Negative Reviews')"
   ]
  },
  {
   "cell_type": "markdown",
   "metadata": {},
   "source": [
    "* Now let's take a look at the bigrams keyness analysis results:"
   ]
  },
  {
   "cell_type": "code",
   "execution_count": 38,
   "metadata": {},
   "outputs": [],
   "source": [
    "pos_bigrams_host = Counter(get_ngram_tokens(pos_tokens_host,2))\n",
    "neg_bigrams_host = Counter(get_ngram_tokens(neg_tokens_host,2))"
   ]
  },
  {
   "cell_type": "code",
   "execution_count": 39,
   "metadata": {},
   "outputs": [
    {
     "name": "stdout",
     "output_type": "stream",
     "text": [
      "WORD                     Corpus A Freq.Corpus B Freq.Keyness\n",
      "============================================================\n",
      "monster movie            678       81        102.765\n",
      "the best                 292       19        79.589\n",
      "one of                   297       41        36.213\n",
      "a monster                243       36        26.172\n",
      "a great                  171       23        21.755\n",
      "and a                    133       17        18.308\n",
      "monster movies           185       29        17.858\n",
      "this is                  241       44        16.326\n",
      "a very                   93        10        16.117\n",
      "monster film             66        5         16.087\n",
      "i've seen                87        10        13.880\n",
      "monster flick            76        8         13.504\n",
      "good monster             70        7         13.175\n",
      "in a                     167       29        12.848\n",
      "is a                     221       43        12.494\n",
      "the most                 96        13        12.081\n",
      "the family               95        13        11.753\n",
      "seen in                  60        6         11.293\n",
      "host is                  77        10        10.348\n",
      "it is                    167       32        9.882\n"
     ]
    }
   ],
   "source": [
    "calculate_keyness(pos_bigrams_host, neg_bigrams_host, top=20)"
   ]
  },
  {
   "cell_type": "code",
   "execution_count": 40,
   "metadata": {},
   "outputs": [
    {
     "name": "stdout",
     "output_type": "stream",
     "text": [
      "WORD                     Corpus A Freq.Corpus B Freq.Keyness\n",
      "============================================================\n",
      "it was                   193       238       76.488\n",
      "have been                52        25        60.416\n",
      "movie was                61        45        49.371\n",
      "the movie                128       165       46.547\n",
      "a bad                    22        6         34.862\n",
      "wanted to                20        5         32.859\n",
      "did not                  21        8         28.216\n",
      "but the                  65        77        27.723\n",
      "was just                 22        11        24.867\n",
      "would have               28        19        24.612\n",
      "to be                    109       173       24.220\n",
      "if it                    24        14        24.108\n",
      "too long                 16        5         23.834\n",
      "lost in                  16        5         23.834\n",
      "was the                  40        40        22.363\n",
      "i didn't                 30        24        22.256\n",
      "the hype                 16        6         21.689\n",
      "i had                    38        39        20.455\n",
      "i was                    70        100       20.377\n",
      "was a                    64        88        20.322\n"
     ]
    }
   ],
   "source": [
    "calculate_keyness(neg_bigrams_host, pos_bigrams_host, top=20)"
   ]
  },
  {
   "cell_type": "markdown",
   "metadata": {},
   "source": [
    "### Observations\n",
    "\n",
    "* Super fascinating! Bigrams like `monster movie` and `the best` occur much more frequently in the positive bigram list, and overall there's a lot of buzz about the monster.\n",
    "* It seems like people are commenting a lot about the monster and using their preconceived notions about what makes a \"great monster flick\" to rate and review _The Host_ \n",
    "\n",
    "Let's try using KWIC concordance analysis to take a deeper dive into some of the words that stand out to me in these lists of reviews:"
   ]
  },
  {
   "cell_type": "markdown",
   "metadata": {},
   "source": [
    "`Great`:"
   ]
  },
  {
   "cell_type": "code",
   "execution_count": 41,
   "metadata": {},
   "outputs": [],
   "source": [
    "great_host_kwic = make_kwic('great', pos_tokens_host)"
   ]
  },
  {
   "cell_type": "code",
   "execution_count": 42,
   "metadata": {
    "scrolled": true
   },
   "outputs": [
    {
     "name": "stdout",
     "output_type": "stream",
     "text": [
      "               lot more than cloverfield  great  cinematography on top of\n",
      "                   taken by the creature  great  stuff korea has delivered\n",
      "                      delivered a lot of  great  cinema over the past\n",
      "                          that this it a  great  story with great acting\n",
      "                      a great story with  great  acting that's delivered in\n",
      "                        i have ever seen  great  movie guys check it\n",
      "            while still being incredibly  great  fun some irresponsible scientist\n",
      "                 well as delivering some  great  monster rampaging and human\n",
      "                       fights there is a  great  underlying story of a\n",
      "                      i liked along with  great  characters and an unpredictible\n",
      "                  much from an otherwise  great  film no hollywood ending\n",
      "                   think the actors were  great  as well really enjoyable\n",
      "                  giant monster movie is  great  action great monster and\n",
      "                   movie is great action  great  monster and some perfectly\n",
      "                    it has scares laughs  great  action a fantastic storyline\n",
      "         believable and often terrifying  great  spin on the giant\n",
      "                 the monster effects are  great  even with the dodgy\n",
      "                       and the acting is  great  but the whole time\n",
      "                      as a favorite film  great  monster movie very entertaining\n",
      "                       and the acting is  great  the monster is also\n"
     ]
    }
   ],
   "source": [
    "print_kwic(great_host_kwic[:20])"
   ]
  },
  {
   "cell_type": "markdown",
   "metadata": {},
   "source": [
    "From this small sample, it looks like there are a few themes that `great` is used to describe:\n",
    "* `Film` or `Cinematography` - Great is used to describe the movie itself, talking about the film action, characters, story, etc.\n",
    "* `Korea` - This word is also used in context with describing the film industry of South Korea in general! One of the reviews says Korea has delivered \"great stuff\" and another says \"a lot of great cinema\". So this means people are recognizing and acknowledging not only the movie, but also the larger film and entertainment industry of Korea.\n",
    "* `Monster` - This is a big theme in the movie (obviously) and it's intriguing to see how people talk about the monster. It's also very fascinating to see how people write, \"great monster\" as if they have a certain criteria for what makes a monster great!\n",
    "\n",
    "With that, let's move onto looking at the next key word, monster.\n",
    "\n",
    "`Monster`:"
   ]
  },
  {
   "cell_type": "code",
   "execution_count": 43,
   "metadata": {},
   "outputs": [],
   "source": [
    "monster_neg_kwic = make_kwic('monster', neg_tokens_host)"
   ]
  },
  {
   "cell_type": "code",
   "execution_count": 44,
   "metadata": {
    "scrolled": true
   },
   "outputs": [
    {
     "name": "stdout",
     "output_type": "stream",
     "text": [
      "                      make a really good  monster  though but the movie\n",
      "                its principal excuse the  monster  grabs the granddaughter and\n",
      "                      me of stupid asian  monster  movies it was slightly\n",
      "            all characters defeating the  monster  as a team and\n",
      "                      pure pure shit bad  monster  bad acting laughable plotline\n",
      "                    the host because the  monster  is supposed to be\n",
      "                        \"one of the best  monster  movies ever made\" i\n",
      "                 aren't badbut after the  monster  starts hopping on the\n",
      "                    so disappointed in a  monster  movie very corny g-rated\n",
      "                       of films a korean  monster  flick - fantastic the\n",
      "                         until i saw the  monster  aka giant tadpole boring\n",
      "          special effects recreating the  monster  are pretty good the\n",
      "                  performances but for a  monster  movie it didn't deliver\n",
      "             simply didn't decent korean  monster  attack movie although it\n",
      "                      shite as any other  monster  movie it's full of\n",
      "                   dialogue is awful the  monster  itself is just ridiculous\n",
      "                this highly rated korean  monster  flick not bad for\n",
      "                      i kept finding the  monster  adorable i had high\n",
      "                  this much hyped korean  monster  movie the special effects\n",
      "                 advantage of the unique  monster  design unfortunately the comedy\n"
     ]
    }
   ],
   "source": [
    "# Slicing the top part of this list:\n",
    "print_kwic(monster_neg_kwic[:20])"
   ]
  },
  {
   "cell_type": "code",
   "execution_count": 45,
   "metadata": {},
   "outputs": [],
   "source": [
    "monster_pos_kwic = make_kwic('monster', pos_tokens_host)"
   ]
  },
  {
   "cell_type": "code",
   "execution_count": 46,
   "metadata": {},
   "outputs": [
    {
     "name": "stdout",
     "output_type": "stream",
     "text": [
      "                     a fun action packed  monster  drama south korea knocks\n",
      "                         one of the best  monster  movies ever i hadn't\n",
      "underneath this ridiculously entertaining  monster  movie but it successfully\n",
      "         but refreshing excellent korean  monster  movie with some comedy\n",
      "                         one of the best  monster  movies ever made this\n",
      "      funnest smartest most exhilarating  monster  horrorcomedy ride i have\n",
      "                     whatever it is this  monster  movie from korea manages\n",
      "                        stand out in the  monster  movie genre a lot\n",
      "                as delivering some great  monster  rampaging and human vs\n",
      "              cloverfield levels but the  monster  itself it still a\n",
      "                     long black hair the  monster  wasnt as big as\n",
      "                           as big as the  monster  in cloverfield thus why\n",
      "                          so he made his  monster  ginormous on a side\n",
      "                  ramen noodles the best  monster  movie of all time\n",
      "                       all time omg best  monster  movie ever funny kind\n",
      "                          not a lover of  monster  movies though no competition\n",
      "                      with this film the  monster  movie genre is back\n",
      "                  cloverfield was also a  monster  movie and it even\n",
      "                     hope they make more  monster  movies like this and\n",
      "                      the host a tadpole  monster  you look at and\n"
     ]
    }
   ],
   "source": [
    "# Slicing the top of this list:\n",
    "print_kwic(monster_pos_kwic[:20])"
   ]
  },
  {
   "cell_type": "markdown",
   "metadata": {},
   "source": [
    "For `monster`, many more of the positive rated reviews mentioned monster. Looking at the two samples above, it looks like main concepts for this word include:\n",
    "* `Quality` - there's a lot of buzz about what makes a good monster, and whether the CGI was good or not. This is pretty subjective but it's fascinating to see how reviewers describe the creature.\n",
    "* `Genre` - the other big concept around this word is the genre of a monster, horror movie. I see that there's a comparison made in one of the reviews to the monster in Cloverfield, which is an American monster movie. "
   ]
  },
  {
   "cell_type": "markdown",
   "metadata": {},
   "source": [
    "Looking at `translation` among negative reviews of The Host (since it occurred more frequently among those):"
   ]
  },
  {
   "cell_type": "code",
   "execution_count": 47,
   "metadata": {},
   "outputs": [
    {
     "data": {
      "text/plain": [
       "20"
      ]
     },
     "execution_count": 47,
     "metadata": {},
     "output_type": "execute_result"
    }
   ],
   "source": [
    "translation_kwic = make_kwic('translation', neg_tokens_host)\n",
    "len(translation_kwic)"
   ]
  },
  {
   "cell_type": "code",
   "execution_count": 48,
   "metadata": {},
   "outputs": [
    {
     "name": "stdout",
     "output_type": "stream",
     "text": [
      "             america with direct english  translation  and it took place\n",
      "                      poor no matter the  translation  the packaging and commercial\n",
      "                     for me violation of  translation  my friends and i\n",
      "                  home for could improve  translation  and remove parts that\n",
      "                    intended was lost in  translation  but for the most\n",
      "                        was just lost in  translation  whatever the case there\n",
      "                    something is lost in  translation  yet another reminder that\n",
      "                       have been lost in  translation  because it completely falls\n",
      "                       is because of bad  translation  or just because of\n",
      "                   funny is the terrible  translation  into english not as\n",
      "              korean version the english  translation  was absolutely horrific right\n",
      "                            we got a bad  translation  but i was so\n",
      "                      charlie in lost in  translation  is a main character\n",
      "                     somthing is lost in  translation  it was alright but\n",
      "                  was definately lost in  translation  with this onegot alot\n",
      "                         was lost in the  translation  strangely entertaining for all\n",
      "                    is hilarious lost in  translation  another example that asians\n",
      "                     was fucking lost in  translation  average run-of-the-mill monster flick\n",
      "                  watched in english the  translation  doesnt really work and\n",
      "                      maybe it's lost in  translation  but i was totally\n"
     ]
    }
   ],
   "source": [
    "print_kwic(translation_kwic[:20])"
   ]
  },
  {
   "cell_type": "markdown",
   "metadata": {},
   "source": [
    "What I find most striking is that `translation` is used a lot in the negative review list, either about actually comprehending the story or plot (things were \"lost in translation\") or about the actual dubbing (translated subtitles too, from Korean to English). I find it fascinating because this points directly to what Director Bong Joon Ho famously said: \"Once you overcome the 1-inch tall barrier of subtitles, you will be introduced to so many more amazing films.\" He was alluding to the American aversion to foreign movies because they have to watch dubbed versions or because they are averse to subtitles/translations, and this is what we start to see in the negative rated reviews. \n",
    "\n",
    "\n",
    "One way to quantify this would be to collect words occurring in the context of `translation` in both sets of reviews and then look at their frequency and sentiment."
   ]
  },
  {
   "cell_type": "code",
   "execution_count": 49,
   "metadata": {},
   "outputs": [],
   "source": [
    "# get a 8 word window around each instance of `translation` and create lists:\n",
    "\n",
    "hostneg_trans_colls = Counter(collocates(neg_tokens_host, 'translation', win=[4,4]))\n",
    "hostpos_trans_colls = Counter(collocates(pos_tokens_host, 'translation', win=[4,4]))"
   ]
  },
  {
   "cell_type": "code",
   "execution_count": 50,
   "metadata": {},
   "outputs": [
    {
     "data": {
      "text/plain": [
       "[('in', 13),\n",
       " ('lost', 11),\n",
       " ('was', 9),\n",
       " ('the', 8),\n",
       " ('is', 6),\n",
       " ('and', 5),\n",
       " ('english', 4),\n",
       " ('for', 4),\n",
       " ('but', 4),\n",
       " ('it', 3),\n",
       " ('of', 3),\n",
       " ('i', 3),\n",
       " ('that', 3),\n",
       " ('because', 3),\n",
       " ('with', 2),\n",
       " ('just', 2),\n",
       " ('another', 2),\n",
       " ('bad', 2),\n",
       " ('a', 2),\n",
       " ('america', 1)]"
      ]
     },
     "execution_count": 50,
     "metadata": {},
     "output_type": "execute_result"
    }
   ],
   "source": [
    "hostneg_trans_colls.most_common(20)"
   ]
  },
  {
   "cell_type": "code",
   "execution_count": 51,
   "metadata": {},
   "outputs": [
    {
     "data": {
      "text/plain": [
       "[('lost', 5),\n",
       " ('in', 5),\n",
       " ('are', 4),\n",
       " ('though', 3),\n",
       " ('and', 3),\n",
       " ('the', 3),\n",
       " ('there', 2),\n",
       " ('horrible', 2),\n",
       " ('a', 1),\n",
       " ('few', 1),\n",
       " ('moments', 1),\n",
       " ('an', 1),\n",
       " ('amazing', 1),\n",
       " ('certainly', 1),\n",
       " ('not', 1),\n",
       " ('some', 1),\n",
       " ('differences', 1),\n",
       " ('difficulties', 1),\n",
       " ('with', 1),\n",
       " ('than', 1)]"
      ]
     },
     "execution_count": 51,
     "metadata": {},
     "output_type": "execute_result"
    }
   ],
   "source": [
    "hostpos_trans_colls.most_common(20)"
   ]
  },
  {
   "cell_type": "code",
   "execution_count": 52,
   "metadata": {},
   "outputs": [
    {
     "data": {
      "text/plain": [
       "{'compound': -0.8503, 'neg': 0.221, 'neu': 0.619, 'pos': 0.16}"
      ]
     },
     "execution_count": 52,
     "metadata": {},
     "output_type": "execute_result"
    }
   ],
   "source": [
    "sid.polarity_scores(' '.join(hostneg_trans_colls.keys()))\n"
   ]
  },
  {
   "cell_type": "code",
   "execution_count": 53,
   "metadata": {},
   "outputs": [
    {
     "data": {
      "text/plain": [
       "{'compound': 0.8132, 'neg': 0.217, 'neu': 0.484, 'pos': 0.299}"
      ]
     },
     "execution_count": 53,
     "metadata": {},
     "output_type": "execute_result"
    }
   ],
   "source": [
    "sid.polarity_scores(' '.join(hostpos_trans_colls.keys()))\n"
   ]
  },
  {
   "cell_type": "markdown",
   "metadata": {},
   "source": [
    "* This makes sense, there's higher compound sentiment scores for words around `translation` among the positive reviews than among the negative reviews.\n",
    "* Perhaps this connects to American aversion towards subtitles and foreign movies with poor English translations, makes it harder to overcome the language barrier\n",
    "\n",
    "Let's move onto the other movie:\n",
    "\n",
    "**Parasite**"
   ]
  },
  {
   "cell_type": "code",
   "execution_count": 54,
   "metadata": {},
   "outputs": [],
   "source": [
    "pos_tokens_parasite = []\n",
    "for rev in pos_parasite:\n",
    "    toks=tokenize(rev['text'], lowercase=True, strip_chars=chars_to_remove)\n",
    "    pos_tokens_parasite.extend(toks)"
   ]
  },
  {
   "cell_type": "code",
   "execution_count": 55,
   "metadata": {},
   "outputs": [
    {
     "name": "stdout",
     "output_type": "stream",
     "text": [
      "144319 tokens in the positive reviews\n"
     ]
    }
   ],
   "source": [
    "print('{} tokens in the positive reviews'.format(len(pos_tokens_parasite)))"
   ]
  },
  {
   "cell_type": "code",
   "execution_count": 56,
   "metadata": {},
   "outputs": [],
   "source": [
    "neg_tokens_parasite = []\n",
    "for rev in neg_parasite:\n",
    "    toks=tokenize(rev['text'], lowercase=True, strip_chars=chars_to_remove)\n",
    "    neg_tokens_parasite.extend(toks)"
   ]
  },
  {
   "cell_type": "code",
   "execution_count": 57,
   "metadata": {},
   "outputs": [
    {
     "name": "stdout",
     "output_type": "stream",
     "text": [
      "27480 tokens in the negative reviews\n"
     ]
    }
   ],
   "source": [
    "print('{} tokens in the negative reviews'.format(len(neg_tokens_parasite)))"
   ]
  },
  {
   "cell_type": "markdown",
   "metadata": {},
   "source": [
    "Creating word and bigram frequency lists:"
   ]
  },
  {
   "cell_type": "code",
   "execution_count": 58,
   "metadata": {},
   "outputs": [],
   "source": [
    "pos_freq_parasite=Counter(pos_tokens_parasite)\n",
    "neg_freq_parasite=Counter(neg_tokens_parasite)"
   ]
  },
  {
   "cell_type": "code",
   "execution_count": 59,
   "metadata": {},
   "outputs": [
    {
     "data": {
      "text/plain": [
       "[('the', 8689),\n",
       " ('and', 4797),\n",
       " ('a', 4186),\n",
       " ('of', 3850),\n",
       " ('to', 3038),\n",
       " ('it', 2622),\n",
       " ('is', 2511),\n",
       " ('movie', 2246),\n",
       " ('i', 2160),\n",
       " ('this', 2050),\n",
       " ('in', 2009),\n",
       " ('that', 1665),\n",
       " ('film', 1471),\n",
       " ('was', 1237),\n",
       " ('with', 1146),\n",
       " ('you', 1133),\n",
       " ('for', 926),\n",
       " ('as', 920),\n",
       " ('but', 910),\n",
       " ('best', 861)]"
      ]
     },
     "execution_count": 59,
     "metadata": {},
     "output_type": "execute_result"
    }
   ],
   "source": [
    "pos_freq_parasite.most_common(20)"
   ]
  },
  {
   "cell_type": "code",
   "execution_count": 60,
   "metadata": {},
   "outputs": [
    {
     "data": {
      "text/plain": [
       "[('the', 1632),\n",
       " ('and', 768),\n",
       " ('a', 648),\n",
       " ('to', 632),\n",
       " ('of', 609),\n",
       " ('i', 570),\n",
       " ('it', 568),\n",
       " ('was', 437),\n",
       " ('movie', 399),\n",
       " ('this', 391),\n",
       " ('is', 369),\n",
       " ('in', 328),\n",
       " ('but', 287),\n",
       " ('not', 281),\n",
       " ('that', 278),\n",
       " ('for', 233),\n",
       " ('film', 185),\n",
       " ('with', 175),\n",
       " ('as', 155),\n",
       " ('have', 152)]"
      ]
     },
     "execution_count": 60,
     "metadata": {},
     "output_type": "execute_result"
    }
   ],
   "source": [
    "neg_freq_parasite.most_common(20)"
   ]
  },
  {
   "cell_type": "code",
   "execution_count": 61,
   "metadata": {},
   "outputs": [
    {
     "name": "stdout",
     "output_type": "stream",
     "text": [
      "WORD                     Corpus A Freq.Corpus B Freq.Keyness\n",
      "============================================================\n",
      "bong                     432       6         109.186\n",
      "great                    696       36        87.508\n",
      "parasite                 528       34        52.045\n",
      "best                     861       78        48.592\n",
      "joon-ho                  195       5         39.543\n",
      "must                     186       5         36.872\n",
      "one                      807       82        34.842\n",
      "loved                    184       6         32.865\n",
      "film                     1471      185       31.464\n",
      "every                    255       14        30.196\n",
      "year                     262       15        29.667\n",
      "story                    640       64        28.782\n",
      "excellent                179       7         28.408\n",
      "2019                     174       7         27.054\n",
      "see                      483       44        26.941\n",
      "a                        4186      648       25.294\n",
      "will                     337       27        24.035\n",
      "is                       2511      369       23.018\n",
      "films                    253       18        21.779\n",
      "absolutely               153       7         21.497\n",
      "and                      4797      768       20.749\n",
      "well                     484       50        20.006\n",
      "twists                   180       11        18.920\n",
      "of                       3850      609       18.909\n",
      "you                      1133      151       18.568\n",
      "original                 160       9         18.467\n",
      "has                      364       39        13.596\n",
      "us                       129       8         13.323\n",
      "seen                     339       36        12.988\n",
      "each                     117       7         12.608\n",
      "world                    125       8         12.417\n",
      "his                      300       31        12.392\n",
      "between                  158       12        12.314\n",
      "classes                  93        5         11.253\n",
      "funny                    248       25        10.929\n",
      "society                  118       8         10.870\n",
      "korean                   226       22        10.856\n",
      "thriller                 149       12        10.531\n",
      "very                     599       79        10.336\n",
      "social                   310       35        9.870\n",
      "definitely               152       13        9.628\n",
      "bit                      95        6         9.595\n",
      "highly                   84        5         9.105\n",
      "turns                    133       11        8.967\n",
      "also                     182       18        8.413\n",
      "next                     81        5         8.413\n",
      "can                      285       33        8.343\n",
      "everything               159       15        8.215\n",
      "suspense                 97        7         8.178\n",
      "acting                   323       39        8.132\n"
     ]
    }
   ],
   "source": [
    "# keyness analysis to compare normalized word frequencies:\n",
    "calculate_keyness(pos_freq_parasite, neg_freq_parasite, top=50)\n"
   ]
  },
  {
   "cell_type": "code",
   "execution_count": 62,
   "metadata": {},
   "outputs": [
    {
     "name": "stdout",
     "output_type": "stream",
     "text": [
      "WORD                     Corpus A Freq.Corpus B Freq.Keyness\n",
      "============================================================\n",
      "was                      437       1237      110.875\n",
      "not                      281       672       108.446\n",
      "boring                   39        11        94.107\n",
      "worst                    32        5         89.740\n",
      "waste                    31        7         79.771\n",
      "violent                  38        17        77.203\n",
      "overrated                31        9         74.122\n",
      "violence                 51        44        71.109\n",
      "bad                      52        49        67.773\n",
      "no                       119       241       63.343\n",
      "awful                    23        5         59.779\n",
      "ridiculous               22        5         56.514\n",
      "don't                    86        157       54.164\n",
      "but                      287       910       50.650\n",
      "weird                    29        18        50.024\n",
      "critics                  25        13        47.351\n",
      "didn't                   55        80        47.010\n",
      "i                        570       2160      45.005\n",
      "too                      67        124       41.320\n",
      "people                   95        220       39.248\n",
      "or                       107       277       34.393\n",
      "then                     75        173       31.239\n",
      "started                  23        21        30.726\n",
      "hype                     30        38        29.894\n",
      "walked                   14        6         28.977\n",
      "were                     76        183       28.896\n",
      "depressing               13        5         28.127\n",
      "nothing                  38        62        28.098\n",
      "like                     129       385       27.913\n",
      "have                     152       482       26.816\n",
      "maybe                    27        36        25.478\n",
      "characters               83        223       24.285\n",
      "why                      46        94        24.107\n",
      "money                    25        33        23.849\n",
      "care                     20        21        23.822\n",
      "your                     68        170       23.755\n",
      "understand               36        66        22.527\n",
      "if                       96        281       22.064\n",
      "can't                    32        55        22.022\n",
      "seriously                13        9         21.025\n",
      "-                        52        123       20.547\n",
      "predictable              18        20        20.381\n",
      "disappointed             15        14        19.698\n",
      "seemed                   14        12        19.614\n",
      "unrealistic              10        5         19.305\n",
      "worse                    10        5         19.305\n",
      "strange                  11        7         18.706\n",
      "point                    34        68        18.491\n",
      "half                     31        60        17.806\n",
      "mean                     18        23        17.774\n"
     ]
    }
   ],
   "source": [
    "# Looking at what's more frequently occurring in negative reviews:\n",
    "calculate_keyness(neg_freq_parasite, pos_freq_parasite, top=50)\n"
   ]
  },
  {
   "cell_type": "markdown",
   "metadata": {},
   "source": [
    "The words that stand out to me the most from the positive tokens are:\n",
    "`bong`, `great` (which we saw in the previous movie too), `best`, `excellent`, and `korean`. \n",
    "\n",
    "For negative tokens:\n",
    "`boring`, `waste`, `worst`, and `overrated`.\n",
    "\n",
    "Let's do the same thing as above for displaying these results:"
   ]
  },
  {
   "cell_type": "code",
   "execution_count": 63,
   "metadata": {},
   "outputs": [
    {
     "data": {
      "image/png": "[encoded data removed]",
      "text/plain": [
       "<Figure size 576x720 with 1 Axes>"
      ]
     },
     "metadata": {
      "needs_background": "light"
     },
     "output_type": "display_data"
    }
   ],
   "source": [
    "ps_keywords_df = calculate_keyness(pos_freq_parasite, neg_freq_parasite, print_table=False, top=-1, keyness_threshold=-100000)\n",
    "kplot=plot_keyitems(ps_keywords_df, 20, corpusA='Positive Reviews', corpusB='Negative Reviews')"
   ]
  },
  {
   "cell_type": "code",
   "execution_count": 64,
   "metadata": {},
   "outputs": [
    {
     "data": {
      "text/html": [
       "\n",
       "        <div style=' float:left; width: 40%; text-align: center'>\n",
       "        <h3>Positive Reviews</h3>\n",
       "        \n",
       "            <div style=\"font-size: 23.465257208427897px; color: red; margin-bottom: 2px; float: left; \n",
       "            margin: 10px; padding: 2px; background-color: #f7f7f7; border-radius: 6px\">\n",
       "            bong</div>\n",
       "            \n",
       "\n",
       "            <div style=\"font-size: 22.358657714577074px; color: red; margin-bottom: 2px; float: left; \n",
       "            margin: 10px; padding: 2px; background-color: #f7f7f7; border-radius: 6px\">\n",
       "            great</div>\n",
       "            \n",
       "\n",
       "            <div style=\"font-size: 19.760530008714273px; color: red; margin-bottom: 2px; float: left; \n",
       "            margin: 10px; padding: 2px; background-color: #f7f7f7; border-radius: 6px\">\n",
       "            parasite</div>\n",
       "            \n",
       "\n",
       "            <div style=\"font-size: 19.417298266607144px; color: red; margin-bottom: 2px; float: left; \n",
       "            margin: 10px; padding: 2px; background-color: #f7f7f7; border-radius: 6px\">\n",
       "            best</div>\n",
       "            \n",
       "\n",
       "            <div style=\"font-size: 18.38688799968764px; color: red; margin-bottom: 2px; float: left; \n",
       "            margin: 10px; padding: 2px; background-color: #f7f7f7; border-radius: 6px\">\n",
       "            joon-ho</div>\n",
       "            \n",
       "\n",
       "            <div style=\"font-size: 18.037209438560183px; color: red; margin-bottom: 2px; float: left; \n",
       "            margin: 10px; padding: 2px; background-color: #f7f7f7; border-radius: 6px\">\n",
       "            must</div>\n",
       "            \n",
       "\n",
       "            <div style=\"font-size: 17.754160841531338px; color: red; margin-bottom: 2px; float: left; \n",
       "            margin: 10px; padding: 2px; background-color: #f7f7f7; border-radius: 6px\">\n",
       "            one</div>\n",
       "            \n",
       "\n",
       "            <div style=\"font-size: 17.46200788754101px; color: red; margin-bottom: 2px; float: left; \n",
       "            margin: 10px; padding: 2px; background-color: #f7f7f7; border-radius: 6px\">\n",
       "            loved</div>\n",
       "            \n",
       "\n",
       "            <div style=\"font-size: 17.244195706554056px; color: red; margin-bottom: 2px; float: left; \n",
       "            margin: 10px; padding: 2px; background-color: #f7f7f7; border-radius: 6px\">\n",
       "            film</div>\n",
       "            \n",
       "\n",
       "            <div style=\"font-size: 17.03856067823136px; color: red; margin-bottom: 2px; float: left; \n",
       "            margin: 10px; padding: 2px; background-color: #f7f7f7; border-radius: 6px\">\n",
       "            every</div>\n",
       "            \n",
       "\n",
       "            <div style=\"font-size: 16.950182901776127px; color: red; margin-bottom: 2px; float: left; \n",
       "            margin: 10px; padding: 2px; background-color: #f7f7f7; border-radius: 6px\">\n",
       "            year</div>\n",
       "            \n",
       "\n",
       "            <div style=\"font-size: 16.798770777591518px; color: red; margin-bottom: 2px; float: left; \n",
       "            margin: 10px; padding: 2px; background-color: #f7f7f7; border-radius: 6px\">\n",
       "            story</div>\n",
       "            \n",
       "\n",
       "            <div style=\"font-size: 16.7334060931979px; color: red; margin-bottom: 2px; float: left; \n",
       "            margin: 10px; padding: 2px; background-color: #f7f7f7; border-radius: 6px\">\n",
       "            excellent</div>\n",
       "            \n",
       "\n",
       "            <div style=\"font-size: 16.489223951494978px; color: red; margin-bottom: 2px; float: left; \n",
       "            margin: 10px; padding: 2px; background-color: #f7f7f7; border-radius: 6px\">\n",
       "            2019</div>\n",
       "            \n",
       "\n",
       "            <div style=\"font-size: 16.468165162144775px; color: red; margin-bottom: 2px; float: left; \n",
       "            margin: 10px; padding: 2px; background-color: #f7f7f7; border-radius: 6px\">\n",
       "            see</div>\n",
       "            \n",
       "\n",
       "            <div style=\"font-size: 16.15281997588562px; color: red; margin-bottom: 2px; float: left; \n",
       "            margin: 10px; padding: 2px; background-color: #f7f7f7; border-radius: 6px\">\n",
       "            a</div>\n",
       "            \n",
       "\n",
       "            <div style=\"font-size: 15.89764717168979px; color: red; margin-bottom: 2px; float: left; \n",
       "            margin: 10px; padding: 2px; background-color: #f7f7f7; border-radius: 6px\">\n",
       "            will</div>\n",
       "            \n",
       "\n",
       "            <div style=\"font-size: 15.681457618458385px; color: red; margin-bottom: 2px; float: left; \n",
       "            margin: 10px; padding: 2px; background-color: #f7f7f7; border-radius: 6px\">\n",
       "            is</div>\n",
       "            \n",
       "\n",
       "            <div style=\"font-size: 15.40463706679797px; color: red; margin-bottom: 2px; float: left; \n",
       "            margin: 10px; padding: 2px; background-color: #f7f7f7; border-radius: 6px\">\n",
       "            films</div>\n",
       "            \n",
       "\n",
       "            <div style=\"font-size: 15.33951394446316px; color: red; margin-bottom: 2px; float: left; \n",
       "            margin: 10px; padding: 2px; background-color: #f7f7f7; border-radius: 6px\">\n",
       "            absolutely</div>\n",
       "            \n",
       "\n",
       "            <div style=\"font-size: 15.162479245395508px; color: red; margin-bottom: 2px; float: left; \n",
       "            margin: 10px; padding: 2px; background-color: #f7f7f7; border-radius: 6px\">\n",
       "            and</div>\n",
       "            \n",
       "\n",
       "            <div style=\"font-size: 14.980135644971718px; color: red; margin-bottom: 2px; float: left; \n",
       "            margin: 10px; padding: 2px; background-color: #f7f7f7; border-radius: 6px\">\n",
       "            well</div>\n",
       "            \n",
       "\n",
       "            <div style=\"font-size: 14.701214847578889px; color: red; margin-bottom: 2px; float: left; \n",
       "            margin: 10px; padding: 2px; background-color: #f7f7f7; border-radius: 6px\">\n",
       "            twists</div>\n",
       "            \n",
       "\n",
       "            <div style=\"font-size: 14.698317785147436px; color: red; margin-bottom: 2px; float: left; \n",
       "            margin: 10px; padding: 2px; background-color: #f7f7f7; border-radius: 6px\">\n",
       "            of</div>\n",
       "            \n",
       "\n",
       "            <div style=\"font-size: 14.60714073097938px; color: red; margin-bottom: 2px; float: left; \n",
       "            margin: 10px; padding: 2px; background-color: #f7f7f7; border-radius: 6px\">\n",
       "            you</div>\n",
       "            \n",
       "\n",
       "            <div style=\"font-size: 14.579980470313892px; color: red; margin-bottom: 2px; float: left; \n",
       "            margin: 10px; padding: 2px; background-color: #f7f7f7; border-radius: 6px\">\n",
       "            original</div>\n",
       "            \n",
       "\n",
       "            <div style=\"font-size: 13.048979733449587px; color: red; margin-bottom: 2px; float: left; \n",
       "            margin: 10px; padding: 2px; background-color: #f7f7f7; border-radius: 6px\">\n",
       "            has</div>\n",
       "            \n",
       "\n",
       "            <div style=\"font-size: 12.947428079227205px; color: red; margin-bottom: 2px; float: left; \n",
       "            margin: 10px; padding: 2px; background-color: #f7f7f7; border-radius: 6px\">\n",
       "            us</div>\n",
       "            \n",
       "\n",
       "            <div style=\"font-size: 12.820161833001581px; color: red; margin-bottom: 2px; float: left; \n",
       "            margin: 10px; padding: 2px; background-color: #f7f7f7; border-radius: 6px\">\n",
       "            seen</div>\n",
       "            \n",
       "\n",
       "            <div style=\"font-size: 12.671550219405825px; color: red; margin-bottom: 2px; float: left; \n",
       "            margin: 10px; padding: 2px; background-color: #f7f7f7; border-radius: 6px\">\n",
       "            each</div>\n",
       "            </div>\n",
       "       <div style='width: 40%; padding-left: 20px; float: left; '>\n",
       "       <h3 style=\"text-align: center\">Negative Reviews</h3>\n",
       "        \n",
       "            <div style=\"font-size: 16.18905983521766px; color: blue; margin-bottom: 2px; float: left; \n",
       "            margin: 10px; padding: 2px; background-color: #f7f7f7; border-radius: 6px\">\n",
       "            maybe</div>\n",
       "            \n",
       "\n",
       "            <div style=\"font-size: 16.444902020481376px; color: blue; margin-bottom: 2px; float: left; \n",
       "            margin: 10px; padding: 2px; background-color: #f7f7f7; border-radius: 6px\">\n",
       "            have</div>\n",
       "            \n",
       "\n",
       "            <div style=\"font-size: 16.64552398048368px; color: blue; margin-bottom: 2px; float: left; \n",
       "            margin: 10px; padding: 2px; background-color: #f7f7f7; border-radius: 6px\">\n",
       "            like</div>\n",
       "            \n",
       "\n",
       "            <div style=\"font-size: 16.67851497957149px; color: blue; margin-bottom: 2px; float: left; \n",
       "            margin: 10px; padding: 2px; background-color: #f7f7f7; border-radius: 6px\">\n",
       "            nothing</div>\n",
       "            \n",
       "\n",
       "            <div style=\"font-size: 16.683686199734538px; color: blue; margin-bottom: 2px; float: left; \n",
       "            margin: 10px; padding: 2px; background-color: #f7f7f7; border-radius: 6px\">\n",
       "            depressing</div>\n",
       "            \n",
       "\n",
       "            <div style=\"font-size: 16.818457382648393px; color: blue; margin-bottom: 2px; float: left; \n",
       "            margin: 10px; padding: 2px; background-color: #f7f7f7; border-radius: 6px\">\n",
       "            were</div>\n",
       "            \n",
       "\n",
       "            <div style=\"font-size: 16.832561211416074px; color: blue; margin-bottom: 2px; float: left; \n",
       "            margin: 10px; padding: 2px; background-color: #f7f7f7; border-radius: 6px\">\n",
       "            walked</div>\n",
       "            \n",
       "\n",
       "            <div style=\"font-size: 16.988301518113495px; color: blue; margin-bottom: 2px; float: left; \n",
       "            margin: 10px; padding: 2px; background-color: #f7f7f7; border-radius: 6px\">\n",
       "            hype</div>\n",
       "            \n",
       "\n",
       "            <div style=\"font-size: 17.125614078312136px; color: blue; margin-bottom: 2px; float: left; \n",
       "            margin: 10px; padding: 2px; background-color: #f7f7f7; border-radius: 6px\">\n",
       "            started</div>\n",
       "            \n",
       "\n",
       "            <div style=\"font-size: 17.20832603133678px; color: blue; margin-bottom: 2px; float: left; \n",
       "            margin: 10px; padding: 2px; background-color: #f7f7f7; border-radius: 6px\">\n",
       "            then</div>\n",
       "            \n",
       "\n",
       "            <div style=\"font-size: 17.68922851243768px; color: blue; margin-bottom: 2px; float: left; \n",
       "            margin: 10px; padding: 2px; background-color: #f7f7f7; border-radius: 6px\">\n",
       "            or</div>\n",
       "            \n",
       "\n",
       "            <div style=\"font-size: 18.349531930164343px; color: blue; margin-bottom: 2px; float: left; \n",
       "            margin: 10px; padding: 2px; background-color: #f7f7f7; border-radius: 6px\">\n",
       "            people</div>\n",
       "            \n",
       "\n",
       "            <div style=\"font-size: 18.606793445808997px; color: blue; margin-bottom: 2px; float: left; \n",
       "            margin: 10px; padding: 2px; background-color: #f7f7f7; border-radius: 6px\">\n",
       "            too</div>\n",
       "            \n",
       "\n",
       "            <div style=\"font-size: 19.033887221467833px; color: blue; margin-bottom: 2px; float: left; \n",
       "            margin: 10px; padding: 2px; background-color: #f7f7f7; border-radius: 6px\">\n",
       "            i</div>\n",
       "            \n",
       "\n",
       "            <div style=\"font-size: 19.25179225443645px; color: blue; margin-bottom: 2px; float: left; \n",
       "            margin: 10px; padding: 2px; background-color: #f7f7f7; border-radius: 6px\">\n",
       "            didn't</div>\n",
       "            \n",
       "\n",
       "            <div style=\"font-size: 19.287943713836345px; color: blue; margin-bottom: 2px; float: left; \n",
       "            margin: 10px; padding: 2px; background-color: #f7f7f7; border-radius: 6px\">\n",
       "            critics</div>\n",
       "            \n",
       "\n",
       "            <div style=\"font-size: 19.56248475785887px; color: blue; margin-bottom: 2px; float: left; \n",
       "            margin: 10px; padding: 2px; background-color: #f7f7f7; border-radius: 6px\">\n",
       "            weird</div>\n",
       "            \n",
       "\n",
       "            <div style=\"font-size: 19.624725967774342px; color: blue; margin-bottom: 2px; float: left; \n",
       "            margin: 10px; padding: 2px; background-color: #f7f7f7; border-radius: 6px\">\n",
       "            but</div>\n",
       "            \n",
       "\n",
       "            <div style=\"font-size: 19.960085894485292px; color: blue; margin-bottom: 2px; float: left; \n",
       "            margin: 10px; padding: 2px; background-color: #f7f7f7; border-radius: 6px\">\n",
       "            don't</div>\n",
       "            \n",
       "\n",
       "            <div style=\"font-size: 20.17245813659363px; color: blue; margin-bottom: 2px; float: left; \n",
       "            margin: 10px; padding: 2px; background-color: #f7f7f7; border-radius: 6px\">\n",
       "            ridiculous</div>\n",
       "            \n",
       "\n",
       "            <div style=\"font-size: 20.453232019781595px; color: blue; margin-bottom: 2px; float: left; \n",
       "            margin: 10px; padding: 2px; background-color: #f7f7f7; border-radius: 6px\">\n",
       "            awful</div>\n",
       "            \n",
       "\n",
       "            <div style=\"font-size: 20.742825019930425px; color: blue; margin-bottom: 2px; float: left; \n",
       "            margin: 10px; padding: 2px; background-color: #f7f7f7; border-radius: 6px\">\n",
       "            no</div>\n",
       "            \n",
       "\n",
       "            <div style=\"font-size: 21.08080752108478px; color: blue; margin-bottom: 2px; float: left; \n",
       "            margin: 10px; padding: 2px; background-color: #f7f7f7; border-radius: 6px\">\n",
       "            bad</div>\n",
       "            \n",
       "\n",
       "            <div style=\"font-size: 21.321070675156932px; color: blue; margin-bottom: 2px; float: left; \n",
       "            margin: 10px; padding: 2px; background-color: #f7f7f7; border-radius: 6px\">\n",
       "            violence</div>\n",
       "            \n",
       "\n",
       "            <div style=\"font-size: 21.52856277019048px; color: blue; margin-bottom: 2px; float: left; \n",
       "            margin: 10px; padding: 2px; background-color: #f7f7f7; border-radius: 6px\">\n",
       "            overrated</div>\n",
       "            \n",
       "\n",
       "            <div style=\"font-size: 21.732203912075914px; color: blue; margin-bottom: 2px; float: left; \n",
       "            margin: 10px; padding: 2px; background-color: #f7f7f7; border-radius: 6px\">\n",
       "            violent</div>\n",
       "            \n",
       "\n",
       "            <div style=\"font-size: 21.895820471179512px; color: blue; margin-bottom: 2px; float: left; \n",
       "            margin: 10px; padding: 2px; background-color: #f7f7f7; border-radius: 6px\">\n",
       "            waste</div>\n",
       "            \n",
       "\n",
       "            <div style=\"font-size: 22.484583680073378px; color: blue; margin-bottom: 2px; float: left; \n",
       "            margin: 10px; padding: 2px; background-color: #f7f7f7; border-radius: 6px\">\n",
       "            worst</div>\n",
       "            \n",
       "\n",
       "            <div style=\"font-size: 22.722182751290994px; color: blue; margin-bottom: 2px; float: left; \n",
       "            margin: 10px; padding: 2px; background-color: #f7f7f7; border-radius: 6px\">\n",
       "            boring</div>\n",
       "            \n",
       "\n",
       "            <div style=\"font-size: 23.431241648744262px; color: blue; margin-bottom: 2px; float: left; \n",
       "            margin: 10px; padding: 2px; background-color: #f7f7f7; border-radius: 6px\">\n",
       "            not</div>\n",
       "            </div>\n",
       "    "
      ],
      "text/plain": [
       "<IPython.core.display.HTML object>"
      ]
     },
     "metadata": {},
     "output_type": "display_data"
    }
   ],
   "source": [
    "show_keyitems(ps_keywords_df, 30, corpusA='Positive Reviews', corpusB='Negative Reviews')"
   ]
  },
  {
   "cell_type": "markdown",
   "metadata": {},
   "source": [
    "Now let's explore the bigram frequency lists for positive and negative reviews, and then go into the same type of keyness analysis:"
   ]
  },
  {
   "cell_type": "code",
   "execution_count": 65,
   "metadata": {},
   "outputs": [],
   "source": [
    "pos_bigrams_parasite = Counter(get_ngram_tokens(pos_tokens_parasite,2))\n",
    "neg_bigrams_parasite = Counter(get_ngram_tokens(neg_tokens_parasite,2))"
   ]
  },
  {
   "cell_type": "code",
   "execution_count": 66,
   "metadata": {},
   "outputs": [
    {
     "name": "stdout",
     "output_type": "stream",
     "text": [
      "WORD                     Corpus A Freq.Corpus B Freq.Keyness\n",
      "============================================================\n",
      "the best                 486       7         121.610\n",
      "one of                   435       16        72.019\n",
      "parasite is              207       5         43.134\n",
      "of the                   1335      170       27.064\n",
      "is a                     419       38        23.590\n",
      "the year                 163       9         19.187\n",
      "it's a                   107       6         12.391\n",
      "movie of                 139       10        11.771\n",
      "in a                     268       29        9.725\n",
      "it is                    305       36        8.347\n",
      "the kim                  78        5         7.732\n",
      "a little                 82        6         6.771\n"
     ]
    }
   ],
   "source": [
    "calculate_keyness(pos_bigrams_parasite, neg_bigrams_parasite, top=50)"
   ]
  },
  {
   "cell_type": "code",
   "execution_count": 67,
   "metadata": {},
   "outputs": [
    {
     "name": "stdout",
     "output_type": "stream",
     "text": [
      "WORD                     Corpus A Freq.Corpus B Freq.Keyness\n",
      "============================================================\n",
      "i don't                  43        49        47.562\n",
      "would have               19        13        30.952\n",
      "it was                   113       313       30.472\n",
      "but the                  37        57        29.480\n",
      "have been                29        37        28.682\n",
      "i didn't                 26        32        26.682\n",
      "could have               19        18        24.659\n",
      "but not                  21        25        22.275\n",
      "good but                 14        11        20.859\n",
      "was just                 15        13        20.845\n",
      "first half               17        18        20.101\n",
      "any of                   13        10        19.649\n",
      "the point                14        12        19.614\n",
      "the hype                 23        34        19.282\n",
      "did not                  28        49        18.779\n",
      "was good                 14        13        18.460\n",
      "of time                  12        9         18.445\n",
      "too long                 13        11        18.385\n",
      "the plot                 42        95        18.205\n",
      "didn't like              10        6         17.579\n",
      "the father               14        14        17.385\n",
      "supposed to              11        8         17.248\n",
      "long and                 9         5         16.486\n",
      "care about               9         5         16.486\n",
      "on this                  14        16        15.443\n",
      "have no                  13        14        15.143\n",
      "and violent              8         5         13.746\n",
      "none of                  10        9         13.508\n",
      "best picture             52        146       13.503\n",
      "the characters           38        95        13.276\n",
      "then the                 11        12        12.665\n",
      "for me                   24        49        12.598\n",
      "understand the           13        17        12.527\n",
      "i can't                  16        25        12.521\n",
      "for you                  8         6         12.296\n",
      "the violence             9         8         12.273\n",
      "with no                  14        20        12.223\n",
      "enough to                12        15        12.122\n",
      "like it                  12        15        12.122\n",
      "for this                 17        30        11.263\n",
      "found it                 9         9         11.176\n",
      "but that                 9         9         11.176\n",
      "to be                    62        198       10.663\n",
      "movie was                42        121       10.125\n",
      "was the                  20        42        9.985\n",
      "family was               7         6         9.807\n",
      "they were                13        21        9.742\n",
      "not like                 10        13        9.697\n",
      "too much                 14        24        9.671\n",
      "those who                11        16        9.402\n"
     ]
    }
   ],
   "source": [
    "calculate_keyness(neg_bigrams_parasite,pos_bigrams_parasite, top=50)"
   ]
  },
  {
   "cell_type": "markdown",
   "metadata": {},
   "source": [
    "Hm, I think it's more worthwhile and more intriguing to focus on words instead of bigrams. Let's try carrying out KWIC concordance analysis on some of the words I'm interested in: `bong`, `best`, `korean`, and `boring`.\n",
    "\n",
    "1) `bong`:"
   ]
  },
  {
   "cell_type": "code",
   "execution_count": 68,
   "metadata": {
    "scrolled": true
   },
   "outputs": [
    {
     "name": "stdout",
     "output_type": "stream",
     "text": [
      "                    of a mirror director  bong  joon-ho moves on to\n",
      "                          too is made by  bong  joon-ho i had watched\n",
      "                   popularity it got and  bong  joon-ho shall be remembered\n",
      "                      be one of director  bong  joon-ho's many timeless masterpieces\n",
      "                     for yourself led by  bong  joon ho’s powerful direction\n",
      "                     sides fun and tense  bong  joon-ho once again proves\n",
      "                 myself i understood why  bong  joon-ho is distinguished by\n",
      "                     canon but this time  bong  joon-ho presents us with\n",
      "                         top of all this  bong  joon-ho shows us one\n",
      "                     it amuses and moves  bong  again provided great entertainment\n",
      "                    like this movie 1010  bong  joon-ho at his best\n",
      "                  study of class warfare  bong  joon-ho cements his position\n",
      "                  \"parasite\" is a korean  bong  joon-ho to that extent\n",
      "          soundtrack setting story flow;  bong  joon ho once again\n",
      "              true essence of filmmaking  bong  delivered this so perfectly\n",
      "         created an entire neighbourhood  bong  joon-ho has crafted a\n",
      "                 and polemical punch yes  bong  may be a bit\n",
      "                    the film is director  bong  joon ho known in\n",
      "                       as a big surprise  bong  joon ho's masterpiece is\n",
      "                 among many other awards  bong  joon ho yet again\n"
     ]
    }
   ],
   "source": [
    "bong_kwic = make_kwic('bong', pos_tokens_parasite)\n",
    "print_kwic(bong_kwic[:20])"
   ]
  },
  {
   "cell_type": "markdown",
   "metadata": {},
   "source": [
    "It's quite fascinating to see that Director Bong Joon Ho's name appears much more in the reviews for _Parasite_ than _The Host_ and I think it's probably due to the fact that it's during a more contemporary time in the 21st century, the film won 4 Oscars and was an international success, and he had previously gotten more recognized throughout the 2010's with other notable movies such as \"Snowpiercer\" and \"Okja\". \n",
    "\n",
    "This public attention to the director's name is significant and we can see this as Director Bong's entrance into mainstream American movie-watching audience's lingo. To even have that knowledge of the Director is surprising to me, I think we don't often stop to look up and research who the directors of every movie we watch are, so this is important!\n",
    "\n",
    "2) `best`:"
   ]
  },
  {
   "cell_type": "code",
   "execution_count": 69,
   "metadata": {},
   "outputs": [
    {
     "name": "stdout",
     "output_type": "stream",
     "text": [
      "                         kino one of the  best  films i've ever seen\n",
      "                 the acting is fantastic  best  film i've seen in\n",
      "                     perhaps this is the  best  summary of the tragicomic\n",
      "                       themes one of the  best  movies i've ever seen\n",
      "                    and safe daily lives  best  film of 2019 for\n",
      "                was great definitely the  best  movie of 2019 it\n",
      "                  a phenomenal movie was  best  i've seen in a\n",
      "                     bong joon-ho at his  best  parasite is a masterpiece\n",
      "                         is the only and  best  way to watch it\n",
      "                   of the 21st century's  best  working directors and possibly\n",
      "                         is not only the  best  film of 2019 not\n",
      "                         only one of the  best  films of the decade\n",
      "                   well deserving of its  best  picture 🏆 your review\n",
      "                   the academy award for  best  picture this film is\n",
      "                         and turns - won  best  picture hopefully this is\n",
      "                      it's rare that the  best  film of the year\n",
      "                    it certainly did the  best  movie i've ever seen\n",
      "                        that some of the  best  films of the coming\n",
      "                        in the world the  best  thing about this movie\n",
      "                    wonderful one of the  best  movie watching experiences of\n"
     ]
    }
   ],
   "source": [
    "best_kwic = make_kwic('best', pos_tokens_parasite)\n",
    "print_kwic(best_kwic[:20])"
   ]
  },
  {
   "cell_type": "markdown",
   "metadata": {},
   "source": [
    "We see mentions of `best film`, and also `best picture` which is one of the Oscars that _Parasite_ won. There's also lots of superlatives here, like `best film of 2019` and `best movie watching experience`.\n",
    "\n",
    "3) `korean`:"
   ]
  },
  {
   "cell_type": "code",
   "execution_count": 70,
   "metadata": {},
   "outputs": [
    {
     "name": "stdout",
     "output_type": "stream",
     "text": [
      "                       i'm not much into  korean  entertainment the only korean\n",
      "           korean entertainment the only  korean  entertainment i have ever\n",
      "                            i had seen a  korean  film before was the\n",
      "                       this is the first  korean  film that i watched\n",
      "         highly recommend parasitic poor  korean  family infest a very\n",
      "         sensational achievements of the  korean  this should be a\n",
      "                   characters are a poor  korean  family parents and two\n",
      "                          look on a poor  korean  town which in my\n",
      "                      work by the famous  korean  director feng junhao this\n",
      "                     this is another few  korean  movies that i want\n",
      "                            good it is a  korean  language film about a\n",
      "                      of \"parasite\" is a  korean  bong joon-ho to that\n",
      "                 films of our generation  korean  film just keeps getting\n",
      "                      better one i guess  korean  culture is where it's\n",
      "                     i watched the south  korean  film \"parasites\" i want\n",
      "                     i don't often watch  korean  films but this film\n",
      "                   is the greatest south  korean  dark comedy thriller of\n",
      "                          that this is a  korean  film and read the\n",
      "                        a must see great  korean  movie it will make\n",
      "       an impressively constructed south  korean  film the lives of\n"
     ]
    }
   ],
   "source": [
    "korean_kwic = make_kwic('korean', pos_tokens_parasite)\n",
    "print_kwic(korean_kwic[:20])"
   ]
  },
  {
   "cell_type": "markdown",
   "metadata": {},
   "source": [
    "Again, there's more attention to this being a great KOREAN film and talking about the Korean entertainment industry. \n",
    "\n",
    "Let's take a look at `korean` among positive reviews for both movies; sampling, sorting and grouping to discover patterns:"
   ]
  },
  {
   "cell_type": "code",
   "execution_count": 71,
   "metadata": {},
   "outputs": [],
   "source": [
    "# get a 16 word window around each instance of `korean` and create lists:\n",
    "\n",
    "host_korean_colls = Counter(collocates(pos_tokens_host, 'korean', win=[8,8]))\n",
    "ps_korean_colls = Counter(collocates(pos_tokens_parasite, 'korean', win=[8,8]))"
   ]
  },
  {
   "cell_type": "code",
   "execution_count": 72,
   "metadata": {},
   "outputs": [
    {
     "data": {
      "text/plain": [
       "[('the', 305),\n",
       " ('a', 253),\n",
       " ('and', 190),\n",
       " ('movie', 175),\n",
       " ('of', 171),\n",
       " ('monster', 133),\n",
       " ('it', 131),\n",
       " ('to', 120),\n",
       " ('this', 112),\n",
       " ('in', 111),\n",
       " ('i', 111),\n",
       " ('is', 107),\n",
       " ('film', 81),\n",
       " ('with', 76),\n",
       " ('that', 76),\n",
       " (\"it's\", 65),\n",
       " ('but', 50),\n",
       " ('good', 50),\n",
       " ('great', 48),\n",
       " ('you', 45)]"
      ]
     },
     "execution_count": 72,
     "metadata": {},
     "output_type": "execute_result"
    }
   ],
   "source": [
    "host_korean_colls.most_common(20)"
   ]
  },
  {
   "cell_type": "code",
   "execution_count": 73,
   "metadata": {},
   "outputs": [
    {
     "data": {
      "text/plain": [
       "[('the', 159),\n",
       " ('a', 144),\n",
       " ('and', 104),\n",
       " ('of', 90),\n",
       " ('is', 75),\n",
       " ('to', 69),\n",
       " ('film', 65),\n",
       " ('it', 61),\n",
       " ('i', 59),\n",
       " ('this', 56),\n",
       " ('movie', 54),\n",
       " ('in', 51),\n",
       " ('that', 49),\n",
       " ('south', 47),\n",
       " ('as', 33),\n",
       " ('with', 31),\n",
       " ('not', 27),\n",
       " ('was', 27),\n",
       " ('but', 27),\n",
       " ('parasite', 25)]"
      ]
     },
     "execution_count": 73,
     "metadata": {},
     "output_type": "execute_result"
    }
   ],
   "source": [
    "ps_korean_colls.most_common(20)"
   ]
  },
  {
   "cell_type": "markdown",
   "metadata": {},
   "source": [
    "Looking at KWIC concordances:"
   ]
  },
  {
   "cell_type": "code",
   "execution_count": 74,
   "metadata": {},
   "outputs": [
    {
     "data": {
      "text/plain": [
       "430"
      ]
     },
     "execution_count": 74,
     "metadata": {},
     "output_type": "execute_result"
    }
   ],
   "source": [
    "korean_kwic_host = make_kwic('korean', pos_tokens_host)\n",
    "len(korean_kwic_host)"
   ]
  },
  {
   "cell_type": "code",
   "execution_count": 75,
   "metadata": {},
   "outputs": [],
   "source": [
    "korean_kwic_host_s1 = random.sample(korean_kwic_host, 50)"
   ]
  },
  {
   "cell_type": "code",
   "execution_count": 76,
   "metadata": {},
   "outputs": [
    {
     "name": "stdout",
     "output_type": "stream",
     "text": [
      "                        some of the best  korean  actors i've seen pretty\n",
      "                       what you get with  korean  and many other asianoriental\n",
      "                 wish i fully understood  korean  and the culture because\n",
      "                 and manipulation of the  korean  authorities pandering to their\n",
      "                   a bit strange typical  korean  but a enjoyable slice\n",
      "                   like monster only the  korean  can put all that\n",
      "                   politics i love south  korean  cinema this is an\n",
      "               more taditional values of  korean  cinema and the same\n",
      "                   you are interested in  korean  cinema i would of\n",
      "                      movie of a monster  korean  cinema has come a\n",
      "                    in it's native south  korean  dialogue with subtitles the\n",
      "                 this one is exceptional  korean  director bong joon-ho tells\n",
      "                   to order the official  korean  dvd of the film\n",
      "         surprisingly moving portrait of  korean  family life alleviated with\n",
      "                throw in a dysfunctional  korean  family and you have\n",
      "                      monster too this a  korean  film that came out\n",
      "             become the highest grossing  korean  film in history and\n",
      "                      not bad either big  korean  fish monsters are the\n",
      "                    check out this south  korean  flick pathos bathos and\n",
      "                        lots of good old  korean  fun and pathos in\n",
      "                  monster it's about the  korean  government and how far\n",
      "                pretty deep knowledge of  korean  history and politics it's\n",
      "               the usually underlying of  korean  humor to the whole\n",
      "                      the end it's quite  korean  in the fact that\n",
      "                        try to make this  korean  masterpiece into one of\n",
      "                 until the end brilliant  korean  monster movie that takes\n",
      "                 to remake it impressive  korean  monster movie with a\n",
      "                 another cool wigged out  korean  movie ambivalence toward america\n",
      "                 an amazing cheesy south  korean  movie didnt understand a\n",
      "                  the future really good  korean  movie funny cool and\n",
      "                     just because it's a  korean  movie this film incorporates\n",
      "                    monster movie it's a  korean  movie and it's from\n",
      "                        seen count me in  korean  movies are awesome if\n",
      "              if you actually understood  korean  one of the best\n",
      "               be marketed overseas this  korean  production levels a heavy\n",
      "                        for a low budget  korean  production this thing is\n",
      "                      mutated stuff in a  korean  river hurrah the most\n",
      "                          i like how the  korean  saved themselves this movie\n",
      "                       loved it here's a  korean  sci-fi film enjoyable and\n",
      "                         so i salute you  korean  sea monster your tentacles\n",
      "              with the typically bizarre  korean  sense of humour you'll\n",
      "                       the satire of the  korean  society and the humor\n",
      "                       caught in the new  korean  society clinging on its\n",
      "                    over the top typical  korean  style which morphed it\n",
      "                the military ordered his  korean  subordinate to his protest\n",
      "                       i saw gwoemul the  korean  version i have not\n",
      "                   better when viewed in  korean  w subtitles the english\n",
      "                          to watch it in  korean  with subtitles i love\n",
      "              dubbed version rather than  korean  with subtitles because to\n",
      "                        korea yes  its  korean   but the subtitles\n"
     ]
    }
   ],
   "source": [
    "print_kwic(sort_kwic(korean_kwic_host_s1, 'R1'))"
   ]
  },
  {
   "cell_type": "code",
   "execution_count": 77,
   "metadata": {},
   "outputs": [
    {
     "data": {
      "text/plain": [
       "226"
      ]
     },
     "execution_count": 77,
     "metadata": {},
     "output_type": "execute_result"
    }
   ],
   "source": [
    "korean_kwic_ps = make_kwic('korean', pos_tokens_parasite)\n",
    "len(korean_kwic_ps)"
   ]
  },
  {
   "cell_type": "code",
   "execution_count": 78,
   "metadata": {},
   "outputs": [],
   "source": [
    "korean_kwic_ps_s1 = random.sample(korean_kwic_ps, 50)"
   ]
  },
  {
   "cell_type": "code",
   "execution_count": 79,
   "metadata": {},
   "outputs": [
    {
     "name": "stdout",
     "output_type": "stream",
     "text": [
      "                           only one of a  korean  viewer could catch as\n",
      "                   more disturbing for a  korean  flick in this genre\n",
      "                     quick parasite is a  korean  film with a tightly\n",
      "                 and learning more about  korean  culture did not like\n",
      "                      be star in america  korean  film master director kfilm\n",
      "                           40 you may be  korean  russian or belgian none\n",
      "                         one of the best  korean  movie in recent times\n",
      "               your everyday normie best  korean  film ever stunning locations\n",
      "                         one of the best  korean  movies i've ever seen\n",
      "             well masterfully crafted by  korean  film director bong joon\n",
      "          amazing and original excellent  korean  cast and director what\n",
      "                       this is the first  korean  film that i watched\n",
      "                    movie a typical good  korean  movie could be a\n",
      "               a director especially his  korean  movies not to say\n",
      "                      that is typical in  korean  movies otherwise we absolutely\n",
      "                       i'm not much into  korean  entertainment the only korean\n",
      "                    really don't like is  korean  yelp would've stopped this\n",
      "               director kfilm kpop kdama  korean  entertainment is powerful and\n",
      "               senses directed by master  korean  filmmaker bong joon-ho the\n",
      "                        see that side of  korean  socialisation and yet disaster\n",
      "                     and lower levels of  korean  actually it is happening\n",
      "                  have watched dozens of  korean  and philipino video 'soap\n",
      "                    the gritty detail of  korean  slums as a family\n",
      "             experience it hustling poor  korean  family demonstrating that the\n",
      "             stunnning story that proves  korean  cinema keeps reinventing itself\n",
      "                     breath great to see  korean  films going international brilliant\n",
      "                 is an outstanding south  korean  dark comedy that will\n",
      "                    hours the best south  korean  film i have seen\n",
      "                   dissection of a south  korean  version what some like\n",
      "                    best movies of south  korean  cinema must-watch quite sharp\n",
      "                   is the greatest south  korean  dark comedy thriller of\n",
      "            burning another recent south  korean  film which i love\n",
      "                       it's like a south  korean  modern day twist on\n",
      "                         in a rich south  korean  home is so rich\n",
      "        near-perfect execution the south  korean  director is not the\n",
      "                 been missing from south  korean  cinema when a film\n",
      "                    movie my first south  korean  movie ✌️ is a\n",
      "                     of the cinema south  korean  auteur bong joon-ho's \"parasite\"\n",
      "                sharp narrative of south  korean  society; and at the\n",
      "                          i do not speak  korean  but that did not\n",
      "                     since i can't speak  korean  lol proudly say i\n",
      "                    is a tarantino style  korean  movie with great characters\n",
      "                      is a reminder that  korean  cinema is something apart\n",
      "                   do not understand the  korean  language or culture cannot\n",
      "                  awarded top film think  korean  tarantino once it gets\n",
      "   hollywood establishment embraces this  korean  director and his films\n",
      "                     it checked out this  korean  oscar contender in a\n",
      "               to dark comedic thrillers  korean  cinema in one year\n",
      "                class divide through two  korean  families it gives you\n",
      "                    acting as usual with  korean  movies is top notch\n"
     ]
    }
   ],
   "source": [
    "print_kwic(sort_kwic(korean_kwic_ps_s1, 'L1'))"
   ]
  },
  {
   "cell_type": "markdown",
   "metadata": {},
   "source": [
    "And then to the extent we can trust VADER (but could use NRC or TextBlob) you could get the sentiment score for these collocates:"
   ]
  },
  {
   "cell_type": "code",
   "execution_count": 80,
   "metadata": {},
   "outputs": [
    {
     "data": {
      "text/plain": [
       "{'compound': 0.9997, 'neg': 0.171, 'neu': 0.572, 'pos': 0.257}"
      ]
     },
     "execution_count": 80,
     "metadata": {},
     "output_type": "execute_result"
    }
   ],
   "source": [
    "sid.polarity_scores(' '.join(host_korean_colls.keys()))"
   ]
  },
  {
   "cell_type": "code",
   "execution_count": 81,
   "metadata": {},
   "outputs": [
    {
     "data": {
      "text/plain": [
       "{'compound': 0.9996, 'neg': 0.153, 'neu': 0.566, 'pos': 0.281}"
      ]
     },
     "execution_count": 81,
     "metadata": {},
     "output_type": "execute_result"
    }
   ],
   "source": [
    "sid.polarity_scores(' '.join(ps_korean_colls.keys()))"
   ]
  },
  {
   "cell_type": "markdown",
   "metadata": {},
   "source": [
    "* So more positive words around KOREAN in positive reviews... maybe not that surprising?\n",
    "* Let's look at another word:\n",
    "\n",
    "4) `boring`"
   ]
  },
  {
   "cell_type": "code",
   "execution_count": 82,
   "metadata": {},
   "outputs": [
    {
     "name": "stdout",
     "output_type": "stream",
     "text": [
      "                     itself is also very  boring  i've just moved to\n",
      "            worth it overhyped overblown  boring  and somehow people think\n",
      "                        won't say it was  boring  but it was uninteresting\n",
      "      minutes was completely predictable  boring  getting the driver and\n",
      "                     from that basic and  boring  i don't see what\n",
      "                 awards movie was really  boring  i can't believe it\n",
      "                      the film and story  boring  without direction lost in\n",
      "                      kind of happen not  boring  but not a good\n",
      "                     4hrs anyways such a  boring  boring movie i didn't\n",
      "                   anyways such a boring  boring  movie i didn't like\n",
      "                         try it's like a  boring  movie but for some\n",
      "                      movie was awful so  boring  and not interesting at\n",
      "               all then after completely  boring  the audience the finish\n",
      "                     dumb what a stinker  boring  engaging interesting maybe best\n",
      "                 scenes but overall very  boring  bad slapstick unneeded violence\n",
      "                           have to see a  boring  and badly acted movie\n",
      "                 plain weired: dumb: and  boring  parasite is brilliantly shot\n",
      "                    this film was stagey  boring  way too long unbelievable\n",
      "                       hype of the movie  boring  point-less way too long\n",
      "               this movie was depressing  boring  and violent i hated\n"
     ]
    }
   ],
   "source": [
    "boring_kwic = make_kwic('boring', neg_tokens_parasite)\n",
    "print_kwic(boring_kwic[:20])"
   ]
  },
  {
   "cell_type": "markdown",
   "metadata": {},
   "source": [
    "What I want to take away from all of this keyness, frequency, and concordance analysis is that there are distinct words used between positive and negative reviews of either movie. I want to especially highlight `monster`, `korean`, `bong`, `boring`, and `translation`. Some of these results, such as the concordance analysis for words appearing around \"korean,\" would be worth mentioning in my data story.\n",
    "\n",
    "Now that we've looked over the user reviews, divided them into positive and negative rated reviews, and took a deep dive into the context and keyness analysis, we've hit the end of this notebook. To move onto parts 3-5 of my analysis, let's go to `analysis_user_tomatoes2` the next notebook in my folder! In that pt. 2/2 notebook, I want to quantify my analysis further. I will apply sentiment analysis by using different tools/lexicons that try to capture the valence of emotions used throughout the reviews. "
   ]
  },
  {
   "cell_type": "code",
   "execution_count": null,
   "metadata": {},
   "outputs": [],
   "source": []
  }
 ],
 "metadata": {
  "kernelspec": {
   "display_name": "Python 3",
   "language": "python",
   "name": "python3"
  },
  "language_info": {
   "codemirror_mode": {
    "name": "ipython",
    "version": 3
   },
   "file_extension": ".py",
   "mimetype": "text/x-python",
   "name": "python",
   "nbconvert_exporter": "python",
   "pygments_lexer": "ipython3",
   "version": "3.7.3"
  }
 },
 "nbformat": 4,
 "nbformat_minor": 2
}
