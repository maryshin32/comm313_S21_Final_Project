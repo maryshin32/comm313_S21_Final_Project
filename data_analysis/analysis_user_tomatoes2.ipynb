{
 "cells": [
  {
   "cell_type": "markdown",
   "metadata": {},
   "source": [
    "# Analysis of User Reviews from Rotten Tomatoes Pt. 2/2\n",
    "\n",
    "Welcome to pt. 2 of my analysis notebook for RT user reviews! In pt. 1, I went through Analyses 1-2: splitting the reviews into positive and negative, and running keyness/frequency/concordance analysis on those groups of reviews for both movies. \n",
    "\n",
    "In this notebook, I will be going through the rest of my analyses (sentiment analysis):\n",
    "\n",
    "3. VADER\n",
    "4. NRC VAD Lexicon\n",
    "5. NRC Emotion Lexicon\n",
    "\n",
    "## Analysis pt. 3: Using VADER for sentiment analysis\n",
    "\n",
    "The first part here will be to use VADER (Valence Aware Dictionary and sEntiment Reasoner), which is a lexicon and rule-based sentiment analysis tool that tells us how positive or negative the sentiment of a certain word is.\n",
    "\n",
    "Quickly running the first two cells to set up this notebook, and also loading in the review data:"
   ]
  },
  {
   "cell_type": "code",
   "execution_count": 1,
   "metadata": {},
   "outputs": [],
   "source": [
    "import json\n",
    "from nltk.sentiment import SentimentIntensityAnalyzer\n",
    "from collections import Counter\n",
    "import seaborn as sns\n",
    "import pandas as pd\n",
    "import matplotlib.pyplot as plt\n",
    "import math\n",
    "import random"
   ]
  },
  {
   "cell_type": "code",
   "execution_count": 2,
   "metadata": {},
   "outputs": [],
   "source": [
    "chars_to_remove = '.,!?/()'"
   ]
  },
  {
   "cell_type": "code",
   "execution_count": 3,
   "metadata": {},
   "outputs": [],
   "source": [
    "%run functions.ipynb"
   ]
  },
  {
   "cell_type": "code",
   "execution_count": 4,
   "metadata": {},
   "outputs": [],
   "source": [
    "rt_host_user = json.load(open('../data/user_reviews/tomatoes_host_user.json'))"
   ]
  },
  {
   "cell_type": "code",
   "execution_count": 5,
   "metadata": {},
   "outputs": [],
   "source": [
    "rt_parasite_user = json.load(open('../data/user_reviews/tomatoes_parasite_user.json'))"
   ]
  },
  {
   "cell_type": "code",
   "execution_count": 6,
   "metadata": {},
   "outputs": [],
   "source": [
    "sid = SentimentIntensityAnalyzer()"
   ]
  },
  {
   "cell_type": "code",
   "execution_count": 7,
   "metadata": {},
   "outputs": [],
   "source": [
    "words_to_remove = ['monster','virus','expand','host','movie','kill','Expand','parasite','movie','sucks',\n",
    "    'poor','struggles','hard','horror','military','government','black','shot','violent','violence','warfare',\n",
    "    'money', 'poverty','inequality','foreign','hype','creature','mutant','beast','lower','mother','waste']"
   ]
  },
  {
   "cell_type": "markdown",
   "metadata": {},
   "source": [
    "### Is the mean sentiment score more positive (higher score) for _Parasite_ than _The Host_ ?\n",
    "\n",
    "### For user reviews of _The Host_ :\n",
    "\n",
    "Initializing and using VADER for sentiment analysis on the user reviews for each movie, starting with _The Host_"
   ]
  },
  {
   "cell_type": "code",
   "execution_count": 8,
   "metadata": {},
   "outputs": [],
   "source": [
    "for review in rt_host_user:\n",
    "    tokens = tokenize(review['text'], lowercase=True, strip_chars=chars_to_remove)\n",
    "    filtered_tokens = [t for t in tokens if t not in words_to_remove]\n",
    "    review['tokens']=filtered_tokens"
   ]
  },
  {
   "cell_type": "code",
   "execution_count": 9,
   "metadata": {},
   "outputs": [
    {
     "data": {
      "text/plain": [
       "{'date': 'Dec 30, 2009',\n",
       " 'score': 3.5,\n",
       " 'text': 'For a monster movie this was quite good. Decent special effects and good acting all around. I feel that the aspect of military involvement and the supposed virus scare was never really expanded upon properly, leaving lots of \"why?\" when the credits role. Overall a great overseas horror flick, and I gotta say it\\'s good to see something from that part of te globe where te main antagonist is NOT a woman with long black hair hanging in front of her face :)',\n",
       " 'tokens': ['for',\n",
       "  'a',\n",
       "  'this',\n",
       "  'was',\n",
       "  'quite',\n",
       "  'good',\n",
       "  'decent',\n",
       "  'special',\n",
       "  'effects',\n",
       "  'and',\n",
       "  'good',\n",
       "  'acting',\n",
       "  'all',\n",
       "  'around',\n",
       "  'i',\n",
       "  'feel',\n",
       "  'that',\n",
       "  'the',\n",
       "  'aspect',\n",
       "  'of',\n",
       "  'involvement',\n",
       "  'and',\n",
       "  'the',\n",
       "  'supposed',\n",
       "  'scare',\n",
       "  'was',\n",
       "  'never',\n",
       "  'really',\n",
       "  'expanded',\n",
       "  'upon',\n",
       "  'properly',\n",
       "  'leaving',\n",
       "  'lots',\n",
       "  'of',\n",
       "  '\"why\"',\n",
       "  'when',\n",
       "  'the',\n",
       "  'credits',\n",
       "  'role',\n",
       "  'overall',\n",
       "  'a',\n",
       "  'great',\n",
       "  'overseas',\n",
       "  'flick',\n",
       "  'and',\n",
       "  'i',\n",
       "  'gotta',\n",
       "  'say',\n",
       "  \"it's\",\n",
       "  'good',\n",
       "  'to',\n",
       "  'see',\n",
       "  'something',\n",
       "  'from',\n",
       "  'that',\n",
       "  'part',\n",
       "  'of',\n",
       "  'te',\n",
       "  'globe',\n",
       "  'where',\n",
       "  'te',\n",
       "  'main',\n",
       "  'antagonist',\n",
       "  'is',\n",
       "  'not',\n",
       "  'a',\n",
       "  'woman',\n",
       "  'with',\n",
       "  'long',\n",
       "  'hair',\n",
       "  'hanging',\n",
       "  'in',\n",
       "  'front',\n",
       "  'of',\n",
       "  'her',\n",
       "  'face',\n",
       "  ':']}"
      ]
     },
     "execution_count": 9,
     "metadata": {},
     "output_type": "execute_result"
    }
   ],
   "source": [
    "rt_host_user[0]"
   ]
  },
  {
   "cell_type": "markdown",
   "metadata": {},
   "source": [
    "Using the Sentiment Intensity Analyzer to go through the text of each review and update it by adding the sentiment scores:"
   ]
  },
  {
   "cell_type": "code",
   "execution_count": 10,
   "metadata": {},
   "outputs": [],
   "source": [
    "for review in rt_host_user:\n",
    "    text = ' '.join(review['tokens'])\n",
    "    scores = sid.polarity_scores(text)\n",
    "    review.update(scores)"
   ]
  },
  {
   "cell_type": "code",
   "execution_count": 11,
   "metadata": {
    "scrolled": true
   },
   "outputs": [
    {
     "data": {
      "text/plain": [
       "'forget every you have ever seen: the wins hands down funny poignant and exciting this is more about the dysfunctional family that combat the mutated fish thingy rather than the itself similar in style to q: the winged serpent this nevertheless has a unique style especially with the colour-saturated tones and the unorthodox way they show the in the first ten minutes of the film i did think they could have dissed the yanks more for the pollutuon of their river though awesome: i insist that everyone see this fantastic immediately zfk maximum rating'"
      ]
     },
     "execution_count": 11,
     "metadata": {},
     "output_type": "execute_result"
    }
   ],
   "source": [
    "text"
   ]
  },
  {
   "cell_type": "markdown",
   "metadata": {},
   "source": [
    "Now, for each dictionary (representing each user review) in our list, there will be information on the sentiment scores that we got using VADER. We will have the compound sentiment score, the negative sentiment score, positive sentiment score, in addition to the information we already had in each of our reviews."
   ]
  },
  {
   "cell_type": "code",
   "execution_count": 12,
   "metadata": {
    "scrolled": true
   },
   "outputs": [
    {
     "data": {
      "text/plain": [
       "{'compound': 0.9192,\n",
       " 'date': 'Dec 30, 2009',\n",
       " 'neg': 0.069,\n",
       " 'neu': 0.714,\n",
       " 'pos': 0.217,\n",
       " 'score': 3.5,\n",
       " 'text': 'For a monster movie this was quite good. Decent special effects and good acting all around. I feel that the aspect of military involvement and the supposed virus scare was never really expanded upon properly, leaving lots of \"why?\" when the credits role. Overall a great overseas horror flick, and I gotta say it\\'s good to see something from that part of te globe where te main antagonist is NOT a woman with long black hair hanging in front of her face :)',\n",
       " 'tokens': ['for',\n",
       "  'a',\n",
       "  'this',\n",
       "  'was',\n",
       "  'quite',\n",
       "  'good',\n",
       "  'decent',\n",
       "  'special',\n",
       "  'effects',\n",
       "  'and',\n",
       "  'good',\n",
       "  'acting',\n",
       "  'all',\n",
       "  'around',\n",
       "  'i',\n",
       "  'feel',\n",
       "  'that',\n",
       "  'the',\n",
       "  'aspect',\n",
       "  'of',\n",
       "  'involvement',\n",
       "  'and',\n",
       "  'the',\n",
       "  'supposed',\n",
       "  'scare',\n",
       "  'was',\n",
       "  'never',\n",
       "  'really',\n",
       "  'expanded',\n",
       "  'upon',\n",
       "  'properly',\n",
       "  'leaving',\n",
       "  'lots',\n",
       "  'of',\n",
       "  '\"why\"',\n",
       "  'when',\n",
       "  'the',\n",
       "  'credits',\n",
       "  'role',\n",
       "  'overall',\n",
       "  'a',\n",
       "  'great',\n",
       "  'overseas',\n",
       "  'flick',\n",
       "  'and',\n",
       "  'i',\n",
       "  'gotta',\n",
       "  'say',\n",
       "  \"it's\",\n",
       "  'good',\n",
       "  'to',\n",
       "  'see',\n",
       "  'something',\n",
       "  'from',\n",
       "  'that',\n",
       "  'part',\n",
       "  'of',\n",
       "  'te',\n",
       "  'globe',\n",
       "  'where',\n",
       "  'te',\n",
       "  'main',\n",
       "  'antagonist',\n",
       "  'is',\n",
       "  'not',\n",
       "  'a',\n",
       "  'woman',\n",
       "  'with',\n",
       "  'long',\n",
       "  'hair',\n",
       "  'hanging',\n",
       "  'in',\n",
       "  'front',\n",
       "  'of',\n",
       "  'her',\n",
       "  'face',\n",
       "  ':']}"
      ]
     },
     "execution_count": 12,
     "metadata": {},
     "output_type": "execute_result"
    }
   ],
   "source": [
    "rt_host_user[0]"
   ]
  },
  {
   "cell_type": "markdown",
   "metadata": {},
   "source": [
    "Adding a key-value pair into the dict for average token sentiment scores for each review:"
   ]
  },
  {
   "cell_type": "code",
   "execution_count": 13,
   "metadata": {},
   "outputs": [],
   "source": [
    "for review in rt_host_user:\n",
    "    avg = sum([sid.lexicon.get(tok.lower(),0) for tok in review['tokens']])/len(rt_host_user)\n",
    "    review['average'] = avg"
   ]
  },
  {
   "cell_type": "code",
   "execution_count": 14,
   "metadata": {},
   "outputs": [
    {
     "data": {
      "text/plain": [
       "{'average': 0.0016271884654994852,\n",
       " 'compound': 0.9192,\n",
       " 'date': 'Dec 30, 2009',\n",
       " 'neg': 0.069,\n",
       " 'neu': 0.714,\n",
       " 'pos': 0.217,\n",
       " 'score': 3.5,\n",
       " 'text': 'For a monster movie this was quite good. Decent special effects and good acting all around. I feel that the aspect of military involvement and the supposed virus scare was never really expanded upon properly, leaving lots of \"why?\" when the credits role. Overall a great overseas horror flick, and I gotta say it\\'s good to see something from that part of te globe where te main antagonist is NOT a woman with long black hair hanging in front of her face :)',\n",
       " 'tokens': ['for',\n",
       "  'a',\n",
       "  'this',\n",
       "  'was',\n",
       "  'quite',\n",
       "  'good',\n",
       "  'decent',\n",
       "  'special',\n",
       "  'effects',\n",
       "  'and',\n",
       "  'good',\n",
       "  'acting',\n",
       "  'all',\n",
       "  'around',\n",
       "  'i',\n",
       "  'feel',\n",
       "  'that',\n",
       "  'the',\n",
       "  'aspect',\n",
       "  'of',\n",
       "  'involvement',\n",
       "  'and',\n",
       "  'the',\n",
       "  'supposed',\n",
       "  'scare',\n",
       "  'was',\n",
       "  'never',\n",
       "  'really',\n",
       "  'expanded',\n",
       "  'upon',\n",
       "  'properly',\n",
       "  'leaving',\n",
       "  'lots',\n",
       "  'of',\n",
       "  '\"why\"',\n",
       "  'when',\n",
       "  'the',\n",
       "  'credits',\n",
       "  'role',\n",
       "  'overall',\n",
       "  'a',\n",
       "  'great',\n",
       "  'overseas',\n",
       "  'flick',\n",
       "  'and',\n",
       "  'i',\n",
       "  'gotta',\n",
       "  'say',\n",
       "  \"it's\",\n",
       "  'good',\n",
       "  'to',\n",
       "  'see',\n",
       "  'something',\n",
       "  'from',\n",
       "  'that',\n",
       "  'part',\n",
       "  'of',\n",
       "  'te',\n",
       "  'globe',\n",
       "  'where',\n",
       "  'te',\n",
       "  'main',\n",
       "  'antagonist',\n",
       "  'is',\n",
       "  'not',\n",
       "  'a',\n",
       "  'woman',\n",
       "  'with',\n",
       "  'long',\n",
       "  'hair',\n",
       "  'hanging',\n",
       "  'in',\n",
       "  'front',\n",
       "  'of',\n",
       "  'her',\n",
       "  'face',\n",
       "  ':']}"
      ]
     },
     "execution_count": 14,
     "metadata": {},
     "output_type": "execute_result"
    }
   ],
   "source": [
    "rt_host_user[0]"
   ]
  },
  {
   "cell_type": "markdown",
   "metadata": {},
   "source": [
    "### For user reviews of _Parasite_ :\n",
    "\n",
    "In order to compare sentiment scores between user reviews of the two movies, we also need to carry out the same steps above, but with our list of reviews of _Parasite_ :"
   ]
  },
  {
   "cell_type": "code",
   "execution_count": 15,
   "metadata": {},
   "outputs": [],
   "source": [
    "for review in rt_parasite_user:\n",
    "    tokens = tokenize(review['text'], lowercase=True, strip_chars=chars_to_remove)\n",
    "    filtered_tokens = [t for t in tokens if t not in words_to_remove]\n",
    "    review['tokens']=filtered_tokens"
   ]
  },
  {
   "cell_type": "code",
   "execution_count": 16,
   "metadata": {},
   "outputs": [
    {
     "data": {
      "text/plain": [
       "{'date': 'May 1, 2021',\n",
       " 'score': 5,\n",
       " 'text': \"Watch it!!!!!!! I don't need to say a word, just trust me.\",\n",
       " 'tokens': ['watch',\n",
       "  'it',\n",
       "  'i',\n",
       "  \"don't\",\n",
       "  'need',\n",
       "  'to',\n",
       "  'say',\n",
       "  'a',\n",
       "  'word',\n",
       "  'just',\n",
       "  'trust',\n",
       "  'me']}"
      ]
     },
     "execution_count": 16,
     "metadata": {},
     "output_type": "execute_result"
    }
   ],
   "source": [
    "rt_parasite_user[0]"
   ]
  },
  {
   "cell_type": "markdown",
   "metadata": {},
   "source": [
    "Doing the same thing we did for reviews of _The Host_ , we are going to go through each review in our list, and find the sentiment scores using the Sentiment Intensity Analyzer through VADER, and then update each review to include this information we got with the sentiment analysis:"
   ]
  },
  {
   "cell_type": "code",
   "execution_count": 17,
   "metadata": {},
   "outputs": [],
   "source": [
    "for review in rt_parasite_user:\n",
    "    text = ' '.join(review['tokens'])\n",
    "    scores = sid.polarity_scores(text)\n",
    "    review.update(scores)"
   ]
  },
  {
   "cell_type": "code",
   "execution_count": 18,
   "metadata": {},
   "outputs": [
    {
     "data": {
      "text/plain": [
       "{'compound': 0.5106,\n",
       " 'date': 'May 1, 2021',\n",
       " 'neg': 0.0,\n",
       " 'neu': 0.732,\n",
       " 'pos': 0.268,\n",
       " 'score': 5,\n",
       " 'text': \"Watch it!!!!!!! I don't need to say a word, just trust me.\",\n",
       " 'tokens': ['watch',\n",
       "  'it',\n",
       "  'i',\n",
       "  \"don't\",\n",
       "  'need',\n",
       "  'to',\n",
       "  'say',\n",
       "  'a',\n",
       "  'word',\n",
       "  'just',\n",
       "  'trust',\n",
       "  'me']}"
      ]
     },
     "execution_count": 18,
     "metadata": {},
     "output_type": "execute_result"
    }
   ],
   "source": [
    "rt_parasite_user[0]"
   ]
  },
  {
   "cell_type": "markdown",
   "metadata": {},
   "source": [
    "Adding a key-value pair into the dict for average token sentiment scores for each review:"
   ]
  },
  {
   "cell_type": "code",
   "execution_count": 19,
   "metadata": {},
   "outputs": [],
   "source": [
    "for review in rt_parasite_user:\n",
    "    avg = sum([sid.lexicon.get(tok.lower(),0) for tok in review['tokens']])/len(rt_parasite_user)\n",
    "    review['average'] = avg"
   ]
  },
  {
   "cell_type": "code",
   "execution_count": 20,
   "metadata": {},
   "outputs": [
    {
     "data": {
      "text/plain": [
       "{'average': 0.0005216602404173282,\n",
       " 'compound': 0.5106,\n",
       " 'date': 'May 1, 2021',\n",
       " 'neg': 0.0,\n",
       " 'neu': 0.732,\n",
       " 'pos': 0.268,\n",
       " 'score': 5,\n",
       " 'text': \"Watch it!!!!!!! I don't need to say a word, just trust me.\",\n",
       " 'tokens': ['watch',\n",
       "  'it',\n",
       "  'i',\n",
       "  \"don't\",\n",
       "  'need',\n",
       "  'to',\n",
       "  'say',\n",
       "  'a',\n",
       "  'word',\n",
       "  'just',\n",
       "  'trust',\n",
       "  'me']}"
      ]
     },
     "execution_count": 20,
     "metadata": {},
     "output_type": "execute_result"
    }
   ],
   "source": [
    "rt_parasite_user[0]"
   ]
  },
  {
   "cell_type": "code",
   "execution_count": 21,
   "metadata": {},
   "outputs": [
    {
     "name": "stdout",
     "output_type": "stream",
     "text": [
      "4855\n",
      "4409\n"
     ]
    }
   ],
   "source": [
    "# Length of each list of reviews:\n",
    "\n",
    "print(len(rt_host_user))\n",
    "print(len(rt_parasite_user))"
   ]
  },
  {
   "cell_type": "markdown",
   "metadata": {},
   "source": [
    "We've carried out the sentiment analysis using VADER, but we're not done quite yet! I'm going to take our results and compare the mean compound sentiment scores for the list of user reviews of each movie, and we can gain a better sense of whether or not the reviews of one movie were more positive than those of the other movie:"
   ]
  },
  {
   "cell_type": "code",
   "execution_count": 22,
   "metadata": {},
   "outputs": [
    {
     "data": {
      "text/plain": [
       "0.4362231101956738"
      ]
     },
     "execution_count": 22,
     "metadata": {},
     "output_type": "execute_result"
    }
   ],
   "source": [
    "sum([review['compound'] for review in rt_host_user])/ len(rt_host_user)"
   ]
  },
  {
   "cell_type": "code",
   "execution_count": 23,
   "metadata": {},
   "outputs": [
    {
     "data": {
      "text/plain": [
       "0.5087036743025616"
      ]
     },
     "execution_count": 23,
     "metadata": {},
     "output_type": "execute_result"
    }
   ],
   "source": [
    "sum([review['compound'] for review in rt_parasite_user])/ len(rt_parasite_user)"
   ]
  },
  {
   "cell_type": "markdown",
   "metadata": {},
   "source": [
    "Displaying the results in a plot:"
   ]
  },
  {
   "cell_type": "code",
   "execution_count": 24,
   "metadata": {},
   "outputs": [],
   "source": [
    "host_cs = [review['compound'] for review in rt_host_user]\n",
    "parasite_cs = [review['compound'] for review in rt_parasite_user]\n"
   ]
  },
  {
   "cell_type": "code",
   "execution_count": 25,
   "metadata": {},
   "outputs": [
    {
     "data": {
      "text/html": [
       "<div>\n",
       "<style scoped>\n",
       "    .dataframe tbody tr th:only-of-type {\n",
       "        vertical-align: middle;\n",
       "    }\n",
       "\n",
       "    .dataframe tbody tr th {\n",
       "        vertical-align: top;\n",
       "    }\n",
       "\n",
       "    .dataframe thead th {\n",
       "        text-align: right;\n",
       "    }\n",
       "</style>\n",
       "<table border=\"1\" class=\"dataframe\">\n",
       "  <thead>\n",
       "    <tr style=\"text-align: right;\">\n",
       "      <th></th>\n",
       "      <th>Polarity Score</th>\n",
       "      <th>label</th>\n",
       "    </tr>\n",
       "  </thead>\n",
       "  <tbody>\n",
       "    <tr>\n",
       "      <th>0</th>\n",
       "      <td>0.9192</td>\n",
       "      <td>The Host</td>\n",
       "    </tr>\n",
       "    <tr>\n",
       "      <th>1</th>\n",
       "      <td>0.2249</td>\n",
       "      <td>The Host</td>\n",
       "    </tr>\n",
       "    <tr>\n",
       "      <th>2</th>\n",
       "      <td>-0.9522</td>\n",
       "      <td>The Host</td>\n",
       "    </tr>\n",
       "    <tr>\n",
       "      <th>3</th>\n",
       "      <td>0.9055</td>\n",
       "      <td>The Host</td>\n",
       "    </tr>\n",
       "    <tr>\n",
       "      <th>4</th>\n",
       "      <td>0.8807</td>\n",
       "      <td>The Host</td>\n",
       "    </tr>\n",
       "  </tbody>\n",
       "</table>\n",
       "</div>"
      ],
      "text/plain": [
       "   Polarity Score     label\n",
       "0          0.9192  The Host\n",
       "1          0.2249  The Host\n",
       "2         -0.9522  The Host\n",
       "3          0.9055  The Host\n",
       "4          0.8807  The Host"
      ]
     },
     "execution_count": 25,
     "metadata": {},
     "output_type": "execute_result"
    }
   ],
   "source": [
    "# an improved way to do the plots - first create a data frame\n",
    "# with a row for each score with a label column\n",
    "polarity_df=pd.concat(\n",
    "        [  pd.DataFrame({'Polarity Score': host_cs, 'label': 'The Host'}),\n",
    "           pd.DataFrame({'Polarity Score': parasite_cs, 'label': 'Parasite'})  ]\n",
    ")\n",
    "\n",
    "polarity_df.head()"
   ]
  },
  {
   "cell_type": "code",
   "execution_count": 26,
   "metadata": {},
   "outputs": [
    {
     "data": {
      "text/plain": [
       "Text(0.5, 0, 'Movie')"
      ]
     },
     "execution_count": 26,
     "metadata": {},
     "output_type": "execute_result"
    },
    {
     "data": {
      "image/png": "[encoded data removed]",
      "text/plain": [
       "<Figure size 432x288 with 1 Axes>"
      ]
     },
     "metadata": {
      "needs_background": "light"
     },
     "output_type": "display_data"
    }
   ],
   "source": [
    "sns.boxplot(data=polarity_df, x='label', y='Polarity Score', notch=True)\n",
    "plt.xlabel('Movie')"
   ]
  },
  {
   "cell_type": "code",
   "execution_count": 27,
   "metadata": {},
   "outputs": [
    {
     "data": {
      "image/png": "[encoded data removed]",
      "text/plain": [
       "<Figure size 440.25x360 with 1 Axes>"
      ]
     },
     "metadata": {
      "needs_background": "light"
     },
     "output_type": "display_data"
    }
   ],
   "source": [
    "g=sns.displot(data=polarity_df, x='Polarity Score', hue='label', kind='kde')\n",
    "g.legend.set_title('Movie')"
   ]
  },
  {
   "cell_type": "markdown",
   "metadata": {},
   "source": [
    "### Observations\n",
    "\n",
    "* Pretty similar but generally, there seems to be more negative reviews of _The Host_ than _Parasite_\n",
    "* VADER isn't the best option to use for carrying out sentiment analysis, mainly because it's specifically attuned to sentiments expressed on social media (short and quick, not too much depth). \n",
    "* It's worth looking at other lexicons for sentiment analysis, especially because VADER only looks at each specific word and completely fails to consider the context. It doesn't take into account the nuances of our emotions when we're writing, so another lexicon can be more helpful for capturing more accurately the valence of emotions used throughout texts.\n",
    "\n",
    "With that, let's move onto Part 4, using the NRC Lexicon~"
   ]
  },
  {
   "cell_type": "markdown",
   "metadata": {},
   "source": [
    "## Analysis pt. 4: Using NRC Lexicon for sentiment analysis\n",
    "\n",
    "### NRC VAD Lexicon\n",
    "\n",
    "* VAD = Valence Arousal Dominance\n",
    "\n",
    "Words play a central role in language and thought. Several influential factor analysis studies have shown that the primary dimensions of word meaning are valence, arousal, and dominance (VAD) (Osgood et al., 1957; Russell, 1980, 2003).\n",
    "\n",
    "* **valence** is the positive--negative or pleasure--displeasure dimension;\n",
    "* **arousal** is the excited--calm or active--passive dimension; and\n",
    "* **dominance** is the powerful--weak or 'have full control'--'have no control' dimension.\n",
    "\n",
    "The NRC Valence, Arousal, and Dominance (VAD) Lexicon includes a list of more than 20,000 English words and their valence, arousal, and dominance scores. For a given word and a dimension (V/A/D), the scores range from 0 (lowest V/A/D) to 1 (highest V/A/D). The lexicon with its fine-grained real-valued scores was created by manual annotation using Best--Worst Scaling. The lexicon is markedly larger than any of the existing VAD lexicons. We also show that the ratings obtained are substantially more reliable than those in existing lexicons. (See associated paper for details.)"
   ]
  },
  {
   "cell_type": "code",
   "execution_count": 28,
   "metadata": {},
   "outputs": [],
   "source": [
    "NRC_VAD_lexicon = open('../data/lexicons/NRC-VAD-Lexicon.txt').readlines()"
   ]
  },
  {
   "cell_type": "markdown",
   "metadata": {},
   "source": [
    "Looking at the length of the lexicon (how many words are in it), and then displaying a sample slice of the words, showing the VAD scores:"
   ]
  },
  {
   "cell_type": "code",
   "execution_count": 29,
   "metadata": {
    "scrolled": true
   },
   "outputs": [
    {
     "data": {
      "text/plain": [
       "20008"
      ]
     },
     "execution_count": 29,
     "metadata": {},
     "output_type": "execute_result"
    }
   ],
   "source": [
    "len(NRC_VAD_lexicon)"
   ]
  },
  {
   "cell_type": "code",
   "execution_count": 30,
   "metadata": {},
   "outputs": [
    {
     "name": "stdout",
     "output_type": "stream",
     "text": [
      "Word\tValence\tArousal\tDominance\n",
      "aaaaaaah\t0.479\t0.606\t0.291\n",
      "aaaah\t0.520\t0.636\t0.282\n",
      "aardvark\t0.427\t0.490\t0.437\n",
      "aback\t0.385\t0.407\t0.288\n",
      "abacus\t0.510\t0.276\t0.485\n",
      "abalone\t0.500\t0.480\t0.412\n",
      "abandon\t0.052\t0.519\t0.245\n",
      "abandoned\t0.046\t0.481\t0.130\n",
      "abandonment\t0.128\t0.430\t0.202\n",
      "abashed\t0.177\t0.644\t0.307\n",
      "abate\t0.255\t0.696\t0.604\n",
      "abatement\t0.388\t0.338\t0.336\n",
      "abba\t0.562\t0.500\t0.480\n",
      "abbey\t0.580\t0.367\t0.444\n",
      "abbot\t0.427\t0.321\t0.483\n",
      "abbreviate\t0.531\t0.375\t0.330\n",
      "abbreviation\t0.469\t0.306\t0.345\n",
      "abdomen\t0.469\t0.462\t0.471\n",
      "abdominal\t0.490\t0.456\t0.445\n",
      "abduct\t0.173\t0.720\t0.615\n",
      "abduction\t0.062\t0.990\t0.673\n",
      "aberrant\t0.146\t0.765\t0.431\n",
      "aberration\t0.125\t0.816\t0.417\n",
      "abeyance\t0.330\t0.510\t0.292\n"
     ]
    }
   ],
   "source": [
    "for line in NRC_VAD_lexicon[:25]:\n",
    "    print(line.strip())"
   ]
  },
  {
   "cell_type": "markdown",
   "metadata": {},
   "source": [
    "Creating a dictionary from the text file to make it easier to work with: "
   ]
  },
  {
   "cell_type": "code",
   "execution_count": 31,
   "metadata": {},
   "outputs": [],
   "source": [
    "NRC_VAD = {}\n",
    "\n",
    "# first line in list is the header so slice from second item in list\n",
    "for line in NRC_VAD_lexicon[1:]:  \n",
    "    word, V,A,D = line.strip().split('\\t')\n",
    "    NRC_VAD[word] = {'V': float(V), \n",
    "                     'A': float(A),\n",
    "                     'D': float(D)}\n",
    "    "
   ]
  },
  {
   "cell_type": "code",
   "execution_count": 32,
   "metadata": {},
   "outputs": [
    {
     "data": {
      "text/plain": [
       "{'A': 0.855, 'D': 0.539, 'V': 0.784}"
      ]
     },
     "execution_count": 32,
     "metadata": {},
     "output_type": "execute_result"
    }
   ],
   "source": [
    "# Example:\n",
    "NRC_VAD['surprised']"
   ]
  },
  {
   "cell_type": "code",
   "execution_count": 33,
   "metadata": {},
   "outputs": [
    {
     "data": {
      "text/plain": [
       "{'A': 0.918, 'D': 0.616, 'V': 0.112}"
      ]
     },
     "execution_count": 33,
     "metadata": {},
     "output_type": "execute_result"
    }
   ],
   "source": [
    "NRC_VAD['violent']"
   ]
  },
  {
   "cell_type": "markdown",
   "metadata": {},
   "source": [
    "Writing a new function to process each review in my two lists to add the VAD scores to each one:"
   ]
  },
  {
   "cell_type": "code",
   "execution_count": 34,
   "metadata": {},
   "outputs": [],
   "source": [
    "def process_review(review):\n",
    "    \n",
    "    tokens = tokenize(review['text'], lowercase=True, strip_chars=chars_to_remove)\n",
    "    filtered_tokens = [t for t in tokens if t not in words_to_remove]\n",
    "    review['tokens']=filtered_tokens\n",
    "    \n",
    "    \n",
    "    review['Valence']=0\n",
    "    review['Dominance']=0\n",
    "    review['Arousal']=0\n",
    "    \n",
    "    review['VAD_toks']=[]\n",
    "    \n",
    "    for token in filtered_tokens:\n",
    "        if token in NRC_VAD.keys():\n",
    "            scores = NRC_VAD[token]\n",
    "            scores['tok']=token\n",
    "            \n",
    "            review['Valence']+=scores['V']\n",
    "            review['Arousal']+=scores['A']\n",
    "            review['Dominance']+=scores['D']\n",
    "            \n",
    "            review['VAD_toks'].append(scores)\n",
    "            \n",
    "    for dimension in ('Valence', 'Arousal', 'Dominance'):\n",
    "        if len(review['VAD_toks'])>0:\n",
    "            review[dimension] /= len(review['VAD_toks'])"
   ]
  },
  {
   "cell_type": "markdown",
   "metadata": {},
   "source": [
    "### NRC VAD lexicon for user reviews of _The Host_ :\n",
    "\n",
    "Processing each review using the NRC VAD for Rotten Tomatoes user reviews on _The Host_ :"
   ]
  },
  {
   "cell_type": "code",
   "execution_count": 35,
   "metadata": {},
   "outputs": [],
   "source": [
    "for review in rt_host_user:\n",
    "    process_review(review)"
   ]
  },
  {
   "cell_type": "code",
   "execution_count": 36,
   "metadata": {},
   "outputs": [
    {
     "data": {
      "text/plain": [
       "{'Arousal': 0.5346666666666666,\n",
       " 'Dominance': 0.5421666666666667,\n",
       " 'VAD_toks': [{'A': 0.827, 'D': 0.782, 'V': 0.93, 'tok': 'thrilling'},\n",
       "  {'A': 0.412, 'D': 0.545, 'V': 0.729, 'tok': 'expected'},\n",
       "  {'A': 0.24, 'D': 0.554, 'V': 0.67, 'tok': 'be'},\n",
       "  {'A': 0.408, 'D': 0.735, 'V': 0.698, 'tok': 'will'},\n",
       "  {'A': 0.696, 'D': 0.264, 'V': 0.042, 'tok': 'frustrating'},\n",
       "  {'A': 0.625, 'D': 0.373, 'V': 0.125, 'tok': 'bad'}],\n",
       " 'Valence': 0.5323333333333333,\n",
       " 'average': -0.00012358393408856846,\n",
       " 'compound': -0.6209,\n",
       " 'date': 'Dec 15, 2009',\n",
       " 'neg': 0.234,\n",
       " 'neu': 0.681,\n",
       " 'pos': 0.084,\n",
       " 'score': 2.5,\n",
       " 'text': \"It wasn't really as thrilling as I expected it to be, and some of the character's stupidity/lack of will was frustrating. That said, it's not a bad movie. Definitely watchable.\",\n",
       " 'tokens': ['it',\n",
       "  \"wasn't\",\n",
       "  'really',\n",
       "  'as',\n",
       "  'thrilling',\n",
       "  'as',\n",
       "  'i',\n",
       "  'expected',\n",
       "  'it',\n",
       "  'to',\n",
       "  'be',\n",
       "  'and',\n",
       "  'some',\n",
       "  'of',\n",
       "  'the',\n",
       "  \"character's\",\n",
       "  'stupiditylack',\n",
       "  'of',\n",
       "  'will',\n",
       "  'was',\n",
       "  'frustrating',\n",
       "  'that',\n",
       "  'said',\n",
       "  \"it's\",\n",
       "  'not',\n",
       "  'a',\n",
       "  'bad',\n",
       "  'definitely',\n",
       "  'watchable']}"
      ]
     },
     "execution_count": 36,
     "metadata": {},
     "output_type": "execute_result"
    }
   ],
   "source": [
    "rt_host_user[10]"
   ]
  },
  {
   "cell_type": "markdown",
   "metadata": {},
   "source": [
    "### NRC VAD lexicon for user reviews of _Parasite_ :\n",
    "\n",
    "Processing each review using the NRC VAD for Rotten Tomatoes user reviews on _Parasite_"
   ]
  },
  {
   "cell_type": "code",
   "execution_count": 37,
   "metadata": {},
   "outputs": [],
   "source": [
    "for review in rt_parasite_user:\n",
    "    process_review(review)"
   ]
  },
  {
   "cell_type": "code",
   "execution_count": 38,
   "metadata": {},
   "outputs": [
    {
     "data": {
      "text/plain": [
       "{'Arousal': 0.4064,\n",
       " 'Dominance': 0.46559999999999996,\n",
       " 'VAD_toks': [{'A': 0.346, 'D': 0.423, 'V': 0.531, 'tok': 'watch'},\n",
       "  {'A': 0.574, 'D': 0.2, 'V': 0.51, 'tok': 'need'},\n",
       "  {'A': 0.31, 'D': 0.482, 'V': 0.571, 'tok': 'say'},\n",
       "  {'A': 0.255, 'D': 0.482, 'V': 0.552, 'tok': 'word'},\n",
       "  {'A': 0.547, 'D': 0.741, 'V': 0.888, 'tok': 'trust'}],\n",
       " 'Valence': 0.6103999999999999,\n",
       " 'average': 0.0005216602404173282,\n",
       " 'compound': 0.5106,\n",
       " 'date': 'May 1, 2021',\n",
       " 'neg': 0.0,\n",
       " 'neu': 0.732,\n",
       " 'pos': 0.268,\n",
       " 'score': 5,\n",
       " 'text': \"Watch it!!!!!!! I don't need to say a word, just trust me.\",\n",
       " 'tokens': ['watch',\n",
       "  'it',\n",
       "  'i',\n",
       "  \"don't\",\n",
       "  'need',\n",
       "  'to',\n",
       "  'say',\n",
       "  'a',\n",
       "  'word',\n",
       "  'just',\n",
       "  'trust',\n",
       "  'me']}"
      ]
     },
     "execution_count": 38,
     "metadata": {},
     "output_type": "execute_result"
    }
   ],
   "source": [
    "rt_parasite_user[0]"
   ]
  },
  {
   "cell_type": "markdown",
   "metadata": {},
   "source": [
    "From this, I can gauge the valence of emotions throughout each review. However, what I really want to get at (and what I'm super curious to find out), is what kinds of emotion categories are prevalent for reviews of Parasite vs The Host. For this, let's try using the NRC Emotion Lexicon "
   ]
  },
  {
   "cell_type": "markdown",
   "metadata": {},
   "source": [
    "## Analysis pt. 5: Using NRC Emotion Lexicon for sentiment analysis\n",
    "\n",
    "The NRC Emotion Lexicon (EmoLex) is another tool that can be much more helpful if we want to more accurately capture the valence of emotions used throughout texts. So for the third and last part of my analysis, I used the [NRC EmoLex](https://saifmohammad.com/WebPages/NRC-Emotion-Lexicon.htm) — a list of English words and their associations with 8 basic emotions (anger, fear, disgust, sadness, anticipation, trust, surprise and joy) and 2 sentiments (negative and positive). "
   ]
  },
  {
   "cell_type": "code",
   "execution_count": 39,
   "metadata": {},
   "outputs": [],
   "source": [
    "NRC_emolex = json.load(open('../data/lexicons/NRC_emotion_lexicon.json'))\n"
   ]
  },
  {
   "cell_type": "code",
   "execution_count": 40,
   "metadata": {},
   "outputs": [
    {
     "data": {
      "text/plain": [
       "dict_keys(['trust', 'fear', 'negative', 'sadness', 'anger', 'surprise', 'positive', 'disgust', 'joy', 'anticipation'])"
      ]
     },
     "execution_count": 40,
     "metadata": {},
     "output_type": "execute_result"
    }
   ],
   "source": [
    "NRC_emolex.keys()"
   ]
  },
  {
   "cell_type": "markdown",
   "metadata": {},
   "source": [
    "Quickly looking through some examples of words that fit under a few of the emotion categories in the lexicon:"
   ]
  },
  {
   "cell_type": "code",
   "execution_count": 41,
   "metadata": {
    "scrolled": true
   },
   "outputs": [
    {
     "data": {
      "text/plain": [
       "['abandon',\n",
       " 'abandoned',\n",
       " 'abandonment',\n",
       " 'abduction',\n",
       " 'abhor',\n",
       " 'abhorrent',\n",
       " 'abominable',\n",
       " 'abomination',\n",
       " 'abortion',\n",
       " 'absence',\n",
       " 'abuse',\n",
       " 'abyss',\n",
       " 'accident',\n",
       " 'accidental',\n",
       " 'accursed',\n",
       " 'accused',\n",
       " 'accuser',\n",
       " 'accusing',\n",
       " 'acrobat',\n",
       " 'adder']"
      ]
     },
     "execution_count": 41,
     "metadata": {},
     "output_type": "execute_result"
    }
   ],
   "source": [
    "NRC_emolex['fear'][:20]"
   ]
  },
  {
   "cell_type": "code",
   "execution_count": 42,
   "metadata": {},
   "outputs": [
    {
     "data": {
      "text/plain": [
       "['aberration',\n",
       " 'abhor',\n",
       " 'abhorrent',\n",
       " 'abject',\n",
       " 'abnormal',\n",
       " 'abominable',\n",
       " 'abomination',\n",
       " 'abortion',\n",
       " 'abundance',\n",
       " 'abuse',\n",
       " 'accusation',\n",
       " 'actionable',\n",
       " 'adder',\n",
       " 'adultery',\n",
       " 'adverse',\n",
       " 'affliction',\n",
       " 'affront',\n",
       " 'aftermath',\n",
       " 'aggravation',\n",
       " 'aghast']"
      ]
     },
     "execution_count": 42,
     "metadata": {},
     "output_type": "execute_result"
    }
   ],
   "source": [
    "NRC_emolex['disgust'][:20]"
   ]
  },
  {
   "cell_type": "code",
   "execution_count": 43,
   "metadata": {},
   "outputs": [
    {
     "data": {
      "text/plain": [
       "['abba',\n",
       " 'ability',\n",
       " 'abovementioned',\n",
       " 'absolute',\n",
       " 'absolution',\n",
       " 'absorbed',\n",
       " 'abundance',\n",
       " 'abundant',\n",
       " 'academic',\n",
       " 'academy',\n",
       " 'acceptable',\n",
       " 'acceptance',\n",
       " 'accessible',\n",
       " 'accolade',\n",
       " 'accommodation',\n",
       " 'accompaniment',\n",
       " 'accomplish',\n",
       " 'accomplished',\n",
       " 'accomplishment',\n",
       " 'accord']"
      ]
     },
     "execution_count": 43,
     "metadata": {},
     "output_type": "execute_result"
    }
   ],
   "source": [
    "NRC_emolex['positive'][:20]"
   ]
  },
  {
   "cell_type": "markdown",
   "metadata": {},
   "source": [
    "Writing a function to score each review by going through the tokens:"
   ]
  },
  {
   "cell_type": "code",
   "execution_count": 44,
   "metadata": {},
   "outputs": [],
   "source": [
    "def score_emotion(review, emolex=NRC_emolex):\n",
    "\n",
    "    if not review.get('tokens'):\n",
    "        tokens = tokenize(review['text'], lowercase=True, strip_chars=chars_to_remove)\n",
    "        filtered_tokens = [t for t in tokens if t not in words_to_remove]\n",
    "        review['tokens']=filtered_tokens\n",
    "        \n",
    "    for emotion, words in emolex.items():\n",
    "        review[emotion] = [t for t in review['tokens'] if t in words]"
   ]
  },
  {
   "cell_type": "markdown",
   "metadata": {},
   "source": [
    "Scoring RT user reviews of _The Host_ with the NRC emotion lexicon:"
   ]
  },
  {
   "cell_type": "code",
   "execution_count": 45,
   "metadata": {},
   "outputs": [],
   "source": [
    "# score all reviews with NRC emotion lexicon\n",
    "for r in rt_host_user:\n",
    "    score_emotion(r)"
   ]
  },
  {
   "cell_type": "code",
   "execution_count": 46,
   "metadata": {},
   "outputs": [
    {
     "data": {
      "text/plain": [
       "[{'Arousal': 0.4445,\n",
       "  'Dominance': 0.267,\n",
       "  'VAD_toks': [{'A': 0.245, 'D': 0.367, 'V': 0.646, 'tok': 'piece'},\n",
       "   {'A': 0.644, 'D': 0.167, 'V': 0.083, 'tok': 'crap'}],\n",
       "  'Valence': 0.3645,\n",
       "  'anger': [],\n",
       "  'anticipation': [],\n",
       "  'average': -0.000329557157569516,\n",
       "  'compound': -0.3818,\n",
       "  'date': 'Sep 01, 2009',\n",
       "  'disgust': ['crap'],\n",
       "  'fear': [],\n",
       "  'joy': [],\n",
       "  'neg': 0.464,\n",
       "  'negative': ['crap'],\n",
       "  'neu': 0.536,\n",
       "  'pos': 0.0,\n",
       "  'positive': [],\n",
       "  'sadness': [],\n",
       "  'score': 1.5,\n",
       "  'surprise': [],\n",
       "  'text': 'What a piece of crap.',\n",
       "  'tokens': ['what', 'a', 'piece', 'of', 'crap'],\n",
       "  'trust': []},\n",
       " {'Arousal': 0.45,\n",
       "  'Dominance': 0.4910000000000001,\n",
       "  'VAD_toks': [{'A': 0.314, 'D': 0.679, 'V': 0.667, 'tok': 'feature'},\n",
       "   {'A': 0.24, 'D': 0.115, 'V': 0.265, 'tok': 'less'},\n",
       "   {'A': 0.847, 'D': 0.386, 'V': 0.122, 'tok': 'scares'},\n",
       "   {'A': 0.184, 'D': 0.643, 'V': 0.857, 'tok': 'nature'},\n",
       "   {'A': 0.383, 'D': 0.643, 'V': 0.968, 'tok': 'family'},\n",
       "   {'A': 0.806, 'D': 0.721, 'V': 0.531, 'tok': 'eccentric'},\n",
       "   {'A': 0.658, 'D': 0.66, 'V': 0.833, 'tok': 'entertaining'},\n",
       "   {'A': 0.373, 'D': 0.307, 'V': 0.427, 'tok': 'let'},\n",
       "   {'A': 0.33, 'D': 0.264, 'V': 0.208, 'tok': 'down'},\n",
       "   {'A': 0.365, 'D': 0.492, 'V': 0.344, 'tok': 'ending'}],\n",
       "  'Valence': 0.5222,\n",
       "  'anger': [],\n",
       "  'anticipation': ['entertaining'],\n",
       "  'average': 0.00010298661174047374,\n",
       "  'compound': 0.197,\n",
       "  'date': 'Aug 30, 2009',\n",
       "  'disgust': [],\n",
       "  'fear': [],\n",
       "  'joy': ['entertaining'],\n",
       "  'neg': 0.061,\n",
       "  'negative': [],\n",
       "  'neu': 0.857,\n",
       "  'pos': 0.083,\n",
       "  'positive': ['feature', 'entertaining'],\n",
       "  'sadness': [],\n",
       "  'score': 4,\n",
       "  'surprise': [],\n",
       "  'text': 'This Korean creature feature is less about scares and more about the nature of family. Although it is peppered with eccentric characters and mostly entertaining throughout, I was somewhat let down by the ending.',\n",
       "  'tokens': ['this',\n",
       "   'korean',\n",
       "   'feature',\n",
       "   'is',\n",
       "   'less',\n",
       "   'about',\n",
       "   'scares',\n",
       "   'and',\n",
       "   'more',\n",
       "   'about',\n",
       "   'the',\n",
       "   'nature',\n",
       "   'of',\n",
       "   'family',\n",
       "   'although',\n",
       "   'it',\n",
       "   'is',\n",
       "   'peppered',\n",
       "   'with',\n",
       "   'eccentric',\n",
       "   'characters',\n",
       "   'and',\n",
       "   'mostly',\n",
       "   'entertaining',\n",
       "   'throughout',\n",
       "   'i',\n",
       "   'was',\n",
       "   'somewhat',\n",
       "   'let',\n",
       "   'down',\n",
       "   'by',\n",
       "   'the',\n",
       "   'ending'],\n",
       "  'trust': []},\n",
       " {'Arousal': 0.6060000000000001,\n",
       "  'Dominance': 0.53925,\n",
       "  'VAD_toks': [{'A': 0.633, 'D': 0.462, 'V': 0.89, 'tok': 'humor'},\n",
       "   {'A': 0.804, 'D': 0.44, 'V': 0.104, 'tok': 'madness'},\n",
       "   {'A': 0.4, 'D': 0.385, 'V': 0.385, 'tok': 'ergo'},\n",
       "   {'A': 0.587, 'D': 0.87, 'V': 0.97, 'tok': 'excellent'}],\n",
       "  'Valence': 0.58725,\n",
       "  'anger': ['madness'],\n",
       "  'anticipation': [],\n",
       "  'average': 0.00039134912461380027,\n",
       "  'compound': 0.4404,\n",
       "  'date': 'Aug 30, 2009',\n",
       "  'disgust': [],\n",
       "  'fear': ['madness'],\n",
       "  'joy': ['excellent'],\n",
       "  'neg': 0.212,\n",
       "  'negative': ['madness'],\n",
       "  'neu': 0.365,\n",
       "  'pos': 0.423,\n",
       "  'positive': ['excellent'],\n",
       "  'sadness': [],\n",
       "  'score': 5,\n",
       "  'surprise': [],\n",
       "  'text': 'humor, horror, USA bashing and asian madness, ergo, excellent movie',\n",
       "  'tokens': ['humor',\n",
       "   'usa',\n",
       "   'bashing',\n",
       "   'and',\n",
       "   'asian',\n",
       "   'madness',\n",
       "   'ergo',\n",
       "   'excellent'],\n",
       "  'trust': ['excellent']}]"
      ]
     },
     "execution_count": 46,
     "metadata": {},
     "output_type": "execute_result"
    }
   ],
   "source": [
    "# slicing to get a look at a few results:\n",
    "rt_host_user[100:103]"
   ]
  },
  {
   "cell_type": "markdown",
   "metadata": {},
   "source": [
    "Now we have scored each review with VADER, NRC VAD and NRC emotion lexicons. What I will do now to quantify these results is to create frequency lists of words that are scored by each. \n",
    "\n",
    "Here I can build frequency lists of all the words that are judged to belong to the different emotion lexicon categories, e.g. trust, fear, surprise, etc."
   ]
  },
  {
   "cell_type": "code",
   "execution_count": 47,
   "metadata": {},
   "outputs": [],
   "source": [
    "# Set up a dictionary of Counters\n",
    "# key = emotion category value = Counter\n",
    "emotion_dist_host = {}\n",
    "for emo in NRC_emolex:\n",
    "    emotion_dist_host[emo] = Counter()"
   ]
  },
  {
   "cell_type": "code",
   "execution_count": 48,
   "metadata": {},
   "outputs": [],
   "source": [
    "# Loop over each review and update the counters:\n",
    "\n",
    "for review in rt_host_user:\n",
    "    for emo in NRC_emolex:\n",
    "        emotion_dist_host[emo].update(review[emo])"
   ]
  },
  {
   "cell_type": "markdown",
   "metadata": {},
   "source": [
    "The top 20 words in the **_anger_** category across the user reviews of _The Host_"
   ]
  },
  {
   "cell_type": "code",
   "execution_count": 49,
   "metadata": {},
   "outputs": [
    {
     "data": {
      "text/plain": [
       "[('bad', 311),\n",
       " ('terrible', 75),\n",
       " ('disappointed', 64),\n",
       " ('horrible', 61),\n",
       " ('shit', 60),\n",
       " ('crazy', 58),\n",
       " ('ridiculous', 54),\n",
       " ('hell', 51),\n",
       " ('attack', 49),\n",
       " ('intense', 44),\n",
       " ('hate', 40),\n",
       " ('damn', 40),\n",
       " ('awful', 34),\n",
       " ('gore', 34),\n",
       " ('scare', 33),\n",
       " ('annoying', 31),\n",
       " ('feeling', 29),\n",
       " ('tension', 28),\n",
       " ('rating', 28),\n",
       " ('fear', 26)]"
      ]
     },
     "execution_count": 49,
     "metadata": {},
     "output_type": "execute_result"
    }
   ],
   "source": [
    "emotion_dist_host['anger'].most_common(20)"
   ]
  },
  {
   "cell_type": "markdown",
   "metadata": {},
   "source": [
    "**_Positive_** words:"
   ]
  },
  {
   "cell_type": "code",
   "execution_count": 50,
   "metadata": {},
   "outputs": [
    {
     "data": {
      "text/plain": [
       "[('good', 1277),\n",
       " ('pretty', 429),\n",
       " ('fun', 330),\n",
       " ('interesting', 259),\n",
       " ('entertaining', 251),\n",
       " ('cool', 241),\n",
       " ('special', 235),\n",
       " ('action', 232),\n",
       " ('worth', 205),\n",
       " ('love', 203),\n",
       " ('kind', 163),\n",
       " ('real', 123),\n",
       " ('excellent', 122),\n",
       " ('sense', 118),\n",
       " ('decent', 115),\n",
       " ('brilliant', 101),\n",
       " ('recommend', 97),\n",
       " ('expect', 96),\n",
       " ('found', 92),\n",
       " ('hilarious', 91)]"
      ]
     },
     "execution_count": 50,
     "metadata": {},
     "output_type": "execute_result"
    }
   ],
   "source": [
    "emotion_dist_host['positive'].most_common(20)"
   ]
  },
  {
   "cell_type": "markdown",
   "metadata": {},
   "source": [
    "**_Negative_** words:"
   ]
  },
  {
   "cell_type": "code",
   "execution_count": 51,
   "metadata": {},
   "outputs": [
    {
     "data": {
      "text/plain": [
       "[('bad', 311),\n",
       " ('weird', 101),\n",
       " ('terrible', 75),\n",
       " ('boring', 72),\n",
       " ('lost', 71),\n",
       " ('stupid', 70),\n",
       " ('disappointed', 64),\n",
       " ('horrible', 61),\n",
       " ('shit', 60),\n",
       " ('silly', 58),\n",
       " ('crazy', 58),\n",
       " ('crap', 55),\n",
       " ('ridiculous', 54),\n",
       " ('hell', 51),\n",
       " ('attack', 49),\n",
       " ('bizarre', 46),\n",
       " ('ass', 46),\n",
       " ('intense', 44),\n",
       " ('problem', 42),\n",
       " ('hate', 40)]"
      ]
     },
     "execution_count": 51,
     "metadata": {},
     "output_type": "execute_result"
    }
   ],
   "source": [
    "emotion_dist_host['negative'].most_common(20)"
   ]
  },
  {
   "cell_type": "markdown",
   "metadata": {},
   "source": [
    "Now, same exact methods with the user reviews of _Parasite_ :"
   ]
  },
  {
   "cell_type": "code",
   "execution_count": 52,
   "metadata": {},
   "outputs": [],
   "source": [
    "# score all reviews with NRC emotion lexicon\n",
    "for r in rt_parasite_user:\n",
    "    score_emotion(r)"
   ]
  },
  {
   "cell_type": "code",
   "execution_count": 53,
   "metadata": {},
   "outputs": [
    {
     "data": {
      "text/plain": [
       "[{'Arousal': 0.499,\n",
       "  'Dominance': 0.508,\n",
       "  'VAD_toks': [{'A': 0.63, 'D': 0.482, 'V': 0.312, 'tok': 'overrated'},\n",
       "   {'A': 0.368, 'D': 0.534, 'V': 0.938, 'tok': 'good'}],\n",
       "  'Valence': 0.625,\n",
       "  'anger': [],\n",
       "  'anticipation': ['good'],\n",
       "  'average': 0.0004309367203447494,\n",
       "  'compound': 0.5927,\n",
       "  'date': 'Apr 23, 2021',\n",
       "  'disgust': [],\n",
       "  'fear': [],\n",
       "  'joy': ['good'],\n",
       "  'neg': 0.0,\n",
       "  'negative': [],\n",
       "  'neu': 0.565,\n",
       "  'pos': 0.435,\n",
       "  'positive': ['good'],\n",
       "  'sadness': [],\n",
       "  'score': 3.5,\n",
       "  'surprise': ['good'],\n",
       "  'text': \"Very overrated, but it's still good.\",\n",
       "  'tokens': ['very', 'overrated', 'but', \"it's\", 'still', 'good'],\n",
       "  'trust': ['good']},\n",
       " {'Arousal': 0.5477500000000001,\n",
       "  'Dominance': 0.7077499999999999,\n",
       "  'VAD_toks': [{'A': 0.673, 'D': 0.858, 'V': 0.888, 'tok': 'stunning'},\n",
       "   {'A': 0.275, 'D': 0.42, 'V': 0.48, 'tok': 'way'},\n",
       "   {'A': 0.837, 'D': 0.849, 'V': 0.906, 'tok': 'amazing'},\n",
       "   {'A': 0.406, 'D': 0.704, 'V': 0.653, 'tok': 'story'}],\n",
       "  'Valence': 0.73175,\n",
       "  'anger': [],\n",
       "  'anticipation': [],\n",
       "  'average': 0.001610342481288274,\n",
       "  'compound': 0.8858,\n",
       "  'date': 'Apr 23, 2021',\n",
       "  'disgust': [],\n",
       "  'fear': [],\n",
       "  'joy': [],\n",
       "  'neg': 0.0,\n",
       "  'negative': [],\n",
       "  'neu': 0.49,\n",
       "  'pos': 0.51,\n",
       "  'positive': [],\n",
       "  'sadness': [],\n",
       "  'score': 5,\n",
       "  'surprise': [],\n",
       "  'text': 'Absolutely stunning in every way. Filmed beautifully, amazing story, twists and turns. A+',\n",
       "  'tokens': ['absolutely',\n",
       "   'stunning',\n",
       "   'in',\n",
       "   'every',\n",
       "   'way',\n",
       "   'filmed',\n",
       "   'beautifully',\n",
       "   'amazing',\n",
       "   'story',\n",
       "   'twists',\n",
       "   'and',\n",
       "   'turns',\n",
       "   'a+'],\n",
       "  'trust': []},\n",
       " {'Arousal': 0.4392,\n",
       "  'Dominance': 0.6182666666666666,\n",
       "  'VAD_toks': [{'A': 0.771, 'D': 0.765, 'V': 0.939, 'tok': 'wonder'},\n",
       "   {'A': 0.353, 'D': 0.543, 'V': 0.541, 'tok': 'long'},\n",
       "   {'A': 0.33, 'D': 0.78, 'V': 0.806, 'tok': 'writer'},\n",
       "   {'A': 0.269, 'D': 0.558, 'V': 0.529, 'tok': 'come'},\n",
       "   {'A': 0.406, 'D': 0.704, 'V': 0.653, 'tok': 'story'},\n",
       "   {'A': 0.353, 'D': 0.446, 'V': 0.719, 'tok': 'like'},\n",
       "   {'A': 0.422, 'D': 0.741, 'V': 0.885, 'tok': 'appreciate'},\n",
       "   {'A': 0.51, 'D': 0.713, 'V': 0.592, 'tok': 'technician'},\n",
       "   {'A': 0.561, 'D': 0.629, 'V': 0.653, 'tok': 'actor'},\n",
       "   {'A': 0.278, 'D': 0.36, 'V': 0.663, 'tok': 'part'},\n",
       "   {'A': 0.462, 'D': 0.853, 'V': 0.725, 'tok': 'project'},\n",
       "   {'A': 0.333, 'D': 0.585, 'V': 0.795, 'tok': 'giving'},\n",
       "   {'A': 0.61, 'D': 0.613, 'V': 0.698, 'tok': 'audience'},\n",
       "   {'A': 0.491, 'D': 0.566, 'V': 0.823, 'tok': 'film'},\n",
       "   {'A': 0.439, 'D': 0.418, 'V': 0.439, 'tok': 'unlike'}],\n",
       "  'Valence': 0.6973333333333334,\n",
       "  'anger': [],\n",
       "  'anticipation': ['long', 'audience'],\n",
       "  'average': 0.0010433204808346563,\n",
       "  'compound': 0.792,\n",
       "  'date': 'Apr 23, 2021',\n",
       "  'disgust': [],\n",
       "  'fear': [],\n",
       "  'joy': [],\n",
       "  'neg': 0.0,\n",
       "  'negative': [],\n",
       "  'neu': 0.809,\n",
       "  'pos': 0.191,\n",
       "  'positive': ['writer', 'giving'],\n",
       "  'sadness': [],\n",
       "  'score': 3.5,\n",
       "  'surprise': [],\n",
       "  'text': \"I wonder how long it took for the writer to come up with a story like this. I appreciate each and every technician and actor who's a part of this project, for giving the audience a film unlike any others out there.\",\n",
       "  'tokens': ['i',\n",
       "   'wonder',\n",
       "   'how',\n",
       "   'long',\n",
       "   'it',\n",
       "   'took',\n",
       "   'for',\n",
       "   'the',\n",
       "   'writer',\n",
       "   'to',\n",
       "   'come',\n",
       "   'up',\n",
       "   'with',\n",
       "   'a',\n",
       "   'story',\n",
       "   'like',\n",
       "   'this',\n",
       "   'i',\n",
       "   'appreciate',\n",
       "   'each',\n",
       "   'and',\n",
       "   'every',\n",
       "   'technician',\n",
       "   'and',\n",
       "   'actor',\n",
       "   \"who's\",\n",
       "   'a',\n",
       "   'part',\n",
       "   'of',\n",
       "   'this',\n",
       "   'project',\n",
       "   'for',\n",
       "   'giving',\n",
       "   'the',\n",
       "   'audience',\n",
       "   'a',\n",
       "   'film',\n",
       "   'unlike',\n",
       "   'any',\n",
       "   'others',\n",
       "   'out',\n",
       "   'there'],\n",
       "  'trust': []}]"
      ]
     },
     "execution_count": 53,
     "metadata": {},
     "output_type": "execute_result"
    }
   ],
   "source": [
    "rt_parasite_user[10:13]"
   ]
  },
  {
   "cell_type": "markdown",
   "metadata": {},
   "source": [
    "Again, same as above, I'm gonna build frequency lists of all the words in the emotion lexicon categories, e.g. trust, fear, surprise, etc."
   ]
  },
  {
   "cell_type": "code",
   "execution_count": 54,
   "metadata": {},
   "outputs": [],
   "source": [
    "# Set up a dictionary of Counters\n",
    "# key = emotion category value = Counter\n",
    "emotion_dist_parasite = {}\n",
    "for emo in NRC_emolex:\n",
    "    emotion_dist_parasite[emo] = Counter()"
   ]
  },
  {
   "cell_type": "code",
   "execution_count": 55,
   "metadata": {},
   "outputs": [],
   "source": [
    "# Loop over each review and update the counters:\n",
    "\n",
    "for review in rt_parasite_user:\n",
    "    for emo in NRC_emolex:\n",
    "        emotion_dist_parasite[emo].update(review[emo])"
   ]
  },
  {
   "cell_type": "markdown",
   "metadata": {},
   "source": [
    "The top 20 words in the **_anger_** category across the user reviews of _Parasite_ :"
   ]
  },
  {
   "cell_type": "code",
   "execution_count": 56,
   "metadata": {},
   "outputs": [
    {
     "data": {
      "text/plain": [
       "[('bad', 117),\n",
       " ('provoking', 60),\n",
       " ('feeling', 56),\n",
       " ('powerful', 56),\n",
       " ('struggle', 55),\n",
       " ('intense', 55),\n",
       " ('tension', 54),\n",
       " ('crazy', 54),\n",
       " ('rating', 38),\n",
       " ('disappointed', 35),\n",
       " ('shock', 31),\n",
       " ('ridiculous', 30),\n",
       " ('awful', 29),\n",
       " ('horrible', 27),\n",
       " ('smell', 26),\n",
       " ('terrible', 26),\n",
       " ('disparity', 24),\n",
       " ('conflict', 23),\n",
       " ('bloody', 21),\n",
       " ('moral', 21)]"
      ]
     },
     "execution_count": 56,
     "metadata": {},
     "output_type": "execute_result"
    }
   ],
   "source": [
    "emotion_dist_parasite['anger'].most_common(20)"
   ]
  },
  {
   "cell_type": "markdown",
   "metadata": {},
   "source": [
    "**_Positive_** category:"
   ]
  },
  {
   "cell_type": "code",
   "execution_count": 57,
   "metadata": {},
   "outputs": [
    {
     "data": {
      "text/plain": [
       "[('good', 642),\n",
       " ('masterpiece', 276),\n",
       " ('interesting', 243),\n",
       " ('excellent', 192),\n",
       " ('director', 184),\n",
       " ('perfect', 173),\n",
       " ('brilliant', 168),\n",
       " ('entertaining', 166),\n",
       " ('love', 148),\n",
       " ('recommend', 137),\n",
       " ('unexpected', 136),\n",
       " ('real', 130),\n",
       " ('script', 124),\n",
       " ('clever', 121),\n",
       " ('worth', 121),\n",
       " ('beautiful', 117),\n",
       " ('completely', 112),\n",
       " ('unique', 111),\n",
       " ('kind', 98),\n",
       " ('thrilling', 88)]"
      ]
     },
     "execution_count": 57,
     "metadata": {},
     "output_type": "execute_result"
    }
   ],
   "source": [
    "emotion_dist_parasite['positive'].most_common(20)"
   ]
  },
  {
   "cell_type": "markdown",
   "metadata": {},
   "source": [
    "**_Negative_** category:"
   ]
  },
  {
   "cell_type": "code",
   "execution_count": 58,
   "metadata": {},
   "outputs": [
    {
     "data": {
      "text/plain": [
       "[('unexpected', 136),\n",
       " ('bad', 117),\n",
       " ('unpredictable', 70),\n",
       " ('provoking', 60),\n",
       " ('feeling', 56),\n",
       " ('weird', 56),\n",
       " ('struggle', 55),\n",
       " ('intense', 55),\n",
       " ('boring', 55),\n",
       " ('leave', 54),\n",
       " ('crazy', 54),\n",
       " ('outstanding', 46),\n",
       " ('tragic', 44),\n",
       " ('wrong', 39),\n",
       " ('rating', 38),\n",
       " ('disappointed', 35),\n",
       " ('tragedy', 34),\n",
       " ('lost', 34),\n",
       " ('lack', 33),\n",
       " ('problem', 32)]"
      ]
     },
     "execution_count": 58,
     "metadata": {},
     "output_type": "execute_result"
    }
   ],
   "source": [
    "emotion_dist_parasite['negative'].most_common(20)"
   ]
  },
  {
   "cell_type": "markdown",
   "metadata": {},
   "source": [
    "Now, I will compare the content of the emotion categories. I want to carry out keyness analysis that is targeted on the distribution of the emotion words. The categories I'm interested in are TRUST, FEAR, and DISGUST, when it comes to words used in the movie reviews! I can use this information to show which words are driving an increase or decrease in a particular emotion category between the two movies.\n",
    "\n",
    "First, let's compare TRUST words between reviews of Parasite and The Host:"
   ]
  },
  {
   "cell_type": "code",
   "execution_count": 59,
   "metadata": {},
   "outputs": [
    {
     "name": "stdout",
     "output_type": "stream",
     "text": [
      "WORD                     Corpus A Freq.Corpus B Freq.Keyness\n",
      "============================================================\n",
      "worthy                   54        6         42.809\n",
      "director                 184       77        42.183\n",
      "perfect                  173       70        42.178\n",
      "powerful                 56        10        34.052\n",
      "friend                   50        9         30.235\n",
      "praise                   46        8         28.482\n",
      "system                   29        6         15.801\n",
      "brilliant                168       101       15.006\n",
      "humanity                 26        5         14.990\n",
      "excellent                192       122       13.802\n",
      "true                     75        38        11.308\n",
      "winning                  23        6         10.154\n",
      "engaging                 52        24        9.779\n",
      "important                36        14        9.401\n",
      "deserve                  20        5         9.214\n",
      "favorite                 85        49        8.791\n",
      "feeling                  56        29        7.973\n",
      "title                    37        16        7.965\n",
      "personal                 24        8         7.922\n",
      "constantly               27        10        7.634\n",
      "doubt                    30        12        7.464\n",
      "moral                    21        7         6.931\n"
     ]
    }
   ],
   "source": [
    "calculate_keyness(emotion_dist_parasite['trust'], emotion_dist_host['trust'])"
   ]
  },
  {
   "cell_type": "markdown",
   "metadata": {},
   "source": [
    "* So now we know that what is actually driving the increase in average use of TRUST words is more use of these items displayed above, used more frequently in reviews of Parasite than The Host.\n",
    "\n",
    "* And I was wondering why ANGER words are increased in Parasite reviews, which might be counter intuitive since there were generally more positive reviews and higher sentiment scores for this movie than for The Host:"
   ]
  },
  {
   "cell_type": "code",
   "execution_count": 60,
   "metadata": {},
   "outputs": [
    {
     "name": "stdout",
     "output_type": "stream",
     "text": [
      "WORD                     Corpus A Freq.Corpus B Freq.Keyness\n",
      "============================================================\n",
      "powerful                 56        10        38.221\n",
      "struggle                 55        13        30.537\n",
      "shock                    31        5         22.515\n",
      "conflict                 23        6         11.698\n",
      "deserve                  20        5         10.576\n",
      "feeling                  56        29        10.454\n",
      "tension                  54        28        10.051\n",
      "moral                    21        7         8.206\n"
     ]
    }
   ],
   "source": [
    "calculate_keyness( emotion_dist_parasite['anger'], emotion_dist_host['anger'])"
   ]
  },
  {
   "cell_type": "markdown",
   "metadata": {},
   "source": [
    "* Fascinating! So these words that are supposedly in the ANGER category...are words that aren't really that negative or angry: `powerful`, `struggle`, `conflict` and `tension` don't seem too angry to me.\n",
    "* Unfortunately I think this reveals some of the limitations of the NRC Emotion Lexicon. Looking at the categories that 'powerful' occurs in:"
   ]
  },
  {
   "cell_type": "code",
   "execution_count": 61,
   "metadata": {
    "scrolled": true
   },
   "outputs": [
    {
     "name": "stdout",
     "output_type": "stream",
     "text": [
      "negative\n"
     ]
    }
   ],
   "source": [
    "for k, items in NRC_emolex.items():\n",
    "    if 'foreign' in items:\n",
    "        print(k)"
   ]
  },
  {
   "cell_type": "code",
   "execution_count": 62,
   "metadata": {},
   "outputs": [
    {
     "name": "stdout",
     "output_type": "stream",
     "text": [
      "trust\n",
      "fear\n",
      "anger\n",
      "positive\n",
      "disgust\n",
      "joy\n",
      "anticipation\n"
     ]
    }
   ],
   "source": [
    "for k, items in NRC_emolex.items():\n",
    "    if 'powerful' in items:\n",
    "        print(k)"
   ]
  },
  {
   "cell_type": "markdown",
   "metadata": {},
   "source": [
    "* Note that powerful appears in 7 of the emotion categories...\n",
    "\n",
    "* But there are patterns. So looking ANGER the more characteristic words in Host v Parasite are actually negative"
   ]
  },
  {
   "cell_type": "code",
   "execution_count": 63,
   "metadata": {},
   "outputs": [
    {
     "name": "stdout",
     "output_type": "stream",
     "text": [
      "WORD                     Corpus A Freq.Corpus B Freq.Keyness\n",
      "============================================================\n",
      "bad                      311       117       79.784\n",
      "shit                     60        10        36.638\n",
      "terrible                 75        26        21.909\n",
      "hell                     51        17        15.779\n",
      "annoying                 31        7         14.943\n",
      "horrible                 61        27        11.492\n",
      "politics                 23        5         11.468\n",
      "disappointed             64        35        6.943\n"
     ]
    }
   ],
   "source": [
    "calculate_keyness( emotion_dist_host['anger'], emotion_dist_parasite['anger'])"
   ]
  },
  {
   "cell_type": "markdown",
   "metadata": {},
   "source": [
    "* Which words are driving the decrease in fear+disgust in Para reviews compared to Host?"
   ]
  },
  {
   "cell_type": "code",
   "execution_count": 64,
   "metadata": {},
   "outputs": [
    {
     "name": "stdout",
     "output_type": "stream",
     "text": [
      "WORD                     Corpus A Freq.Corpus B Freq.Keyness\n",
      "============================================================\n",
      "bad                      622       234       129.625\n",
      "terrible                 150       52        36.191\n",
      "shit                     60        10        32.596\n",
      "hell                     102       34        26.246\n",
      "crap                     55        11        25.860\n",
      "horrible                 122       54        17.854\n",
      "nasty                    28        6         12.371\n",
      "gore                     68        30        10.032\n",
      "hate                     80        38        9.703\n",
      "hanging                  26        8         7.552\n",
      "weird                    101       56        7.271\n"
     ]
    }
   ],
   "source": [
    "calculate_keyness(emotion_dist_host['fear']+emotion_dist_host['disgust'], \n",
    "                  emotion_dist_parasite['fear']+emotion_dist_parasite['disgust'] \n",
    ")"
   ]
  },
  {
   "cell_type": "markdown",
   "metadata": {},
   "source": [
    "* Looking at which words are driving the increase in positive sentiment in Parasite: "
   ]
  },
  {
   "cell_type": "code",
   "execution_count": 65,
   "metadata": {},
   "outputs": [
    {
     "name": "stdout",
     "output_type": "stream",
     "text": [
      "WORD                     Corpus A Freq.Corpus B Freq.Keyness\n",
      "============================================================\n",
      "masterpiece              276       24        233.316\n",
      "unexpected               136       32        63.019\n",
      "clever                   121       25        62.909\n",
      "absolute                 63        6         51.422\n",
      "art                      75        12        46.985\n",
      "script                   124       38        42.917\n",
      "worthy                   54        6         41.254\n",
      "perfect                  173       70        38.927\n",
      "captivating              49        5         38.871\n",
      "beautiful                117       37        38.860\n",
      "director                 184       77        38.813\n",
      "knowing                  51        6         37.928\n",
      "powerful                 56        10        32.568\n",
      "friend                   50        9         28.913\n",
      "praise                   46        8         27.255\n",
      "working                  49        10        25.735\n",
      "reading                  64        21        20.211\n",
      "creative                 52        15        19.398\n",
      "fascinating              37        8         18.511\n",
      "received                 39        9         18.404\n",
      "thrilling                88        39        16.494\n",
      "genius                   32        7         15.847\n",
      "humanity                 26        5         14.313\n",
      "glad                     41        13        13.570\n",
      "brilliant                168       101       12.975\n",
      "outstanding              46        17        12.131\n",
      "excellent                192       122       11.705\n",
      "survive                  27        7         11.354\n",
      "true                     75        38        10.159\n",
      "winning                  23        6         9.609\n",
      "superb                   60        29        9.194\n",
      "engaging                 52        24        8.903\n",
      "deserve                  20        5         8.733\n",
      "important                36        14        8.706\n",
      "job                      77        42        8.396\n",
      "talk                     23        7         8.031\n",
      "favorite                 85        49        7.692\n",
      "title                    37        16        7.304\n",
      "feeling                  56        29        7.137\n"
     ]
    }
   ],
   "source": [
    "calculate_keyness(emotion_dist_parasite['positive'], emotion_dist_host['positive'])"
   ]
  },
  {
   "cell_type": "markdown",
   "metadata": {},
   "source": [
    "* What's driving negative sentiment in Parasite more than Host, and also vice versa:"
   ]
  },
  {
   "cell_type": "code",
   "execution_count": 66,
   "metadata": {},
   "outputs": [
    {
     "name": "stdout",
     "output_type": "stream",
     "text": [
      "WORD                     Corpus A Freq.Corpus B Freq.Keyness\n",
      "============================================================\n",
      "unexpected               136       32        73.820\n",
      "unpredictable            70        10        53.223\n",
      "struggle                 55        13        29.738\n",
      "shock                    31        5         22.023\n",
      "leave                    54        21        16.475\n",
      "outstanding              46        17        15.135\n",
      "conflict                 23        6         11.374\n",
      "unbelievable             22        6         10.417\n",
      "feeling                  56        29        9.921\n",
      "doubt                    30        12        8.759\n",
      "immediately              23        9         6.951\n"
     ]
    }
   ],
   "source": [
    "calculate_keyness(emotion_dist_parasite['negative'], emotion_dist_host['negative'])"
   ]
  },
  {
   "cell_type": "code",
   "execution_count": 67,
   "metadata": {},
   "outputs": [
    {
     "name": "stdout",
     "output_type": "stream",
     "text": [
      "WORD                     Corpus A Freq.Corpus B Freq.Keyness\n",
      "============================================================\n",
      "bad                      311       117       83.122\n",
      "shit                     60        10        37.518\n",
      "crap                     55        11        30.170\n",
      "silly                    58        14        27.029\n",
      "terrible                 75        26        22.756\n",
      "stupid                   70        27        17.946\n",
      "hell                     51        17        16.367\n",
      "annoying                 31        7         15.363\n",
      "dumb                     30        8         12.642\n",
      "horrible                 61        27        12.070\n",
      "lost                     71        34        11.788\n",
      "weird                    101       56        11.228\n",
      "case                     32        13        7.487\n",
      "disappointed             64        35        7.426\n",
      "gore                     34        15        6.774\n",
      "hate                     40        19        6.770\n",
      "fear                     26        10        6.698\n"
     ]
    }
   ],
   "source": [
    "calculate_keyness(emotion_dist_host['negative'], emotion_dist_parasite['negative'])"
   ]
  },
  {
   "cell_type": "markdown",
   "metadata": {},
   "source": [
    "* Words that are driving the negative sentiment more frequently in The Host are more derogatory, like `shit`, `crap`, `annoying`, and `dumb`. \n",
    "* Whereas for words that drive negative sentiment and occur more often in reviews of Parasite, are less demeaning or derogatory. It seems to point more towards a \"shock factor\", we see words like `unexpected`, `unbelievable`, `conflict` again. \n",
    "* There are limitations to the NRC EmoLex (nothing really is perfect) and my analyses go to show that sentiment analysis is not as easy or clear-cut as it may sound to us!! \n",
    "* Overall, the main takeaway is that there is generally more positive sentiment words for reviews of Parasite, and we were able to gain insights about specific patterns and key words across the reviews.\n",
    "\n",
    "Now, how can I quantify my results, and help you visualize them? Let's explore this next:"
   ]
  },
  {
   "cell_type": "markdown",
   "metadata": {},
   "source": [
    "## Quantifying and visualizing the emotion score results\n",
    "\n",
    "With the new information we have on NRC emotion scores for each review, I want to see if I can have counts or averages (quantify the results) and then create some data visualization that will convey those results. Having a way of quantifying the results can allow us to compare and contrast, and then gain meaningful insights and observations from those counts (whether it's mean, median, etc). \n",
    "\n",
    "For each set of reviews ( for _The Host_ and then for _Parasite_ ), I want to ask: **For each of the 10 NRC emotion categories (trust, fear, negative, sadness, anger, surprise, positive, disgust, joy, anticipation), do the reviews of _Parasite_ or _The Host_ have higher average count of words than the other movie that falls under each category?** So what I'm trying to do is:\n",
    "\n",
    "* Go through each review in the two lists (one for each movie)\n",
    "* Find the count of words under each emotion category for each review\n",
    "* Get the average count of words under each emotion category for the two lists\n",
    "\n",
    "focus on for people who liked it (high ratings) vs. people who didn't like it, compare the mean use of diff. emotion lexicon category words\n",
    "or people who rated parasite vs. those for the host "
   ]
  },
  {
   "cell_type": "markdown",
   "metadata": {},
   "source": [
    "Let's take a look again at the structure of our data:"
   ]
  },
  {
   "cell_type": "code",
   "execution_count": 68,
   "metadata": {
    "scrolled": true
   },
   "outputs": [
    {
     "data": {
      "text/plain": [
       "{'Arousal': 0.5346666666666666,\n",
       " 'Dominance': 0.5421666666666667,\n",
       " 'VAD_toks': [{'A': 0.827, 'D': 0.782, 'V': 0.93, 'tok': 'thrilling'},\n",
       "  {'A': 0.412, 'D': 0.545, 'V': 0.729, 'tok': 'expected'},\n",
       "  {'A': 0.24, 'D': 0.554, 'V': 0.67, 'tok': 'be'},\n",
       "  {'A': 0.408, 'D': 0.735, 'V': 0.698, 'tok': 'will'},\n",
       "  {'A': 0.696, 'D': 0.264, 'V': 0.042, 'tok': 'frustrating'},\n",
       "  {'A': 0.625, 'D': 0.373, 'V': 0.125, 'tok': 'bad'}],\n",
       " 'Valence': 0.5323333333333333,\n",
       " 'anger': ['bad'],\n",
       " 'anticipation': ['thrilling', 'expected'],\n",
       " 'average': -0.00012358393408856846,\n",
       " 'compound': -0.6209,\n",
       " 'date': 'Dec 15, 2009',\n",
       " 'disgust': ['bad'],\n",
       " 'fear': ['bad'],\n",
       " 'joy': ['thrilling'],\n",
       " 'neg': 0.234,\n",
       " 'negative': ['bad'],\n",
       " 'neu': 0.681,\n",
       " 'pos': 0.084,\n",
       " 'positive': ['thrilling'],\n",
       " 'sadness': ['bad'],\n",
       " 'score': 2.5,\n",
       " 'surprise': ['thrilling'],\n",
       " 'text': \"It wasn't really as thrilling as I expected it to be, and some of the character's stupidity/lack of will was frustrating. That said, it's not a bad movie. Definitely watchable.\",\n",
       " 'tokens': ['it',\n",
       "  \"wasn't\",\n",
       "  'really',\n",
       "  'as',\n",
       "  'thrilling',\n",
       "  'as',\n",
       "  'i',\n",
       "  'expected',\n",
       "  'it',\n",
       "  'to',\n",
       "  'be',\n",
       "  'and',\n",
       "  'some',\n",
       "  'of',\n",
       "  'the',\n",
       "  \"character's\",\n",
       "  'stupiditylack',\n",
       "  'of',\n",
       "  'will',\n",
       "  'was',\n",
       "  'frustrating',\n",
       "  'that',\n",
       "  'said',\n",
       "  \"it's\",\n",
       "  'not',\n",
       "  'a',\n",
       "  'bad',\n",
       "  'definitely',\n",
       "  'watchable'],\n",
       " 'trust': []}"
      ]
     },
     "execution_count": 68,
     "metadata": {},
     "output_type": "execute_result"
    }
   ],
   "source": [
    "rt_host_user[10]"
   ]
  },
  {
   "cell_type": "markdown",
   "metadata": {},
   "source": [
    "Now I will go through each NRC emotion category (10 total). For **each emotion category**, the plan is:\n",
    "\n",
    "   1. For each review in the 2 lists (`rt_host_user` and `rt_parasite_user`), find the count of words under the specific emotion category\n",
    "   2. Append the counts to 2 new lists, each representing one of the 2 movies\n",
    "   3. Find the average count of words that fall under that emotion category, for each list\n",
    "   \n",
    "I will carry out these same steps 10 times, each for a specific emotion category. Here we go!"
   ]
  },
  {
   "cell_type": "markdown",
   "metadata": {},
   "source": [
    "#### 1) `Trust` NRC emotion category:"
   ]
  },
  {
   "cell_type": "code",
   "execution_count": 69,
   "metadata": {},
   "outputs": [],
   "source": [
    "trust_host = []\n",
    "\n",
    "for rev in rt_host_user:\n",
    "    tcnt = len(rev['trust'])\n",
    "    trust_host.append(tcnt)"
   ]
  },
  {
   "cell_type": "code",
   "execution_count": 70,
   "metadata": {},
   "outputs": [],
   "source": [
    "trust_parasite = []\n",
    "\n",
    "for rev in rt_parasite_user:\n",
    "    tcnt = len(rev['trust'])\n",
    "    trust_parasite.append(tcnt)"
   ]
  },
  {
   "cell_type": "code",
   "execution_count": 71,
   "metadata": {},
   "outputs": [
    {
     "name": "stdout",
     "output_type": "stream",
     "text": [
      "1.0523171987641606 is the average count of **trust** emotion words for reviews of The Host\n",
      "1.192333862553867 is the average count of **trust** emotion words for reviews of Parasite\n"
     ]
    }
   ],
   "source": [
    "# Mean amount of trust emotion words throughout reviews:\n",
    "avg_trust_host = sum(trust_host) / len(trust_host)\n",
    "avg_trust_parasite = sum(trust_parasite) / len(trust_parasite)\n",
    "\n",
    "print(f'{avg_trust_host} is the average count of **trust** emotion words for reviews of The Host' )\n",
    "print(f'{avg_trust_parasite} is the average count of **trust** emotion words for reviews of Parasite')"
   ]
  },
  {
   "cell_type": "markdown",
   "metadata": {},
   "source": [
    "#### 2) `Fear` NRC emotion category:"
   ]
  },
  {
   "cell_type": "code",
   "execution_count": 72,
   "metadata": {},
   "outputs": [],
   "source": [
    "fear_host = []\n",
    "fear_parasite = []\n",
    "\n",
    "for rev in rt_host_user:\n",
    "    fcnt = len(rev['fear'])\n",
    "    fear_host.append(fcnt)\n",
    "    \n",
    "for rev in rt_parasite_user:\n",
    "    fcnt = len(rev['fear'])\n",
    "    fear_parasite.append(fcnt)"
   ]
  },
  {
   "cell_type": "code",
   "execution_count": 73,
   "metadata": {},
   "outputs": [
    {
     "name": "stdout",
     "output_type": "stream",
     "text": [
      "0.7085478887744593 is the average count of **fear** emotion words for reviews of The Host\n",
      "0.6727149013381719 is the average count of **fear** emotion words for reviews of Parasite\n"
     ]
    }
   ],
   "source": [
    "# Mean amount of fear emotion words throughout reviews:\n",
    "avg_fear_host = sum(fear_host) / len(fear_host)\n",
    "avg_fear_parasite = sum(fear_parasite) / len(fear_parasite)\n",
    "\n",
    "print(f'{avg_fear_host} is the average count of **fear** emotion words for reviews of The Host' )\n",
    "print(f'{avg_fear_parasite} is the average count of **fear** emotion words for reviews of Parasite')"
   ]
  },
  {
   "cell_type": "markdown",
   "metadata": {},
   "source": [
    "#### 3) `Negative` NRC emotion category:"
   ]
  },
  {
   "cell_type": "code",
   "execution_count": 74,
   "metadata": {},
   "outputs": [],
   "source": [
    "negative_host = []\n",
    "negative_parasite = []\n",
    "\n",
    "for rev in rt_host_user:\n",
    "    ncnt = len(rev['negative'])\n",
    "    negative_host.append(ncnt)\n",
    "\n",
    "for rev in rt_parasite_user:\n",
    "    ncnt = len(rev['negative'])\n",
    "    negative_parasite.append(ncnt)"
   ]
  },
  {
   "cell_type": "code",
   "execution_count": 75,
   "metadata": {},
   "outputs": [
    {
     "name": "stdout",
     "output_type": "stream",
     "text": [
      "1.0477857878475798 is the average count of **negative** emotion words for reviews of The Host\n",
      "1.1054660920843729 is the average count of **negative** emotion words for reviews of Parasite\n"
     ]
    }
   ],
   "source": [
    "# Mean amount of negative emotion words throughout reviews:\n",
    "avg_neg_host = sum(negative_host) / len(negative_host)\n",
    "avg_neg_parasite = sum(negative_parasite) / len(negative_parasite)\n",
    "\n",
    "print(f'{avg_neg_host} is the average count of **negative** emotion words for reviews of The Host' )\n",
    "print(f'{avg_neg_parasite} is the average count of **negative** emotion words for reviews of Parasite')"
   ]
  },
  {
   "cell_type": "markdown",
   "metadata": {},
   "source": [
    "#### 4) `Sadness` NRC emotion category:"
   ]
  },
  {
   "cell_type": "code",
   "execution_count": 76,
   "metadata": {},
   "outputs": [],
   "source": [
    "sad_host = []\n",
    "sad_parasite = []\n",
    "\n",
    "for rev in rt_host_user:\n",
    "    sad_cnt = len(rev['sadness'])\n",
    "    sad_host.append(sad_cnt)\n",
    "    \n",
    "for rev in rt_parasite_user:\n",
    "    sad_cnt = len(rev['sadness'])\n",
    "    sad_parasite.append(sad_cnt)"
   ]
  },
  {
   "cell_type": "code",
   "execution_count": 77,
   "metadata": {},
   "outputs": [
    {
     "name": "stdout",
     "output_type": "stream",
     "text": [
      "0.5046343975283213 is the average count of **sadness** emotion words for reviews of The Host\n",
      "0.5772283964617827 is the average count of **sadness** emotion words for reviews of Parasite\n"
     ]
    }
   ],
   "source": [
    "# Mean amount of sadness emotion words throughout reviews:\n",
    "avg_sad_host = sum(sad_host) / len(sad_host)\n",
    "avg_sad_parasite = sum(sad_parasite) / len(sad_parasite)\n",
    "\n",
    "print(f'{avg_sad_host} is the average count of **sadness** emotion words for reviews of The Host' )\n",
    "print(f'{avg_sad_parasite} is the average count of **sadness** emotion words for reviews of Parasite')"
   ]
  },
  {
   "cell_type": "markdown",
   "metadata": {},
   "source": [
    "#### 5) `Anger` NRC emotion category:"
   ]
  },
  {
   "cell_type": "code",
   "execution_count": 78,
   "metadata": {},
   "outputs": [],
   "source": [
    "anger_host = []\n",
    "anger_parasite = []\n",
    "\n",
    "for rev in rt_host_user:\n",
    "    acnt = len(rev['anger'])\n",
    "    anger_host.append(acnt)\n",
    "    \n",
    "for rev in rt_parasite_user:\n",
    "    acnt = len(rev['anger'])\n",
    "    anger_parasite.append(acnt)"
   ]
  },
  {
   "cell_type": "code",
   "execution_count": 79,
   "metadata": {},
   "outputs": [
    {
     "name": "stdout",
     "output_type": "stream",
     "text": [
      "0.4836251287332647 is the average count of **anger** emotion words for reviews of The Host\n",
      "0.5010206396008166 is the average count of **anger** emotion words for reviews of Parasite\n"
     ]
    }
   ],
   "source": [
    "# Mean amount of anger emotion words throughout reviews:\n",
    "avg_anger_host = sum(anger_host) / len(anger_host)\n",
    "avg_anger_parasite = sum(anger_parasite) / len(anger_parasite)\n",
    "\n",
    "print(f'{avg_anger_host} is the average count of **anger** emotion words for reviews of The Host' )\n",
    "print(f'{avg_anger_parasite} is the average count of **anger** emotion words for reviews of Parasite')"
   ]
  },
  {
   "cell_type": "markdown",
   "metadata": {},
   "source": [
    "#### 6) `Surprise` NRC emotion category:"
   ]
  },
  {
   "cell_type": "code",
   "execution_count": 80,
   "metadata": {},
   "outputs": [],
   "source": [
    "surprise_host = []\n",
    "surprise_parasite = []\n",
    "\n",
    "for rev in rt_host_user:\n",
    "    scnt = len(rev['surprise'])\n",
    "    surprise_host.append(scnt)\n",
    "\n",
    "for rev in rt_parasite_user:\n",
    "    scnt = len(rev['surprise'])\n",
    "    surprise_parasite.append(scnt)\n"
   ]
  },
  {
   "cell_type": "code",
   "execution_count": 81,
   "metadata": {},
   "outputs": [
    {
     "name": "stdout",
     "output_type": "stream",
     "text": [
      "0.6743563336766221 is the average count of **surprise** emotion words for reviews of The Host\n",
      "0.7287366749829893 is the average count of **surprise** emotion words for reviews of Parasite\n"
     ]
    }
   ],
   "source": [
    "# Mean amount of surprise emotion words throughout reviews:\n",
    "avg_surprise_host = sum(surprise_host) / len(surprise_host)\n",
    "avg_surprise_parasite = sum(surprise_parasite) / len(surprise_parasite)\n",
    "\n",
    "print(f'{avg_surprise_host} is the average count of **surprise** emotion words for reviews of The Host' )\n",
    "print(f'{avg_surprise_parasite} is the average count of **surprise** emotion words for reviews of Parasite')"
   ]
  },
  {
   "cell_type": "markdown",
   "metadata": {},
   "source": [
    "#### 7) `Positive` NRC emotion category:"
   ]
  },
  {
   "cell_type": "code",
   "execution_count": 82,
   "metadata": {},
   "outputs": [],
   "source": [
    "positive_host = []\n",
    "positive_parasite = []\n",
    "\n",
    "for rev in rt_host_user:\n",
    "    pcnt = len(rev['positive'])\n",
    "    positive_host.append(pcnt)\n",
    "\n",
    "for rev in rt_parasite_user:\n",
    "    pcnt = len(rev['positive'])\n",
    "    positive_parasite.append(pcnt)"
   ]
  },
  {
   "cell_type": "code",
   "execution_count": 83,
   "metadata": {},
   "outputs": [
    {
     "name": "stdout",
     "output_type": "stream",
     "text": [
      "2.10648815653965 is the average count of **positive** emotion words for reviews of the host\n",
      "2.4676797459741437 is the average count of **positive** emotion words for reviews of parasite\n"
     ]
    }
   ],
   "source": [
    "# Mean amount of positive emotion words throughout reviews:\n",
    "avg_pos_host = sum(positive_host) / len(positive_host)\n",
    "avg_pos_parasite = sum(positive_parasite) / len(positive_parasite)\n",
    "\n",
    "print(f'{avg_pos_host} is the average count of **positive** emotion words for reviews of the host' )\n",
    "print(f'{avg_pos_parasite} is the average count of **positive** emotion words for reviews of parasite')"
   ]
  },
  {
   "cell_type": "markdown",
   "metadata": {},
   "source": [
    "#### 8) `Disgust` NRC emotion category:"
   ]
  },
  {
   "cell_type": "code",
   "execution_count": 84,
   "metadata": {},
   "outputs": [],
   "source": [
    "disgust_host = []\n",
    "disgust_parasite = []\n",
    "\n",
    "for rev in rt_host_user:\n",
    "    dcnt = len(rev['disgust'])\n",
    "    disgust_host.append(dcnt)\n",
    "\n",
    "for rev in rt_parasite_user:\n",
    "    dcnt = len(rev['disgust'])\n",
    "    disgust_parasite.append(dcnt)"
   ]
  },
  {
   "cell_type": "code",
   "execution_count": 85,
   "metadata": {},
   "outputs": [
    {
     "name": "stdout",
     "output_type": "stream",
     "text": [
      "0.43501544799176106 is the average count of **disgust** emotion words for reviews of the host\n",
      "0.41301882513041505 is the average count of **disgust** emotion words for reviews of parasite\n"
     ]
    }
   ],
   "source": [
    "# Mean amount of disgust emotion words throughout reviews:\n",
    "avg_disgust_host = sum(disgust_host) / len(disgust_host)\n",
    "avg_disgust_parasite = sum(disgust_parasite) / len(disgust_parasite)\n",
    "\n",
    "print(f'{avg_disgust_host} is the average count of **disgust** emotion words for reviews of the host' )\n",
    "print(f'{avg_disgust_parasite} is the average count of **disgust** emotion words for reviews of parasite')"
   ]
  },
  {
   "cell_type": "markdown",
   "metadata": {},
   "source": [
    "#### 9) `Joy` NRC emotion category:"
   ]
  },
  {
   "cell_type": "code",
   "execution_count": 86,
   "metadata": {},
   "outputs": [],
   "source": [
    "joy_host = []\n",
    "joy_parasite = []\n",
    "\n",
    "for rev in rt_host_user:\n",
    "    jcnt = len(rev['joy'])\n",
    "    joy_host.append(jcnt)\n",
    "    \n",
    "for rev in rt_parasite_user:\n",
    "    jcnt = len(rev['joy'])\n",
    "    joy_parasite.append(jcnt)"
   ]
  },
  {
   "cell_type": "code",
   "execution_count": 87,
   "metadata": {},
   "outputs": [
    {
     "name": "stdout",
     "output_type": "stream",
     "text": [
      "1.152626158599382 is the average count of **joy** emotion words for reviews of the host\n",
      "1.2041279201633024 is the average count of **joy** emotion words for reviews of parasite\n"
     ]
    }
   ],
   "source": [
    "# Mean amount of joy emotion words throughout reviews:\n",
    "avg_joy_host = sum(joy_host) / len(joy_host)\n",
    "avg_joy_parasite = sum(joy_parasite) / len(joy_parasite)\n",
    "\n",
    "print(f'{avg_joy_host} is the average count of **joy** emotion words for reviews of the host' )\n",
    "print(f'{avg_joy_parasite} is the average count of **joy** emotion words for reviews of parasite')"
   ]
  },
  {
   "cell_type": "markdown",
   "metadata": {},
   "source": [
    "#### 10) `Anticipation` NRC emotion category:"
   ]
  },
  {
   "cell_type": "code",
   "execution_count": 88,
   "metadata": {},
   "outputs": [],
   "source": [
    "ant_host = []\n",
    "ant_parasite = []\n",
    "\n",
    "for rev in rt_host_user:\n",
    "    ant_cnt = len(rev['anticipation'])\n",
    "    ant_host.append(ant_cnt)\n",
    "    \n",
    "for rev in rt_parasite_user:\n",
    "    ant_cnt = len(rev['anticipation'])\n",
    "    ant_parasite.append(ant_cnt)"
   ]
  },
  {
   "cell_type": "code",
   "execution_count": 89,
   "metadata": {
    "scrolled": true
   },
   "outputs": [
    {
     "name": "stdout",
     "output_type": "stream",
     "text": [
      "1.2424304840370752 is the average count of **anticipation** emotion words for reviews of the host\n",
      "1.2889544114311635 is the average count of **anticipation** emotion words for reviews of parasite\n"
     ]
    }
   ],
   "source": [
    "# Mean amount of joy emotion words throughout reviews:\n",
    "avg_ant_host = sum(ant_host) / len(ant_host)\n",
    "avg_ant_parasite = sum(ant_parasite) / len(ant_parasite)\n",
    "\n",
    "print(f'{avg_ant_host} is the average count of **anticipation** emotion words for reviews of the host' )\n",
    "print(f'{avg_ant_parasite} is the average count of **anticipation** emotion words for reviews of parasite')\n"
   ]
  },
  {
   "cell_type": "markdown",
   "metadata": {},
   "source": [
    "And now we're all done!!! We have found all the average counts of words that fall under each of the 10 NRC emotion categories, for user reviews of both movies.\n",
    "\n",
    "Let's see how we can create a bar graph to visualize our data on this:"
   ]
  },
  {
   "cell_type": "code",
   "execution_count": 90,
   "metadata": {},
   "outputs": [],
   "source": [
    "emotions = {\n",
    "    'Trust': [avg_trust_host, avg_trust_parasite],\n",
    "    'Fear': [avg_fear_host, avg_fear_parasite],\n",
    "    'Negative' : [avg_neg_host, avg_neg_parasite],\n",
    "    'Sadness' : [avg_sad_host, avg_sad_parasite],\n",
    "    'Anger' : [avg_anger_host, avg_anger_parasite],\n",
    "    'Surprise' : [avg_surprise_host, avg_surprise_parasite],\n",
    "    'Positive' : [avg_pos_host, avg_pos_parasite],\n",
    "    'Disgust' : [avg_disgust_host, avg_disgust_parasite],\n",
    "    'Joy' : [avg_joy_host, avg_joy_parasite],\n",
    "    'Anticipation' : [avg_ant_host, avg_ant_parasite]\n",
    "        }\n",
    "\n",
    "emotions_df = pd.DataFrame(emotions, \n",
    "                           columns = ['Trust', 'Fear', 'Negative', 'Sadness', 'Anger', 'Surprise', 'Positive', 'Disgust', 'Joy', 'Anticipation'], \n",
    "                           index=['The Host (2007)', 'Parasite (2019)'])\n"
   ]
  },
  {
   "cell_type": "markdown",
   "metadata": {},
   "source": [
    "Showing the data in a table format:"
   ]
  },
  {
   "cell_type": "code",
   "execution_count": 91,
   "metadata": {
    "scrolled": true
   },
   "outputs": [
    {
     "name": "stdout",
     "output_type": "stream",
     "text": [
      "                    Trust      Fear  Negative   Sadness     Anger  Surprise  \\\n",
      "The Host (2007)  1.052317  0.708548  1.047786  0.504634  0.483625  0.674356   \n",
      "Parasite (2019)  1.192334  0.672715  1.105466  0.577228  0.501021  0.728737   \n",
      "\n",
      "                 Positive   Disgust       Joy  Anticipation  \n",
      "The Host (2007)  2.106488  0.435015  1.152626      1.242430  \n",
      "Parasite (2019)  2.467680  0.413019  1.204128      1.288954  \n"
     ]
    }
   ],
   "source": [
    "print(emotions_df)"
   ]
  },
  {
   "cell_type": "markdown",
   "metadata": {},
   "source": [
    "Turning the data frame into long data form:"
   ]
  },
  {
   "cell_type": "code",
   "execution_count": 92,
   "metadata": {},
   "outputs": [
    {
     "data": {
      "text/html": [
       "<div>\n",
       "<style scoped>\n",
       "    .dataframe tbody tr th:only-of-type {\n",
       "        vertical-align: middle;\n",
       "    }\n",
       "\n",
       "    .dataframe tbody tr th {\n",
       "        vertical-align: top;\n",
       "    }\n",
       "\n",
       "    .dataframe thead th {\n",
       "        text-align: right;\n",
       "    }\n",
       "</style>\n",
       "<table border=\"1\" class=\"dataframe\">\n",
       "  <thead>\n",
       "    <tr style=\"text-align: right;\">\n",
       "      <th></th>\n",
       "      <th>variable</th>\n",
       "      <th>value</th>\n",
       "    </tr>\n",
       "  </thead>\n",
       "  <tbody>\n",
       "    <tr>\n",
       "      <th>0</th>\n",
       "      <td>Trust</td>\n",
       "      <td>1.052317</td>\n",
       "    </tr>\n",
       "    <tr>\n",
       "      <th>1</th>\n",
       "      <td>Trust</td>\n",
       "      <td>1.192334</td>\n",
       "    </tr>\n",
       "    <tr>\n",
       "      <th>2</th>\n",
       "      <td>Fear</td>\n",
       "      <td>0.708548</td>\n",
       "    </tr>\n",
       "    <tr>\n",
       "      <th>3</th>\n",
       "      <td>Fear</td>\n",
       "      <td>0.672715</td>\n",
       "    </tr>\n",
       "    <tr>\n",
       "      <th>4</th>\n",
       "      <td>Negative</td>\n",
       "      <td>1.047786</td>\n",
       "    </tr>\n",
       "    <tr>\n",
       "      <th>5</th>\n",
       "      <td>Negative</td>\n",
       "      <td>1.105466</td>\n",
       "    </tr>\n",
       "    <tr>\n",
       "      <th>6</th>\n",
       "      <td>Sadness</td>\n",
       "      <td>0.504634</td>\n",
       "    </tr>\n",
       "    <tr>\n",
       "      <th>7</th>\n",
       "      <td>Sadness</td>\n",
       "      <td>0.577228</td>\n",
       "    </tr>\n",
       "    <tr>\n",
       "      <th>8</th>\n",
       "      <td>Anger</td>\n",
       "      <td>0.483625</td>\n",
       "    </tr>\n",
       "    <tr>\n",
       "      <th>9</th>\n",
       "      <td>Anger</td>\n",
       "      <td>0.501021</td>\n",
       "    </tr>\n",
       "    <tr>\n",
       "      <th>10</th>\n",
       "      <td>Surprise</td>\n",
       "      <td>0.674356</td>\n",
       "    </tr>\n",
       "    <tr>\n",
       "      <th>11</th>\n",
       "      <td>Surprise</td>\n",
       "      <td>0.728737</td>\n",
       "    </tr>\n",
       "    <tr>\n",
       "      <th>12</th>\n",
       "      <td>Positive</td>\n",
       "      <td>2.106488</td>\n",
       "    </tr>\n",
       "    <tr>\n",
       "      <th>13</th>\n",
       "      <td>Positive</td>\n",
       "      <td>2.467680</td>\n",
       "    </tr>\n",
       "    <tr>\n",
       "      <th>14</th>\n",
       "      <td>Disgust</td>\n",
       "      <td>0.435015</td>\n",
       "    </tr>\n",
       "    <tr>\n",
       "      <th>15</th>\n",
       "      <td>Disgust</td>\n",
       "      <td>0.413019</td>\n",
       "    </tr>\n",
       "    <tr>\n",
       "      <th>16</th>\n",
       "      <td>Joy</td>\n",
       "      <td>1.152626</td>\n",
       "    </tr>\n",
       "    <tr>\n",
       "      <th>17</th>\n",
       "      <td>Joy</td>\n",
       "      <td>1.204128</td>\n",
       "    </tr>\n",
       "    <tr>\n",
       "      <th>18</th>\n",
       "      <td>Anticipation</td>\n",
       "      <td>1.242430</td>\n",
       "    </tr>\n",
       "    <tr>\n",
       "      <th>19</th>\n",
       "      <td>Anticipation</td>\n",
       "      <td>1.288954</td>\n",
       "    </tr>\n",
       "  </tbody>\n",
       "</table>\n",
       "</div>"
      ],
      "text/plain": [
       "        variable     value\n",
       "0          Trust  1.052317\n",
       "1          Trust  1.192334\n",
       "2           Fear  0.708548\n",
       "3           Fear  0.672715\n",
       "4       Negative  1.047786\n",
       "5       Negative  1.105466\n",
       "6        Sadness  0.504634\n",
       "7        Sadness  0.577228\n",
       "8          Anger  0.483625\n",
       "9          Anger  0.501021\n",
       "10      Surprise  0.674356\n",
       "11      Surprise  0.728737\n",
       "12      Positive  2.106488\n",
       "13      Positive  2.467680\n",
       "14       Disgust  0.435015\n",
       "15       Disgust  0.413019\n",
       "16           Joy  1.152626\n",
       "17           Joy  1.204128\n",
       "18  Anticipation  1.242430\n",
       "19  Anticipation  1.288954"
      ]
     },
     "execution_count": 92,
     "metadata": {},
     "output_type": "execute_result"
    }
   ],
   "source": [
    "emotions_df.melt()"
   ]
  },
  {
   "cell_type": "code",
   "execution_count": 93,
   "metadata": {
    "scrolled": true
   },
   "outputs": [],
   "source": [
    "emotions_df_long = emotions_df.reset_index().melt(id_vars=['index'])"
   ]
  },
  {
   "cell_type": "code",
   "execution_count": 94,
   "metadata": {},
   "outputs": [],
   "source": [
    "emotions_df_long = emotions_df_long.rename(columns = {'index': 'Movie',\n",
    "                                                      'variable':'Sentiment',\n",
    "                                                      'value':'Average Word Count'})"
   ]
  },
  {
   "cell_type": "code",
   "execution_count": 95,
   "metadata": {
    "scrolled": true
   },
   "outputs": [
    {
     "data": {
      "text/html": [
       "<div>\n",
       "<style scoped>\n",
       "    .dataframe tbody tr th:only-of-type {\n",
       "        vertical-align: middle;\n",
       "    }\n",
       "\n",
       "    .dataframe tbody tr th {\n",
       "        vertical-align: top;\n",
       "    }\n",
       "\n",
       "    .dataframe thead th {\n",
       "        text-align: right;\n",
       "    }\n",
       "</style>\n",
       "<table border=\"1\" class=\"dataframe\">\n",
       "  <thead>\n",
       "    <tr style=\"text-align: right;\">\n",
       "      <th></th>\n",
       "      <th>Movie</th>\n",
       "      <th>Sentiment</th>\n",
       "      <th>Average Word Count</th>\n",
       "    </tr>\n",
       "  </thead>\n",
       "  <tbody>\n",
       "    <tr>\n",
       "      <th>0</th>\n",
       "      <td>The Host (2007)</td>\n",
       "      <td>Trust</td>\n",
       "      <td>1.052317</td>\n",
       "    </tr>\n",
       "    <tr>\n",
       "      <th>1</th>\n",
       "      <td>Parasite (2019)</td>\n",
       "      <td>Trust</td>\n",
       "      <td>1.192334</td>\n",
       "    </tr>\n",
       "    <tr>\n",
       "      <th>2</th>\n",
       "      <td>The Host (2007)</td>\n",
       "      <td>Fear</td>\n",
       "      <td>0.708548</td>\n",
       "    </tr>\n",
       "    <tr>\n",
       "      <th>3</th>\n",
       "      <td>Parasite (2019)</td>\n",
       "      <td>Fear</td>\n",
       "      <td>0.672715</td>\n",
       "    </tr>\n",
       "    <tr>\n",
       "      <th>4</th>\n",
       "      <td>The Host (2007)</td>\n",
       "      <td>Negative</td>\n",
       "      <td>1.047786</td>\n",
       "    </tr>\n",
       "    <tr>\n",
       "      <th>5</th>\n",
       "      <td>Parasite (2019)</td>\n",
       "      <td>Negative</td>\n",
       "      <td>1.105466</td>\n",
       "    </tr>\n",
       "    <tr>\n",
       "      <th>6</th>\n",
       "      <td>The Host (2007)</td>\n",
       "      <td>Sadness</td>\n",
       "      <td>0.504634</td>\n",
       "    </tr>\n",
       "    <tr>\n",
       "      <th>7</th>\n",
       "      <td>Parasite (2019)</td>\n",
       "      <td>Sadness</td>\n",
       "      <td>0.577228</td>\n",
       "    </tr>\n",
       "    <tr>\n",
       "      <th>8</th>\n",
       "      <td>The Host (2007)</td>\n",
       "      <td>Anger</td>\n",
       "      <td>0.483625</td>\n",
       "    </tr>\n",
       "    <tr>\n",
       "      <th>9</th>\n",
       "      <td>Parasite (2019)</td>\n",
       "      <td>Anger</td>\n",
       "      <td>0.501021</td>\n",
       "    </tr>\n",
       "    <tr>\n",
       "      <th>10</th>\n",
       "      <td>The Host (2007)</td>\n",
       "      <td>Surprise</td>\n",
       "      <td>0.674356</td>\n",
       "    </tr>\n",
       "    <tr>\n",
       "      <th>11</th>\n",
       "      <td>Parasite (2019)</td>\n",
       "      <td>Surprise</td>\n",
       "      <td>0.728737</td>\n",
       "    </tr>\n",
       "    <tr>\n",
       "      <th>12</th>\n",
       "      <td>The Host (2007)</td>\n",
       "      <td>Positive</td>\n",
       "      <td>2.106488</td>\n",
       "    </tr>\n",
       "    <tr>\n",
       "      <th>13</th>\n",
       "      <td>Parasite (2019)</td>\n",
       "      <td>Positive</td>\n",
       "      <td>2.467680</td>\n",
       "    </tr>\n",
       "    <tr>\n",
       "      <th>14</th>\n",
       "      <td>The Host (2007)</td>\n",
       "      <td>Disgust</td>\n",
       "      <td>0.435015</td>\n",
       "    </tr>\n",
       "    <tr>\n",
       "      <th>15</th>\n",
       "      <td>Parasite (2019)</td>\n",
       "      <td>Disgust</td>\n",
       "      <td>0.413019</td>\n",
       "    </tr>\n",
       "    <tr>\n",
       "      <th>16</th>\n",
       "      <td>The Host (2007)</td>\n",
       "      <td>Joy</td>\n",
       "      <td>1.152626</td>\n",
       "    </tr>\n",
       "    <tr>\n",
       "      <th>17</th>\n",
       "      <td>Parasite (2019)</td>\n",
       "      <td>Joy</td>\n",
       "      <td>1.204128</td>\n",
       "    </tr>\n",
       "    <tr>\n",
       "      <th>18</th>\n",
       "      <td>The Host (2007)</td>\n",
       "      <td>Anticipation</td>\n",
       "      <td>1.242430</td>\n",
       "    </tr>\n",
       "    <tr>\n",
       "      <th>19</th>\n",
       "      <td>Parasite (2019)</td>\n",
       "      <td>Anticipation</td>\n",
       "      <td>1.288954</td>\n",
       "    </tr>\n",
       "  </tbody>\n",
       "</table>\n",
       "</div>"
      ],
      "text/plain": [
       "              Movie     Sentiment  Average Word Count\n",
       "0   The Host (2007)         Trust            1.052317\n",
       "1   Parasite (2019)         Trust            1.192334\n",
       "2   The Host (2007)          Fear            0.708548\n",
       "3   Parasite (2019)          Fear            0.672715\n",
       "4   The Host (2007)      Negative            1.047786\n",
       "5   Parasite (2019)      Negative            1.105466\n",
       "6   The Host (2007)       Sadness            0.504634\n",
       "7   Parasite (2019)       Sadness            0.577228\n",
       "8   The Host (2007)         Anger            0.483625\n",
       "9   Parasite (2019)         Anger            0.501021\n",
       "10  The Host (2007)      Surprise            0.674356\n",
       "11  Parasite (2019)      Surprise            0.728737\n",
       "12  The Host (2007)      Positive            2.106488\n",
       "13  Parasite (2019)      Positive            2.467680\n",
       "14  The Host (2007)       Disgust            0.435015\n",
       "15  Parasite (2019)       Disgust            0.413019\n",
       "16  The Host (2007)           Joy            1.152626\n",
       "17  Parasite (2019)           Joy            1.204128\n",
       "18  The Host (2007)  Anticipation            1.242430\n",
       "19  Parasite (2019)  Anticipation            1.288954"
      ]
     },
     "execution_count": 95,
     "metadata": {},
     "output_type": "execute_result"
    }
   ],
   "source": [
    "emotions_df_long"
   ]
  },
  {
   "cell_type": "markdown",
   "metadata": {},
   "source": [
    "Making a plot only for Positive and Negative emotion categories, to make it visually more simple, and easier to comprehend:"
   ]
  },
  {
   "cell_type": "code",
   "execution_count": 96,
   "metadata": {},
   "outputs": [],
   "source": [
    "valence_df = emotions_df_long[emotions_df_long['Sentiment'].isin(['Positive','Negative'])]\n"
   ]
  },
  {
   "cell_type": "markdown",
   "metadata": {},
   "source": [
    "Have one big plot like the one below, and then maybe can do 2 sub-plots that can be divided by the pos or neg"
   ]
  },
  {
   "cell_type": "code",
   "execution_count": 97,
   "metadata": {
    "scrolled": true
   },
   "outputs": [
    {
     "data": {
      "text/plain": [
       "Text(0.5, 1.0, 'Average Count of Words in Positive vs. Negative Sentiment')"
      ]
     },
     "execution_count": 97,
     "metadata": {},
     "output_type": "execute_result"
    },
    {
     "data": {
      "image/png": "[encoded data removed]",
      "text/plain": [
       "<Figure size 576x432 with 1 Axes>"
      ]
     },
     "metadata": {
      "needs_background": "light"
     },
     "output_type": "display_data"
    }
   ],
   "source": [
    "g = sns.catplot(data=valence_df, kind='bar', x='Sentiment', y='Average Word Count', hue='Movie')\n",
    "g.fig.set_figwidth(8)\n",
    "g.fig.set_figheight(6)\n",
    "plt.title('Average Count of Words in Positive vs. Negative Sentiment')"
   ]
  },
  {
   "cell_type": "markdown",
   "metadata": {},
   "source": [
    "Making sub-plots that fit under either positive valence or negative:"
   ]
  },
  {
   "cell_type": "markdown",
   "metadata": {},
   "source": [
    "**_Positive_ Valence sub-plots**:"
   ]
  },
  {
   "cell_type": "code",
   "execution_count": 98,
   "metadata": {},
   "outputs": [],
   "source": [
    "valence_sub_df = emotions_df_long.rename(columns = {'index': 'Movie',\n",
    "                                                    'Sentiment':'Emotion',\n",
    "                                                    'value':'Average Word Count'})"
   ]
  },
  {
   "cell_type": "code",
   "execution_count": 99,
   "metadata": {},
   "outputs": [],
   "source": [
    "pos_df = valence_sub_df[valence_sub_df['Emotion'].isin(['Trust','Surprise','Joy','Anticipation'])]\n"
   ]
  },
  {
   "cell_type": "code",
   "execution_count": 100,
   "metadata": {},
   "outputs": [
    {
     "data": {
      "image/png": "[encoded data removed]",
      "text/plain": [
       "<Figure size 576x288 with 1 Axes>"
      ]
     },
     "metadata": {
      "needs_background": "light"
     },
     "output_type": "display_data"
    }
   ],
   "source": [
    "pos = sns.catplot(data=pos_df, kind='bar', x='Emotion', y='Average Word Count', hue='Movie')\n",
    "pos.fig.set_figwidth(8)\n",
    "pos.fig.set_figheight(4)"
   ]
  },
  {
   "cell_type": "markdown",
   "metadata": {},
   "source": [
    "**_Negative_ Valence sub-plots**:"
   ]
  },
  {
   "cell_type": "code",
   "execution_count": 101,
   "metadata": {},
   "outputs": [],
   "source": [
    "neg_df = valence_sub_df[valence_sub_df['Emotion'].isin(['Fear','Sadness','Anger','Disgust'])]\n"
   ]
  },
  {
   "cell_type": "code",
   "execution_count": 102,
   "metadata": {
    "scrolled": true
   },
   "outputs": [
    {
     "data": {
      "image/png": "[encoded data removed]",
      "text/plain": [
       "<Figure size 576x288 with 1 Axes>"
      ]
     },
     "metadata": {
      "needs_background": "light"
     },
     "output_type": "display_data"
    }
   ],
   "source": [
    "neg = sns.catplot(data=neg_df, kind='bar', x='Emotion', y='Average Word Count', hue='Movie')\n",
    "neg.fig.set_figwidth(8)\n",
    "neg.fig.set_figheight(4)"
   ]
  },
  {
   "cell_type": "markdown",
   "metadata": {},
   "source": [
    "* Note that I might NOT want to display the results in this way (dividing the 8 into positive and negative), because we saw the limitations with NRC EmoLex. It's not actually that clear-cut, i.e. the emotion categories are NOT neatly nested into positive or negative sentiment. But it is a nice way to visualize them. I'm just not sure if it's something I'll include in my final data story."
   ]
  },
  {
   "cell_type": "markdown",
   "metadata": {},
   "source": [
    "Showing a general plot with all the sentiments and emotions together:"
   ]
  },
  {
   "cell_type": "code",
   "execution_count": 103,
   "metadata": {
    "scrolled": true
   },
   "outputs": [
    {
     "data": {
      "image/png": "[encoded data removed]",
      "text/plain": [
       "<Figure size 1152x576 with 1 Axes>"
      ]
     },
     "metadata": {
      "needs_background": "light"
     },
     "output_type": "display_data"
    }
   ],
   "source": [
    "g = sns.catplot(data=emotions_df_long, kind='bar', x='Sentiment', y='Average Word Count', hue='Movie')\n",
    "g.fig.set_figwidth(16)\n",
    "g.fig.set_figheight(8)"
   ]
  },
  {
   "cell_type": "markdown",
   "metadata": {},
   "source": [
    "And this is the other way of organizing the data, into columns organized by the two movies:"
   ]
  },
  {
   "cell_type": "code",
   "execution_count": 104,
   "metadata": {},
   "outputs": [
    {
     "data": {
      "text/plain": [
       "<AxesSubplot:>"
      ]
     },
     "execution_count": 104,
     "metadata": {},
     "output_type": "execute_result"
    },
    {
     "data": {
      "image/png": "[encoded data removed]",
      "text/plain": [
       "<Figure size 864x576 with 1 Axes>"
      ]
     },
     "metadata": {
      "needs_background": "light"
     },
     "output_type": "display_data"
    }
   ],
   "source": [
    "emotions_df.plot(kind='bar', figsize=(12,8))"
   ]
  },
  {
   "cell_type": "markdown",
   "metadata": {},
   "source": [
    "Adjusting the legend, adding plot title and axis titles, etc. to make it look better:"
   ]
  },
  {
   "cell_type": "code",
   "execution_count": 105,
   "metadata": {},
   "outputs": [
    {
     "data": {
      "text/plain": [
       "(array([0, 1]), [Text(0, 0, 'The Host (2007)'), Text(1, 0, 'Parasite (2019)')])"
      ]
     },
     "execution_count": 105,
     "metadata": {},
     "output_type": "execute_result"
    },
    {
     "data": {
      "image/png": "[encoded data removed]",
      "text/plain": [
       "<Figure size 1008x576 with 1 Axes>"
      ]
     },
     "metadata": {
      "needs_background": "light"
     },
     "output_type": "display_data"
    }
   ],
   "source": [
    "emotions_df.plot(kind='bar', figsize=(14,8), width=0.6)\n",
    "plt.title('Average Count of Emotion Words in Movie Reviews', fontsize=20)\n",
    "plt.xlabel('Movie')\n",
    "plt.ylabel('Average Count')\n",
    "plt.legend(title='NRC Emotion Category')\n",
    "plt.xticks(rotation=0)"
   ]
  },
  {
   "cell_type": "markdown",
   "metadata": {},
   "source": [
    "* Taking out `positive` and `negative` to look only at the 8 emotion categories:"
   ]
  },
  {
   "cell_type": "code",
   "execution_count": 106,
   "metadata": {},
   "outputs": [],
   "source": [
    "eight_df = valence_sub_df[valence_sub_df['Emotion'].isin(['Fear','Sadness','Anger','Disgust', 'Trust', 'Surprise', 'Joy', 'Anticipation'])]"
   ]
  },
  {
   "cell_type": "code",
   "execution_count": 107,
   "metadata": {},
   "outputs": [
    {
     "data": {
      "image/png": "[encoded data removed]",
      "text/plain": [
       "<Figure size 576x288 with 1 Axes>"
      ]
     },
     "metadata": {
      "needs_background": "light"
     },
     "output_type": "display_data"
    }
   ],
   "source": [
    "eight = sns.catplot(data=eight_df, kind='bar', x='Emotion', y='Average Word Count', hue='Movie')\n",
    "eight.fig.set_figwidth(8)\n",
    "eight.fig.set_figheight(4)"
   ]
  },
  {
   "cell_type": "markdown",
   "metadata": {},
   "source": [
    "## Which emotions drive negatively rated vs. positively rated user reviews? \n",
    "\n",
    "### Looking at the emotion score results between positive and negative ratings\n",
    "\n",
    "Below, I will run some analyses and make graphs to dive into whether negative emotion words (fear, sadness, anger, disgust) are driven by the negatively rated reviews, and whether positive emotion words (trust, surprise, joy, anticipation) are driven by the positively rated reviews.\n",
    "\n",
    "I will go through each emotion, divide by review rating and count up the number of words that fall under that emotion according to the rating (positive or negative).\n",
    "\n",
    "Again, positive ratings are greater than or equal to 4 and negative ratings are less than 3!"
   ]
  },
  {
   "cell_type": "markdown",
   "metadata": {},
   "source": [
    "#### Looking at `negative` for each movie:\n",
    "\n",
    "**The Host**"
   ]
  },
  {
   "cell_type": "code",
   "execution_count": 108,
   "metadata": {},
   "outputs": [],
   "source": [
    "neg_low_host = []\n",
    "neg_high_host = []\n",
    "\n",
    "for rev in rt_host_user:\n",
    "    ncnt = len(rev['negative'])\n",
    "    if rev['score']<3:\n",
    "        neg_low_host.append(ncnt)\n",
    "    if rev['score']>=4:\n",
    "        neg_high_host.append(ncnt)"
   ]
  },
  {
   "cell_type": "code",
   "execution_count": 109,
   "metadata": {
    "scrolled": true
   },
   "outputs": [
    {
     "name": "stdout",
     "output_type": "stream",
     "text": [
      "1.5\n"
     ]
    }
   ],
   "source": [
    "# Mean amount of negative emotion words throughout low rated reviews:\n",
    "avg_neg_low_host = sum(neg_low_host) / len(neg_low_host)\n",
    "\n",
    "print(avg_neg_low_host)"
   ]
  },
  {
   "cell_type": "code",
   "execution_count": 110,
   "metadata": {
    "scrolled": true
   },
   "outputs": [
    {
     "name": "stdout",
     "output_type": "stream",
     "text": [
      "0.9459119496855346\n"
     ]
    }
   ],
   "source": [
    "# Mean amount of negative emotion words throughout high rated reviews:\n",
    "avg_neg_high_host = sum(neg_high_host) / len(neg_high_host)\n",
    "\n",
    "print(avg_neg_high_host)"
   ]
  },
  {
   "cell_type": "markdown",
   "metadata": {},
   "source": [
    "**Parasite**"
   ]
  },
  {
   "cell_type": "code",
   "execution_count": 111,
   "metadata": {},
   "outputs": [],
   "source": [
    "neg_low_parasite = []\n",
    "neg_high_parasite = []\n",
    "\n",
    "for rev in rt_parasite_user:\n",
    "    ncnt = len(rev['negative'])\n",
    "    if rev['score']<3:\n",
    "        neg_low_parasite.append(ncnt)\n",
    "    if rev['score']>=4:\n",
    "        neg_high_parasite.append(ncnt)"
   ]
  },
  {
   "cell_type": "code",
   "execution_count": 112,
   "metadata": {},
   "outputs": [
    {
     "name": "stdout",
     "output_type": "stream",
     "text": [
      "2.3048327137546467\n",
      "0.9183556951184699\n"
     ]
    }
   ],
   "source": [
    "# Mean amount of negative emotion words throughout low rated reviews:\n",
    "avg_neg_low_parasite = sum(neg_low_parasite) / len(neg_low_parasite)\n",
    "\n",
    "# Mean amount of negative emotion words throughout high rated reviews:\n",
    "avg_neg_high_parasite = sum(neg_high_parasite) / len(neg_high_parasite)\n",
    "\n",
    "\n",
    "print(avg_neg_low_parasite)\n",
    "print(avg_neg_high_parasite)"
   ]
  },
  {
   "cell_type": "markdown",
   "metadata": {},
   "source": [
    "#### Looking at `positive` for each movie:"
   ]
  },
  {
   "cell_type": "code",
   "execution_count": 113,
   "metadata": {},
   "outputs": [],
   "source": [
    "pos_low_host = []\n",
    "pos_high_host = []\n",
    "\n",
    "for rev in rt_host_user:\n",
    "    pcnt = len(rev['positive'])\n",
    "    if rev['score']<3:\n",
    "        pos_low_host.append(pcnt)\n",
    "    if rev['score']>=4:\n",
    "        pos_high_host.append(pcnt)\n",
    "        \n",
    "pos_low_parasite = []\n",
    "pos_high_parasite = []\n",
    "\n",
    "for rev in rt_parasite_user:\n",
    "    pcnt = len(rev['positive'])\n",
    "    if rev['score']<3:\n",
    "        pos_low_parasite.append(pcnt)\n",
    "    if rev['score']>=4:\n",
    "        pos_high_parasite.append(pcnt)"
   ]
  },
  {
   "cell_type": "markdown",
   "metadata": {},
   "source": [
    "**The Host**"
   ]
  },
  {
   "cell_type": "code",
   "execution_count": 114,
   "metadata": {},
   "outputs": [
    {
     "name": "stdout",
     "output_type": "stream",
     "text": [
      "1.602112676056338\n",
      "2.1979035639412996\n"
     ]
    }
   ],
   "source": [
    "# Mean amount of positive emotion words throughout low rated reviews:\n",
    "avg_pos_low_host = sum(pos_low_host) / len(pos_low_host)\n",
    "\n",
    "# Mean amount of positive emotion words throughout high rated reviews:\n",
    "avg_pos_high_host = sum(pos_high_host) / len(pos_high_host)\n",
    "\n",
    "print(avg_pos_low_host)\n",
    "print(avg_pos_high_host)"
   ]
  },
  {
   "cell_type": "markdown",
   "metadata": {},
   "source": [
    "**Parasite**"
   ]
  },
  {
   "cell_type": "code",
   "execution_count": 115,
   "metadata": {},
   "outputs": [
    {
     "name": "stdout",
     "output_type": "stream",
     "text": [
      "2.3550185873605947\n",
      "2.5132743362831858\n"
     ]
    }
   ],
   "source": [
    "# Mean amount of positive emotion words throughout low rated reviews:\n",
    "avg_pos_low_parasite = sum(pos_low_parasite) / len(pos_low_parasite)\n",
    "\n",
    "# Mean amount of positive emotion words throughout high rated reviews:\n",
    "avg_pos_high_parasite = sum(pos_high_parasite) / len(pos_high_parasite)\n",
    "\n",
    "print(avg_pos_low_parasite)\n",
    "print(avg_pos_high_parasite)"
   ]
  },
  {
   "cell_type": "markdown",
   "metadata": {},
   "source": [
    "#### Looking at `fear` for each movie:\n",
    "\n",
    "**The Host**"
   ]
  },
  {
   "cell_type": "code",
   "execution_count": 116,
   "metadata": {},
   "outputs": [],
   "source": [
    "fear_low_host = []\n",
    "fear_high_host = []\n",
    "\n",
    "for rev in rt_host_user:\n",
    "    fcnt = len(rev['fear'])\n",
    "    if rev['score']<3:\n",
    "        fear_low_host.append(fcnt)\n",
    "    elif rev['score']>=4:\n",
    "        fear_high_host.append(fcnt)"
   ]
  },
  {
   "cell_type": "code",
   "execution_count": 117,
   "metadata": {},
   "outputs": [
    {
     "name": "stdout",
     "output_type": "stream",
     "text": [
      "852\n",
      "2385\n"
     ]
    }
   ],
   "source": [
    "print(len(fear_low_host))\n",
    "print(len(fear_high_host))"
   ]
  },
  {
   "cell_type": "code",
   "execution_count": 118,
   "metadata": {},
   "outputs": [
    {
     "name": "stdout",
     "output_type": "stream",
     "text": [
      "0.8039906103286385\n"
     ]
    }
   ],
   "source": [
    "# Mean amount of fear emotion words throughout low rated reviews:\n",
    "avg_fear_low_host = sum(fear_low_host) / len(fear_low_host)\n",
    "\n",
    "print(avg_fear_low_host)"
   ]
  },
  {
   "cell_type": "code",
   "execution_count": 119,
   "metadata": {},
   "outputs": [
    {
     "name": "stdout",
     "output_type": "stream",
     "text": [
      "0.720754716981132\n"
     ]
    }
   ],
   "source": [
    "# Mean amount of fear emotion words throughout high rated reviews:\n",
    "avg_fear_high_host = sum(fear_high_host) / len(fear_high_host)\n",
    "\n",
    "print(avg_fear_high_host)"
   ]
  },
  {
   "cell_type": "markdown",
   "metadata": {},
   "source": [
    "**Parasite**\n",
    "\n",
    "Same thing with reviews of _Parasite_ and then I will combine the lists to create two lists, with one containing all negatively rated user reviews for both movies and the other containing all positively rated user reviews for both movies."
   ]
  },
  {
   "cell_type": "code",
   "execution_count": 120,
   "metadata": {},
   "outputs": [],
   "source": [
    "fear_low_parasite = []\n",
    "fear_high_parasite = []\n",
    "\n",
    "for rev in rt_parasite_user:\n",
    "    fcnt = len(rev['fear'])\n",
    "    if rev['score']<3:\n",
    "        fear_low_parasite.append(fcnt)\n",
    "    elif rev['score']>=4:\n",
    "        fear_high_parasite.append(fcnt)"
   ]
  },
  {
   "cell_type": "code",
   "execution_count": 121,
   "metadata": {},
   "outputs": [
    {
     "name": "stdout",
     "output_type": "stream",
     "text": [
      "1.070631970260223\n",
      "0.6103339994290609\n"
     ]
    }
   ],
   "source": [
    "# Mean amount of fear emotion words throughout low rated reviews:\n",
    "avg_fear_low_parasite = sum(fear_low_parasite) / len(fear_low_parasite)\n",
    "\n",
    "# Mean amount of fear emotion words throughout high rated reviews:\n",
    "avg_fear_high_parasite = sum(fear_high_parasite) / len(fear_high_parasite)\n",
    "\n",
    "print(avg_fear_low_parasite)\n",
    "print(avg_fear_high_parasite)"
   ]
  },
  {
   "cell_type": "markdown",
   "metadata": {},
   "source": [
    "**Looking at `trust` for each movie:**"
   ]
  },
  {
   "cell_type": "code",
   "execution_count": 122,
   "metadata": {},
   "outputs": [],
   "source": [
    "trust_low_host = []\n",
    "trust_high_host = []\n",
    "\n",
    "for rev in rt_host_user:\n",
    "    tcnt = len(rev['trust'])\n",
    "    if rev['score']<3:\n",
    "        trust_low_host.append(tcnt)\n",
    "    if rev['score']>=4:\n",
    "        trust_high_host.append(tcnt)\n",
    "\n",
    "trust_low_parasite = []\n",
    "trust_high_parasite = []\n",
    "\n",
    "for rev in rt_parasite_user:\n",
    "    tcnt = len(rev['trust'])\n",
    "    if rev['score']<3:\n",
    "        trust_low_parasite.append(tcnt)\n",
    "    if rev['score']>=4:\n",
    "        trust_high_parasite.append(tcnt)"
   ]
  },
  {
   "cell_type": "markdown",
   "metadata": {},
   "source": [
    "**The Host** "
   ]
  },
  {
   "cell_type": "code",
   "execution_count": 123,
   "metadata": {},
   "outputs": [
    {
     "name": "stdout",
     "output_type": "stream",
     "text": [
      "0.7969483568075117\n",
      "1.1039832285115303\n"
     ]
    }
   ],
   "source": [
    "# Mean amount of trust emotion words throughout low rated reviews:\n",
    "avg_trust_low_host = sum(trust_low_host) / len(trust_low_host)\n",
    "\n",
    "# Mean amount of trust emotion words throughout high rated reviews:\n",
    "avg_trust_high_host = sum(trust_high_host) / len(trust_high_host)\n",
    "\n",
    "print(avg_trust_low_host)\n",
    "print(avg_trust_high_host)"
   ]
  },
  {
   "cell_type": "markdown",
   "metadata": {},
   "source": [
    "**Parasite**"
   ]
  },
  {
   "cell_type": "code",
   "execution_count": 124,
   "metadata": {},
   "outputs": [
    {
     "name": "stdout",
     "output_type": "stream",
     "text": [
      "1.2360594795539033\n",
      "1.1861261775620897\n"
     ]
    }
   ],
   "source": [
    "# Mean amount of trust emotion words throughout low rated reviews:\n",
    "avg_trust_low_parasite = sum(trust_low_parasite) / len(trust_low_parasite)\n",
    "\n",
    "# Mean amount of trust emotion words throughout high rated reviews:\n",
    "avg_trust_high_parasite = sum(trust_high_parasite) / len(trust_high_parasite)\n",
    "\n",
    "print(avg_trust_low_parasite)\n",
    "print(avg_trust_high_parasite)"
   ]
  },
  {
   "cell_type": "markdown",
   "metadata": {},
   "source": [
    "**Looking at `sadness` for each movie:**"
   ]
  },
  {
   "cell_type": "code",
   "execution_count": 125,
   "metadata": {},
   "outputs": [],
   "source": [
    "sad_low_host = []\n",
    "sad_high_host = []\n",
    "\n",
    "for rev in rt_host_user:\n",
    "    scnt = len(rev['sadness'])\n",
    "    if rev['score']<3:\n",
    "        sad_low_host.append(scnt)\n",
    "    if rev['score']>=4:\n",
    "        sad_high_host.append(scnt)\n",
    "        \n",
    "sad_low_parasite = []\n",
    "sad_high_parasite = []\n",
    "\n",
    "for rev in rt_parasite_user:\n",
    "    scnt = len(rev['sadness'])\n",
    "    if rev['score']<3:\n",
    "        sad_low_parasite.append(scnt)\n",
    "    if rev['score']>=4:\n",
    "        sad_high_parasite.append(scnt)"
   ]
  },
  {
   "cell_type": "markdown",
   "metadata": {},
   "source": [
    "**The Host**"
   ]
  },
  {
   "cell_type": "code",
   "execution_count": 126,
   "metadata": {},
   "outputs": [
    {
     "name": "stdout",
     "output_type": "stream",
     "text": [
      "0.7382629107981221\n",
      "0.4389937106918239\n"
     ]
    }
   ],
   "source": [
    "# Mean amount of sadness emotion words throughout low rated reviews:\n",
    "avg_sad_low_host = sum(sad_low_host) / len(sad_low_host)\n",
    "\n",
    "# Mean amount of sadness emotion words throughout high rated reviews:\n",
    "avg_sad_high_host = sum(sad_high_host) / len(sad_high_host)\n",
    "\n",
    "print(avg_sad_low_host)\n",
    "print(avg_sad_high_host)"
   ]
  },
  {
   "cell_type": "markdown",
   "metadata": {},
   "source": [
    "**Parasite**"
   ]
  },
  {
   "cell_type": "code",
   "execution_count": 127,
   "metadata": {},
   "outputs": [
    {
     "name": "stdout",
     "output_type": "stream",
     "text": [
      "1.1970260223048328\n",
      "0.48015986297459323\n"
     ]
    }
   ],
   "source": [
    "# Mean amount of sadness emotion words throughout low rated reviews:\n",
    "avg_sad_low_parasite = sum(sad_low_parasite) / len(sad_low_parasite)\n",
    "\n",
    "# Mean amount of sadness emotion words throughout high rated reviews:\n",
    "avg_sad_high_parasite = sum(sad_high_parasite) / len(sad_high_parasite)\n",
    "\n",
    "print(avg_sad_low_parasite)\n",
    "print(avg_sad_high_parasite)"
   ]
  },
  {
   "cell_type": "markdown",
   "metadata": {},
   "source": [
    "**Looking at `anger` for each movie:**"
   ]
  },
  {
   "cell_type": "code",
   "execution_count": 128,
   "metadata": {},
   "outputs": [],
   "source": [
    "anger_low_host = []\n",
    "anger_high_host = []\n",
    "\n",
    "for rev in rt_host_user:\n",
    "    acnt = len(rev['anger'])\n",
    "    if rev['score']<3:\n",
    "        anger_low_host.append(acnt)\n",
    "    if rev['score']>=4:\n",
    "        anger_high_host.append(acnt)\n",
    "        \n",
    "anger_low_parasite = []\n",
    "anger_high_parasite = []\n",
    "\n",
    "for rev in rt_parasite_user:\n",
    "    acnt = len(rev['anger'])\n",
    "    if rev['score']<3:\n",
    "        anger_low_parasite.append(acnt)\n",
    "    if rev['score']>=4:\n",
    "        anger_high_parasite.append(acnt)"
   ]
  },
  {
   "cell_type": "markdown",
   "metadata": {},
   "source": [
    "**The Host**"
   ]
  },
  {
   "cell_type": "code",
   "execution_count": 129,
   "metadata": {},
   "outputs": [
    {
     "name": "stdout",
     "output_type": "stream",
     "text": [
      "0.6983568075117371\n",
      "0.429769392033543\n"
     ]
    }
   ],
   "source": [
    "# Mean amount of anger emotion words throughout low rated reviews:\n",
    "avg_anger_low_host = sum(anger_low_host) / len(anger_low_host)\n",
    "\n",
    "# Mean amount of anger emotion words throughout high rated reviews:\n",
    "avg_anger_high_host = sum(anger_high_host) / len(anger_high_host)\n",
    "\n",
    "print(avg_anger_low_host)\n",
    "print(avg_anger_high_host)"
   ]
  },
  {
   "cell_type": "markdown",
   "metadata": {},
   "source": [
    "**Parasite**"
   ]
  },
  {
   "cell_type": "code",
   "execution_count": 130,
   "metadata": {},
   "outputs": [
    {
     "name": "stdout",
     "output_type": "stream",
     "text": [
      "1.0353159851301115\n",
      "0.4216385954895804\n"
     ]
    }
   ],
   "source": [
    "# Mean amount of anger emotion words throughout low rated reviews:\n",
    "avg_anger_low_parasite = sum(anger_low_parasite) / len(anger_low_parasite)\n",
    "\n",
    "# Mean amount of anger emotion words throughout high rated reviews:\n",
    "avg_anger_high_parasite = sum(anger_high_parasite) / len(anger_high_parasite)\n",
    "\n",
    "print(avg_anger_low_parasite)\n",
    "print(avg_anger_high_parasite)"
   ]
  },
  {
   "cell_type": "markdown",
   "metadata": {},
   "source": [
    "**Looking at `surprise` for each movie:**"
   ]
  },
  {
   "cell_type": "code",
   "execution_count": 131,
   "metadata": {},
   "outputs": [],
   "source": [
    "surprise_low_host = []\n",
    "surprise_high_host = []\n",
    "\n",
    "for rev in rt_host_user:\n",
    "    s_cnt = len(rev['surprise'])\n",
    "    if rev['score']<3:\n",
    "        surprise_low_host.append(s_cnt)\n",
    "    if rev['score']>=4:\n",
    "        surprise_high_host.append(s_cnt)\n",
    "        \n",
    "surprise_low_parasite = []\n",
    "surprise_high_parasite = []\n",
    "\n",
    "for rev in rt_parasite_user:\n",
    "    s_cnt = len(rev['surprise'])\n",
    "    if rev['score']<3:\n",
    "        surprise_low_parasite.append(s_cnt)\n",
    "    if rev['score']>=4:\n",
    "        surprise_high_parasite.append(s_cnt)"
   ]
  },
  {
   "cell_type": "markdown",
   "metadata": {},
   "source": [
    "**The Host**"
   ]
  },
  {
   "cell_type": "code",
   "execution_count": 132,
   "metadata": {},
   "outputs": [
    {
     "name": "stdout",
     "output_type": "stream",
     "text": [
      "0.4612676056338028\n",
      "0.7333333333333333\n"
     ]
    }
   ],
   "source": [
    "# Mean amount of surprise emotion words throughout low rated reviews:\n",
    "avg_surprise_low_host = sum(surprise_low_host) / len(surprise_low_host)\n",
    "\n",
    "# Mean amount of surprise emotion words throughout high rated reviews:\n",
    "avg_surprise_high_host = sum(surprise_high_host) / len(surprise_high_host)\n",
    "\n",
    "print(avg_surprise_low_host)\n",
    "print(avg_surprise_high_host)"
   ]
  },
  {
   "cell_type": "markdown",
   "metadata": {},
   "source": [
    "**Parasite**"
   ]
  },
  {
   "cell_type": "code",
   "execution_count": 133,
   "metadata": {},
   "outputs": [
    {
     "name": "stdout",
     "output_type": "stream",
     "text": [
      "0.7323420074349443\n",
      "0.7273765343990864\n"
     ]
    }
   ],
   "source": [
    "# Mean amount of surprise emotion words throughout low rated reviews:\n",
    "avg_surprise_low_parasite = sum(surprise_low_parasite) / len(surprise_low_parasite)\n",
    "\n",
    "# Mean amount of surprise emotion words throughout high rated reviews:\n",
    "avg_surprise_high_parasite = sum(surprise_high_parasite) / len(surprise_high_parasite)\n",
    "\n",
    "print(avg_surprise_low_parasite)\n",
    "print(avg_surprise_high_parasite)"
   ]
  },
  {
   "cell_type": "markdown",
   "metadata": {},
   "source": [
    "**Looking at `disgust` for each movie:**"
   ]
  },
  {
   "cell_type": "code",
   "execution_count": 134,
   "metadata": {},
   "outputs": [],
   "source": [
    "disgust_low_host = []\n",
    "disgust_high_host = []\n",
    "\n",
    "for rev in rt_host_user:\n",
    "    dcnt = len(rev['disgust'])\n",
    "    if rev['score']<3:\n",
    "        disgust_low_host.append(dcnt)\n",
    "    if rev['score']>=4:\n",
    "        disgust_high_host.append(dcnt)\n",
    "        \n",
    "disgust_low_parasite = []\n",
    "disgust_high_parasite = []\n",
    "\n",
    "for rev in rt_parasite_user:\n",
    "    dcnt = len(rev['disgust'])\n",
    "    if rev['score']<3:\n",
    "        disgust_low_parasite.append(dcnt)\n",
    "    if rev['score']>=4:\n",
    "        disgust_high_parasite.append(dcnt)"
   ]
  },
  {
   "cell_type": "markdown",
   "metadata": {},
   "source": [
    "**The Host**"
   ]
  },
  {
   "cell_type": "code",
   "execution_count": 135,
   "metadata": {},
   "outputs": [
    {
     "name": "stdout",
     "output_type": "stream",
     "text": [
      "0.7018779342723005\n",
      "0.3589098532494759\n"
     ]
    }
   ],
   "source": [
    "# Mean amount of disgust emotion words throughout low rated reviews:\n",
    "avg_disgust_low_host = sum(disgust_low_host) / len(disgust_low_host)\n",
    "\n",
    "# Mean amount of disgust emotion words throughout high rated reviews:\n",
    "avg_disgust_high_host = sum(disgust_high_host) / len(disgust_high_host)\n",
    "\n",
    "print(avg_disgust_low_host)\n",
    "print(avg_disgust_high_host)"
   ]
  },
  {
   "cell_type": "markdown",
   "metadata": {},
   "source": [
    "**Parasite**"
   ]
  },
  {
   "cell_type": "code",
   "execution_count": 136,
   "metadata": {},
   "outputs": [
    {
     "name": "stdout",
     "output_type": "stream",
     "text": [
      "1.087360594795539\n",
      "0.3074507564944333\n"
     ]
    }
   ],
   "source": [
    "# Mean amount of disgust emotion words throughout low rated reviews:\n",
    "avg_disgust_low_parasite = sum(disgust_low_parasite) / len(disgust_low_parasite)\n",
    "\n",
    "# Mean amount of disgust emotion words throughout high rated reviews:\n",
    "avg_disgust_high_parasite = sum(disgust_high_parasite) / len(disgust_high_parasite)\n",
    "\n",
    "print(avg_disgust_low_parasite)\n",
    "print(avg_disgust_high_parasite)"
   ]
  },
  {
   "cell_type": "markdown",
   "metadata": {},
   "source": [
    "**Looking at `joy` for each movie:**"
   ]
  },
  {
   "cell_type": "code",
   "execution_count": 137,
   "metadata": {},
   "outputs": [],
   "source": [
    "joy_low_host = []\n",
    "joy_high_host = []\n",
    "\n",
    "for rev in rt_host_user:\n",
    "    jcnt = len(rev['joy'])\n",
    "    if rev['score']<3:\n",
    "        joy_low_host.append(jcnt)\n",
    "    if rev['score']>=4:\n",
    "        joy_high_host.append(jcnt)\n",
    "        \n",
    "joy_low_parasite = []\n",
    "joy_high_parasite = []\n",
    "\n",
    "for rev in rt_parasite_user:\n",
    "    jcnt = len(rev['joy'])\n",
    "    if rev['score']<3:\n",
    "        joy_low_parasite.append(jcnt)\n",
    "    if rev['score']>=4:\n",
    "        joy_high_parasite.append(jcnt)"
   ]
  },
  {
   "cell_type": "markdown",
   "metadata": {},
   "source": [
    "**The Host**"
   ]
  },
  {
   "cell_type": "code",
   "execution_count": 138,
   "metadata": {},
   "outputs": [
    {
     "name": "stdout",
     "output_type": "stream",
     "text": [
      "0.8415492957746479\n",
      "1.2268343815513627\n"
     ]
    }
   ],
   "source": [
    "# Mean amount of joy emotion words throughout low rated reviews:\n",
    "avg_joy_low_host = sum(joy_low_host) / len(joy_low_host)\n",
    "\n",
    "# Mean amount of disgust emotion words throughout high rated reviews:\n",
    "avg_joy_high_host = sum(joy_high_host) / len(joy_high_host)\n",
    "\n",
    "print(avg_joy_low_host)\n",
    "print(avg_joy_high_host)"
   ]
  },
  {
   "cell_type": "markdown",
   "metadata": {},
   "source": [
    "**Parasite**"
   ]
  },
  {
   "cell_type": "code",
   "execution_count": 139,
   "metadata": {},
   "outputs": [
    {
     "name": "stdout",
     "output_type": "stream",
     "text": [
      "1.050185873605948\n",
      "1.2320867827576363\n"
     ]
    }
   ],
   "source": [
    "# Mean amount of joy emotion words throughout low rated reviews:\n",
    "avg_joy_low_parasite = sum(joy_low_parasite) / len(joy_low_parasite)\n",
    "\n",
    "# Mean amount of disgust emotion words throughout high rated reviews:\n",
    "avg_joy_high_parasite = sum(joy_high_parasite) / len(joy_high_parasite)\n",
    "\n",
    "print(avg_joy_low_parasite)\n",
    "print(avg_joy_high_parasite)"
   ]
  },
  {
   "cell_type": "markdown",
   "metadata": {},
   "source": [
    "**Looking at `anticipation` for each movie:**"
   ]
  },
  {
   "cell_type": "code",
   "execution_count": 140,
   "metadata": {},
   "outputs": [],
   "source": [
    "ant_low_host = []\n",
    "ant_high_host = []\n",
    "\n",
    "for rev in rt_host_user:\n",
    "    a_cnt = len(rev['anticipation'])\n",
    "    if rev['score']<3:\n",
    "        ant_low_host.append(a_cnt)\n",
    "    if rev['score']>=4:\n",
    "        ant_high_host.append(a_cnt)\n",
    "        \n",
    "ant_low_parasite = []\n",
    "ant_high_parasite = []\n",
    "\n",
    "for rev in rt_parasite_user:\n",
    "    a_cnt = len(rev['anticipation'])\n",
    "    if rev['score']<3:\n",
    "        ant_low_parasite.append(a_cnt)\n",
    "    if rev['score']>=4:\n",
    "        ant_high_parasite.append(a_cnt)"
   ]
  },
  {
   "cell_type": "markdown",
   "metadata": {},
   "source": [
    "**The Host**"
   ]
  },
  {
   "cell_type": "code",
   "execution_count": 141,
   "metadata": {},
   "outputs": [
    {
     "name": "stdout",
     "output_type": "stream",
     "text": [
      "0.9823943661971831\n",
      "1.2465408805031446\n"
     ]
    }
   ],
   "source": [
    "# Mean amount of anticipation emotion words throughout low rated reviews:\n",
    "avg_ant_low_host = sum(ant_low_host) / len(ant_low_host)\n",
    "\n",
    "# Mean amount of anticipation emotion words throughout high rated reviews:\n",
    "avg_ant_high_host = sum(ant_high_host) / len(ant_high_host)\n",
    "\n",
    "print(avg_ant_low_host)\n",
    "print(avg_ant_high_host)"
   ]
  },
  {
   "cell_type": "markdown",
   "metadata": {},
   "source": [
    "**Parasite**"
   ]
  },
  {
   "cell_type": "code",
   "execution_count": 142,
   "metadata": {},
   "outputs": [
    {
     "name": "stdout",
     "output_type": "stream",
     "text": [
      "1.3438661710037174\n",
      "1.284613188695404\n"
     ]
    }
   ],
   "source": [
    "# Mean amount of anticipation emotion words throughout low rated reviews:\n",
    "avg_ant_low_parasite = sum(ant_low_parasite) / len(ant_low_parasite)\n",
    "\n",
    "# Mean amount of anticipation emotion words throughout high rated reviews:\n",
    "avg_ant_high_parasite = sum(ant_high_parasite) / len(ant_high_parasite)\n",
    "\n",
    "print(avg_ant_low_parasite)\n",
    "print(avg_ant_high_parasite)"
   ]
  },
  {
   "cell_type": "markdown",
   "metadata": {},
   "source": [
    "* Not sure if this is a visualization I want to include, but it's intriguing to get a sense of whether there's a difference between how words are grouped into the emotion and sentiment categories, according to the scored rating of the review:"
   ]
  },
  {
   "cell_type": "code",
   "execution_count": 143,
   "metadata": {},
   "outputs": [],
   "source": [
    "emotions_by_rating = {\n",
    "    'Trust': [avg_trust_high_host, avg_trust_low_host, avg_trust_high_parasite, avg_trust_low_parasite],\n",
    "    'Fear': [avg_fear_high_host, avg_fear_low_host, avg_fear_high_parasite, avg_fear_low_parasite],\n",
    "    'Negative' : [avg_neg_high_host, avg_neg_low_host, avg_neg_high_parasite, avg_neg_low_parasite],\n",
    "    'Sadness' : [avg_sad_high_host, avg_sad_low_host, avg_sad_high_parasite, avg_sad_low_parasite],\n",
    "    'Anger' : [avg_anger_high_host, avg_anger_low_host, avg_anger_high_parasite, avg_anger_low_parasite],\n",
    "    'Surprise' : [avg_surprise_high_host, avg_surprise_low_host, avg_surprise_high_parasite, avg_surprise_low_parasite],\n",
    "    'Positive' : [avg_pos_high_host, avg_pos_low_host, avg_pos_high_parasite, avg_pos_low_parasite],\n",
    "    'Disgust' : [avg_disgust_high_host, avg_disgust_low_host, avg_disgust_high_parasite, avg_disgust_low_parasite],\n",
    "    'Joy' : [avg_joy_high_host, avg_joy_low_host, avg_joy_high_parasite, avg_joy_low_parasite],\n",
    "    'Anticipation' : [avg_ant_high_host, avg_ant_low_host, avg_ant_high_parasite, avg_ant_low_parasite]\n",
    "        }\n",
    "\n",
    "emotions_by_rating_df = pd.DataFrame(emotions_by_rating, \n",
    "                           columns = ['Trust', 'Fear', 'Negative', 'Sadness', 'Anger', 'Surprise', 'Positive', 'Disgust', 'Joy', 'Anticipation'], \n",
    "                           index=['The Host (Positive Rating)', 'The Host (Negative Rating)','Parasite (Positive Rating)','Parasite (Negative Rating)'])\n"
   ]
  },
  {
   "cell_type": "code",
   "execution_count": 144,
   "metadata": {},
   "outputs": [
    {
     "data": {
      "text/html": [
       "<div>\n",
       "<style scoped>\n",
       "    .dataframe tbody tr th:only-of-type {\n",
       "        vertical-align: middle;\n",
       "    }\n",
       "\n",
       "    .dataframe tbody tr th {\n",
       "        vertical-align: top;\n",
       "    }\n",
       "\n",
       "    .dataframe thead th {\n",
       "        text-align: right;\n",
       "    }\n",
       "</style>\n",
       "<table border=\"1\" class=\"dataframe\">\n",
       "  <thead>\n",
       "    <tr style=\"text-align: right;\">\n",
       "      <th></th>\n",
       "      <th>Trust</th>\n",
       "      <th>Fear</th>\n",
       "      <th>Negative</th>\n",
       "      <th>Sadness</th>\n",
       "      <th>Anger</th>\n",
       "      <th>Surprise</th>\n",
       "      <th>Positive</th>\n",
       "      <th>Disgust</th>\n",
       "      <th>Joy</th>\n",
       "      <th>Anticipation</th>\n",
       "    </tr>\n",
       "  </thead>\n",
       "  <tbody>\n",
       "    <tr>\n",
       "      <th>The Host (Positive Rating)</th>\n",
       "      <td>1.103983</td>\n",
       "      <td>0.720755</td>\n",
       "      <td>0.945912</td>\n",
       "      <td>0.438994</td>\n",
       "      <td>0.429769</td>\n",
       "      <td>0.733333</td>\n",
       "      <td>2.197904</td>\n",
       "      <td>0.358910</td>\n",
       "      <td>1.226834</td>\n",
       "      <td>1.246541</td>\n",
       "    </tr>\n",
       "    <tr>\n",
       "      <th>The Host (Negative Rating)</th>\n",
       "      <td>0.796948</td>\n",
       "      <td>0.803991</td>\n",
       "      <td>1.500000</td>\n",
       "      <td>0.738263</td>\n",
       "      <td>0.698357</td>\n",
       "      <td>0.461268</td>\n",
       "      <td>1.602113</td>\n",
       "      <td>0.701878</td>\n",
       "      <td>0.841549</td>\n",
       "      <td>0.982394</td>\n",
       "    </tr>\n",
       "    <tr>\n",
       "      <th>Parasite (Positive Rating)</th>\n",
       "      <td>1.186126</td>\n",
       "      <td>0.610334</td>\n",
       "      <td>0.918356</td>\n",
       "      <td>0.480160</td>\n",
       "      <td>0.421639</td>\n",
       "      <td>0.727377</td>\n",
       "      <td>2.513274</td>\n",
       "      <td>0.307451</td>\n",
       "      <td>1.232087</td>\n",
       "      <td>1.284613</td>\n",
       "    </tr>\n",
       "    <tr>\n",
       "      <th>Parasite (Negative Rating)</th>\n",
       "      <td>1.236059</td>\n",
       "      <td>1.070632</td>\n",
       "      <td>2.304833</td>\n",
       "      <td>1.197026</td>\n",
       "      <td>1.035316</td>\n",
       "      <td>0.732342</td>\n",
       "      <td>2.355019</td>\n",
       "      <td>1.087361</td>\n",
       "      <td>1.050186</td>\n",
       "      <td>1.343866</td>\n",
       "    </tr>\n",
       "  </tbody>\n",
       "</table>\n",
       "</div>"
      ],
      "text/plain": [
       "                               Trust      Fear  Negative   Sadness     Anger  \\\n",
       "The Host (Positive Rating)  1.103983  0.720755  0.945912  0.438994  0.429769   \n",
       "The Host (Negative Rating)  0.796948  0.803991  1.500000  0.738263  0.698357   \n",
       "Parasite (Positive Rating)  1.186126  0.610334  0.918356  0.480160  0.421639   \n",
       "Parasite (Negative Rating)  1.236059  1.070632  2.304833  1.197026  1.035316   \n",
       "\n",
       "                            Surprise  Positive   Disgust       Joy  \\\n",
       "The Host (Positive Rating)  0.733333  2.197904  0.358910  1.226834   \n",
       "The Host (Negative Rating)  0.461268  1.602113  0.701878  0.841549   \n",
       "Parasite (Positive Rating)  0.727377  2.513274  0.307451  1.232087   \n",
       "Parasite (Negative Rating)  0.732342  2.355019  1.087361  1.050186   \n",
       "\n",
       "                            Anticipation  \n",
       "The Host (Positive Rating)      1.246541  \n",
       "The Host (Negative Rating)      0.982394  \n",
       "Parasite (Positive Rating)      1.284613  \n",
       "Parasite (Negative Rating)      1.343866  "
      ]
     },
     "execution_count": 144,
     "metadata": {},
     "output_type": "execute_result"
    }
   ],
   "source": [
    "emotions_by_rating_df"
   ]
  },
  {
   "cell_type": "code",
   "execution_count": 145,
   "metadata": {},
   "outputs": [],
   "source": [
    "rating_df_long = emotions_by_rating_df.melt()"
   ]
  },
  {
   "cell_type": "code",
   "execution_count": 146,
   "metadata": {},
   "outputs": [
    {
     "data": {
      "text/html": [
       "<div>\n",
       "<style scoped>\n",
       "    .dataframe tbody tr th:only-of-type {\n",
       "        vertical-align: middle;\n",
       "    }\n",
       "\n",
       "    .dataframe tbody tr th {\n",
       "        vertical-align: top;\n",
       "    }\n",
       "\n",
       "    .dataframe thead th {\n",
       "        text-align: right;\n",
       "    }\n",
       "</style>\n",
       "<table border=\"1\" class=\"dataframe\">\n",
       "  <thead>\n",
       "    <tr style=\"text-align: right;\">\n",
       "      <th></th>\n",
       "      <th>variable</th>\n",
       "      <th>value</th>\n",
       "    </tr>\n",
       "  </thead>\n",
       "  <tbody>\n",
       "    <tr>\n",
       "      <th>0</th>\n",
       "      <td>Trust</td>\n",
       "      <td>1.103983</td>\n",
       "    </tr>\n",
       "    <tr>\n",
       "      <th>1</th>\n",
       "      <td>Trust</td>\n",
       "      <td>0.796948</td>\n",
       "    </tr>\n",
       "    <tr>\n",
       "      <th>2</th>\n",
       "      <td>Trust</td>\n",
       "      <td>1.186126</td>\n",
       "    </tr>\n",
       "    <tr>\n",
       "      <th>3</th>\n",
       "      <td>Trust</td>\n",
       "      <td>1.236059</td>\n",
       "    </tr>\n",
       "    <tr>\n",
       "      <th>4</th>\n",
       "      <td>Fear</td>\n",
       "      <td>0.720755</td>\n",
       "    </tr>\n",
       "    <tr>\n",
       "      <th>5</th>\n",
       "      <td>Fear</td>\n",
       "      <td>0.803991</td>\n",
       "    </tr>\n",
       "    <tr>\n",
       "      <th>6</th>\n",
       "      <td>Fear</td>\n",
       "      <td>0.610334</td>\n",
       "    </tr>\n",
       "    <tr>\n",
       "      <th>7</th>\n",
       "      <td>Fear</td>\n",
       "      <td>1.070632</td>\n",
       "    </tr>\n",
       "    <tr>\n",
       "      <th>8</th>\n",
       "      <td>Negative</td>\n",
       "      <td>0.945912</td>\n",
       "    </tr>\n",
       "    <tr>\n",
       "      <th>9</th>\n",
       "      <td>Negative</td>\n",
       "      <td>1.500000</td>\n",
       "    </tr>\n",
       "    <tr>\n",
       "      <th>10</th>\n",
       "      <td>Negative</td>\n",
       "      <td>0.918356</td>\n",
       "    </tr>\n",
       "    <tr>\n",
       "      <th>11</th>\n",
       "      <td>Negative</td>\n",
       "      <td>2.304833</td>\n",
       "    </tr>\n",
       "    <tr>\n",
       "      <th>12</th>\n",
       "      <td>Sadness</td>\n",
       "      <td>0.438994</td>\n",
       "    </tr>\n",
       "    <tr>\n",
       "      <th>13</th>\n",
       "      <td>Sadness</td>\n",
       "      <td>0.738263</td>\n",
       "    </tr>\n",
       "    <tr>\n",
       "      <th>14</th>\n",
       "      <td>Sadness</td>\n",
       "      <td>0.480160</td>\n",
       "    </tr>\n",
       "    <tr>\n",
       "      <th>15</th>\n",
       "      <td>Sadness</td>\n",
       "      <td>1.197026</td>\n",
       "    </tr>\n",
       "    <tr>\n",
       "      <th>16</th>\n",
       "      <td>Anger</td>\n",
       "      <td>0.429769</td>\n",
       "    </tr>\n",
       "    <tr>\n",
       "      <th>17</th>\n",
       "      <td>Anger</td>\n",
       "      <td>0.698357</td>\n",
       "    </tr>\n",
       "    <tr>\n",
       "      <th>18</th>\n",
       "      <td>Anger</td>\n",
       "      <td>0.421639</td>\n",
       "    </tr>\n",
       "    <tr>\n",
       "      <th>19</th>\n",
       "      <td>Anger</td>\n",
       "      <td>1.035316</td>\n",
       "    </tr>\n",
       "    <tr>\n",
       "      <th>20</th>\n",
       "      <td>Surprise</td>\n",
       "      <td>0.733333</td>\n",
       "    </tr>\n",
       "    <tr>\n",
       "      <th>21</th>\n",
       "      <td>Surprise</td>\n",
       "      <td>0.461268</td>\n",
       "    </tr>\n",
       "    <tr>\n",
       "      <th>22</th>\n",
       "      <td>Surprise</td>\n",
       "      <td>0.727377</td>\n",
       "    </tr>\n",
       "    <tr>\n",
       "      <th>23</th>\n",
       "      <td>Surprise</td>\n",
       "      <td>0.732342</td>\n",
       "    </tr>\n",
       "    <tr>\n",
       "      <th>24</th>\n",
       "      <td>Positive</td>\n",
       "      <td>2.197904</td>\n",
       "    </tr>\n",
       "    <tr>\n",
       "      <th>25</th>\n",
       "      <td>Positive</td>\n",
       "      <td>1.602113</td>\n",
       "    </tr>\n",
       "    <tr>\n",
       "      <th>26</th>\n",
       "      <td>Positive</td>\n",
       "      <td>2.513274</td>\n",
       "    </tr>\n",
       "    <tr>\n",
       "      <th>27</th>\n",
       "      <td>Positive</td>\n",
       "      <td>2.355019</td>\n",
       "    </tr>\n",
       "    <tr>\n",
       "      <th>28</th>\n",
       "      <td>Disgust</td>\n",
       "      <td>0.358910</td>\n",
       "    </tr>\n",
       "    <tr>\n",
       "      <th>29</th>\n",
       "      <td>Disgust</td>\n",
       "      <td>0.701878</td>\n",
       "    </tr>\n",
       "    <tr>\n",
       "      <th>30</th>\n",
       "      <td>Disgust</td>\n",
       "      <td>0.307451</td>\n",
       "    </tr>\n",
       "    <tr>\n",
       "      <th>31</th>\n",
       "      <td>Disgust</td>\n",
       "      <td>1.087361</td>\n",
       "    </tr>\n",
       "    <tr>\n",
       "      <th>32</th>\n",
       "      <td>Joy</td>\n",
       "      <td>1.226834</td>\n",
       "    </tr>\n",
       "    <tr>\n",
       "      <th>33</th>\n",
       "      <td>Joy</td>\n",
       "      <td>0.841549</td>\n",
       "    </tr>\n",
       "    <tr>\n",
       "      <th>34</th>\n",
       "      <td>Joy</td>\n",
       "      <td>1.232087</td>\n",
       "    </tr>\n",
       "    <tr>\n",
       "      <th>35</th>\n",
       "      <td>Joy</td>\n",
       "      <td>1.050186</td>\n",
       "    </tr>\n",
       "    <tr>\n",
       "      <th>36</th>\n",
       "      <td>Anticipation</td>\n",
       "      <td>1.246541</td>\n",
       "    </tr>\n",
       "    <tr>\n",
       "      <th>37</th>\n",
       "      <td>Anticipation</td>\n",
       "      <td>0.982394</td>\n",
       "    </tr>\n",
       "    <tr>\n",
       "      <th>38</th>\n",
       "      <td>Anticipation</td>\n",
       "      <td>1.284613</td>\n",
       "    </tr>\n",
       "    <tr>\n",
       "      <th>39</th>\n",
       "      <td>Anticipation</td>\n",
       "      <td>1.343866</td>\n",
       "    </tr>\n",
       "  </tbody>\n",
       "</table>\n",
       "</div>"
      ],
      "text/plain": [
       "        variable     value\n",
       "0          Trust  1.103983\n",
       "1          Trust  0.796948\n",
       "2          Trust  1.186126\n",
       "3          Trust  1.236059\n",
       "4           Fear  0.720755\n",
       "5           Fear  0.803991\n",
       "6           Fear  0.610334\n",
       "7           Fear  1.070632\n",
       "8       Negative  0.945912\n",
       "9       Negative  1.500000\n",
       "10      Negative  0.918356\n",
       "11      Negative  2.304833\n",
       "12       Sadness  0.438994\n",
       "13       Sadness  0.738263\n",
       "14       Sadness  0.480160\n",
       "15       Sadness  1.197026\n",
       "16         Anger  0.429769\n",
       "17         Anger  0.698357\n",
       "18         Anger  0.421639\n",
       "19         Anger  1.035316\n",
       "20      Surprise  0.733333\n",
       "21      Surprise  0.461268\n",
       "22      Surprise  0.727377\n",
       "23      Surprise  0.732342\n",
       "24      Positive  2.197904\n",
       "25      Positive  1.602113\n",
       "26      Positive  2.513274\n",
       "27      Positive  2.355019\n",
       "28       Disgust  0.358910\n",
       "29       Disgust  0.701878\n",
       "30       Disgust  0.307451\n",
       "31       Disgust  1.087361\n",
       "32           Joy  1.226834\n",
       "33           Joy  0.841549\n",
       "34           Joy  1.232087\n",
       "35           Joy  1.050186\n",
       "36  Anticipation  1.246541\n",
       "37  Anticipation  0.982394\n",
       "38  Anticipation  1.284613\n",
       "39  Anticipation  1.343866"
      ]
     },
     "execution_count": 146,
     "metadata": {},
     "output_type": "execute_result"
    }
   ],
   "source": [
    "rating_df_long"
   ]
  },
  {
   "cell_type": "code",
   "execution_count": 147,
   "metadata": {},
   "outputs": [],
   "source": [
    "rating_df_long = emotions_by_rating_df.reset_index().melt(id_vars=['index'])"
   ]
  },
  {
   "cell_type": "code",
   "execution_count": 148,
   "metadata": {},
   "outputs": [],
   "source": [
    "rating_df_long = rating_df_long.rename(columns = {'index': 'Movie (Rating)',\n",
    "                                                  'variable':'Sentiment',\n",
    "                                                  'value':'Average Word Count'})"
   ]
  },
  {
   "cell_type": "code",
   "execution_count": 149,
   "metadata": {},
   "outputs": [],
   "source": [
    "valence_rating_df = rating_df_long[rating_df_long['Sentiment'].isin(['Positive','Negative'])]\n"
   ]
  },
  {
   "cell_type": "code",
   "execution_count": 150,
   "metadata": {},
   "outputs": [
    {
     "data": {
      "image/png": "[encoded data removed]",
      "text/plain": [
       "<Figure size 576x432 with 1 Axes>"
      ]
     },
     "metadata": {
      "needs_background": "light"
     },
     "output_type": "display_data"
    }
   ],
   "source": [
    "graph = sns.catplot(data=valence_rating_df, kind='bar', x='Sentiment', y='Average Word Count', hue='Movie (Rating)')\n",
    "graph.fig.set_figwidth(8)\n",
    "graph.fig.set_figheight(6)"
   ]
  },
  {
   "cell_type": "markdown",
   "metadata": {},
   "source": [
    "## Conclusion\n",
    "\n",
    "In this notebook, we went through the bulk of my project, which is on sentiment analysis. We used VADER, NRC VAD Lexicon, and NRC Emotion Lexicon, which were all useful for different reasons when we're trying to understand the general sentiment behind corpora. However, along the way, I found that each tool/lexicon has its own limitations. \n",
    "\n",
    "But overall, this was an awesome way to gauge the sentiment behind the movie reviews from RT. The main takeaway to understand is that in general, _Parasite_ is indeed more well-received: more positive reviews, higher sentiment scores. It was also quite fascinating to look specifically at what reviewers are saying; looking through which words were driving each emotion category. \n",
    "\n",
    "With that, I'm very excited to weave together a narrative about my research and hopefully produce an entertaining, thoughtful, engaging story about my data and analysis! Thanks for sticking with me, and please go check out my other notebooks to see what else I did for my project."
   ]
  },
  {
   "cell_type": "code",
   "execution_count": null,
   "metadata": {},
   "outputs": [],
   "source": []
  }
 ],
 "metadata": {
  "kernelspec": {
   "display_name": "Python 3",
   "language": "python",
   "name": "python3"
  },
  "language_info": {
   "codemirror_mode": {
    "name": "ipython",
    "version": 3
   },
   "file_extension": ".py",
   "mimetype": "text/x-python",
   "name": "python",
   "nbconvert_exporter": "python",
   "pygments_lexer": "ipython3",
   "version": "3.7.3"
  }
 },
 "nbformat": 4,
 "nbformat_minor": 2
}
