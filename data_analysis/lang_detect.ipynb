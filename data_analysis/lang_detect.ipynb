{
 "cells": [
  {
   "cell_type": "markdown",
   "metadata": {},
   "source": [
    "# Filtering User Reviews by Language\n",
    "\n",
    "In this short notebook, I will be using the `langdetect` library to detect the language of my review data, and see if I can clean the data by taking only the English reviews. This is because for the purpose of my data analysis, I want to focus on English words to carry out sentiment analysis which is the bulk of my overall project.\n",
    "\n",
    "Here we go~"
   ]
  },
  {
   "cell_type": "code",
   "execution_count": 17,
   "metadata": {},
   "outputs": [],
   "source": [
    "from langdetect import detect\n",
    "import json"
   ]
  },
  {
   "cell_type": "markdown",
   "metadata": {},
   "source": [
    "## Detecting language in Rotten Tomatoes user reviews"
   ]
  },
  {
   "cell_type": "markdown",
   "metadata": {},
   "source": [
    "We'll start with RT user reviews of _The Host_"
   ]
  },
  {
   "cell_type": "code",
   "execution_count": 20,
   "metadata": {},
   "outputs": [],
   "source": [
    "rt_host = json.load(open('../data/user_reviews/tomatoes_host_user.json'))"
   ]
  },
  {
   "cell_type": "code",
   "execution_count": 21,
   "metadata": {},
   "outputs": [
    {
     "data": {
      "text/plain": [
       "5216"
      ]
     },
     "execution_count": 21,
     "metadata": {},
     "output_type": "execute_result"
    }
   ],
   "source": [
    "len(rt_host)"
   ]
  },
  {
   "cell_type": "code",
   "execution_count": 22,
   "metadata": {},
   "outputs": [
    {
     "data": {
      "text/plain": [
       "{'date': 'Dec 19, 2009',\n",
       " 'score': 3,\n",
       " 'text': \"Some good CGI, but playing it for laughs didn't really work, not when children are being eaten.\"}"
      ]
     },
     "execution_count": 22,
     "metadata": {},
     "output_type": "execute_result"
    }
   ],
   "source": [
    "rt_host[10]"
   ]
  },
  {
   "cell_type": "code",
   "execution_count": 23,
   "metadata": {},
   "outputs": [
    {
     "data": {
      "text/plain": [
       "'en'"
      ]
     },
     "execution_count": 23,
     "metadata": {},
     "output_type": "execute_result"
    }
   ],
   "source": [
    "detect(rt_host[0]['text'])"
   ]
  },
  {
   "cell_type": "code",
   "execution_count": 32,
   "metadata": {},
   "outputs": [
    {
     "name": "stdout",
     "output_type": "stream",
     "text": [
      "error with {'date': 'Aug 20, 2009', 'score': 3.5, 'text': 'http://www.stripes.com/article.asp?section=104&article=25717&archive=true'}\n",
      "error with {'date': 'Apr 12, 2009', 'score': 4, 'text': 'http://cineptimoarte.blogspot.mx/'}\n",
      "error with {'date': 'Feb 16, 2008', 'score': 4.5, 'text': 'http://www.lukechu.com/serendipity/index.php?/archives/442-The-Host.html'}\n"
     ]
    }
   ],
   "source": [
    "# Creating a new list with just the English-language reviews:\n",
    "\n",
    "rt_host_revs = []\n",
    "\n",
    "for rev in rt_host:\n",
    "    try:\n",
    "        lang = detect(rev['text'])\n",
    "        if lang=='en':\n",
    "            rt_host_revs.append(rev)\n",
    "\n",
    "    except:\n",
    "        print('error with', rev)"
   ]
  },
  {
   "cell_type": "code",
   "execution_count": 35,
   "metadata": {
    "scrolled": true
   },
   "outputs": [
    {
     "data": {
      "text/plain": [
       "4855"
      ]
     },
     "execution_count": 35,
     "metadata": {},
     "output_type": "execute_result"
    }
   ],
   "source": [
    "len(rt_host_revs)"
   ]
  },
  {
   "cell_type": "code",
   "execution_count": 36,
   "metadata": {},
   "outputs": [],
   "source": [
    "# Saving out this cleaned English review list as the new json file:\n",
    "with open('../data/user_reviews/tomatoes_host_user.json','w', encoding='UTF-8') as out:\n",
    "    out.write(json.dumps(rt_host_revs))"
   ]
  },
  {
   "cell_type": "markdown",
   "metadata": {},
   "source": [
    "Now we'll do the same thing with RT user reviews of _Parasite_ to take out non-English reviews"
   ]
  },
  {
   "cell_type": "code",
   "execution_count": 37,
   "metadata": {},
   "outputs": [],
   "source": [
    "rt_parasite = json.load(open('../data/user_reviews/tomatoes_parasite_user.json'))"
   ]
  },
  {
   "cell_type": "code",
   "execution_count": 38,
   "metadata": {},
   "outputs": [
    {
     "data": {
      "text/plain": [
       "4672"
      ]
     },
     "execution_count": 38,
     "metadata": {},
     "output_type": "execute_result"
    }
   ],
   "source": [
    "len(rt_parasite)"
   ]
  },
  {
   "cell_type": "code",
   "execution_count": 39,
   "metadata": {},
   "outputs": [
    {
     "data": {
      "text/plain": [
       "{'date': 'May 1, 2021',\n",
       " 'score': 5,\n",
       " 'text': \"Watch it!!!!!!! I don't need to say a word, just trust me.\"}"
      ]
     },
     "execution_count": 39,
     "metadata": {},
     "output_type": "execute_result"
    }
   ],
   "source": [
    "rt_parasite[0]"
   ]
  },
  {
   "cell_type": "code",
   "execution_count": 40,
   "metadata": {},
   "outputs": [
    {
     "data": {
      "text/plain": [
       "'en'"
      ]
     },
     "execution_count": 40,
     "metadata": {},
     "output_type": "execute_result"
    }
   ],
   "source": [
    "detect(rt_parasite[0]['text'])"
   ]
  },
  {
   "cell_type": "code",
   "execution_count": 41,
   "metadata": {},
   "outputs": [
    {
     "name": "stdout",
     "output_type": "stream",
     "text": [
      "error with {'date': 'Apr 13, 2020', 'text': '......................................', 'score': 5}\n"
     ]
    }
   ],
   "source": [
    "# Another new list with just the English-language reviews:\n",
    "\n",
    "rt_parasite_revs = []\n",
    "\n",
    "for rev in rt_parasite:\n",
    "    try:\n",
    "        lang = detect(rev['text'])\n",
    "        if lang=='en':\n",
    "            rt_parasite_revs.append(rev)\n",
    "\n",
    "    except:\n",
    "        print('error with', rev)"
   ]
  },
  {
   "cell_type": "code",
   "execution_count": 42,
   "metadata": {},
   "outputs": [
    {
     "data": {
      "text/plain": [
       "4409"
      ]
     },
     "execution_count": 42,
     "metadata": {},
     "output_type": "execute_result"
    }
   ],
   "source": [
    "len(rt_parasite_revs)"
   ]
  },
  {
   "cell_type": "code",
   "execution_count": 43,
   "metadata": {},
   "outputs": [],
   "source": [
    "# Saving out the cleaned English review list as the new json file:\n",
    "with open('../data/user_reviews/tomatoes_parasite_user.json','w', encoding='UTF-8') as out:\n",
    "    out.write(json.dumps(rt_parasite_revs))"
   ]
  },
  {
   "cell_type": "markdown",
   "metadata": {},
   "source": [
    "## Detecting language in Metacritic user reviews\n",
    "\n",
    "Now we'll run the same steps above to get a cleaned list with English reviews, but with the user reviews from Metacritic. We'll start with the ones of _The Host_ and then go from there!"
   ]
  },
  {
   "cell_type": "code",
   "execution_count": 44,
   "metadata": {},
   "outputs": [],
   "source": [
    "meta_host = json.load(open('../data/user_reviews/metacritic_host_user.json'))"
   ]
  },
  {
   "cell_type": "code",
   "execution_count": 45,
   "metadata": {},
   "outputs": [
    {
     "data": {
      "text/plain": [
       "73"
      ]
     },
     "execution_count": 45,
     "metadata": {},
     "output_type": "execute_result"
    }
   ],
   "source": [
    "len(meta_host)"
   ]
  },
  {
   "cell_type": "code",
   "execution_count": 52,
   "metadata": {},
   "outputs": [
    {
     "data": {
      "text/plain": [
       "{'date': 'Oct  5, 2009',\n",
       " 'score': '5',\n",
       " 'text': 'I guess the movie it self wasnt all that bad....but boy was i let down after hearing of all the \"great reviews\" this film was given. one review said this was \"On Par with Jaws\" You kidding me!!!!! I was expecting tense scary moments butI guess the movie it self wasnt all that bad....but boy was i let down after hearing of all the \"great reviews\" this film was given. one review said this was \"On Par with Jaws\" You kidding me!!!!! I was expecting tense scary moments but instead all i found my self doing when the monster appeared was casually say \"o i wonder if the thing is going to take someone....\" in the end if you want an okay monster movie to watch go out and rent it. Jaws i felt terrified to swim in the ocean for awhile The Host... well I think ill still brave tubing down rivers without any fear.… Expand'}"
      ]
     },
     "execution_count": 52,
     "metadata": {},
     "output_type": "execute_result"
    }
   ],
   "source": [
    "meta_host[0]"
   ]
  },
  {
   "cell_type": "code",
   "execution_count": 49,
   "metadata": {},
   "outputs": [
    {
     "data": {
      "text/plain": [
       "'en'"
      ]
     },
     "execution_count": 49,
     "metadata": {},
     "output_type": "execute_result"
    }
   ],
   "source": [
    "detect(meta_host[0]['text'])"
   ]
  },
  {
   "cell_type": "code",
   "execution_count": 53,
   "metadata": {},
   "outputs": [],
   "source": [
    "# Again, creating a new list with just the English-language reviews:\n",
    "\n",
    "meta_host_revs = []\n",
    "\n",
    "for rev in meta_host:\n",
    "    try:\n",
    "        lang = detect(rev['text'])\n",
    "        if lang=='en':\n",
    "            meta_host_revs.append(rev)\n",
    "\n",
    "    except:\n",
    "        print('error with', rev)"
   ]
  },
  {
   "cell_type": "code",
   "execution_count": 54,
   "metadata": {},
   "outputs": [
    {
     "data": {
      "text/plain": [
       "71"
      ]
     },
     "execution_count": 54,
     "metadata": {},
     "output_type": "execute_result"
    }
   ],
   "source": [
    "len(meta_host_revs)"
   ]
  },
  {
   "cell_type": "code",
   "execution_count": 55,
   "metadata": {},
   "outputs": [],
   "source": [
    "# Saving out the cleaned English review list as the new json file:\n",
    "with open('../data/user_reviews/metacritic_host_user.json','w', encoding='UTF-8') as out:\n",
    "    out.write(json.dumps(meta_host_revs))"
   ]
  },
  {
   "cell_type": "markdown",
   "metadata": {},
   "source": [
    "Same thing now with the Metacritic user reviews of _Parasite_"
   ]
  },
  {
   "cell_type": "code",
   "execution_count": 56,
   "metadata": {},
   "outputs": [],
   "source": [
    "meta_parasite = json.load(open('../data/user_reviews/metacritic_parasite_user.json'))"
   ]
  },
  {
   "cell_type": "code",
   "execution_count": 57,
   "metadata": {},
   "outputs": [
    {
     "data": {
      "text/plain": [
       "326"
      ]
     },
     "execution_count": 57,
     "metadata": {},
     "output_type": "execute_result"
    }
   ],
   "source": [
    "len(meta_parasite)"
   ]
  },
  {
   "cell_type": "code",
   "execution_count": 58,
   "metadata": {},
   "outputs": [
    {
     "data": {
      "text/plain": [
       "{'date': 'Apr 30, 2021',\n",
       " 'score': '10',\n",
       " 'text': 'Director {Bong Joon-Ho} has done it again with a captivating and extraordinary film. Leaving me questioning if the real world is actually like this! Not only is the climax risen to a new level but the jaw dropping ending left me shook.'}"
      ]
     },
     "execution_count": 58,
     "metadata": {},
     "output_type": "execute_result"
    }
   ],
   "source": [
    "meta_parasite[0]"
   ]
  },
  {
   "cell_type": "code",
   "execution_count": 59,
   "metadata": {},
   "outputs": [
    {
     "data": {
      "text/plain": [
       "'en'"
      ]
     },
     "execution_count": 59,
     "metadata": {},
     "output_type": "execute_result"
    }
   ],
   "source": [
    "detect(meta_parasite[0]['text'])"
   ]
  },
  {
   "cell_type": "code",
   "execution_count": 60,
   "metadata": {},
   "outputs": [],
   "source": [
    "# Creating a new list with just the English-language reviews:\n",
    "\n",
    "meta_parasite_revs = []\n",
    "\n",
    "for rev in meta_parasite:\n",
    "    try:\n",
    "        lang = detect(rev['text'])\n",
    "        if lang=='en':\n",
    "            meta_parasite_revs.append(rev)\n",
    "\n",
    "    except:\n",
    "        print('error with', rev)"
   ]
  },
  {
   "cell_type": "code",
   "execution_count": 61,
   "metadata": {},
   "outputs": [
    {
     "data": {
      "text/plain": [
       "290"
      ]
     },
     "execution_count": 61,
     "metadata": {},
     "output_type": "execute_result"
    }
   ],
   "source": [
    "len(meta_parasite_revs)"
   ]
  },
  {
   "cell_type": "code",
   "execution_count": 62,
   "metadata": {},
   "outputs": [],
   "source": [
    "# Saving out the new English review file as the json file:\n",
    "with open('../data/user_reviews/metacritic_parasite_user.json','w', encoding='UTF-8') as out:\n",
    "    out.write(json.dumps(meta_parasite_revs))"
   ]
  },
  {
   "cell_type": "markdown",
   "metadata": {},
   "source": [
    "## Conclusion\n",
    "\n",
    "In this notebook, I worked on cleaning and organizing all the user reviews (from both Metacritic and Rotten Tomatoes). I wanted to filter out non-English words because my analysis for this project is limited to the English language. After using the `langdetect` program to filter out non-English reviews, I saved out four new JSON files: user reviews of _Parasite_ from both sites, and user reviews of _The Host_ from both sites. \n",
    "\n",
    "With that, I can move onto the analysis of these movie reviews! Please refer to the notebooks with the titles that begin with `analysis` to see the work I completed.\n",
    "\n",
    "Thank you!"
   ]
  },
  {
   "cell_type": "code",
   "execution_count": null,
   "metadata": {},
   "outputs": [],
   "source": []
  }
 ],
 "metadata": {
  "kernelspec": {
   "display_name": "Python 3",
   "language": "python",
   "name": "python3"
  },
  "language_info": {
   "codemirror_mode": {
    "name": "ipython",
    "version": 3
   },
   "file_extension": ".py",
   "mimetype": "text/x-python",
   "name": "python",
   "nbconvert_exporter": "python",
   "pygments_lexer": "ipython3",
   "version": "3.7.3"
  }
 },
 "nbformat": 4,
 "nbformat_minor": 2
}
