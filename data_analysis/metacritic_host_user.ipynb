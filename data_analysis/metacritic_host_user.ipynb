{
 "cells": [
  {
   "cell_type": "markdown",
   "metadata": {},
   "source": [
    "# Scraping Metacritic for User Reviews of _The Host_\n",
    "\n",
    "In this notebook, I will work on scraping user reviews of _The Host_ from [Metacritic](https://www.metacritic.com/movie/the-host/user-reviews?sort-by=date). The goal is to get a list of user reviews in the format I want, so that I can run analysis on these reviews and compare the results with user reviews of _Parasite_ !"
   ]
  },
  {
   "cell_type": "code",
   "execution_count": 1,
   "metadata": {},
   "outputs": [],
   "source": [
    "import requests\n",
    "from bs4 import BeautifulSoup\n",
    "import time\n",
    "import json\n",
    "from nltk.corpus import stopwords\n",
    "import random\n",
    "import re\n",
    "import os\n",
    "import csv\n",
    "import pandas as pd\n",
    "import numpy as np\n",
    "import matplotlib.pyplot as plt\n",
    "\n",
    "from nltk import tokenize\n",
    "from nltk.sentiment.vader import SentimentIntensityAnalyzer\n",
    "\n",
    "from collections import Counter"
   ]
  },
  {
   "cell_type": "code",
   "execution_count": 2,
   "metadata": {},
   "outputs": [],
   "source": [
    "characters_to_strip = '().[]!,\"'"
   ]
  },
  {
   "cell_type": "code",
   "execution_count": 3,
   "metadata": {},
   "outputs": [],
   "source": [
    "%run functions.ipynb"
   ]
  },
  {
   "cell_type": "code",
   "execution_count": 4,
   "metadata": {},
   "outputs": [],
   "source": [
    "url = 'https://www.metacritic.com/movie/the-host/user-reviews?sort-by=date'\n",
    "\n",
    "headers = {'User-Agent': 'Mozilla/5.0 (Macintosh; Intel Mac OS X 10_10_1) AppleWebKit/537.36 (KHTML, like Gecko) Chrome/39.0.2171.95 Safari/537.36'}\n"
   ]
  },
  {
   "cell_type": "code",
   "execution_count": 5,
   "metadata": {},
   "outputs": [],
   "source": [
    "resp = requests.get(url, headers=headers)"
   ]
  },
  {
   "cell_type": "code",
   "execution_count": 6,
   "metadata": {},
   "outputs": [],
   "source": [
    "html = resp.text"
   ]
  },
  {
   "cell_type": "code",
   "execution_count": 7,
   "metadata": {},
   "outputs": [],
   "source": [
    "doc = BeautifulSoup(html, 'html.parser')"
   ]
  },
  {
   "cell_type": "code",
   "execution_count": 8,
   "metadata": {},
   "outputs": [],
   "source": [
    "reviews = doc.find_all('div', attrs={'class':\"review\"})"
   ]
  },
  {
   "cell_type": "code",
   "execution_count": 9,
   "metadata": {},
   "outputs": [
    {
     "data": {
      "text/plain": [
       "100"
      ]
     },
     "execution_count": 9,
     "metadata": {},
     "output_type": "execute_result"
    }
   ],
   "source": [
    "len(reviews)"
   ]
  },
  {
   "cell_type": "code",
   "execution_count": 10,
   "metadata": {},
   "outputs": [
    {
     "data": {
      "text/plain": [
       "<div class=\"review pad_top1\">\n",
       "<div class=\"left fl\">\n",
       "<div class=\"metascore_w user large movie positive indiv\">8</div>\n",
       "</div>\n",
       "<div class=\"right fl\">\n",
       "<div class=\"title pad_btm_half\"><span class=\"author\"><a href=\"/user/TheRimRider\">TheRimRider</a></span><span class=\"date\">Nov  5, 2015</span></div>\n",
       "<div class=\"summary\">\n",
       "<div class=\"review_body\">\n",
       "<span>Fresh, exciting and not your typical cliched Hollywood rubbish. Loved it. Great effects, real tension and all the elements you want in a horror/action film. Those who dont get it should go back to crap like Godzilla.</span>\n",
       "</div>\n",
       "</div>\n",
       "<div class=\"interactions pad_top1\">\n",
       "<span class=\"helpful_wrapper\">\n",
       "<div class=\"helpful\" data-mcrefid=\"5651533\" data-mcreftype=\"230\">\n",
       "<div class=\"thumbs\">\n",
       "<span class=\"text\"><span class=\"yes_count\">0</span> of <span class=\"total_count\">0</span> users found this helpful</span><span class=\"thumb_up\"><i aria-hidden=\"true\" class=\"fa fa-thumbs-up\"></i><span class=\"count\">0</span></span><span class=\"thumb_down\"><i aria-hidden=\"true\" class=\"fa fa-thumbs-down\"></i><span class=\"count\">0</span></span> <span class=\"progress \">\n",
       "<i class=\"fa fa-spinner\"></i>\n",
       "</span>\n",
       "</div>\n",
       "<div class=\"msg\"></div>\n",
       "</div>\n",
       "</span>\n",
       "<span class=\"all_reviews\"><a href=\"/user/TheRimRider\">All this user's reviews</a></span> <div class=\"clr\"></div>\n",
       "</div>\n",
       "</div>\n",
       "<div class=\"clr\"></div>\n",
       "</div>"
      ]
     },
     "execution_count": 10,
     "metadata": {},
     "output_type": "execute_result"
    }
   ],
   "source": [
    "reviews[10]"
   ]
  },
  {
   "cell_type": "markdown",
   "metadata": {},
   "source": [
    "Writing a function to extract the review data I want: date that the review was posted, the text of the review, and the score that the reviewer gave to the movie:"
   ]
  },
  {
   "cell_type": "code",
   "execution_count": 11,
   "metadata": {},
   "outputs": [],
   "source": [
    "def extract_review_data(review_div):\n",
    "    \n",
    "    review = {}\n",
    "    \n",
    "    review['date'] = review_div.find('span', class_='date').text.strip()\n",
    "    review['text'] = review_div.find('div', class_='review_body').text.strip()\n",
    "    review['score'] = review_div.find('div', class_='metascore_w').text.strip()\n",
    "    \n",
    "    return review\n"
   ]
  },
  {
   "cell_type": "code",
   "execution_count": 12,
   "metadata": {},
   "outputs": [
    {
     "data": {
      "text/plain": [
       "{'date': 'Nov  5, 2015',\n",
       " 'score': '8',\n",
       " 'text': 'Fresh, exciting and not your typical cliched Hollywood rubbish. Loved it. Great effects, real tension and all the elements you want in a horror/action film. Those who dont get it should go back to crap like Godzilla.'}"
      ]
     },
     "execution_count": 12,
     "metadata": {},
     "output_type": "execute_result"
    }
   ],
   "source": [
    "extract_review_data(reviews[10])"
   ]
  },
  {
   "cell_type": "code",
   "execution_count": 13,
   "metadata": {},
   "outputs": [],
   "source": [
    "review_data = []\n",
    "for review in reviews:\n",
    "    review_data.append(extract_review_data(review))"
   ]
  },
  {
   "cell_type": "code",
   "execution_count": 14,
   "metadata": {
    "scrolled": true
   },
   "outputs": [
    {
     "data": {
      "text/plain": [
       "100"
      ]
     },
     "execution_count": 14,
     "metadata": {},
     "output_type": "execute_result"
    }
   ],
   "source": [
    "len(review_data)"
   ]
  },
  {
   "cell_type": "markdown",
   "metadata": {},
   "source": [
    "We have 100 user reviews of _The Host_ ! Let's take a look at the first several reviews:"
   ]
  },
  {
   "cell_type": "code",
   "execution_count": 15,
   "metadata": {},
   "outputs": [
    {
     "data": {
      "text/plain": [
       "[{'date': 'Sep 30, 2020',\n",
       "  'score': '9',\n",
       "  'text': 'What starts a fun B-movie creature feature quickly turns into a dark and deeply depressing movie.'},\n",
       " {'date': 'May  1, 2020',\n",
       "  'score': '8',\n",
       "  'text': 'Registicamente è un capolavoro. La fotografia è stupenda e gli attori sono superlativi. Si potrebbe scomodare la parola capolavoro, se non fosse che, guardandolo nel 2020, ci si accorge dei pessimi effetti speciali. Assolutamente un must seeRegisticamente è un capolavoro. La fotografia è stupenda e gli attori sono superlativi. Si potrebbe scomodare la parola capolavoro, se non fosse che, guardandolo nel 2020, ci si accorge dei pessimi effetti speciali. Assolutamente un must see per tutti gli appassionati di cinema. Le critiche sulla pochezza della trama o sui personaggi buffoneschi si perdono completamente nella cornice stupenda che offre questo film.… Expand'},\n",
       " {'date': 'Mar 20, 2020',\n",
       "  'score': '8',\n",
       "  'text': 'The Host (2007)Sinopsis:\\n\\nPersonal militar estadounidense arroja deshechos químicos al río Han de Corea del Sur. Varios años más tarde, una criatura emerge de sus turbias aguas y ataca furiosamente a los residentes locales. Cuando laThe Host (2007)Sinopsis:Personal militar estadounidense arroja deshechos químicos al río Han de Corea del Sur. Varios años más tarde, una criatura emerge de sus turbias aguas y ataca furiosamente a los residentes locales. Cuando la criatura secuestra a la hija de un comerciante, su familia decide salvarla.Opinión:Bueno, acabo de ver esta película junto a mi madre para romper un poco el hielo y tensión de los últimos días, nos pareció muy entretenida, mezcla de manera muy inteligente el terror, el humor y el drama, quizás el único defecto que no nos gustó fue que la criatura se veía espantosamente mala en el mal sentido de la palabra, no sólo por el renderizado y los efectos especiales que incluso para la época no envejecieron bien, sino que su aspecto es demasiado fantástico que de vez en cuando desentona el ambiente de la película, es como si Guillermo del Toro hubiese metido mano en el diseño de la criatura, y no es que no me guste Del Toro, sino que su estilo de cuentos de miedo parece estar presente por aquí, pero bueno, la dirección y actuaciones son impecables al igual que la fotografía.Valoración:4 ⭐ de 5 ⭐… Expand'},\n",
       " {'date': 'Feb 14, 2020',\n",
       "  'score': '7',\n",
       "  'text': 'With great acting performances, CGI effects that hold up surprisingly well, an interesting although a bit cliché story and likeable characters, \"The Host\" is not only a great satire, but it\\'s a great monster movie.'},\n",
       " {'date': 'Aug  5, 2018',\n",
       "  'score': '7',\n",
       "  'text': 'The korean counterpart of Godzilla works so much as well as ecological context; but? The matter is the mutant critter is not enough scary, the plot lacks of enough suspense and walks to slow.'}]"
      ]
     },
     "execution_count": 15,
     "metadata": {},
     "output_type": "execute_result"
    }
   ],
   "source": [
    "review_data[:5]"
   ]
  },
  {
   "cell_type": "markdown",
   "metadata": {},
   "source": [
    "Hm, it looks like some of these are NOT in English, which is a problem because I want to carry out analysis on English reviews. We'll tackle this issue in the `lang_detect` notebook."
   ]
  },
  {
   "cell_type": "code",
   "execution_count": 16,
   "metadata": {
    "scrolled": true
   },
   "outputs": [
    {
     "data": {
      "text/plain": [
       "[{'date': 'Jan 29, 2008',\n",
       "  'score': '5',\n",
       "  'text': 'Why do these foreign films have to get a 0 or a 10? The Host is a solid 5 or 6. The family are a sort of Korean version of the family in \"Liitle Miss Sunshine\". A likeable mess that you want to win in the end. The horror takes a big second Why do these foreign films have to get a 0 or a 10? The Host is a solid 5 or 6. The family are a sort of Korean version of the family in \"Liitle Miss Sunshine\". A likeable mess that you want to win in the end. The horror takes a big second place to the comedy. Overall it wasn\\'t a disaster, but it was no masterpiece, either as a thriller or as a relationship piece. As I said, it was a solid 5 or 6/10. Rent it if there\\'s nothing else calling to you at Blockbuster. I\\'m still trying to work out why so many professional critics pronounced it a masterpiece. It was fine, but nothing worth catching a bus in the rain for.… Expand'},\n",
       " {'date': 'Jan 22, 2008',\n",
       "  'score': '10',\n",
       "  'text': 'Fun, action-filled, humorous film. A must see for those who enjoy Asian films.'},\n",
       " {'date': 'Jan 21, 2008',\n",
       "  'score': '7',\n",
       "  'text': \"Let's not get carried away here.. This movie was good for a monster movie. The acting and special effects were mediocre, the movie itself was hardly frightening. I found myself rooting for the monster at times. However, the directing is Let's not get carried away here.. This movie was good for a monster movie. The acting and special effects were mediocre, the movie itself was hardly frightening. I found myself rooting for the monster at times. However, the directing is really a lot of fun and the movie has a point its trying to make, for which it deserves some credit. Not great, not jaws, but certainly one of the better monster flicks. Definitely better than cloverfield.… Expand\"},\n",
       " {'date': 'Jan 17, 2008',\n",
       "  'score': '1',\n",
       "  'text': 'Boring! Do not believe the critics. Save your money, rent something else.'}]"
      ]
     },
     "execution_count": 16,
     "metadata": {},
     "output_type": "execute_result"
    }
   ],
   "source": [
    "review_data[36:40]"
   ]
  },
  {
   "cell_type": "code",
   "execution_count": 15,
   "metadata": {
    "scrolled": true
   },
   "outputs": [
    {
     "name": "stdout",
     "output_type": "stream",
     "text": [
      "functions.ipynb                 nexis_parasite_critic.ipynb\r\n",
      "metacritic_host_user.ipynb      README.md\r\n",
      "metacritic_parasite_user.ipynb  rotten_tomatoes_host.ipynb\r\n",
      "nexis_host_critic.ipynb\r\n"
     ]
    }
   ],
   "source": [
    "ls"
   ]
  },
  {
   "cell_type": "markdown",
   "metadata": {},
   "source": [
    "Writing this list out as a new JSON file:"
   ]
  },
  {
   "cell_type": "code",
   "execution_count": 17,
   "metadata": {},
   "outputs": [],
   "source": [
    "with open('../data/user_reviews/metacritic_host_user.json','w', encoding='UTF-8') as out:\n",
    "    out.write(json.dumps(review_data))"
   ]
  },
  {
   "cell_type": "code",
   "execution_count": 17,
   "metadata": {},
   "outputs": [],
   "source": [
    "metacritic_host_user = json.load(open('../data/user_reviews/metacritic_host_user.json'))"
   ]
  },
  {
   "cell_type": "markdown",
   "metadata": {},
   "source": [
    "Loading in the file above, and then now looking at a few of the reviews:"
   ]
  },
  {
   "cell_type": "code",
   "execution_count": 19,
   "metadata": {},
   "outputs": [
    {
     "data": {
      "text/plain": [
       "{'date': 'Sep 30, 2020',\n",
       " 'score': '9',\n",
       " 'text': 'What starts a fun B-movie creature feature quickly turns into a dark and deeply depressing movie.'}"
      ]
     },
     "execution_count": 19,
     "metadata": {},
     "output_type": "execute_result"
    }
   ],
   "source": [
    "review_data[0]"
   ]
  },
  {
   "cell_type": "code",
   "execution_count": 20,
   "metadata": {},
   "outputs": [
    {
     "data": {
      "text/plain": [
       "{'date': 'Nov  5, 2015',\n",
       " 'score': '8',\n",
       " 'text': 'Fresh, exciting and not your typical cliched Hollywood rubbish. Loved it. Great effects, real tension and all the elements you want in a horror/action film. Those who dont get it should go back to crap like Godzilla.'}"
      ]
     },
     "execution_count": 20,
     "metadata": {},
     "output_type": "execute_result"
    }
   ],
   "source": [
    "review_data[10]"
   ]
  },
  {
   "cell_type": "code",
   "execution_count": 21,
   "metadata": {},
   "outputs": [
    {
     "data": {
      "text/plain": [
       "'Sep 30, 2020'"
      ]
     },
     "execution_count": 21,
     "metadata": {},
     "output_type": "execute_result"
    }
   ],
   "source": [
    "review_data[0]['date']"
   ]
  },
  {
   "cell_type": "code",
   "execution_count": 22,
   "metadata": {},
   "outputs": [
    {
     "name": "stdout",
     "output_type": "stream",
     "text": [
      "What starts a fun B-movie creature feature quickly turns into a dark and deeply depressing movie.\n",
      "Registicamente è un capolavoro. La fotografia è stupenda e gli attori sono superlativi. Si potrebbe scomodare la parola capolavoro, se non fosse che, guardandolo nel 2020, ci si accorge dei pessimi effetti speciali. Assolutamente un must seeRegisticamente è un capolavoro. La fotografia è stupenda e gli attori sono superlativi. Si potrebbe scomodare la parola capolavoro, se non fosse che, guardandolo nel 2020, ci si accorge dei pessimi effetti speciali. Assolutamente un must see per tutti gli appassionati di cinema. Le critiche sulla pochezza della trama o sui personaggi buffoneschi si perdono completamente nella cornice stupenda che offre questo film.… Expand\n",
      "The Host (2007)Sinopsis:\n",
      "\n",
      "Personal militar estadounidense arroja deshechos químicos al río Han de Corea del Sur. Varios años más tarde, una criatura emerge de sus turbias aguas y ataca furiosamente a los residentes locales. Cuando laThe Host (2007)Sinopsis:Personal militar estadounidense arroja deshechos químicos al río Han de Corea del Sur. Varios años más tarde, una criatura emerge de sus turbias aguas y ataca furiosamente a los residentes locales. Cuando la criatura secuestra a la hija de un comerciante, su familia decide salvarla.Opinión:Bueno, acabo de ver esta película junto a mi madre para romper un poco el hielo y tensión de los últimos días, nos pareció muy entretenida, mezcla de manera muy inteligente el terror, el humor y el drama, quizás el único defecto que no nos gustó fue que la criatura se veía espantosamente mala en el mal sentido de la palabra, no sólo por el renderizado y los efectos especiales que incluso para la época no envejecieron bien, sino que su aspecto es demasiado fantástico que de vez en cuando desentona el ambiente de la película, es como si Guillermo del Toro hubiese metido mano en el diseño de la criatura, y no es que no me guste Del Toro, sino que su estilo de cuentos de miedo parece estar presente por aquí, pero bueno, la dirección y actuaciones son impecables al igual que la fotografía.Valoración:4 ⭐ de 5 ⭐… Expand\n",
      "With great acting performances, CGI effects that hold up surprisingly well, an interesting although a bit cliché story and likeable characters, \"The Host\" is not only a great satire, but it's a great monster movie.\n",
      "The korean counterpart of Godzilla works so much as well as ecological context; but? The matter is the mutant critter is not enough scary, the plot lacks of enough suspense and walks to slow.\n",
      "\"The Host\" was a sensational film, the special effects were very good, the story was good, and the performances were great, a never-to-be-missed movie.\n",
      "It seems like Hollywood loves gratuitous violence, and South Korea loves gratuitous sadness.  The film was entertaining and really funny at points, but I don't understand why every Korean movie I watch has to be so sad.\n",
      "Les films coréens sont bizarres en général et en particulier celui-ci, ce \"drôle\" de film avec un gros monstre dedans... un \"drôle\" de film, car on ne sait jamais si c'est de lard ou du cochon, une caricature à l'insu de son ignorance, uneLes films coréens sont bizarres en général et en particulier celui-ci, ce \"drôle\" de film avec un gros monstre dedans... un \"drôle\" de film, car on ne sait jamais si c'est de lard ou du cochon, une caricature à l'insu de son ignorance, une franche comédie ou un drame larmoyant mélodramatique violoneux comme les Coréens savent (aussi) le faire.Bref, on ne sait pas sur quel pied danser et c'est fort désagréable parce que du coup, on a bien l'air con. Quand le monstre bouffe des gens pour les régurgiter ensuite (!) on se dit que c'est pour rigoler (?) ; le coup de l'agent jaune (en référence sans nul doute à l'agent orange du Vietnam) est-ce du pur cynisme ou une simple pique à l'égard des Américains ? ; cette espèce de famille constituée de crétins complètement idiots qui partent à la chasse au monstre, la fleur au fusil, c'est bien pour rire, non ?...Putain, je suis perdu. C'est comme cette fin mi-figue mi-raisin. Mais bon, en dehors de ces considérations d'interprétations, le film bénéficie d'une mise en scène très correcte malgré un budget apparemment limité (les effets spéciaux sont pauvres, pour ne pas dire minables) et malgré ses presque deux heures, on ne s'y ennuie pas ! ce qui n'est déjà pas si mal, finalement.… Expand\n",
      "In 1954, director Gordon Douglas unleashed upon the world his now science fiction classic, Them! The film depicts the after effects of a nuclear tests that has resulted in huge killer ants. Apparently, after years of being stepped on andIn 1954, director Gordon Douglas unleashed upon the world his now science fiction classic, Them! The film depicts the after effects of a nuclear tests that has resulted in huge killer ants. Apparently, after years of being stepped on and killed with ant bait, the species was pissed at humans and were not afraid to show it. 52 years later, the same phenomenon arose in South Korea. Except, it presented the chance for fish to exact their revenge on humanity after millenia of being prey. And exact revenge is certainly the only thing this fish monster is interested in. Created as a result of an American scientist's unwillingness to properly dispose of formaldehyde, this fish is out to wreak havoc on the race that brought it into existence in the name of all of its fish friends. The Host is a truly thrilling, emotionally moving, oddly funny, and expertly executed science fiction film with clear political undertones.\r",
      " Often times, films such as that offer some emotional moments wind up being far too sentimental. Bong Joon-ho avoids this trap by showcasing real, raw emotion. The pain showcased by all of the characters and the family bonds that are tested through these traumatic events bring an incredible sense of realism. These moments are not overdone or overly emotional. Rather, they are impassioned, low-key, and subtle. What is not subtle, however, is the love held by Park Gang-du (Song Kang-ho) for his daughter Park Hyun-seo (Go Ah-sung). The two's love for one another as father and daughter is terrifically developed and feels authentic to the point that when things go awry for the two, your heart bleeds for them.\r",
      " The emotional authenticity is just one solid element of this film, as the entirety of the characters are well developed. Though there is not a ton of depth given the type of film this is, what is introduced is always purposeful and used later on in the climax. This is emblematic of how tight this film is with very little filler, both in dialogue and in the general plot. The film shows us what it needs to in order for us to understand what is occurring. There are very few, if any, moments that really feel out of place or do not add to the story. While every scene is obviously not perfect, they all have a purpose and flow together incredibly well. Heck, even the odd moments of comedy tossed in the film, particularly in the refugee camp, work out pretty well and do showcase elements of the characters.\r",
      " Cinematography-wise, there are a few scenes that stood out to me as being particularly well shot, namely the shot during the protest as agent yellow is released. The shot of the group of people standing with \"Free Park Gang-du\" shirts and being overtaken by agent yellow is tragic and beautifully executed. The shot itself is incredibly well framed with terrific use of color. Additionally, the final shot of the snack bar set against the ocean as snow falls to the ground was incredibly beautiful.\r",
      " Politically, the message is clear: Bong Joon-ho does not like American or outside influence in South Korea. The military, American personnel in Korea, the doctors, and even the CDC are all shown negatively for exploiting the Koreans and not caring about what happens to them. Instead, they are shown as being more obsessed with Americans, their needs, and how it will effect the United States should any possible monster or virus appear in North America. The name \"agent yellow\" especially drives this home as it draws a direct link to Agent Orange in Vietnam and the disastrous effects it had on the Vietnamese and Americans in the country. Though Americans may not be literally killing Koreans at this point, it is clear that Bong Joon-ho is fearful that if their present level of indifference continues, the day in which Koreans die because of Americans is not far off. Thus, the film is not explicitly anti-American to me. Rather, it is a warning of what could happen and something that both sides should be aware of and planned ahead for.\r",
      " As a whole, The Host provides thrills, emotion, and political overtones in this film about a fish monster killing people and taking them hostage (presumably to eat later). Though imperfect as it does have some iffy pacing at times and the ending feeling a little fortunate, The Host is still an incredibly tight and thrilling experience offered by Bong Joon-ho. Somehow, this is only my second film from him (Snowpiercer being the other). Clearly, I need to see more, even if Snowpiercer was just okay.… Expand\n",
      "I watched \"Gwoemul\" aka \"The Host\" expecting a campy monster movie in the style of Godzilla or Cloverfield and while I was watching it I learned it was actually a social critique of post-modern South-Korean society and most particular theI watched \"Gwoemul\" aka \"The Host\" expecting a campy monster movie in the style of Godzilla or Cloverfield and while I was watching it I learned it was actually a social critique of post-modern South-Korean society and most particular the destructive nature of American political and cultural influence. This critique was done with a clever mixture of drama and comedy behind the backdrop of a monster story and filled with far more symbolism than I've ever seen in any European or American film. The cinematography and the special effects were also more than decent.\r",
      " Fans of typical monster movies probably won't like this film since it's just not a typical monster movie by any standard. If you are, however, a fan of political satire and you're not afraid of some cultural experimentation you may consider this a masterpiece.… Expand\n"
     ]
    }
   ],
   "source": [
    "for review in review_data[0:10]:\n",
    "    print(review['text'])"
   ]
  },
  {
   "cell_type": "markdown",
   "metadata": {},
   "source": [
    "### Initial data exploration\n",
    "\n",
    "I want to see what the negative reviews are saying, particularly whether there are any 0 scores:"
   ]
  },
  {
   "cell_type": "code",
   "execution_count": 23,
   "metadata": {
    "scrolled": true
   },
   "outputs": [],
   "source": [
    "zero_scores = []\n",
    "\n",
    "for review in review_data:\n",
    "    if int(review['score'])<1:\n",
    "        zero_scores.append(review)"
   ]
  },
  {
   "cell_type": "code",
   "execution_count": 24,
   "metadata": {},
   "outputs": [
    {
     "data": {
      "text/plain": [
       "[{'date': 'Apr 29, 2014',\n",
       "  'score': '0',\n",
       "  'text': 'One of the worst films I have ever seen. Not believable or thrilling in the least. The acting is so bad that it nixes the possibility of any suspension of disbelief. The film has no consistent tone and the characters are utterly ridiculous.'},\n",
       " {'date': 'Aug 23, 2010',\n",
       "  'score': '0',\n",
       "  'text': 'That was not a horror movie, it was a terrible piece of a movie!\\rEven if this was a parody of a horror movie it wasnt good.\\rNo scary parts.... really.\\rIt sucked, waste of time :('},\n",
       " {'date': 'Aug 20, 2009',\n",
       "  'score': '0',\n",
       "  'text': 'This was the worst movie I have seen in quite some time. Incredibly corny with random attempts to beat the audience about the head with slapstick and physical humor that falls well short of the mark. A CGI monster that is way overrated.This was the worst movie I have seen in quite some time. Incredibly corny with random attempts to beat the audience about the head with slapstick and physical humor that falls well short of the mark. A CGI monster that is way overrated. Ridiculously bad acting and dialogue. Far too long and drawn out with a middle portion that is almost entirely unnecessary. The attempts at politcal statements are paper-thin and blatantly obvious. The critical reception for this movie honestly perplexes me more so than the reception for any other film I thought sucked, even Gladiator.… Expand'},\n",
       " {'date': 'May 26, 2008',\n",
       "  'score': '0',\n",
       "  'text': 'This MOvie Sucks MOre Balls Then A Whore I HATED THIS FILM SO FUCKING MUCH IT MADE ME WANT TO PUKE \\r\\rAFTER I WATCHED 1 HOUR I LOOKED ON THE CASE AND SAW 2 HOURS AND PRETTY MUCH WANTED TO COMIT SUSICIDE BECAUSE I ALREADY HAD ENOUGH FUCKINGThis MOvie Sucks MOre Balls Then A Whore I HATED THIS FILM SO FUCKING MUCH IT MADE ME WANT TO PUKE \\r\\rAFTER I WATCHED 1 HOUR I LOOKED ON THE CASE AND SAW 2 HOURS AND PRETTY MUCH WANTED TO COMIT SUSICIDE BECAUSE I ALREADY HAD ENOUGH FUCKING SHIT IN MY BRAIN FROM WAYCHING AN HOUR IT AND THIS MOVIE SUCKS SO MUCH IT SHOULD BE TOOK OFF THE SHELVES!!!!!1 REMEMBER THIS ALWAYS\\r -YOURS FUCKING TRULY NICK JOES!!!… Expand'},\n",
       " {'date': 'Jan 13, 2008',\n",
       "  'score': '0',\n",
       "  'text': 'Hands down, one of the worst movies I\\'ve ever seen, and by far the most critically overrated (\"A masterpiece of monster cinema\"?) After seeing its high ratings on other sites ( I think rotten tomatoes even named it in the top five of Hands down, one of the worst movies I\\'ve ever seen, and by far the most critically overrated (\"A masterpiece of monster cinema\"?) After seeing its high ratings on other sites ( I think rotten tomatoes even named it in the top five of the top 100 highest rated sci-fi horror films ever) I rented it anticipating a new masterpiece. terrible, terrible, terrible, I can\\'t stress this enough. In reading through the viewer reviews one might notice the disparity between all 10s or all 0s and 1s. there is a reason (my only guess is that all of the 10s must be Korean culture majors and have never seen a scary movie in their lives). Scary? not in the least, not even remotely suspenseful. Boring? yes! and tedious.. Both my girlfriend and I fell asleep, and thinking we might have missed something good, promptly rewound it (we didn\\'t miss a thing). Funny? unless your\\'e korean, find slap-stick funny, or know the inside scoop on the subtle complexities of korean humor, NO! The movie\\'s only redeeming moments are the credits, when you realise it is finally over! do not be fooled be fooled by all the great reviews.… Expand'},\n",
       " {'date': 'Sep 18, 2007',\n",
       "  'score': '0',\n",
       "  'text': \"The only reason I don't regret watching this movie is to have been able to read some of the hilarious negative reviews/comments here. Some positive reviews say that you need to have an in depth understanding of Korean culture and even The only reason I don't regret watching this movie is to have been able to read some of the hilarious negative reviews/comments here. Some positive reviews say that you need to have an in depth understanding of Korean culture and even the cliques and classes of their society. Well, what in the hell are the chances that most people are going to know about that? Would you expect us to? Also, some people have said that the problem is the translation. Well that's not our fault, and if that's the case, how could ANYONE seeing it translated enjoy it then? It's going to give me an aneurysm if I think about how many US mainstream critics gave this movie praise. Well, maybe they understood the intricacies of Korean culture better than me.… Expand\"},\n",
       " {'date': 'Sep  3, 2007',\n",
       "  'score': '0',\n",
       "  'text': 'This movie just no worth a rental, it`s a waste of time.'},\n",
       " {'date': 'Sep  2, 2007',\n",
       "  'score': '0',\n",
       "  'text': \"I think an investigation should be held into movie critics receiving cash from movie studios for good ratings. This movie makes any of the Godzilla films look like Schindler's List! Some critics have compared this movie to Jaws???!!!! I think an investigation should be held into movie critics receiving cash from movie studios for good ratings. This movie makes any of the Godzilla films look like Schindler's List! Some critics have compared this movie to Jaws???!!!! Do these critics need to give good ratings to international films just to be hip? Is it because they are foreign that the critics seem to kiss their butts???!!! I had respect for the Metacritic score but not anymore. This is a real joke.… Expand\"},\n",
       " {'date': 'Aug 31, 2007',\n",
       "  'score': '0',\n",
       "  'text': 'This is an awful film. Please I beg you, for your own sanity, do not watch this.'},\n",
       " {'date': 'Aug 31, 2007',\n",
       "  'score': '0',\n",
       "  'text': 'Terrible movie. My husband kept telling me that it got good reviews, so I gave in and watched it. I don\\'t think I have ever seen a \"Horror\" movie that was as lame as this was. A complete waste of about 45 mins. We had to turn it off Terrible movie. My husband kept telling me that it got good reviews, so I gave in and watched it. I don\\'t think I have ever seen a \"Horror\" movie that was as lame as this was. A complete waste of about 45 mins. We had to turn it off because it was just so stupid.… Expand'},\n",
       " {'date': 'Aug 29, 2007',\n",
       "  'score': '0',\n",
       "  'text': \"I'm not sure what movie the critics watched, but I want to see that one. They report seeing biting commentary in a funny monster movie - I saw a movie that bites. I want my 2 hours back.\"},\n",
       " {'date': 'Aug 20, 2007',\n",
       "  'score': '0',\n",
       "  'text': \"This is proof that critics have no idea what they are talking about. I couldn't even finish the movie it was so sad. Then The Invasion gets bad reviews, that movie was awesome. Stay away from this movie.\"},\n",
       " {'date': 'Aug 20, 2007',\n",
       "  'score': '0',\n",
       "  'text': \"I have been coming to this site for years and have never posted. But after watching this, I had no choice. This movie is not good. I had to talk my wife into watching it and kept telling her how it received great reviews. Once we saw the I have been coming to this site for years and have never posted. But after watching this, I had no choice. This movie is not good. I had to talk my wife into watching it and kept telling her how it received great reviews. Once we saw the monster for the first big scene we could do nothing but laugh. I tried to keep giving it a chance, but finally had to just turn it off. I cannot remember ever turning a movie off that I paid to watch. I'm a big fan of the horror/monster genre, but this was unbearable. DO NOT WASTE YOUR TIME!!!!… Expand\"},\n",
       " {'date': 'Aug 13, 2007',\n",
       "  'score': '0',\n",
       "  'text': 'Probably the worst overrated movie of all time.'}]"
      ]
     },
     "execution_count": 24,
     "metadata": {},
     "output_type": "execute_result"
    }
   ],
   "source": [
    "zero_scores"
   ]
  },
  {
   "cell_type": "markdown",
   "metadata": {},
   "source": [
    "Wow! Pretty harsh reviews. Let's take a look at exploring how many negative vs. positive reviews there are, based on the score each gave:"
   ]
  },
  {
   "cell_type": "code",
   "execution_count": 25,
   "metadata": {},
   "outputs": [],
   "source": [
    "# Separating reviews by score (neg: 0-5 and pos: 6-10)\n",
    "\n",
    "neg_review = []\n",
    "pos_review = []\n",
    "\n",
    "for review in review_data:\n",
    "    if int(review['score']) < 6:\n",
    "        neg_review.append(review)\n",
    "    if int(review['score']) > 5:\n",
    "        pos_review.append(review)"
   ]
  },
  {
   "cell_type": "code",
   "execution_count": 26,
   "metadata": {},
   "outputs": [
    {
     "data": {
      "text/plain": [
       "[{'date': 'Jan 12, 2017',\n",
       "  'score': '5',\n",
       "  'text': 'Les films coréens sont bizarres en général et en particulier celui-ci, ce \"drôle\" de film avec un gros monstre dedans... un \"drôle\" de film, car on ne sait jamais si c\\'est de lard ou du cochon, une caricature à l\\'insu de son ignorance, uneLes films coréens sont bizarres en général et en particulier celui-ci, ce \"drôle\" de film avec un gros monstre dedans... un \"drôle\" de film, car on ne sait jamais si c\\'est de lard ou du cochon, une caricature à l\\'insu de son ignorance, une franche comédie ou un drame larmoyant mélodramatique violoneux comme les Coréens savent (aussi) le faire.Bref, on ne sait pas sur quel pied danser et c\\'est fort désagréable parce que du coup, on a bien l\\'air con. Quand le monstre bouffe des gens pour les régurgiter ensuite (!) on se dit que c\\'est pour rigoler (?) ; le coup de l\\'agent jaune (en référence sans nul doute à l\\'agent orange du Vietnam) est-ce du pur cynisme ou une simple pique à l\\'égard des Américains ? ; cette espèce de famille constituée de crétins complètement idiots qui partent à la chasse au monstre, la fleur au fusil, c\\'est bien pour rire, non ?...Putain, je suis perdu. C\\'est comme cette fin mi-figue mi-raisin. Mais bon, en dehors de ces considérations d\\'interprétations, le film bénéficie d\\'une mise en scène très correcte malgré un budget apparemment limité (les effets spéciaux sont pauvres, pour ne pas dire minables) et malgré ses presque deux heures, on ne s\\'y ennuie pas ! ce qui n\\'est déjà pas si mal, finalement.… Expand'},\n",
       " {'date': 'Apr 29, 2014',\n",
       "  'score': '0',\n",
       "  'text': 'One of the worst films I have ever seen. Not believable or thrilling in the least. The acting is so bad that it nixes the possibility of any suspension of disbelief. The film has no consistent tone and the characters are utterly ridiculous.'},\n",
       " {'date': 'Feb  2, 2013',\n",
       "  'score': '5',\n",
       "  'text': '\\'The Host\\' is a bad work of terror. It\\'s entertaining but it\\'s depressing to see all these pictures \"dramatic\". The monster is very poorly made \\u200b\\u200bcomputer.'},\n",
       " {'date': 'Jul  3, 2012',\n",
       "  'score': '1',\n",
       "  'text': 'Wow i really was expecting such a great monster movie with plenty of scares and good effects and acting, or at least that\\'s what all of the movie critics were saying. So when i saw this movie at blockbuster, i decided \"why not? everyone saysWow i really was expecting such a great monster movie with plenty of scares and good effects and acting, or at least that\\'s what all of the movie critics were saying. So when i saw this movie at blockbuster, i decided \"why not? everyone says its a good movie\" so i rented it, little did i know that i was being lured into the biggest crap-fest that i have ever seen in my life. For  starters, the plot really made no sense at all, I mean, why would toxic acid turn a fish into a giant monster?, and if so, then how come only ONE fish was affected by the acid, when there\\'s at least a couple hundred fish in the lake. Secondly, the acting was laughable and couldn\\'t fool a four year old, and quite frankly, neither could the \"monster\". Lastly, the dubbing, I really hated how this was a Korean movie and was meant to STAY in Korea but some idiot decided to translate it to English so they could bring this garbage film over to America, and the dubbing sucked so bad, i ,mean when the people were done talking , their mouths were still moving. this movie sucked, bottom line, and if you want to see a GOOD monster film then i recommend \"the mist\"… Expand'},\n",
       " {'date': 'May 25, 2012',\n",
       "  'score': '5',\n",
       "  'text': 'It is not as exciting as I wanted it to be and it is not as scary as I would expected it to be. For the scary/horror genre, it is an average film.....'}]"
      ]
     },
     "execution_count": 26,
     "metadata": {},
     "output_type": "execute_result"
    }
   ],
   "source": [
    "neg_review[:5]"
   ]
  },
  {
   "cell_type": "code",
   "execution_count": 27,
   "metadata": {
    "scrolled": true
   },
   "outputs": [
    {
     "data": {
      "text/plain": [
       "[{'date': 'Sep 30, 2020',\n",
       "  'score': '9',\n",
       "  'text': 'What starts a fun B-movie creature feature quickly turns into a dark and deeply depressing movie.'},\n",
       " {'date': 'May  1, 2020',\n",
       "  'score': '8',\n",
       "  'text': 'Registicamente è un capolavoro. La fotografia è stupenda e gli attori sono superlativi. Si potrebbe scomodare la parola capolavoro, se non fosse che, guardandolo nel 2020, ci si accorge dei pessimi effetti speciali. Assolutamente un must seeRegisticamente è un capolavoro. La fotografia è stupenda e gli attori sono superlativi. Si potrebbe scomodare la parola capolavoro, se non fosse che, guardandolo nel 2020, ci si accorge dei pessimi effetti speciali. Assolutamente un must see per tutti gli appassionati di cinema. Le critiche sulla pochezza della trama o sui personaggi buffoneschi si perdono completamente nella cornice stupenda che offre questo film.… Expand'},\n",
       " {'date': 'Mar 20, 2020',\n",
       "  'score': '8',\n",
       "  'text': 'The Host (2007)Sinopsis:\\n\\nPersonal militar estadounidense arroja deshechos químicos al río Han de Corea del Sur. Varios años más tarde, una criatura emerge de sus turbias aguas y ataca furiosamente a los residentes locales. Cuando laThe Host (2007)Sinopsis:Personal militar estadounidense arroja deshechos químicos al río Han de Corea del Sur. Varios años más tarde, una criatura emerge de sus turbias aguas y ataca furiosamente a los residentes locales. Cuando la criatura secuestra a la hija de un comerciante, su familia decide salvarla.Opinión:Bueno, acabo de ver esta película junto a mi madre para romper un poco el hielo y tensión de los últimos días, nos pareció muy entretenida, mezcla de manera muy inteligente el terror, el humor y el drama, quizás el único defecto que no nos gustó fue que la criatura se veía espantosamente mala en el mal sentido de la palabra, no sólo por el renderizado y los efectos especiales que incluso para la época no envejecieron bien, sino que su aspecto es demasiado fantástico que de vez en cuando desentona el ambiente de la película, es como si Guillermo del Toro hubiese metido mano en el diseño de la criatura, y no es que no me guste Del Toro, sino que su estilo de cuentos de miedo parece estar presente por aquí, pero bueno, la dirección y actuaciones son impecables al igual que la fotografía.Valoración:4 ⭐ de 5 ⭐… Expand'},\n",
       " {'date': 'Feb 14, 2020',\n",
       "  'score': '7',\n",
       "  'text': 'With great acting performances, CGI effects that hold up surprisingly well, an interesting although a bit cliché story and likeable characters, \"The Host\" is not only a great satire, but it\\'s a great monster movie.'},\n",
       " {'date': 'Aug  5, 2018',\n",
       "  'score': '7',\n",
       "  'text': 'The korean counterpart of Godzilla works so much as well as ecological context; but? The matter is the mutant critter is not enough scary, the plot lacks of enough suspense and walks to slow.'}]"
      ]
     },
     "execution_count": 27,
     "metadata": {},
     "output_type": "execute_result"
    }
   ],
   "source": [
    "pos_review[:5]"
   ]
  },
  {
   "cell_type": "code",
   "execution_count": 28,
   "metadata": {},
   "outputs": [
    {
     "data": {
      "text/plain": [
       "52"
      ]
     },
     "execution_count": 28,
     "metadata": {},
     "output_type": "execute_result"
    }
   ],
   "source": [
    "len(pos_review)"
   ]
  },
  {
   "cell_type": "code",
   "execution_count": 29,
   "metadata": {
    "scrolled": true
   },
   "outputs": [
    {
     "data": {
      "text/plain": [
       "48"
      ]
     },
     "execution_count": 29,
     "metadata": {},
     "output_type": "execute_result"
    }
   ],
   "source": [
    "len(neg_review)"
   ]
  },
  {
   "cell_type": "markdown",
   "metadata": {},
   "source": [
    "Pretty divided. I thought there might be more positive reviews (personally I enjoyed this movie), but I guess that's not the case. At least not for the 100 reviews I have here!\n",
    "\n",
    "Next I'll try splitting by year. I want to see if I can look at just reviews of _The Host_ posted between 2007 and 2009, since reviews of _Parasite_ will also be limited to two year timespan (because it was released in 2019)."
   ]
  },
  {
   "cell_type": "code",
   "execution_count": 31,
   "metadata": {
    "scrolled": true
   },
   "outputs": [
    {
     "data": {
      "text/plain": [
       "'Sep 30, 2020'"
      ]
     },
     "execution_count": 31,
     "metadata": {},
     "output_type": "execute_result"
    }
   ],
   "source": [
    "# Looking at date format:\n",
    "review_data[0]['date']"
   ]
  },
  {
   "cell_type": "markdown",
   "metadata": {},
   "source": [
    "mmm dd, yyyy"
   ]
  },
  {
   "cell_type": "code",
   "execution_count": 32,
   "metadata": {},
   "outputs": [],
   "source": [
    "# Making a new list with just the year values from the date,\n",
    "# And also making a new key:value pair for year\n",
    "\n",
    "years = []\n",
    "\n",
    "for review in review_data:\n",
    "    years.append(review['date'][8:12])\n",
    "    review['year']=int(review['date'][8:12])"
   ]
  },
  {
   "cell_type": "code",
   "execution_count": 33,
   "metadata": {},
   "outputs": [
    {
     "data": {
      "text/plain": [
       "{'date': 'Nov  5, 2015',\n",
       " 'score': '8',\n",
       " 'text': 'Fresh, exciting and not your typical cliched Hollywood rubbish. Loved it. Great effects, real tension and all the elements you want in a horror/action film. Those who dont get it should go back to crap like Godzilla.',\n",
       " 'year': 2015}"
      ]
     },
     "execution_count": 33,
     "metadata": {},
     "output_type": "execute_result"
    }
   ],
   "source": [
    "review_data[10]"
   ]
  },
  {
   "cell_type": "code",
   "execution_count": 34,
   "metadata": {},
   "outputs": [],
   "source": [
    "# Making a frequency list of years\n",
    "years_freq = Counter(years)"
   ]
  },
  {
   "cell_type": "code",
   "execution_count": 35,
   "metadata": {},
   "outputs": [
    {
     "data": {
      "text/plain": [
       "[('2007', 57),\n",
       " ('2008', 12),\n",
       " ('2012', 5),\n",
       " ('2020', 4),\n",
       " ('2009', 4),\n",
       " ('2017', 3),\n",
       " ('2014', 3),\n",
       " ('2011', 3),\n",
       " ('2010', 3),\n",
       " ('2016', 2),\n",
       " ('2013', 2),\n",
       " ('2018', 1),\n",
       " ('2015', 1)]"
      ]
     },
     "execution_count": 35,
     "metadata": {},
     "output_type": "execute_result"
    }
   ],
   "source": [
    "# Most frequent years for reviews\n",
    "years_freq.most_common()"
   ]
  },
  {
   "cell_type": "code",
   "execution_count": 36,
   "metadata": {},
   "outputs": [
    {
     "data": {
      "text/plain": [
       "int"
      ]
     },
     "execution_count": 36,
     "metadata": {},
     "output_type": "execute_result"
    }
   ],
   "source": [
    "type(review_data[0]['year'])"
   ]
  },
  {
   "cell_type": "code",
   "execution_count": 37,
   "metadata": {
    "scrolled": true
   },
   "outputs": [
    {
     "data": {
      "text/plain": [
       "{'date': 'Sep 30, 2020',\n",
       " 'score': '9',\n",
       " 'text': 'What starts a fun B-movie creature feature quickly turns into a dark and deeply depressing movie.',\n",
       " 'year': 2020}"
      ]
     },
     "execution_count": 37,
     "metadata": {},
     "output_type": "execute_result"
    }
   ],
   "source": [
    "review_data[0]"
   ]
  },
  {
   "cell_type": "markdown",
   "metadata": {},
   "source": [
    "Filtering by year, since I only want user reviews that were posted between 2007 and 2009:"
   ]
  },
  {
   "cell_type": "code",
   "execution_count": 38,
   "metadata": {},
   "outputs": [],
   "source": [
    "# Creating a new list with reviews posted earlier than 2010:\n",
    "\n",
    "metacritic_host_user = []\n",
    "\n",
    "for review in review_data:\n",
    "    if review['year']<2010:\n",
    "        rev_dict = {\n",
    "            'date' : review['date'],\n",
    "            'score' : review['score'],\n",
    "            'text' : review['text']\n",
    "        }\n",
    "        metacritic_host_user.append(rev_dict)"
   ]
  },
  {
   "cell_type": "markdown",
   "metadata": {},
   "source": [
    "To find how many of these user reviews were posted between 2007 and 2009, let's look at the length of our list:"
   ]
  },
  {
   "cell_type": "code",
   "execution_count": 39,
   "metadata": {},
   "outputs": [
    {
     "data": {
      "text/plain": [
       "73"
      ]
     },
     "execution_count": 39,
     "metadata": {},
     "output_type": "execute_result"
    }
   ],
   "source": [
    "len(metacritic_host_user)"
   ]
  },
  {
   "cell_type": "code",
   "execution_count": 41,
   "metadata": {},
   "outputs": [
    {
     "data": {
      "text/plain": [
       "{'date': 'Nov 27, 2007',\n",
       " 'score': '9',\n",
       " 'text': 'Excellent, it has many different elements, its a rich movie in acting, argument and production, funny and sad at the same time, I have a really good time watching this movie and will see it again.'}"
      ]
     },
     "execution_count": 41,
     "metadata": {},
     "output_type": "execute_result"
    }
   ],
   "source": [
    "# Looking at a sample user review in our new list:\n",
    "\n",
    "metacritic_host_user[20]"
   ]
  },
  {
   "cell_type": "markdown",
   "metadata": {},
   "source": [
    "So now we only have reviews posted between 2007 and 2009, and that ended up being 73 reviews. \n",
    "\n",
    "Now we want to save this new list out as a json file, so that we can work specifically with user reviews of _The Host_ from Metacritic that were posted within two years of the movie's release!"
   ]
  },
  {
   "cell_type": "code",
   "execution_count": 42,
   "metadata": {},
   "outputs": [],
   "source": [
    "with open('../data/user_reviews/metacritic_host_user.json','w', encoding='UTF-8') as out:\n",
    "    out.write(json.dumps(metacritic_host_user))"
   ]
  },
  {
   "cell_type": "markdown",
   "metadata": {},
   "source": [
    "Let's try to see if we can also get critic reviews:\n",
    "\n",
    "### Getting critic reviews from metacritic for _The Host_"
   ]
  },
  {
   "cell_type": "code",
   "execution_count": 5,
   "metadata": {},
   "outputs": [],
   "source": [
    "critic_url = 'https://www.metacritic.com/movie/the-host/critic-reviews'"
   ]
  },
  {
   "cell_type": "code",
   "execution_count": 6,
   "metadata": {},
   "outputs": [],
   "source": [
    "resp = requests.get(critic_url, headers=headers)"
   ]
  },
  {
   "cell_type": "code",
   "execution_count": 7,
   "metadata": {},
   "outputs": [],
   "source": [
    "html = resp.text"
   ]
  },
  {
   "cell_type": "code",
   "execution_count": 8,
   "metadata": {},
   "outputs": [],
   "source": [
    "doc = BeautifulSoup(html, 'html.parser')"
   ]
  },
  {
   "cell_type": "code",
   "execution_count": 9,
   "metadata": {},
   "outputs": [],
   "source": [
    "review_divs = doc.find_all('div', attrs={'class':\"review\"})"
   ]
  },
  {
   "cell_type": "code",
   "execution_count": 10,
   "metadata": {},
   "outputs": [
    {
     "data": {
      "text/plain": [
       "36"
      ]
     },
     "execution_count": 10,
     "metadata": {},
     "output_type": "execute_result"
    }
   ],
   "source": [
    "len(review_divs)"
   ]
  },
  {
   "cell_type": "markdown",
   "metadata": {},
   "source": [
    "There's only 36, which makes sense because I would assume there would be less critic reviews than user ones. "
   ]
  },
  {
   "cell_type": "code",
   "execution_count": 11,
   "metadata": {},
   "outputs": [
    {
     "data": {
      "text/plain": [
       "<div class=\"review pad_top1 pad_btm1\">\n",
       "<div class=\"left fl\">\n",
       "<div class=\"metascore_w large movie positive indiv perfect\">100</div>\n",
       "</div>\n",
       "<div class=\"right fl\">\n",
       "<div class=\"title pad_btm_half\"><span class=\"source\"><a href=\"/publication/chicago-reader?filter=movies\"><img alt=\"Chicago Reader\" class=\"pub-img\" src=\"https://static.metacritic.com/images/publications/1567121885_901_633972424.png\" title=\"Chicago Reader\"/></a></span><span class=\"author\"><a href=\"/critic/jr-jones?filter=movies\">J.R. Jones</a></span></div>\n",
       "<div class=\"summary\">\n",
       "<a class=\"no_hover\" href=\"http://onfilm.chicagoreader.com/movies/critic.html#31160\" rel=\"noopener\" target=\"_blank\">\n",
       "                                                The mix of dark humor, creeping suspense, and a sort of apocalyptic tenderness makes this the best horror flick in years.\n",
       "                                    </a>\n",
       "<a class=\"read_full\" href=\"http://onfilm.chicagoreader.com/movies/critic.html#31160\" rel=\"noopener\" target=\"_blank\">Read full review<i aria-hidden=\"true\" class=\"fa fa-external-link\"></i></a>\n",
       "</div>\n",
       "</div>\n",
       "<div class=\"clr\"></div>\n",
       "</div>"
      ]
     },
     "execution_count": 11,
     "metadata": {},
     "output_type": "execute_result"
    }
   ],
   "source": [
    "review_divs[0]"
   ]
  },
  {
   "cell_type": "markdown",
   "metadata": {},
   "source": [
    "Writing a function to get the information I want from the site:"
   ]
  },
  {
   "cell_type": "code",
   "execution_count": 12,
   "metadata": {},
   "outputs": [],
   "source": [
    "def extract_criticreview_data(review_div):\n",
    "    \n",
    "    review = {}\n",
    "    \n",
    "    review['rating'] = review_div.find('div', class_='metascore_w').text.strip()\n",
    "    review['text'] = review_div.find('div', class_='summary').text.strip()\n",
    "    review['review_url'] = review_div.find('a', class_='read_full').attrs['href']\n",
    "    try:\n",
    "        review['source'] = review_div.find('span', class_='source').find('img').attrs['alt']\n",
    "    except:\n",
    "        review['source'] = review_div.find('span', class_='source').text\n",
    "    review['critic'] = review_div.find('span', class_='author').text\n",
    "    \n",
    "    return review\n",
    "    "
   ]
  },
  {
   "cell_type": "code",
   "execution_count": 13,
   "metadata": {},
   "outputs": [
    {
     "data": {
      "text/plain": [
       "{'critic': 'Manohla Dargis',\n",
       " 'rating': '90',\n",
       " 'review_url': 'http://movies2.nytimes.com/2007/03/09/movies/09host.html?ref=movies',\n",
       " 'source': 'The New York Times',\n",
       " 'text': 'The Host is a cautionary environmental tale about the domination of nature and the costs of human folly, and it may send chills up your spine. But only one will tickle your fancy and make you cry encore, not just uncle.\\n                                    \\nRead full review'}"
      ]
     },
     "execution_count": 13,
     "metadata": {},
     "output_type": "execute_result"
    }
   ],
   "source": [
    "extract_criticreview_data(review_divs[10])"
   ]
  },
  {
   "cell_type": "code",
   "execution_count": 14,
   "metadata": {},
   "outputs": [
    {
     "name": "stdout",
     "output_type": "stream",
     "text": [
      "Error trying to extract review data\n",
      "<div class=\"ad_unit review pad_top1 pad_btm1\" id=\"native_top\">\n",
      "<script type=\"text/javascript\">\r\n",
      "            \r\n",
      "                            pushToDisplay('native_top', null, 'top', false, 'NmEGjUCMQTmJR3rtbiq2vRTC'), false;\r\n",
      "                    </script>\n",
      "</div>\n",
      "\n"
     ]
    }
   ],
   "source": [
    "criticreview_data=[]\n",
    "for review in review_divs:\n",
    "      try:\n",
    "            criticreview_data.append(extract_criticreview_data(review))\n",
    "      except:\n",
    "            print('Error trying to extract review data')\n",
    "            print(review)\n",
    "            print()"
   ]
  },
  {
   "cell_type": "code",
   "execution_count": 15,
   "metadata": {
    "scrolled": true
   },
   "outputs": [
    {
     "data": {
      "text/plain": [
       "35"
      ]
     },
     "execution_count": 15,
     "metadata": {},
     "output_type": "execute_result"
    }
   ],
   "source": [
    "len(criticreview_data)"
   ]
  },
  {
   "cell_type": "markdown",
   "metadata": {},
   "source": [
    "It looks like there was one review on which this didn't work, so our list of critic reviews is only 35. \n",
    "\n",
    "We can try saving this out as a new JSON file:"
   ]
  },
  {
   "cell_type": "code",
   "execution_count": 24,
   "metadata": {
    "scrolled": false
   },
   "outputs": [],
   "source": [
    "with open('../data/critic_reviews/metacritic_host_critic.json','w', encoding='UTF-8') as out:\n",
    "    out.write(json.dumps(criticreview_data, indent=4))\n",
    "\n",
    "# adding the `indent=4` param to json.dumps will produce multiline output with indents that make\n",
    "# it easier to read and edit the JSON file by hand"
   ]
  },
  {
   "cell_type": "code",
   "execution_count": 25,
   "metadata": {},
   "outputs": [],
   "source": [
    "critic_review_data = json.load(open('../data/critic_reviews/metacritic_host_critic.json'))"
   ]
  },
  {
   "cell_type": "markdown",
   "metadata": {},
   "source": [
    "Some of the reviews don't have the full text, so let's see how many of those there are:"
   ]
  },
  {
   "cell_type": "code",
   "execution_count": 26,
   "metadata": {},
   "outputs": [],
   "source": [
    "missing_full_review=[r for r in critic_review_data if r['text'].endswith('Read full review')]"
   ]
  },
  {
   "cell_type": "code",
   "execution_count": 27,
   "metadata": {},
   "outputs": [
    {
     "data": {
      "text/plain": [
       "35"
      ]
     },
     "execution_count": 27,
     "metadata": {},
     "output_type": "execute_result"
    }
   ],
   "source": [
    "len(missing_full_review)"
   ]
  },
  {
   "cell_type": "code",
   "execution_count": 28,
   "metadata": {},
   "outputs": [
    {
     "data": {
      "text/plain": [
       "35"
      ]
     },
     "execution_count": 28,
     "metadata": {},
     "output_type": "execute_result"
    }
   ],
   "source": [
    "len(critic_review_data)"
   ]
  },
  {
   "cell_type": "markdown",
   "metadata": {},
   "source": [
    "Unfortunately it looks like all of our reviews are missing full text. Again, I'm not sure if I will be able to carry out analysis on these because I hit paywalls or archived web pages when I try to retrieve the full text manually. "
   ]
  },
  {
   "cell_type": "code",
   "execution_count": 29,
   "metadata": {},
   "outputs": [
    {
     "data": {
      "text/plain": [
       "[{'critic': 'J.R. Jones',\n",
       "  'rating': '100',\n",
       "  'review_url': 'http://onfilm.chicagoreader.com/movies/critic.html#31160',\n",
       "  'source': 'Chicago Reader',\n",
       "  'text': 'The mix of dark humor, creeping suspense, and a sort of apocalyptic tenderness makes this the best horror flick in years.\\n                                    \\nRead full review'},\n",
       " {'critic': 'Peter Hartlaub',\n",
       "  'rating': '100',\n",
       "  'review_url': 'http://sfgate.com/cgi-bin/article.cgi?f=/c/a/2007/03/09/DDGMPOH6S31.DTL&type=movies',\n",
       "  'source': 'San Francisco Chronicle',\n",
       "  'text': 'A great piece of filmmaking and a legitimate science-fiction/horror classic.\\n                                    \\nRead full review'},\n",
       " {'critic': 'Felix Vasquez, Jr.',\n",
       "  'rating': '100',\n",
       "  'review_url': 'http://www.filmthreat.com/index.php?section=reviews&Id=9479',\n",
       "  'source': 'Film Threat',\n",
       "  'text': \"Joon-Ho's epic is a masterpiece of monster cinema that's intelligent, innovative, and reaches down to the basic core of family unity to propel its story beyond mere conventions of science fiction.\\n                                    \\nRead full review\"},\n",
       " {'critic': 'M. E. Russell',\n",
       "  'rating': '100',\n",
       "  'review_url': 'http://www.oregonlive.com/movies/oregonian/index.ssf?/base/entertainment/1173223513127830.xml&coll=7',\n",
       "  'source': 'Portland Oregonian',\n",
       "  'text': \"The Host isn't just a terrific monster movie. This South Korean box-office smash is also a laugh-out-loud comedy and a surprisingly angry political satire.\\n                                    \\nRead full review\"},\n",
       " {'critic': 'Anthony Lane',\n",
       "  'rating': '100',\n",
       "  'review_url': 'http://www.newyorker.com/arts/critics/cinema/2007/03/12/070312crci_cinema_lane',\n",
       "  'source': 'The New Yorker',\n",
       "  'text': 'I have seen The Host twice and have every intention of watching it again.\\n                                    \\nRead full review'},\n",
       " {'critic': 'Lisa Schwarzbaum',\n",
       "  'rating': '91',\n",
       "  'review_url': 'http://www.ew.com/ew/article/0,,20014256,00.html',\n",
       "  'source': 'Entertainment Weekly',\n",
       "  'text': \"Bong Joon-ho's wildly entertaining saga should become the hip, thinking-person's monster movie of choice.\\n                                    \\nRead full review\"},\n",
       " {'critic': 'Peter Rainer',\n",
       "  'rating': '91',\n",
       "  'review_url': 'http://www.csmonitor.com/2007/0309/p14s02-almo.html',\n",
       "  'source': 'Christian Science Monitor',\n",
       "  'text': 'A cross between \"Godzilla\" and \"Jaws,\" it manages to be both truly scary and truly funny – sometimes all at once.\\n                                    \\nRead full review'},\n",
       " {'critic': 'Sean Axmaker',\n",
       "  'rating': '91',\n",
       "  'review_url': 'http://seattlepi.nwsource.com/movies/306670_host09q.html',\n",
       "  'source': 'Seattle Post-Intelligencer',\n",
       "  'text': 'The sudden turns of temperament are a treat after the smart-ass attitude of American horror flicks, and the film is full of minor surprises, squirming in unexpected directions without leaving the conventions behind.\\n                                    \\nRead full review'},\n",
       " {'critic': 'Kevin Crust',\n",
       "  'rating': '90',\n",
       "  'review_url': 'http://www.calendarlive.com/printedition/calendar/cl-et-host9mar09,0,2721744.story',\n",
       "  'source': 'Los Angeles Times',\n",
       "  'text': 'With a subversive streak as wide as the Han and a title open to interpretation, The Host confounds our expectations while providing top-notch entertainment. For Bong, the monster movie is an ample vessel, one that he can fill with social criticism while discovering exuberant amusement in the process.\\n                                    \\nRead full review'},\n",
       " {'critic': 'Manohla Dargis',\n",
       "  'rating': '90',\n",
       "  'review_url': 'http://movies2.nytimes.com/2007/03/09/movies/09host.html?ref=movies',\n",
       "  'source': 'The New York Times',\n",
       "  'text': 'The Host is a cautionary environmental tale about the domination of nature and the costs of human folly, and it may send chills up your spine. But only one will tickle your fancy and make you cry encore, not just uncle.\\n                                    \\nRead full review'},\n",
       " {'critic': 'Richard Corliss',\n",
       "  'rating': '90',\n",
       "  'review_url': 'http://www.time.com/time/magazine/article/0,9171,1597534,00.html',\n",
       "  'source': 'Time',\n",
       "  'text': \"If this madly entertaining movie has a fault, it's that it's too ingenious for the genre it ostensibly inhabits.\\n                                    \\nRead full review\"},\n",
       " {'critic': 'Dana Stevens',\n",
       "  'rating': '90',\n",
       "  'review_url': 'http://www.slate.com/id/2161902/fr/flyout',\n",
       "  'source': 'Slate',\n",
       "  'text': 'The movie pops up out of nowhere, grabs you in its big, messy tentacles, and drags you down into murky depths, where social satire coexists with slapstick, and B-movie clichés mutate into complex metaphors.\\n                                    \\nRead full review'},\n",
       " {'critic': 'Marc Savlov',\n",
       "  'rating': '89',\n",
       "  'review_url': 'http://www.austinchronicle.com/gyrobase/Calendar/Film?Film=oid%3A457453',\n",
       "  'source': 'Austin Chronicle',\n",
       "  'text': 'The Host is a freewheeling mix of high style and goofy, good-natured fear-mongering.\\n                                    \\nRead full review'},\n",
       " {'critic': 'Glenn Kenny',\n",
       "  'rating': '88',\n",
       "  'review_url': 'http://www.premiere.com/moviereviews/3534/the-host.html',\n",
       "  'source': 'Premiere',\n",
       "  'text': \"When the movie isn't being scary, it's crazily funny, so much so that critical watchers will wonder if Bong might tilt the balance of the picture too far in a comic direction and water down the scares. He doesn't.\\n                                    \\nRead full review\"},\n",
       " {'critic': 'Michael Phillips',\n",
       "  'rating': '88',\n",
       "  'review_url': 'http://metromix.chicagotribune.com/movies/mmx-070309-movies-review-host,0,2504361.story?coll=mmx-movies_top_heds',\n",
       "  'source': 'Chicago Tribune',\n",
       "  'text': \"The tone of The Host is slippery in the best way; you're never sure if you're in for a joke or a shock, yet nothing feels random.\\n                                    \\nRead full review\"},\n",
       " {'critic': 'Claudia Puig',\n",
       "  'rating': '88',\n",
       "  'review_url': 'http://www.usatoday.com/life/movies/reviews/2007-03-08-the-host_N.htm',\n",
       "  'source': 'USA Today',\n",
       "  'text': 'This Korean-made film takes the well-worn creature-feature genre and spins it on its head thrillingly.\\n                                    \\nRead full review'},\n",
       " {'critic': 'V.A. Musetto',\n",
       "  'rating': '88',\n",
       "  'review_url': 'http://www.nypost.com/seven/03092007/entertainment/movies/bodies_and_seoul_movies_v_a__musetto.htm',\n",
       "  'source': 'New York Post',\n",
       "  'text': 'A fantastical genre-buster.\\n                                    \\nRead full review'},\n",
       " {'critic': 'Maitland McDonagh',\n",
       "  'rating': '88',\n",
       "  'review_url': 'http://tvguide.com/detail/movie.aspx?tvobjectid=286731&more=ucmoviereview',\n",
       "  'source': 'TV Guide Magazine',\n",
       "  'text': \"Boon's film is both funny and heartbreaking, a supremely confident mix of political satire, free-floating paranoia, fractured family dynamics and the kind of comedy that regularly reconfigures itself into tragedy.\\n                                    \\nRead full review\"},\n",
       " {'critic': 'Ty Burr',\n",
       "  'rating': '88',\n",
       "  'review_url': 'http://www.boston.com/movies/display?display=movie&id=9483',\n",
       "  'source': 'Boston Globe',\n",
       "  'text': 'Mostly, though, it\\'s \"Godzilla\" with a severe case of Murphy\\'s Law, and it is never less than bizarrely delightful.\\n                                    \\nRead full review'},\n",
       " {'critic': 'Peter Travers',\n",
       "  'rating': '88',\n",
       "  'review_url': 'http://www.rollingstone.com/reviews/movie/11713329/review/13826560/the_host_gwoemul',\n",
       "  'source': 'Rolling Stone',\n",
       "  'text': 'Is it that scary? Yes. Will it reduce you to quivering jelly? Oh, my, yes! Does it bust the bonds of the Godzilla formula to fuse fright with feeling? Better believe it, dudes.\\n                                    \\nRead full review'},\n",
       " {'critic': 'Steven Rea',\n",
       "  'rating': '88',\n",
       "  'review_url': 'http://ae.miami.com/entertainment/ui/miami/movie.html?id=829005&reviewId=22335',\n",
       "  'source': 'Philadelphia Inquirer',\n",
       "  'text': 'A wonderful, witty mix of horror and social satire, The Host takes its simple, time-tested premise - menacing creature terrorizes the populace - and runs with it.\\n                                    \\nRead full review'},\n",
       " {'critic': 'Liam Lacey',\n",
       "  'rating': '88',\n",
       "  'review_url': 'http://www.theglobeandmail.com/servlet/story/RTGAM.20070329.whost30/BNStory/Entertainment/home',\n",
       "  'source': 'The Globe and Mail (Toronto)',\n",
       "  'text': 'The first 20 minutes of the South Korean film The Host represents one of the most entertaining movie openings in memory. It\\'s the same kind of pop-culture thrill provided by Steven Spielberg\\'s \"Jaws,\" with the same sense of astonishment, fear and pleasure at something genuinely new.\\n                                    \\nRead full review'},\n",
       " {'critic': 'Scott Tobias',\n",
       "  'rating': '83',\n",
       "  'review_url': 'http://www.avclub.com/content/cinema/the_host',\n",
       "  'source': 'The A.V. Club',\n",
       "  'text': 'Most of all, The Host functions as a popcorn movie par excellence, loaded with the most familiar conventions, but shot through with such conviction and visual panache that even its clichés seem invigorating.\\n                                    \\nRead full review'},\n",
       " {'critic': 'Derek Elley',\n",
       "  'rating': '80',\n",
       "  'review_url': 'http://www.variety.com/index.asp?layout=features2006&content=jump&jump=review&dept=cannes&nav=RCannes&articleid=VE1117930596&cs=1&p=0',\n",
       "  'source': 'Variety',\n",
       "  'text': \"On almost every level, there's never quite been a monster movie like The Host. Egregiously subverting its own genre while still delivering shocks at a pure genre level, and marbled with straight-faced character humor that constantly throws the viewer off balance.\\n                                    \\nRead full review\"},\n",
       " {'critic': 'David Edelstein',\n",
       "  'rating': '80',\n",
       "  'review_url': 'http://nymag.com/movies/reviews/28907/index.html',\n",
       "  'source': 'New York Magazine (Vulture)',\n",
       "  'text': 'The Host packs a lot into its two tumultuous hours: lyrically disgusting special effects, hair-raising chases, outlandish political satire, and best of all, a dysfunctional-family psychodrama--an odyssey that\\'s like a grisly reworking of \"Little Miss Sunshine.\"\\n                                    \\nRead full review'},\n",
       " {'critic': 'Ella Taylor',\n",
       "  'rating': '80',\n",
       "  'review_url': 'http://www.laweekly.com/film+tv/film/we-are-what-eats-us/15848/',\n",
       "  'source': 'L.A. Weekly',\n",
       "  'text': 'The Host is a miracle of breathless play with form and tone that also seethes with attitude and ideas, from pure movie love to pointed sociopolitical commentary to a bleak existentialism about the inherent cruelty of our world.\\n                                    \\nRead full review'},\n",
       " {'critic': \"Andrew O'Hehir\",\n",
       "  'rating': '80',\n",
       "  'review_url': 'http://www.salon.com/ent/movies/review/2007/03/08/btm/index1.html',\n",
       "  'source': 'Salon',\n",
       "  'text': 'A thrilling ride and a sometimes dry, sometimes sweet comedy, but beneath all that is a humane and tragic view of life worthy of the greatest films. Even those without rubber monsters.\\n                                    \\nRead full review'},\n",
       " {'critic': 'Elizabeth Weitzman',\n",
       "  'rating': '75',\n",
       "  'review_url': 'http://www.nydailynews.com/entertainment/movies/moviereviews/story/503693p-424760c.html',\n",
       "  'source': 'New York Daily News',\n",
       "  'text': \"Bong's primary point is dead-on: Battling bureaucracy, from dishonest government leaders to indifferent civil servants, is the biggest horror of all.\\n                                    \\nRead full review\"},\n",
       " {'critic': 'Lawrence Toppman',\n",
       "  'rating': '75',\n",
       "  'review_url': 'http://ae.miami.com/entertainment/ui/miami/movie.html?id=829005&reviewId=22349',\n",
       "  'source': 'Charlotte Observer',\n",
       "  'text': \"I never thought I'd crack up watching a family mourn the death of a beloved daughter. But I've never seen a film quite like The Host, and that's far from the most bizarre thing in it.\\n                                    \\nRead full review\"},\n",
       " {'critic': 'Rene Rodriguez',\n",
       "  'rating': '75',\n",
       "  'review_url': 'http://ae.miami.com/entertainment/ui/miami/movie.html?id=829005&reviewId=22353',\n",
       "  'source': 'Miami Herald',\n",
       "  'text': \"Although it strikes a perfect balance between otherworldly, slimy menace and 1950s B-movie cheesiness, The Host's computer-generated mutant isn't what makes this frantic, wild picture so much fun.\\n                                    \\nRead full review\"},\n",
       " {'critic': 'Elizabeth Kerr',\n",
       "  'rating': '70',\n",
       "  'review_url': 'http://www.hollywoodreporter.com/hr/imdb/reviews/article_display.jsp?rid=1003155332&vnu_special_account_code=thrsiteimdbpro',\n",
       "  'source': 'The Hollywood Reporter',\n",
       "  'text': \"Bong has pulled together a multilayered horror-drama that works more often than not. The film gets back on track after a clumsy middle section that's too long and finishes strong, and Bong fans, horror fans and Asiaphiles are likely to be thoroughly satisfied.\\n                                    \\nRead full review\"},\n",
       " {'critic': 'J. Hoberman',\n",
       "  'rating': '70',\n",
       "  'review_url': 'http://www.villagevoice.com/film/0710,hoberman,75989,20.html',\n",
       "  'source': 'Village Voice',\n",
       "  'text': 'Gross-out horror is never far from comedy and The Host, Bong Joon-ho\\'s giddy creature feature, has an anarchic mess factor worthy of a pile of old \"Mad\" magazines.\\n                                    \\nRead full review'},\n",
       " {'critic': 'Stephen Hunter',\n",
       "  'rating': '70',\n",
       "  'review_url': 'http://www.washingtonpost.com/ac2/wp-dyn?node=cityguide/profile&id=1127425&categories=Movies&nm=1',\n",
       "  'source': 'Washington Post',\n",
       "  'text': \"It's the last thing anyone expected: an old-fashioned monster movie with a heart.\\n                                    \\nRead full review\"},\n",
       " {'critic': 'James Berardinelli',\n",
       "  'rating': '63',\n",
       "  'review_url': 'http://www.reelviews.net/movies/h/host.html',\n",
       "  'source': 'ReelViews',\n",
       "  'text': \"The Host is a strange little movie: part creature feature, part social commentary, and part slapstick comedy. The problem with the film is that the sum isn't greater than the parts and the pieces don't fuse in a way that's consistently pleasing or cinematically satisfying.\\n                                    \\nRead full review\"},\n",
       " {'critic': 'Michael Sragow',\n",
       "  'rating': '58',\n",
       "  'review_url': 'http://www.baltimoresun.com/entertainment/movies/bal-to.host23mar23,0,1636431.story?coll=bal-artslife-movies',\n",
       "  'source': 'Baltimore Sun',\n",
       "  'text': 'In \"Jaws,\" you didn\\'t know whether to laugh or to scream. In The Host, the yocks rarely mesh with the yucks.\\n                                    \\nRead full review'}]"
      ]
     },
     "execution_count": 29,
     "metadata": {},
     "output_type": "execute_result"
    }
   ],
   "source": [
    "missing_full_review"
   ]
  },
  {
   "cell_type": "markdown",
   "metadata": {},
   "source": [
    "Trying to retrieve some of the full text reviews manually, and formatting for JSON file:"
   ]
  },
  {
   "cell_type": "code",
   "execution_count": 33,
   "metadata": {},
   "outputs": [
    {
     "data": {
      "text/plain": [
       "\"\\nThe Host is a strange little movie: part creature feature, part social commentary, and part slapstick comedy. The problem with the film is that the sum isn't greater than the parts and the pieces don't fuse in a way that's consistently pleasing or cinematically satisfying. While the monster movie aspects of the film represent great fun, The Host's political subplot is overlong, uninteresting, and obvious. The comedy, which surfaces in seemingly random, broad bursts, is more often bizarre than funny (people taking pratfalls are the most common), and the ending is a downer.\\n\\nThe premise is simple enough: Chemicals dumped into the Han River from a U.S. military base create a mutant creature that grows alarmingly large. One day, the thing emerges from the water and starts eating passers-by. Hyun-seo (Ko Ah-sung), the pre-teen daughter of lazy Seoul snack vendor Gang-du (Song Kang-ho), is abducted by the monster and taken to its lair for future consumption. Gang-du mounts a rescue operation, aided by his father, Hie-bong (Byeon Hie-bong); his sister, archery medalist Nam-joo (Bae Du-na); and his brother, alcoholic Nam-il (Park Hae-il). However, the government is concerned about a SARS-like epidemic and Gang-du and his family end up in quarantine while the monster runs rampant and shows interest in a Hyun-seo snack.\\n\\nThe creature feature aspects of The Host are enjoyable, even if the characters never achieve more than a semblance of two-dimensionality. This is monster movie making in the great Japanese tradition, although with better special effects. Like Godzilla, the monstrosity in The Host has been awakened and mutated by modern technology. This is what happens when you pollute the water! The film's best scenes are those involving Hyun-seo trapped in the creature's lair. Her cat-and-mouse game with it generates a good deal of tension; it's annoying when the movie cuts from her scenes to those involving pointless secondary characters involved in the political/virus subplot. Indeed, most of the scenes involving the monster are riveting, especially its high energy first appearance and the tense final standoff. Every time the movie becomes somnambulant (a lapse that occurs too often), the creature makes an appearance to give a jolt of energy to the story and the audience.\\n\\nFans of B-grade monster movies will find things to appreciate about The Host, but even die-hards will notice how disjointed things become. I can accept the half-hearted attempts at character development (at least one of which, wherein the characters doze off, should have been cut) and the sometimes cheesy special effects, but the movie's attempts at humor are forced and the political aspects of the storyline bloat the running length to the point where The Host threatens to wear out its welcome. The ending is so serious and so gloomy that it's like a slap in the face, although one could laud the movie for daring to go in this direction. It's unusual if a little depressing.\\n\\nThe Host is director Bong Joon-ho's third feature, and the one that will get the most widespread international distribution. It opened to great fanfare in South Korea, where it drew huge crowds and set box office records. (This leads to a question about whether there are cultural elements to a movie like this that cause it to play better in its country of origin than elsewhere.) The American reception is expected to be muted. Subtitles will curtail the size of potential audiences and the movie's uneven tone and pace will further erode box office intake. The Host is passable entertainment for monster movie lovers, but offers little of value to anyone else.\\n\""
      ]
     },
     "execution_count": 33,
     "metadata": {},
     "output_type": "execute_result"
    }
   ],
   "source": [
    "'''\n",
    "The Host is a strange little movie: part creature feature, part social commentary, and part slapstick comedy. The problem with the film is that the sum isn't greater than the parts and the pieces don't fuse in a way that's consistently pleasing or cinematically satisfying. While the monster movie aspects of the film represent great fun, The Host's political subplot is overlong, uninteresting, and obvious. The comedy, which surfaces in seemingly random, broad bursts, is more often bizarre than funny (people taking pratfalls are the most common), and the ending is a downer.\n",
    "\n",
    "The premise is simple enough: Chemicals dumped into the Han River from a U.S. military base create a mutant creature that grows alarmingly large. One day, the thing emerges from the water and starts eating passers-by. Hyun-seo (Ko Ah-sung), the pre-teen daughter of lazy Seoul snack vendor Gang-du (Song Kang-ho), is abducted by the monster and taken to its lair for future consumption. Gang-du mounts a rescue operation, aided by his father, Hie-bong (Byeon Hie-bong); his sister, archery medalist Nam-joo (Bae Du-na); and his brother, alcoholic Nam-il (Park Hae-il). However, the government is concerned about a SARS-like epidemic and Gang-du and his family end up in quarantine while the monster runs rampant and shows interest in a Hyun-seo snack.\n",
    "\n",
    "The creature feature aspects of The Host are enjoyable, even if the characters never achieve more than a semblance of two-dimensionality. This is monster movie making in the great Japanese tradition, although with better special effects. Like Godzilla, the monstrosity in The Host has been awakened and mutated by modern technology. This is what happens when you pollute the water! The film's best scenes are those involving Hyun-seo trapped in the creature's lair. Her cat-and-mouse game with it generates a good deal of tension; it's annoying when the movie cuts from her scenes to those involving pointless secondary characters involved in the political/virus subplot. Indeed, most of the scenes involving the monster are riveting, especially its high energy first appearance and the tense final standoff. Every time the movie becomes somnambulant (a lapse that occurs too often), the creature makes an appearance to give a jolt of energy to the story and the audience.\n",
    "\n",
    "Fans of B-grade monster movies will find things to appreciate about The Host, but even die-hards will notice how disjointed things become. I can accept the half-hearted attempts at character development (at least one of which, wherein the characters doze off, should have been cut) and the sometimes cheesy special effects, but the movie's attempts at humor are forced and the political aspects of the storyline bloat the running length to the point where The Host threatens to wear out its welcome. The ending is so serious and so gloomy that it's like a slap in the face, although one could laud the movie for daring to go in this direction. It's unusual if a little depressing.\n",
    "\n",
    "The Host is director Bong Joon-ho's third feature, and the one that will get the most widespread international distribution. It opened to great fanfare in South Korea, where it drew huge crowds and set box office records. (This leads to a question about whether there are cultural elements to a movie like this that cause it to play better in its country of origin than elsewhere.) The American reception is expected to be muted. Subtitles will curtail the size of potential audiences and the movie's uneven tone and pace will further erode box office intake. The Host is passable entertainment for monster movie lovers, but offers little of value to anyone else.\n",
    "'''"
   ]
  },
  {
   "cell_type": "code",
   "execution_count": 50,
   "metadata": {},
   "outputs": [],
   "source": [
    "rtxt=\"\"\"\n",
    "Gross-out horror is never far from comedy and The Host, Bong Joon-ho's giddy creature feature, has an anarchic mess factor worthy of a pile of old Mad magazines. A broadly played clown show full of lowbrow antics, Bong's big splat is itself a sort of monster—the top grossing movie in South Korean history—and, since it surfaced at Cannes last May, festival audiences having been slurping it down like ramen.\n",
    "The Host's main attraction is a mutant carnivore-cum-somersaulting slimeball. As Mad once \"animated\" a garbage dump called the Heap, so The Host presents what might be a chunk of phlegm hawked from the maw of our despoiled earth. This killer tadpole can swim like a fish, scuttle like an insect, and run like a Spielberg raptor. Even more than the 1933 King Kong, Bong's creature is a surreal entity with no fixed size. As the materialization of dread, this nameless monster is harder to pin down than the radioactive, fire-breathing Godzilla. It's an \"It.\"\n",
    "\n",
    "Bong's allegory is deliberately free-floating; still, that the thing has its origins in American stupidity and hubris is made clear in The Host's prologue, set in a morgue on a U.S. Army base. Offended by the dust on some unused bottles of formaldehyde, an overbearing American officer orders a hapless Mr. Kim to dump gallons of toxic chemicals down the drain and into the Han River. A few years pass and two fishermen spot something gross swimming in the murk. . . . Cut to the wacky dysfunctional family who operate a riverside fast-food stand.\n",
    "\n",
    "The Park clan consists of an elderly patriarch and his two deadbeat sons—one a slob, the other a drunk—and a daughter who is a championship archer with an unfortunate psychological hitch. There's also 11-year-old granddaughter Hyun-seo, courtesy of the slob—busy dishing out fried squid when he realizes that, down by the river, picnickers are transfixed by something suspended beneath the bridge.\n",
    "\n",
    "The It falls into the water and swims over. Ordinary people, being what they are, merrily pelt the unknown creature with garbage until, with projectile force, it bounds ashore and the chase is on—thud, grab, leaping lizards! Establishing a galumphing tone of carnivalesque terror that trumps just about everything to follow, this picnic panic is a comic replay of 9/11 or even Sergei Eisenstein's \"Odessa Steps.\" Then the thing dives back into the river, scattering a gaggle of swan-shaped paddleboats, with little Hyun-seo in its fishy clutches. From then on, it's personal.\n",
    "\n",
    "Like the original, Japanese version of Godzilla, The Host gives catastrophe a naturalistic follow-through. A mass funeral for the monster's victims is held in a gymnasium that's housing traumatized survivors. The elder Park vows to rescue his granddaughter—or at least wreak vengeance. The girl's aunt solemnly offers up her bronze medal. Unlike the equivalent moments in Godzilla, however, this somber scene soon disintegrates into farce. The drunken brother arrives to immediately start blaming his siblings. The entire family is rolling-on-the-floor hysterical when the shelter is quarantined. The creature, it's explained—in such a way as to defy any rational explanation—was carrying a mysterious virus. But is it the It or South Korea who is really the host?\n",
    "\n",
    "From the perspective of the Parks, the monster comes to embody whatever irrational forces oppress them. The authorities are essentially the It's agents; their main concern is subduing the \"contaminated\" family who, having received a cell phone call from Hyun-seo, are desperate to escape. Discovering that the creature is warehousing its victims, the Parks troll the roiling Han for their lost child. Meanwhile, the authorities are after the nonexistent virus. The sinister Americans are even planning to drill a guy's head for it: \"The virus has definitely invaded his brain.\" It's what Borat called a \"war of terror.\"\n",
    "\n",
    "Bong, who has dealt with desperate pet-nappers and serial killers in his previous features—the crazy romantic comedy Barking Dogs Never Bite (2000) and the sociological policer Memories of Murder (2003)—has no difficulty integrating the horrifying, the stooge-like, and the everyday. (In that, he's even more extreme than our own masters of sociologic shock schlock—George Romero, Larry Cohen, and Joe Dante.) Just as grisly bio-horror is tricked out with cheesy effects and inappropriate music, so do spasms of naturalistic grief-coping alternate with pop-eyed slapstick. The Host is disgusting in some original and unforgettable ways, as when the monster vomits out human bones and an indigestible (or non-biodegradable) can of beer.\n",
    "\n",
    "That can is key. Korea is imagined as someone's toxic waste dump. Criticized by the U.S. and the World Health Organization for bungling the situation, the authorities plan to spray Seoul with the evocatively named \"Agent Yellow.\" (Not surprisingly, Bong is affiliated with South Korea's left-wing Democratic Labor Party.) The movie's climax conflates an anti-Agent Yellow protest, a police riot, and the family's inspirational last stand. Bong is a generous director. Although The Host has a tendency to repeat its routines, the filmmaker typically ends each scene with some offbeat comic lagniappe that serves to reground the fantasy in some quotidian morass.\n",
    "\n",
    "As amorphous as its creature, The Host has an engaging refusal to take itself seri ously—it's no War of the Worlds and yet, however funny, it is hardly camp. The emotions that The Host churns up, regarding idiot authority and poisonous catastrophe, are too raw—too close to disgust. Is revulsion a form of revolt? Bong's disaster farce ends with a long shot of the frozen Han. There's the sense of something new brewing in the sludge—namely his movie.\n",
    "\"\"\""
   ]
  },
  {
   "cell_type": "code",
   "execution_count": 60,
   "metadata": {},
   "outputs": [
    {
     "data": {
      "text/plain": [
       "'Gross-out horror is never far from comedy and The Host, Bong Joon-ho\\'s giddy creature feature, has an anarchic mess factor worthy of a pile of old Mad magazines. A broadly played clown show full of lowbrow antics, Bong\\'s big splat is itself a sort of monster—the top grossing movie in South Korean history—and, since it surfaced at Cannes last May, festival audiences having been slurping it down like ramen.\\nThe Host\\'s main attraction is a mutant carnivore-cum-somersaulting slimeball. As Mad once \"animated\" a garbage dump called the Heap, so The Host presents what might be a chunk of phlegm hawked from the maw of our despoiled earth. This killer tadpole can swim like a fish, scuttle like an insect, and run like a Spielberg raptor. Even more than the 1933 King Kong, Bong\\'s creature is a surreal entity with no fixed size. As the materialization of dread, this nameless monster is harder to pin down than the radioactive, fire-breathing Godzilla. It\\'s an \"It.\"\\n\\nBong\\'s allegory is deliberately free-floating; still, that the thing has its origins in American stupidity and hubris is made clear in The Host\\'s prologue, set in a morgue on a U.S. Army base. Offended by the dust on some unused bottles of formaldehyde, an overbearing American officer orders a hapless Mr. Kim to dump gallons of toxic chemicals down the drain and into the Han River. A few years pass and two fishermen spot something gross swimming in the murk. . . . Cut to the wacky dysfunctional family who operate a riverside fast-food stand.\\n\\nThe Park clan consists of an elderly patriarch and his two deadbeat sons—one a slob, the other a drunk—and a daughter who is a championship archer with an unfortunate psychological hitch. There\\'s also 11-year-old granddaughter Hyun-seo, courtesy of the slob—busy dishing out fried squid when he realizes that, down by the river, picnickers are transfixed by something suspended beneath the bridge.\\n\\nThe It falls into the water and swims over. Ordinary people, being what they are, merrily pelt the unknown creature with garbage until, with projectile force, it bounds ashore and the chase is on—thud, grab, leaping lizards! Establishing a galumphing tone of carnivalesque terror that trumps just about everything to follow, this picnic panic is a comic replay of 9/11 or even Sergei Eisenstein\\'s \"Odessa Steps.\" Then the thing dives back into the river, scattering a gaggle of swan-shaped paddleboats, with little Hyun-seo in its fishy clutches. From then on, it\\'s personal.\\n\\nLike the original, Japanese version of Godzilla, The Host gives catastrophe a naturalistic follow-through. A mass funeral for the monster\\'s victims is held in a gymnasium that\\'s housing traumatized survivors. The elder Park vows to rescue his granddaughter—or at least wreak vengeance. The girl\\'s aunt solemnly offers up her bronze medal. Unlike the equivalent moments in Godzilla, however, this somber scene soon disintegrates into farce. The drunken brother arrives to immediately start blaming his siblings. The entire family is rolling-on-the-floor hysterical when the shelter is quarantined. The creature, it\\'s explained—in such a way as to defy any rational explanation—was carrying a mysterious virus. But is it the It or South Korea who is really the host?\\n\\nFrom the perspective of the Parks, the monster comes to embody whatever irrational forces oppress them. The authorities are essentially the It\\'s agents; their main concern is subduing the \"contaminated\" family who, having received a cell phone call from Hyun-seo, are desperate to escape. Discovering that the creature is warehousing its victims, the Parks troll the roiling Han for their lost child. Meanwhile, the authorities are after the nonexistent virus. The sinister Americans are even planning to drill a guy\\'s head for it: \"The virus has definitely invaded his brain.\" It\\'s what Borat called a \"war of terror.\"\\n\\nBong, who has dealt with desperate pet-nappers and serial killers in his previous features—the crazy romantic comedy Barking Dogs Never Bite (2000) and the sociological policer Memories of Murder (2003)—has no difficulty integrating the horrifying, the stooge-like, and the everyday. (In that, he\\'s even more extreme than our own masters of sociologic shock schlock—George Romero, Larry Cohen, and Joe Dante.) Just as grisly bio-horror is tricked out with cheesy effects and inappropriate music, so do spasms of naturalistic grief-coping alternate with pop-eyed slapstick. The Host is disgusting in some original and unforgettable ways, as when the monster vomits out human bones and an indigestible (or non-biodegradable) can of beer.\\n\\nThat can is key. Korea is imagined as someone\\'s toxic waste dump. Criticized by the U.S. and the World Health Organization for bungling the situation, the authorities plan to spray Seoul with the evocatively named \"Agent Yellow.\" (Not surprisingly, Bong is affiliated with South Korea\\'s left-wing Democratic Labor Party.) The movie\\'s climax conflates an anti-Agent Yellow protest, a police riot, and the family\\'s inspirational last stand. Bong is a generous director. Although The Host has a tendency to repeat its routines, the filmmaker typically ends each scene with some offbeat comic lagniappe that serves to reground the fantasy in some quotidian morass.\\n\\nAs amorphous as its creature, The Host has an engaging refusal to take itself seri ously—it\\'s no War of the Worlds and yet, however funny, it is hardly camp. The emotions that The Host churns up, regarding idiot authority and poisonous catastrophe, are too raw—too close to disgust. Is revulsion a form of revolt? Bong\\'s disaster farce ends with a long shot of the frozen Han. There\\'s the sense of something new brewing in the sludge—namely his movie.'"
      ]
     },
     "execution_count": 60,
     "metadata": {},
     "output_type": "execute_result"
    }
   ],
   "source": [
    "\"Gross-out horror is never far from comedy and The Host, Bong Joon-ho\\'s giddy creature feature, has an anarchic mess factor worthy of a pile of old Mad magazines. A broadly played clown show full of lowbrow antics, Bong\\'s big splat is itself a sort of monster—the top grossing movie in South Korean history—and, since it surfaced at Cannes last May, festival audiences having been slurping it down like ramen.\\nThe Host\\'s main attraction is a mutant carnivore-cum-somersaulting slimeball. As Mad once \\\"animated\\\" a garbage dump called the Heap, so The Host presents what might be a chunk of phlegm hawked from the maw of our despoiled earth. This killer tadpole can swim like a fish, scuttle like an insect, and run like a Spielberg raptor. Even more than the 1933 King Kong, Bong\\'s creature is a surreal entity with no fixed size. As the materialization of dread, this nameless monster is harder to pin down than the radioactive, fire-breathing Godzilla. It\\'s an \\\"It.\\\"\\n\\nBong\\'s allegory is deliberately free-floating; still, that the thing has its origins in American stupidity and hubris is made clear in The Host\\'s prologue, set in a morgue on a U.S. Army base. Offended by the dust on some unused bottles of formaldehyde, an overbearing American officer orders a hapless Mr. Kim to dump gallons of toxic chemicals down the drain and into the Han River. A few years pass and two fishermen spot something gross swimming in the murk. . . . Cut to the wacky dysfunctional family who operate a riverside fast-food stand.\\n\\nThe Park clan consists of an elderly patriarch and his two deadbeat sons—one a slob, the other a drunk—and a daughter who is a championship archer with an unfortunate psychological hitch. There\\'s also 11-year-old granddaughter Hyun-seo, courtesy of the slob—busy dishing out fried squid when he realizes that, down by the river, picnickers are transfixed by something suspended beneath the bridge.\\n\\nThe It falls into the water and swims over. Ordinary people, being what they are, merrily pelt the unknown creature with garbage until, with projectile force, it bounds ashore and the chase is on—thud, grab, leaping lizards! Establishing a galumphing tone of carnivalesque terror that trumps just about everything to follow, this picnic panic is a comic replay of 9/11 or even Sergei Eisenstein\\'s \\\"Odessa Steps.\\\" Then the thing dives back into the river, scattering a gaggle of swan-shaped paddleboats, with little Hyun-seo in its fishy clutches. From then on, it\\'s personal.\\n\\nLike the original, Japanese version of Godzilla, The Host gives catastrophe a naturalistic follow-through. A mass funeral for the monster\\'s victims is held in a gymnasium that\\'s housing traumatized survivors. The elder Park vows to rescue his granddaughter—or at least wreak vengeance. The girl\\'s aunt solemnly offers up her bronze medal. Unlike the equivalent moments in Godzilla, however, this somber scene soon disintegrates into farce. The drunken brother arrives to immediately start blaming his siblings. The entire family is rolling-on-the-floor hysterical when the shelter is quarantined. The creature, it\\'s explained—in such a way as to defy any rational explanation—was carrying a mysterious virus. But is it the It or South Korea who is really the host?\\n\\nFrom the perspective of the Parks, the monster comes to embody whatever irrational forces oppress them. The authorities are essentially the It\\'s agents; their main concern is subduing the \\\"contaminated\\\" family who, having received a cell phone call from Hyun-seo, are desperate to escape. Discovering that the creature is warehousing its victims, the Parks troll the roiling Han for their lost child. Meanwhile, the authorities are after the nonexistent virus. The sinister Americans are even planning to drill a guy\\'s head for it: \\\"The virus has definitely invaded his brain.\\\" It\\'s what Borat called a \\\"war of terror.\\\"\\n\\nBong, who has dealt with desperate pet-nappers and serial killers in his previous features—the crazy romantic comedy Barking Dogs Never Bite (2000) and the sociological policer Memories of Murder (2003)—has no difficulty integrating the horrifying, the stooge-like, and the everyday. (In that, he\\'s even more extreme than our own masters of sociologic shock schlock—George Romero, Larry Cohen, and Joe Dante.) Just as grisly bio-horror is tricked out with cheesy effects and inappropriate music, so do spasms of naturalistic grief-coping alternate with pop-eyed slapstick. The Host is disgusting in some original and unforgettable ways, as when the monster vomits out human bones and an indigestible (or non-biodegradable) can of beer.\\n\\nThat can is key. Korea is imagined as someone\\'s toxic waste dump. Criticized by the U.S. and the World Health Organization for bungling the situation, the authorities plan to spray Seoul with the evocatively named \\\"Agent Yellow.\\\" (Not surprisingly, Bong is affiliated with South Korea\\'s left-wing Democratic Labor Party.) The movie\\'s climax conflates an anti-Agent Yellow protest, a police riot, and the family\\'s inspirational last stand. Bong is a generous director. Although The Host has a tendency to repeat its routines, the filmmaker typically ends each scene with some offbeat comic lagniappe that serves to reground the fantasy in some quotidian morass.\\n\\nAs amorphous as its creature, The Host has an engaging refusal to take itself seri ously—it\\'s no War of the Worlds and yet, however funny, it is hardly camp. The emotions that The Host churns up, regarding idiot authority and poisonous catastrophe, are too raw—too close to disgust. Is revulsion a form of revolt? Bong\\'s disaster farce ends with a long shot of the frozen Han. There\\'s the sense of something new brewing in the sludge—namely his movie.\""
   ]
  },
  {
   "cell_type": "code",
   "execution_count": 58,
   "metadata": {},
   "outputs": [
    {
     "data": {
      "text/plain": [
       "'\\nGross-out horror is never far from comedy and The Host, Bong Joon-ho\\'s giddy creature feature, has an anarchic mess factor worthy of a pile of old Mad magazines. A broadly played clown show full of lowbrow antics, Bong\\'s big splat is itself a sort of monster—the top grossing movie in South Korean history—and, since it surfaced at Cannes last May, festival audiences having been slurping it down like ramen.\\nThe Host\\'s main attraction is a mutant carnivore-cum-somersaulting slimeball. As Mad once \\\\\"animated\\\\\" a garbage dump called the Heap, so The Host presents what might be a chunk of phlegm hawked from the maw of our despoiled earth. This killer tadpole can swim like a fish, scuttle like an insect, and run like a Spielberg raptor. Even more than the 1933 King Kong, Bong\\'s creature is a surreal entity with no fixed size. As the materialization of dread, this nameless monster is harder to pin down than the radioactive, fire-breathing Godzilla. It\\'s an \\\\\"It.\\\\\"\\n\\nBong\\'s allegory is deliberately free-floating; still, that the thing has its origins in American stupidity and hubris is made clear in The Host\\'s prologue, set in a morgue on a U.S. Army base. Offended by the dust on some unused bottles of formaldehyde, an overbearing American officer orders a hapless Mr. Kim to dump gallons of toxic chemicals down the drain and into the Han River. A few years pass and two fishermen spot something gross swimming in the murk. . . . Cut to the wacky dysfunctional family who operate a riverside fast-food stand.\\n\\nThe Park clan consists of an elderly patriarch and his two deadbeat sons—one a slob, the other a drunk—and a daughter who is a championship archer with an unfortunate psychological hitch. There\\'s also 11-year-old granddaughter Hyun-seo, courtesy of the slob—busy dishing out fried squid when he realizes that, down by the river, picnickers are transfixed by something suspended beneath the bridge.\\n\\nThe It falls into the water and swims over. Ordinary people, being what they are, merrily pelt the unknown creature with garbage until, with projectile force, it bounds ashore and the chase is on—thud, grab, leaping lizards! Establishing a galumphing tone of carnivalesque terror that trumps just about everything to follow, this picnic panic is a comic replay of 9/11 or even Sergei Eisenstein\\'s \\\\\"Odessa Steps.\\\\\" Then the thing dives back into the river, scattering a gaggle of swan-shaped paddleboats, with little Hyun-seo in its fishy clutches. From then on, it\\'s personal.\\n\\nLike the original, Japanese version of Godzilla, The Host gives catastrophe a naturalistic follow-through. A mass funeral for the monster\\'s victims is held in a gymnasium that\\'s housing traumatized survivors. The elder Park vows to rescue his granddaughter—or at least wreak vengeance. The girl\\'s aunt solemnly offers up her bronze medal. Unlike the equivalent moments in Godzilla, however, this somber scene soon disintegrates into farce. The drunken brother arrives to immediately start blaming his siblings. The entire family is rolling-on-the-floor hysterical when the shelter is quarantined. The creature, it\\'s explained—in such a way as to defy any rational explanation—was carrying a mysterious virus. But is it the It or South Korea who is really the host?\\n\\nFrom the perspective of the Parks, the monster comes to embody whatever irrational forces oppress them. The authorities are essentially the It\\'s agents; their main concern is subduing the \\\\\"contaminated\\\\\" family who, having received a cell phone call from Hyun-seo, are desperate to escape. Discovering that the creature is warehousing its victims, the Parks troll the roiling Han for their lost child. Meanwhile, the authorities are after the nonexistent virus. The sinister Americans are even planning to drill a guy\\'s head for it: \\\\\"The virus has definitely invaded his brain.\\\\\" It\\'s what Borat called a \\\\\"war of terror.\\\\\"\\n\\nBong, who has dealt with desperate pet-nappers and serial killers in his previous features—the crazy romantic comedy Barking Dogs Never Bite (2000) and the sociological policer Memories of Murder (2003)—has no difficulty integrating the horrifying, the stooge-like, and the everyday. (In that, he\\'s even more extreme than our own masters of sociologic shock schlock—George Romero, Larry Cohen, and Joe Dante.) Just as grisly bio-horror is tricked out with cheesy effects and inappropriate music, so do spasms of naturalistic grief-coping alternate with pop-eyed slapstick. The Host is disgusting in some original and unforgettable ways, as when the monster vomits out human bones and an indigestible (or non-biodegradable) can of beer.\\n\\nThat can is key. Korea is imagined as someone\\'s toxic waste dump. Criticized by the U.S. and the World Health Organization for bungling the situation, the authorities plan to spray Seoul with the evocatively named \\\\\"Agent Yellow.\\\\\" (Not surprisingly, Bong is affiliated with South Korea\\'s left-wing Democratic Labor Party.) The movie\\'s climax conflates an anti-Agent Yellow protest, a police riot, and the family\\'s inspirational last stand. Bong is a generous director. Although The Host has a tendency to repeat its routines, the filmmaker typically ends each scene with some offbeat comic lagniappe that serves to reground the fantasy in some quotidian morass.\\n\\nAs amorphous as its creature, The Host has an engaging refusal to take itself seri ously—it\\'s no War of the Worlds and yet, however funny, it is hardly camp. The emotions that The Host churns up, regarding idiot authority and poisonous catastrophe, are too raw—too close to disgust. Is revulsion a form of revolt? Bong\\'s disaster farce ends with a long shot of the frozen Han. There\\'s the sense of something new brewing in the sludge—namely his movie.\\n'"
      ]
     },
     "execution_count": 58,
     "metadata": {},
     "output_type": "execute_result"
    }
   ],
   "source": [
    "\"{}\".format(rtxt.replace('\"', '\\\\\\\"'))"
   ]
  },
  {
   "cell_type": "code",
   "execution_count": 52,
   "metadata": {},
   "outputs": [
    {
     "data": {
      "text/plain": [
       "'\\nGross-out horror is never far from comedy and The Host, Bong Joon-ho\\'s giddy creature feature, has an anarchic mess factor worthy of a pile of old Mad magazines. A broadly played clown show full of lowbrow antics, Bong\\'s big splat is itself a sort of monster—the top grossing movie in South Korean history—and, since it surfaced at Cannes last May, festival audiences having been slurping it down like ramen.\\nThe Host\\'s main attraction is a mutant carnivore-cum-somersaulting slimeball. As Mad once \"animated\" a garbage dump called the Heap, so The Host presents what might be a chunk of phlegm hawked from the maw of our despoiled earth. This killer tadpole can swim like a fish, scuttle like an insect, and run like a Spielberg raptor. Even more than the 1933 King Kong, Bong\\'s creature is a surreal entity with no fixed size. As the materialization of dread, this nameless monster is harder to pin down than the radioactive, fire-breathing Godzilla. It\\'s an \"It.\"\\n\\nBong\\'s allegory is deliberately free-floating; still, that the thing has its origins in American stupidity and hubris is made clear in The Host\\'s prologue, set in a morgue on a U.S. Army base. Offended by the dust on some unused bottles of formaldehyde, an overbearing American officer orders a hapless Mr. Kim to dump gallons of toxic chemicals down the drain and into the Han River. A few years pass and two fishermen spot something gross swimming in the murk. . . . Cut to the wacky dysfunctional family who operate a riverside fast-food stand.\\n\\nThe Park clan consists of an elderly patriarch and his two deadbeat sons—one a slob, the other a drunk—and a daughter who is a championship archer with an unfortunate psychological hitch. There\\'s also 11-year-old granddaughter Hyun-seo, courtesy of the slob—busy dishing out fried squid when he realizes that, down by the river, picnickers are transfixed by something suspended beneath the bridge.\\n\\nThe It falls into the water and swims over. Ordinary people, being what they are, merrily pelt the unknown creature with garbage until, with projectile force, it bounds ashore and the chase is on—thud, grab, leaping lizards! Establishing a galumphing tone of carnivalesque terror that trumps just about everything to follow, this picnic panic is a comic replay of 9/11 or even Sergei Eisenstein\\'s \"Odessa Steps.\" Then the thing dives back into the river, scattering a gaggle of swan-shaped paddleboats, with little Hyun-seo in its fishy clutches. From then on, it\\'s personal.\\n\\nLike the original, Japanese version of Godzilla, The Host gives catastrophe a naturalistic follow-through. A mass funeral for the monster\\'s victims is held in a gymnasium that\\'s housing traumatized survivors. The elder Park vows to rescue his granddaughter—or at least wreak vengeance. The girl\\'s aunt solemnly offers up her bronze medal. Unlike the equivalent moments in Godzilla, however, this somber scene soon disintegrates into farce. The drunken brother arrives to immediately start blaming his siblings. The entire family is rolling-on-the-floor hysterical when the shelter is quarantined. The creature, it\\'s explained—in such a way as to defy any rational explanation—was carrying a mysterious virus. But is it the It or South Korea who is really the host?\\n\\nFrom the perspective of the Parks, the monster comes to embody whatever irrational forces oppress them. The authorities are essentially the It\\'s agents; their main concern is subduing the \"contaminated\" family who, having received a cell phone call from Hyun-seo, are desperate to escape. Discovering that the creature is warehousing its victims, the Parks troll the roiling Han for their lost child. Meanwhile, the authorities are after the nonexistent virus. The sinister Americans are even planning to drill a guy\\'s head for it: \"The virus has definitely invaded his brain.\" It\\'s what Borat called a \"war of terror.\"\\n\\nBong, who has dealt with desperate pet-nappers and serial killers in his previous features—the crazy romantic comedy Barking Dogs Never Bite (2000) and the sociological policer Memories of Murder (2003)—has no difficulty integrating the horrifying, the stooge-like, and the everyday. (In that, he\\'s even more extreme than our own masters of sociologic shock schlock—George Romero, Larry Cohen, and Joe Dante.) Just as grisly bio-horror is tricked out with cheesy effects and inappropriate music, so do spasms of naturalistic grief-coping alternate with pop-eyed slapstick. The Host is disgusting in some original and unforgettable ways, as when the monster vomits out human bones and an indigestible (or non-biodegradable) can of beer.\\n\\nThat can is key. Korea is imagined as someone\\'s toxic waste dump. Criticized by the U.S. and the World Health Organization for bungling the situation, the authorities plan to spray Seoul with the evocatively named \"Agent Yellow.\" (Not surprisingly, Bong is affiliated with South Korea\\'s left-wing Democratic Labor Party.) The movie\\'s climax conflates an anti-Agent Yellow protest, a police riot, and the family\\'s inspirational last stand. Bong is a generous director. Although The Host has a tendency to repeat its routines, the filmmaker typically ends each scene with some offbeat comic lagniappe that serves to reground the fantasy in some quotidian morass.\\n\\nAs amorphous as its creature, The Host has an engaging refusal to take itself seri ously—it\\'s no War of the Worlds and yet, however funny, it is hardly camp. The emotions that The Host churns up, regarding idiot authority and poisonous catastrophe, are too raw—too close to disgust. Is revulsion a form of revolt? Bong\\'s disaster farce ends with a long shot of the frozen Han. There\\'s the sense of something new brewing in the sludge—namely his movie.\\n'"
      ]
     },
     "execution_count": 52,
     "metadata": {},
     "output_type": "execute_result"
    }
   ],
   "source": [
    "rtxt"
   ]
  },
  {
   "cell_type": "code",
   "execution_count": 75,
   "metadata": {},
   "outputs": [
    {
     "data": {
      "text/plain": [
       "'\\n\"The Host\": It rose from American slime to destroy the Korean family! It must be destroyed!\\nYes, the fishy, flippery, 60-foot-long thingummy who emerges from the polluted waters of the Han River in central Seoul to terrorize the populace in \"The Host\" is the result of poison from an American military facility. Well, what the hell else would cause such a horrible mutation? The fertilizer off Uncle Hang-soo\\'s farm? I don\\'t think so.\\n\\nThere\\'s no question that Bong Joon-ho\\'s film, which is the most satisfying monster movie in many years, takes some easy shots at the American military-technological colossus, and at the Korean government\\'s sheepdog-like subservience to it. I\\'m inclined to interpret pretty much any junky old movie as a dialectical critique of whateverness, but in this case both the sanctimonious leftists and the contrarian critics are reading way too much into this simultaneously big-hearted and farcical adventure.\\n\\n\"The Host\" may have one foot in the allegorical and mysterious world of contemporary Asian horror cinema, but the other one is closer to the sentimental big-screen spectacles of Steven Spielberg, or even Frank Capra. Bong\\'s human villains are about as ambiguous as his monster: The Americans are diabolical Strangeloves and the Koreans are two-faced sycophants. His hero, on the other hand, is Gang-du (Song Kang-ho), a middle-aged loser with a bad blond \\'do who slumbers away the days at his dad\\'s riverside squid shack. (That isn\\'t any kind of a joke: Koreans really, really like squid.)\\n\\nGang-du\\'s dad (Byeon Hie-bong) is a grump and complainer, his beautiful sister (Bae Du-na) is a champion archer who loses an international match through indecision, and his brother (Park Hae-il) is an embittered alcoholic. About the only sensible one is Gang-du\\'s daughter Hyun-seo (Ko Ah-sung), a resourceful little person of about 9 who puts up with this family as patiently as she can manage. Do you suppose coming face-to-face with a giant mutant whatzit will give this struggling family a chance at redemption, or what?\\n\\nThere\\'s tragedy beneath the funniest bits of \"The Host\" and humor beneath the most serious passages, which is one reason why I don\\'t think it should be viewed as some earnest political parable. When the big kahuna emerges from the muddy Han and begins gnawing up picnickers, the resulting chaos is both upsetting and comic -- at least until it grabs Hyun-seo and disappears. Even then, the film\\'s tone is constitutionally unsettled: At the stage-managed ceremony of public grieving after the monster\\'s first attack, the entire Park family collapses in a slapstick heap. As a stern orange-suited bureaucrat seeks to quarantine those who (like Gang-du) have actually touched the beast -- reputedly the host of a dangerous virus -- he wipes out in a pratfall worthy of Oliver Hardy.\\n\\nHyun-seo is gone, all right -- but is she really dead? After Gang-du gets a cellphone call from somewhere deep in the Han River sewer system, there is hope. Of course, as Gang-du explodes to a sinister American doctor late in the film, \"Nobody ever fucking listens to me!\" But our plucky family of working-class washouts doesn\\'t give up easily. Infighting and bickering all the way, they take on the Korean cops and military, the evil and meddlesome Yanks (who want to release a poison gas called Agent Yellow in the city center), and, oh yeah, a hideous mutant creature who has their beloved Hyun-seo stashed somewhere for some future snacktime.\\n\\nWhile the ignorance, hypocrisy and lies on display in \"The Host\" may result from America\\'s increasingly clumsy quest to subjugate the earth in the name of freedom, those are the tools of authority in all historical eras and all nations. It\\'s always those at the bottom of the food chain (those whom nobody ever fucking listens to!) who must battle the mutant monsters. On the margins of high-tech consumer society, the squid-shack proprietors will always be with us (as Jesus observed). \"The Host\" is a thrilling ride and a sometimes dry, sometimes sweet comedy, but beneath all that is a humane and tragic view of life worthy of the greatest films. Even those without rubber monsters.\\n'"
      ]
     },
     "execution_count": 75,
     "metadata": {},
     "output_type": "execute_result"
    }
   ],
   "source": [
    "'''\n",
    "\"The Host\": It rose from American slime to destroy the Korean family! It must be destroyed!\n",
    "Yes, the fishy, flippery, 60-foot-long thingummy who emerges from the polluted waters of the Han River in central Seoul to terrorize the populace in \"The Host\" is the result of poison from an American military facility. Well, what the hell else would cause such a horrible mutation? The fertilizer off Uncle Hang-soo's farm? I don't think so.\n",
    "\n",
    "There's no question that Bong Joon-ho's film, which is the most satisfying monster movie in many years, takes some easy shots at the American military-technological colossus, and at the Korean government's sheepdog-like subservience to it. I'm inclined to interpret pretty much any junky old movie as a dialectical critique of whateverness, but in this case both the sanctimonious leftists and the contrarian critics are reading way too much into this simultaneously big-hearted and farcical adventure.\n",
    "\n",
    "\"The Host\" may have one foot in the allegorical and mysterious world of contemporary Asian horror cinema, but the other one is closer to the sentimental big-screen spectacles of Steven Spielberg, or even Frank Capra. Bong's human villains are about as ambiguous as his monster: The Americans are diabolical Strangeloves and the Koreans are two-faced sycophants. His hero, on the other hand, is Gang-du (Song Kang-ho), a middle-aged loser with a bad blond 'do who slumbers away the days at his dad's riverside squid shack. (That isn't any kind of a joke: Koreans really, really like squid.)\n",
    "\n",
    "Gang-du's dad (Byeon Hie-bong) is a grump and complainer, his beautiful sister (Bae Du-na) is a champion archer who loses an international match through indecision, and his brother (Park Hae-il) is an embittered alcoholic. About the only sensible one is Gang-du's daughter Hyun-seo (Ko Ah-sung), a resourceful little person of about 9 who puts up with this family as patiently as she can manage. Do you suppose coming face-to-face with a giant mutant whatzit will give this struggling family a chance at redemption, or what?\n",
    "\n",
    "There's tragedy beneath the funniest bits of \"The Host\" and humor beneath the most serious passages, which is one reason why I don't think it should be viewed as some earnest political parable. When the big kahuna emerges from the muddy Han and begins gnawing up picnickers, the resulting chaos is both upsetting and comic -- at least until it grabs Hyun-seo and disappears. Even then, the film's tone is constitutionally unsettled: At the stage-managed ceremony of public grieving after the monster's first attack, the entire Park family collapses in a slapstick heap. As a stern orange-suited bureaucrat seeks to quarantine those who (like Gang-du) have actually touched the beast -- reputedly the host of a dangerous virus -- he wipes out in a pratfall worthy of Oliver Hardy.\n",
    "\n",
    "Hyun-seo is gone, all right -- but is she really dead? After Gang-du gets a cellphone call from somewhere deep in the Han River sewer system, there is hope. Of course, as Gang-du explodes to a sinister American doctor late in the film, \"Nobody ever fucking listens to me!\" But our plucky family of working-class washouts doesn't give up easily. Infighting and bickering all the way, they take on the Korean cops and military, the evil and meddlesome Yanks (who want to release a poison gas called Agent Yellow in the city center), and, oh yeah, a hideous mutant creature who has their beloved Hyun-seo stashed somewhere for some future snacktime.\n",
    "\n",
    "While the ignorance, hypocrisy and lies on display in \"The Host\" may result from America's increasingly clumsy quest to subjugate the earth in the name of freedom, those are the tools of authority in all historical eras and all nations. It's always those at the bottom of the food chain (those whom nobody ever fucking listens to!) who must battle the mutant monsters. On the margins of high-tech consumer society, the squid-shack proprietors will always be with us (as Jesus observed). \"The Host\" is a thrilling ride and a sometimes dry, sometimes sweet comedy, but beneath all that is a humane and tragic view of life worthy of the greatest films. Even those without rubber monsters.\n",
    "'''"
   ]
  },
  {
   "cell_type": "code",
   "execution_count": 76,
   "metadata": {},
   "outputs": [
    {
     "data": {
      "text/plain": [
       "'\\nThe creature that rises out of a murky river to terrorize Seoul in Bong Joon-ho’s terrific The Host may put you in mind of a certain jowly shark, but its flapping jaws have a broader material and symbolic reach than any horror to emerge from the mind’s eye of Steven Spielberg. Bong, who won plaudits and awards around the world for his early movies Barking Dogs Never Bite and Memories of Murder, knows his way around the monster movie, but his predatory creation gives no quarter. Part frog, part fish and wholly a man-made nightmare, this beastly mutant doesn’t have a thing for lithe blond tootsies. It doesn’t make goo-goo eyes, lumber around murmuring “friends,” or pal around with soulfully brown-eyed little girls. Impartial and arbitrary, this equal-opportunity destroyer prowls the banks of the river Han, where the city’s poor gather to squeeze what little pleasure they can out of their downtrodden lives. Pouncing on old and young alike, it either flattens them on the spot or carries them off to a dank sewer, there to chew them right down to the bone.\\n\\nI have next to no affinity for horror, but I left the theater charmed. Though there’s real terror in these bloody scenes, products of a fertile partnership between the special-effects labs that produced King Kong and Sin City, The Host is also a caper among whose many virtues is a complete absence of the knowing snicker that comes packaged with most contemporary creature features. At 37 years old, Bong still counts as a young Turk, but he brings to his subject a humanistic affection and expansive knowledge of the real world rarely found among filmmakers who single-mindedly nourished their childhood imaginations on things from black lagoons. The Host is a miracle of breathless play with form and tone that also seethes with attitude and ideas, from pure movie love to pointed sociopolitical commentary to a bleak existentialism about the inherent cruelty of our world. Like most movie monsters, Bong’s beast is Us — an expression of elemental fears, longings and anxieties about life and death in a universe run amok. But its random violence speaks to a peculiarly modern Us that heedlessly screws up our habitat, then rushes around trying in vain to contain the consequences.\\n\\nThe movie opens with the now obligatory act of American malice, in this case based on a real-life incident: A U.S. Army base officer (Scott Wilson, whose career has spanned the range of baleful Yanks) orders his reluctant Korean assistant to pour quantities of formaldehyde down a sink, knowing full well that it will make its way into the river. In due course, the chemical works its black magic and shows up as the bloated creature, whose most terrifying aspect is not its rather modest size as monsters go, but the mutant body parts — a split, gaping maw and scaly extra limbs — jutting from all the wrong places, and the lopsided lope with which it stalks its proletarian victims, among whom lounges an altogether more affable monster. Fat and lazy, his broad features framed by a tacky blond dye job, Park Gang-du (played with adorable zest by the popular South Korean actor Song Kang-ho) is as useless at running the riverside food stand he mans with his hard-working father as he is benignly neglectful of his daughter Hyun-seo (Ko A-sung). Yet this grinning slacker, apparently incapable of summoning up predatory energy if his life depended on it, shapes up into an unlikely hero when Hyun-seo’s life comes to depend on him and his wacky family, whose most potent weapon against the creature is a bow and arrow.\\n\\nThe monster may be the host of every current fear we have, from viruses to water contamination to global terror. But as Park searches for his missing daughter, he has more to fear from the pompous, bumbling officials who thwart him at every turn, and who, in an uproarious send-up of SARS hysteria, run around in silly yellow suits flapping their hands. Park redeems himself, but it’s not what you think, for though Bong is an unabashed populist (“Hot shots stink,” was his enchanting reply to an interviewer who asked why he’s drawn to working-class people), he’s no sentimentalist. Tucked inside the warmly hopeful ending of The Host, if you really pay attention, is a chilling conviction that, creature or no creature, life is an uphill struggle with limited success against an indifferent and unforgiving universe. Which makes you fear, as well it might, for the future of the one child who lives to console us in The Host, as the birth of another child did in Children of Men.\\n\\n'"
      ]
     },
     "execution_count": 76,
     "metadata": {},
     "output_type": "execute_result"
    }
   ],
   "source": [
    "'''\n",
    "The creature that rises out of a murky river to terrorize Seoul in Bong Joon-ho’s terrific The Host may put you in mind of a certain jowly shark, but its flapping jaws have a broader material and symbolic reach than any horror to emerge from the mind’s eye of Steven Spielberg. Bong, who won plaudits and awards around the world for his early movies Barking Dogs Never Bite and Memories of Murder, knows his way around the monster movie, but his predatory creation gives no quarter. Part frog, part fish and wholly a man-made nightmare, this beastly mutant doesn’t have a thing for lithe blond tootsies. It doesn’t make goo-goo eyes, lumber around murmuring “friends,” or pal around with soulfully brown-eyed little girls. Impartial and arbitrary, this equal-opportunity destroyer prowls the banks of the river Han, where the city’s poor gather to squeeze what little pleasure they can out of their downtrodden lives. Pouncing on old and young alike, it either flattens them on the spot or carries them off to a dank sewer, there to chew them right down to the bone.\n",
    "\n",
    "I have next to no affinity for horror, but I left the theater charmed. Though there’s real terror in these bloody scenes, products of a fertile partnership between the special-effects labs that produced King Kong and Sin City, The Host is also a caper among whose many virtues is a complete absence of the knowing snicker that comes packaged with most contemporary creature features. At 37 years old, Bong still counts as a young Turk, but he brings to his subject a humanistic affection and expansive knowledge of the real world rarely found among filmmakers who single-mindedly nourished their childhood imaginations on things from black lagoons. The Host is a miracle of breathless play with form and tone that also seethes with attitude and ideas, from pure movie love to pointed sociopolitical commentary to a bleak existentialism about the inherent cruelty of our world. Like most movie monsters, Bong’s beast is Us — an expression of elemental fears, longings and anxieties about life and death in a universe run amok. But its random violence speaks to a peculiarly modern Us that heedlessly screws up our habitat, then rushes around trying in vain to contain the consequences.\n",
    "\n",
    "The movie opens with the now obligatory act of American malice, in this case based on a real-life incident: A U.S. Army base officer (Scott Wilson, whose career has spanned the range of baleful Yanks) orders his reluctant Korean assistant to pour quantities of formaldehyde down a sink, knowing full well that it will make its way into the river. In due course, the chemical works its black magic and shows up as the bloated creature, whose most terrifying aspect is not its rather modest size as monsters go, but the mutant body parts — a split, gaping maw and scaly extra limbs — jutting from all the wrong places, and the lopsided lope with which it stalks its proletarian victims, among whom lounges an altogether more affable monster. Fat and lazy, his broad features framed by a tacky blond dye job, Park Gang-du (played with adorable zest by the popular South Korean actor Song Kang-ho) is as useless at running the riverside food stand he mans with his hard-working father as he is benignly neglectful of his daughter Hyun-seo (Ko A-sung). Yet this grinning slacker, apparently incapable of summoning up predatory energy if his life depended on it, shapes up into an unlikely hero when Hyun-seo’s life comes to depend on him and his wacky family, whose most potent weapon against the creature is a bow and arrow.\n",
    "\n",
    "The monster may be the host of every current fear we have, from viruses to water contamination to global terror. But as Park searches for his missing daughter, he has more to fear from the pompous, bumbling officials who thwart him at every turn, and who, in an uproarious send-up of SARS hysteria, run around in silly yellow suits flapping their hands. Park redeems himself, but it’s not what you think, for though Bong is an unabashed populist (“Hot shots stink,” was his enchanting reply to an interviewer who asked why he’s drawn to working-class people), he’s no sentimentalist. Tucked inside the warmly hopeful ending of The Host, if you really pay attention, is a chilling conviction that, creature or no creature, life is an uphill struggle with limited success against an indifferent and unforgiving universe. Which makes you fear, as well it might, for the future of the one child who lives to console us in The Host, as the birth of another child did in Children of Men.\n",
    "\n",
    "'''"
   ]
  },
  {
   "cell_type": "code",
   "execution_count": 80,
   "metadata": {},
   "outputs": [
    {
     "data": {
      "text/plain": [
       "\"\\nBong Joon-ho's vastly entertaining creature feature The Host shattered box-office records in its native South Korea, which counts as an encouraging sign that Hollywood has lost its monopoly on effects-heavy escapism. But even that achievement sells short the film's specific virtues, like a daylight monster attack that could stand toe-to-toe with anything in Spielberg's oeuvre or the playful mix of tones that made Bong's previous film, Memories Of Murder, so distinctive. It can also be appreciated as a sweeping metaphor for America's toxic intervention abroad, though never to the point where it could be accused of high-mindedness. Most of all, The Host functions as a popcorn movie par excellence, loaded with the most familiar conventions, but shot through with such conviction and visual panache that even its clichés seem invigorating.\\n\\nIn the prologue, an American military officer orders dozens of dust-covered formaldehyde bottles to be poured down the drain, ignoring protests that the noxious liquid will go directly into the Han River, which flows into Seoul. Cut to six years later, when oafish layabout Song Kang-ho minds the riverside snack trailer owned by his family, including his scolding father Byeon Heui-bong, his young daughter Ko A-sung, and his sister Bae Du-na, who's in the national archery finals. (Not that her skills will figure into the story at some point down the line, of course.) Suddenly, on this ordinary afternoon, a giant creature with tentacles springs out of the river and starts devouring everyone in its path. When it scoops up Ko and deposits her in its sewer lair, it's up to Song and his family to rescue the girl before it's too late.\\n\\nBong and his special-effects team take a major risk by exposing their creature to the light of day, where it could easily look cheesy or disconnected from the real environment, but the CGI could pass muster in a production with 10 times its budget. Still, what really sells the monster is Bong's impressive arsenal of old-fashioned visual tricks, like tucking crucial information in the corner of the screen or outside the frame altogether. At a full two hours, The Host could use a little trimming, especially in the sagging middle section between the first-rate opening action and slapstick sequences and the suitably gripping climactic showdown. But Bong still offers a powerful rejoinder to his Hollywood counterparts: Anything you can do, I can do better.\\n\""
      ]
     },
     "execution_count": 80,
     "metadata": {},
     "output_type": "execute_result"
    }
   ],
   "source": [
    "'''\n",
    "Bong Joon-ho's vastly entertaining creature feature The Host shattered box-office records in its native South Korea, which counts as an encouraging sign that Hollywood has lost its monopoly on effects-heavy escapism. But even that achievement sells short the film's specific virtues, like a daylight monster attack that could stand toe-to-toe with anything in Spielberg's oeuvre or the playful mix of tones that made Bong's previous film, Memories Of Murder, so distinctive. It can also be appreciated as a sweeping metaphor for America's toxic intervention abroad, though never to the point where it could be accused of high-mindedness. Most of all, The Host functions as a popcorn movie par excellence, loaded with the most familiar conventions, but shot through with such conviction and visual panache that even its clichés seem invigorating.\n",
    "\n",
    "In the prologue, an American military officer orders dozens of dust-covered formaldehyde bottles to be poured down the drain, ignoring protests that the noxious liquid will go directly into the Han River, which flows into Seoul. Cut to six years later, when oafish layabout Song Kang-ho minds the riverside snack trailer owned by his family, including his scolding father Byeon Heui-bong, his young daughter Ko A-sung, and his sister Bae Du-na, who's in the national archery finals. (Not that her skills will figure into the story at some point down the line, of course.) Suddenly, on this ordinary afternoon, a giant creature with tentacles springs out of the river and starts devouring everyone in its path. When it scoops up Ko and deposits her in its sewer lair, it's up to Song and his family to rescue the girl before it's too late.\n",
    "\n",
    "Bong and his special-effects team take a major risk by exposing their creature to the light of day, where it could easily look cheesy or disconnected from the real environment, but the CGI could pass muster in a production with 10 times its budget. Still, what really sells the monster is Bong's impressive arsenal of old-fashioned visual tricks, like tucking crucial information in the corner of the screen or outside the frame altogether. At a full two hours, The Host could use a little trimming, especially in the sagging middle section between the first-rate opening action and slapstick sequences and the suitably gripping climactic showdown. But Bong still offers a powerful rejoinder to his Hollywood counterparts: Anything you can do, I can do better.\n",
    "'''"
   ]
  },
  {
   "cell_type": "code",
   "execution_count": 81,
   "metadata": {},
   "outputs": [
    {
     "data": {
      "text/plain": [
       "'\\nLike all good hosts, the host in \"The Host,\" a mutant squid-lizard that moves with the agility of an Olympic gymnast, throws a lively party with a little of everything: scares, laughs, politics and a bit of archery.\\n\\nThe South Korean writer-director Bong Joon-ho has made a considerable international splash with this picture, and no wonder. It boasts a photogenic antagonist from the deep. It\\'s also savvy enough to make you care about the human factor. Like \"Pan\\'s Labyrinth,\" another (but very different) R-rated fantasy in which a young girl confronts evil beyond her imagining, \"The Host\" takes its perils seriously.\\n\\nFulfilling one expectation of its genre, Bong\\'s film is about the fracturing and reassembling of an extended family. On the banks of Seoul\\'s Han River, snack shop proprietor Kang-du (Song Kang-ho) loses his middle-school-age daughter (Ko A-sung) to the slimy tentacles of the massive squid-lizard, in the monster\\'s first major assault. The scene is beautifully paced; from the first sighting of the creature, in droll, matter-of-fact medium shot, you know you\\'re in assured directorial hands.\\n\\nTo Kang-du\\'s father, brother and archer-sister, the girl\\'s abduction-she and a young boy are kept alive in the creature\\'s lair underneath a city bridge-is merely the latest proof that Kang-du is hapless. Dad has a score to settle with his own reputation. \"The Host\" sticks close to one family\\'s response to the crisis, while taking shots at the reasons for the trouble. In a prologue, a U.S. Army officer, in charge of the morgue in Seoul, orders an underling to dump toxic chemicals down the drain. (This is based on a real-life incident, though as far as we know a monster-free one.) Years later, bingo: squid-zard in the river, thanks to American arrogance.\\n\\nSouth Korea doesn\\'t come off much better. In cahoots with the Americans, the government sprays witnesses to the first attack with something called \"Agent Yellow.\" Later, in a throwaway line, we learn that post-attack cleanup operations have been farmed out to 14 different private companies, none of which seem to know what it\\'s doing. The tone of \"The Host\" is slippery in the best way; you\\'re never sure if you\\'re in for a joke or a shock, yet nothing feels random. It\\'s on the longish side, and it has a couple of extra endings, but the film (as William H. Macy said of Joe Mantegna in \"Homicide\") is like an aquarium. There\\'s something going on every minute.\\n\\nDirector Bong\\'s previous feature, \"Memories of Murder\" (2003), was a slippery fish as well, treating the pursuit of a serial killer with a sardonic touch, just this side of facetious. He\\'s a wit, and he knows how to deploy wit (as opposed to gags, though he\\'s not above a few choice sight gags in \"The Host\") to further a narrative. At the same time Bong knows what a chosen genre demands. When someone in \"The Host\" edges close to the water and says, \"It\\'s an Amazonian river dolphin for sure!\" you know full well he\\'s about to be proven wrong.\\n\\n'"
      ]
     },
     "execution_count": 81,
     "metadata": {},
     "output_type": "execute_result"
    }
   ],
   "source": [
    "'''\n",
    "Like all good hosts, the host in \"The Host,\" a mutant squid-lizard that moves with the agility of an Olympic gymnast, throws a lively party with a little of everything: scares, laughs, politics and a bit of archery.\n",
    "\n",
    "The South Korean writer-director Bong Joon-ho has made a considerable international splash with this picture, and no wonder. It boasts a photogenic antagonist from the deep. It's also savvy enough to make you care about the human factor. Like \"Pan's Labyrinth,\" another (but very different) R-rated fantasy in which a young girl confronts evil beyond her imagining, \"The Host\" takes its perils seriously.\n",
    "\n",
    "Fulfilling one expectation of its genre, Bong's film is about the fracturing and reassembling of an extended family. On the banks of Seoul's Han River, snack shop proprietor Kang-du (Song Kang-ho) loses his middle-school-age daughter (Ko A-sung) to the slimy tentacles of the massive squid-lizard, in the monster's first major assault. The scene is beautifully paced; from the first sighting of the creature, in droll, matter-of-fact medium shot, you know you're in assured directorial hands.\n",
    "\n",
    "To Kang-du's father, brother and archer-sister, the girl's abduction-she and a young boy are kept alive in the creature's lair underneath a city bridge-is merely the latest proof that Kang-du is hapless. Dad has a score to settle with his own reputation. \"The Host\" sticks close to one family's response to the crisis, while taking shots at the reasons for the trouble. In a prologue, a U.S. Army officer, in charge of the morgue in Seoul, orders an underling to dump toxic chemicals down the drain. (This is based on a real-life incident, though as far as we know a monster-free one.) Years later, bingo: squid-zard in the river, thanks to American arrogance.\n",
    "\n",
    "South Korea doesn't come off much better. In cahoots with the Americans, the government sprays witnesses to the first attack with something called \"Agent Yellow.\" Later, in a throwaway line, we learn that post-attack cleanup operations have been farmed out to 14 different private companies, none of which seem to know what it's doing. The tone of \"The Host\" is slippery in the best way; you're never sure if you're in for a joke or a shock, yet nothing feels random. It's on the longish side, and it has a couple of extra endings, but the film (as William H. Macy said of Joe Mantegna in \"Homicide\") is like an aquarium. There's something going on every minute.\n",
    "\n",
    "Director Bong's previous feature, \"Memories of Murder\" (2003), was a slippery fish as well, treating the pursuit of a serial killer with a sardonic touch, just this side of facetious. He's a wit, and he knows how to deploy wit (as opposed to gags, though he's not above a few choice sight gags in \"The Host\") to further a narrative. At the same time Bong knows what a chosen genre demands. When someone in \"The Host\" edges close to the water and says, \"It's an Amazonian river dolphin for sure!\" you know full well he's about to be proven wrong.\n",
    "\n",
    "'''"
   ]
  },
  {
   "cell_type": "code",
   "execution_count": 85,
   "metadata": {},
   "outputs": [
    {
     "data": {
      "text/plain": [
       "\"\\nHey, kids, you wanna see the biggest blockbuster in the history of Korean cinema? No? How about the out-and-out scariest monster movie to come down the pike since, oh, Aliens?\\n\\nThere, I thought so. The monster who pops out of the Han river to terrorize Seoul in Bong Joon-ho's wildly entertaining The Host sure is an elaborately ugly thing (imagine if the Alien creature concept was based on a prawn), but how it looks isn't nearly as jump-out-of-your-seat startling as how and when it shows up. And the out-and-out scariest bits in the film aren't when the creature is attacking, but when one of its lead characters — most particularly the plucky little girl heroine, Park Hyun-seo (Ko A-sung), who's been kidnapped and stowed away by the creature — is waiting for it to attack.\\n\\nWhen the movie isn't being scary, it's crazily funny, so much so that critical watchers will wonder if Bong might tilt the balance of the picture too far in a comic direction and water down the scares. He doesn't. Instead, he gets both laughs and cheers for Park Hyun-seo's ridiculously dysfunctional clan, including her super-dense dad (Song Kang-ho, who played a somewhat similarly deficient detective in Bong's excellent 2003 thriller Memories of Murder) and crossbow-wielding aunt. Their story is forefronted as all of Seoul goes into a panic, and the Korean authorities are shunted aside by U.S. military personnel (who, a prologue shows, are responsible for the creature's creation in the first place), who then screw things up even further. I understand that some people are particularly sensitive about other countries giving us a hard time in their movies (I always figured the U.S.A. was tough enough to take it); still, the America-bashing in this picture is done in such a blandly matter-of-fact fashion that it registers as much funnier than it might have.\\n\\nBut the movie is hardly a full-fledged satire; part of what makes it so enjoyable is how much stuff it contains while never losing sight of its prime directive, which is to thrill and terrify. The movie's finale is dauntingly different from what a Hollywood version of this picture might have offered. Leaving my first viewing of The Host, I thought I would have really loved the movie even if its ending had copped out.\\n\""
      ]
     },
     "execution_count": 85,
     "metadata": {},
     "output_type": "execute_result"
    }
   ],
   "source": [
    "'''\n",
    "Hey, kids, you wanna see the biggest blockbuster in the history of Korean cinema? No? How about the out-and-out scariest monster movie to come down the pike since, oh, Aliens?\n",
    "\n",
    "There, I thought so. The monster who pops out of the Han river to terrorize Seoul in Bong Joon-ho's wildly entertaining The Host sure is an elaborately ugly thing (imagine if the Alien creature concept was based on a prawn), but how it looks isn't nearly as jump-out-of-your-seat startling as how and when it shows up. And the out-and-out scariest bits in the film aren't when the creature is attacking, but when one of its lead characters — most particularly the plucky little girl heroine, Park Hyun-seo (Ko A-sung), who's been kidnapped and stowed away by the creature — is waiting for it to attack.\n",
    "\n",
    "When the movie isn't being scary, it's crazily funny, so much so that critical watchers will wonder if Bong might tilt the balance of the picture too far in a comic direction and water down the scares. He doesn't. Instead, he gets both laughs and cheers for Park Hyun-seo's ridiculously dysfunctional clan, including her super-dense dad (Song Kang-ho, who played a somewhat similarly deficient detective in Bong's excellent 2003 thriller Memories of Murder) and crossbow-wielding aunt. Their story is forefronted as all of Seoul goes into a panic, and the Korean authorities are shunted aside by U.S. military personnel (who, a prologue shows, are responsible for the creature's creation in the first place), who then screw things up even further. I understand that some people are particularly sensitive about other countries giving us a hard time in their movies (I always figured the U.S.A. was tough enough to take it); still, the America-bashing in this picture is done in such a blandly matter-of-fact fashion that it registers as much funnier than it might have.\n",
    "\n",
    "But the movie is hardly a full-fledged satire; part of what makes it so enjoyable is how much stuff it contains while never losing sight of its prime directive, which is to thrill and terrify. The movie's finale is dauntingly different from what a Hollywood version of this picture might have offered. Leaving my first viewing of The Host, I thought I would have really loved the movie even if its ending had copped out.\n",
    "'''"
   ]
  },
  {
   "cell_type": "code",
   "execution_count": 86,
   "metadata": {},
   "outputs": [
    {
     "data": {
      "text/plain": [
       "\"\\nIt's big and ugly, and before it started terrorizing innocent Koreans, it was a tadpole. Then a careless American doctor at a local military base ordered hundreds of gallons of formaldehyde dumped into the Han River. The creature swallowed the toxin; now the thing is 30 ft. long, has 10 legs, looks like an angry Muppet and is itching for mischief. U.S. scientists have yet more dire news: the beast is the host for a deadly virus that could wipe out everyone in Seoul or-- dare we say it--the world!\\n\\nThe Host is itself a bizarre hybrid: both a popular hit (South Korea's all-time box-office champ) and a critics' choice, having played to acclaim at the Cannes and New York festivals. The film's plot is also pretty splitty: part old-time sea- or sewer-mutant movie in the tradition of Godzilla and Them! and part trigenerational comedy-drama about a weird family--sort of a Little Miss Korean Sunshine. The difference is that instead of a dead old man in the van, the Park family has a little girl (Ko A-sung) missing in the belly of the beast. Then director Bong Joon-ho sets one more plate spinning, with easy-to-spot political metaphors for U.S. influence in Korea and sleight-of-hand in Iraq. If this madly entertaining movie has a fault, it's that it's too ingenious for the genre it ostensibly inhabits.\\n\\nThe poor Park family seems farcically overmatched by the monster. The sharpshooter dad runs out of bullets; the girl archery expert can't shoot straight. Actually, you won't want them to kill the monster, not right away, since it has lots of its own eccentricities. The creature is less vicious than playful, a showboating athlete that does high-bar 360s on a bridge rail and backflips into the river. When it hits land, it lopes like Marmaduke next to its ostensible victims; it treats any human in its mouth more as a chew toy than as lunch. If the movie is remade for the U.S. market, expect kids to beg for those monster toys.\\n\\nBut Hollywood is sure to sand and sanitize this film's quirks. See the real thing now, not a ghost of The Host later.\\n\""
      ]
     },
     "execution_count": 86,
     "metadata": {},
     "output_type": "execute_result"
    }
   ],
   "source": [
    "'''\n",
    "It's big and ugly, and before it started terrorizing innocent Koreans, it was a tadpole. Then a careless American doctor at a local military base ordered hundreds of gallons of formaldehyde dumped into the Han River. The creature swallowed the toxin; now the thing is 30 ft. long, has 10 legs, looks like an angry Muppet and is itching for mischief. U.S. scientists have yet more dire news: the beast is the host for a deadly virus that could wipe out everyone in Seoul or-- dare we say it--the world!\n",
    "\n",
    "The Host is itself a bizarre hybrid: both a popular hit (South Korea's all-time box-office champ) and a critics' choice, having played to acclaim at the Cannes and New York festivals. The film's plot is also pretty splitty: part old-time sea- or sewer-mutant movie in the tradition of Godzilla and Them! and part trigenerational comedy-drama about a weird family--sort of a Little Miss Korean Sunshine. The difference is that instead of a dead old man in the van, the Park family has a little girl (Ko A-sung) missing in the belly of the beast. Then director Bong Joon-ho sets one more plate spinning, with easy-to-spot political metaphors for U.S. influence in Korea and sleight-of-hand in Iraq. If this madly entertaining movie has a fault, it's that it's too ingenious for the genre it ostensibly inhabits.\n",
    "\n",
    "The poor Park family seems farcically overmatched by the monster. The sharpshooter dad runs out of bullets; the girl archery expert can't shoot straight. Actually, you won't want them to kill the monster, not right away, since it has lots of its own eccentricities. The creature is less vicious than playful, a showboating athlete that does high-bar 360s on a bridge rail and backflips into the river. When it hits land, it lopes like Marmaduke next to its ostensible victims; it treats any human in its mouth more as a chew toy than as lunch. If the movie is remade for the U.S. market, expect kids to beg for those monster toys.\n",
    "\n",
    "But Hollywood is sure to sand and sanitize this film's quirks. See the real thing now, not a ghost of The Host later.\n",
    "'''"
   ]
  },
  {
   "cell_type": "code",
   "execution_count": 87,
   "metadata": {},
   "outputs": [
    {
     "data": {
      "text/plain": [
       "'\\nHow come we get so many films about serial killers, teen-age libidos, and the Second World War, but nothing about giant mutant tadpoles? The imbalance has always struck me as unjust, and some of us have considered forming a pressure group to lobby for the inclusion of giant mutant tadpoles in mainstream cinema. Now the pressure is off, thanks to “The Host.” The director is Bong Joon-ho, and the mainstream in question is the Han, which flows through the center of Seoul. The rapid economic advance of South Korea in the nineteen-sixties and seventies is commonly known in the region as “the Miracle on the Han.” Here comes the downturn.\\n\\nSong Kangho and Ko Asung flee the monster in a new film from South Korea.\\nSong Kang-ho and Ko A-sung flee the monster in a new film from South Korea.R. KIKUO JOHNSON\\nIn the opening scene, a load of old formaldehyde, tipped down the drain by a lab technician, ends up in the waters of the Han. A few years later, we see the result, though we can’t quite make out what we are looking at: a dark, bulbous, comma-shaped form, drooping from the struts of a bridge. Slowly, it unfurls, like an Olympic diver, and drops neatly into the water. The good people of Seoul, amused by such novelty, toss beer cans at it and take snapshots on their cell phones. One of them glances sideways, at which point amusement comes to a halt—unlike the beast, which has hopped onto the embankment and is now pounding toward the crowd, plainly in search of a snack to go with the beer. Reading from back to front, we find: a lashing tail, which also functions as a lasso; legs as thick as a dinosaur’s, with claws that can churn up concrete; eyes as dull as glue; and a mouth that seems to peel open in many directions at once. The whole package is the size of a Greyhound bus, and extremely vexed about something. It looks like Broderick Crawford crossed with a Venus flytrap.\\n\\nObserving the monster is Gang-du (Song Kang-ho), a slob who runs a nearby food stand. He has yellow hair, the ability to fall asleep at any time, and—somewhat to our surprise—a young daughter, Hyun-seo (Ko A-sung). She gets caught up in the crowd’s chaotic flight from the monster, which promptly kidnaps her and, in obedience to the rules of fairy tale, bears her off to its lair. The rest of the film charts the efforts of Gang-du, aided by his family, to retrieve his only child from the dripping, bone-strewn sewer where she now resides. The story drags slightly in the middle, but there is no mistaking the rampant acceleration of the final act, in which all those present are called upon to save a life and, in so doing, to fulfill the task for which each of them is essentially equipped. For example, the hero’s sister, Nam-joo (Bae Doo-na), is a professional archer—always handy for those pesky dragonslaying situations that crop up so often these days. Her other brother, Nam-il (Park Hae-il), spends half the movie complaining that, as a college graduate, he can’t get a job, whereupon, at the climax, he turns into an angry student—preparing Molotov cocktails, like a soixante-huitard, and lobbing them at the leathery flanks of his foe.\\n\\nNo one can claim that we live in a golden age—or a bile-green, suppurating age—of movie monsters, and there will be plenty of filmgoers who yawned through “Godzilla” in 1998 and swore off large amphibians for good. All I can say, to tempt them back, is that I have seen “The Host” twice and have every intention of watching it again. Anyone who has taken the plunge into recent Korean movies (“Lady Vengeance” and “Oldboy,” say) will know that their impact springs not just from the verve of the storytelling but from a tendency to hurtle energetically from one mood to the next, merrily swapping the lyrical for the sadistic. It is as if Korean directors, refusing to observe the niceties of genre, offered value for money by packing several movies into one. The trick with “The Host,” the most successful release in the history of Korean cinema, is therefore to unpack it and inspect the contents.\\n\\nVIDEO FROM THE NEW YORKER\\n\\nWhat Went Wrong in the Sewol Ferry Disaster?\\n\\n\\nThe first component is shock, without which no monster movie can hope to thrive. “The Host” delivers a fine series of jolts, as the beast, which uses the industrial architecture of Seoul as an acrobat uses the parallel bars, swings suddenly out of the darkness. More unorthodox is the visual gag near the beginning, when Gang-du, fleeing the rampage, takes hold of his daughter’s hand, then loses it in the rush. The screen slows and turns quiet; his hand gropes for hers and finds it again, at which point we pull back to reveal that he has grabbed the wrong girl. This is typical of Bong Joon-ho: the setting may be outlandish, but the emotion—every parent’s fear—could hardly be more rooted in the real.\\n\\nSecond, there is the yuck factor. “The Host” is not especially bloody, and it will hold limited appeal for those macho viewers who like to test and prove themselves by cackling through a film like “Hostel,” which was little better than a dramatized abattoir. Nonetheless, the special effects have an insidious slither of their own. They were created by the Orphanage, the California company that worked on “Hellboy,” “Sin City,” and recent installments of Harry Potter and “Pirates of the Caribbean.” What the wizards have conjured for “The Host,” though, takes me back to the heyday of John Carpenter—specifically, to the flowering nastiness of “The Thing.” The emphasis is not on weaponry (the best defense turns out to be a metal pole) but on the organic, as befits a beast that was spawned by environmental pollution—watch it regurgitate victims like a mother disgorging fish to its young in “March of the Penguins.” At one point, Hyun-seo leaps into the air and stays there. For a few seconds, we don’t get it. (Bong likes to prolong the spell.) Then we switch angles, and all becomes clear: the girl is held aloft in the coils of the monster’s sticky tail.\\n\\nThird, Bong, like Carpenter, treats authority with the scorn of the prankster at the back of the class. Anyone in a uniform is fair game. Some guy in a yellow protective suit, seeking to inform the public of what has occurred on the Han, soon gives up and suggests weakly that people watch it on TV. When the girl’s family is held in a hospital, following rumors that the beast may be the source—the host—of a menacing virus, we get a delicate probing of the generational split. Gang-du’s father is all for mollifying the doctors, trying to slip them a sweetener in cash, whereas the son wants to muscle his way out as fast as possible. This niggle of disrespect lends the film a nervous litheness; we want the monster quelled, and order restored, but what, exactly, is so peaceful about the status quo?\\n\\nAll of which leads to the director’s fourth and most unlikely virtue: he makes you laugh. Moreover, he keeps doing so in the wrong—or, at any rate, the least laughable—places. This was demonstrated in his earlier movie “Memories of Murder” (2003), in which detectives and forensic experts arriving to study a corpse kept slipping on an embankment and landing on their behinds, like extras in a Mack Sennett comedy. Many graceful directors—Jacques Tati, obviously, but also Krzysztof Kieslowski—have been drawn to the sheer gracelessness of humanity, as if there were something endearing in our habit of falling (or tumbling) short of that noble dignity which, when sitting comfortably, we like to ascribe to ourselves. The most destabilizing scene in “The Host” comes as Gang-du and the others wail with grief before a photograph of Hyun-seo, whom they believe to be dead, and make such a spectacle of themselves, writhing like eels, that despite ourselves we snicker at their collapse. Such maladroit behavior is unusual in a monster flick, where you expect at least a modicum of cool; you can’t really imagine Sigourney Weaver, at the climax of “Aliens,” tripping over her own flamethrower.\\n\\nGiven all that, it may seem perverse to hail “The Host” as a thing of beauty, yet that is what it is: a perfect mixture of the silly and the grave. In 1954, the art critic David Sylvester, impatient with the accepted canon, wrote a review of “Them!,” in Encounter, in which he described it as “a frightening, imaginative, beautifully written B-movie-style SF film about giant ants, exactly the sort of film the professional critics could be guaranteed not to latch on to.” Time to make amends. We have shifted from ants to tadpoles (“The Host” could easily have been titled “It!”), but the style is intact. Take the gorgeous wide shot of the Han River, early in the film, with rain gusting across the surface and a hint of something more than murky stirring in its depths. Then leapfrog to the last scene: we are back at Gang-du’s food stand, after dark, with adult and child sharing a heaped table of food. On the television, there is news about the beast—a report, voiced by American officials, about the unseemly events in Seoul. The feasters in the shack, who, after all, were principal players in that drama, want nothing more to do with it: “Should we watch something else?” “Let’s turn it off. Concentrate on eating.” The whole flustered panoply of TV, camera crews, and cell phones that has flashed and clicked throughout the movie is turned off, making way for a glimpse of an older, more peaceable Korea. We move outside for a closing image worthy of Fellini: the small hut, so light and festive within, warmed by the steam of rice, is marooned in a landscape of night and drifting snow. Anything could be out there.\\n\\n'"
      ]
     },
     "execution_count": 87,
     "metadata": {},
     "output_type": "execute_result"
    }
   ],
   "source": [
    "'''\n",
    "How come we get so many films about serial killers, teen-age libidos, and the Second World War, but nothing about giant mutant tadpoles? The imbalance has always struck me as unjust, and some of us have considered forming a pressure group to lobby for the inclusion of giant mutant tadpoles in mainstream cinema. Now the pressure is off, thanks to “The Host.” The director is Bong Joon-ho, and the mainstream in question is the Han, which flows through the center of Seoul. The rapid economic advance of South Korea in the nineteen-sixties and seventies is commonly known in the region as “the Miracle on the Han.” Here comes the downturn.\n",
    "\n",
    "Song Kangho and Ko Asung flee the monster in a new film from South Korea.\n",
    "Song Kang-ho and Ko A-sung flee the monster in a new film from South Korea.R. KIKUO JOHNSON\n",
    "In the opening scene, a load of old formaldehyde, tipped down the drain by a lab technician, ends up in the waters of the Han. A few years later, we see the result, though we can’t quite make out what we are looking at: a dark, bulbous, comma-shaped form, drooping from the struts of a bridge. Slowly, it unfurls, like an Olympic diver, and drops neatly into the water. The good people of Seoul, amused by such novelty, toss beer cans at it and take snapshots on their cell phones. One of them glances sideways, at which point amusement comes to a halt—unlike the beast, which has hopped onto the embankment and is now pounding toward the crowd, plainly in search of a snack to go with the beer. Reading from back to front, we find: a lashing tail, which also functions as a lasso; legs as thick as a dinosaur’s, with claws that can churn up concrete; eyes as dull as glue; and a mouth that seems to peel open in many directions at once. The whole package is the size of a Greyhound bus, and extremely vexed about something. It looks like Broderick Crawford crossed with a Venus flytrap.\n",
    "\n",
    "Observing the monster is Gang-du (Song Kang-ho), a slob who runs a nearby food stand. He has yellow hair, the ability to fall asleep at any time, and—somewhat to our surprise—a young daughter, Hyun-seo (Ko A-sung). She gets caught up in the crowd’s chaotic flight from the monster, which promptly kidnaps her and, in obedience to the rules of fairy tale, bears her off to its lair. The rest of the film charts the efforts of Gang-du, aided by his family, to retrieve his only child from the dripping, bone-strewn sewer where she now resides. The story drags slightly in the middle, but there is no mistaking the rampant acceleration of the final act, in which all those present are called upon to save a life and, in so doing, to fulfill the task for which each of them is essentially equipped. For example, the hero’s sister, Nam-joo (Bae Doo-na), is a professional archer—always handy for those pesky dragonslaying situations that crop up so often these days. Her other brother, Nam-il (Park Hae-il), spends half the movie complaining that, as a college graduate, he can’t get a job, whereupon, at the climax, he turns into an angry student—preparing Molotov cocktails, like a soixante-huitard, and lobbing them at the leathery flanks of his foe.\n",
    "\n",
    "No one can claim that we live in a golden age—or a bile-green, suppurating age—of movie monsters, and there will be plenty of filmgoers who yawned through “Godzilla” in 1998 and swore off large amphibians for good. All I can say, to tempt them back, is that I have seen “The Host” twice and have every intention of watching it again. Anyone who has taken the plunge into recent Korean movies (“Lady Vengeance” and “Oldboy,” say) will know that their impact springs not just from the verve of the storytelling but from a tendency to hurtle energetically from one mood to the next, merrily swapping the lyrical for the sadistic. It is as if Korean directors, refusing to observe the niceties of genre, offered value for money by packing several movies into one. The trick with “The Host,” the most successful release in the history of Korean cinema, is therefore to unpack it and inspect the contents.\n",
    "\n",
    "VIDEO FROM THE NEW YORKER\n",
    "\n",
    "What Went Wrong in the Sewol Ferry Disaster?\n",
    "\n",
    "\n",
    "The first component is shock, without which no monster movie can hope to thrive. “The Host” delivers a fine series of jolts, as the beast, which uses the industrial architecture of Seoul as an acrobat uses the parallel bars, swings suddenly out of the darkness. More unorthodox is the visual gag near the beginning, when Gang-du, fleeing the rampage, takes hold of his daughter’s hand, then loses it in the rush. The screen slows and turns quiet; his hand gropes for hers and finds it again, at which point we pull back to reveal that he has grabbed the wrong girl. This is typical of Bong Joon-ho: the setting may be outlandish, but the emotion—every parent’s fear—could hardly be more rooted in the real.\n",
    "\n",
    "Second, there is the yuck factor. “The Host” is not especially bloody, and it will hold limited appeal for those macho viewers who like to test and prove themselves by cackling through a film like “Hostel,” which was little better than a dramatized abattoir. Nonetheless, the special effects have an insidious slither of their own. They were created by the Orphanage, the California company that worked on “Hellboy,” “Sin City,” and recent installments of Harry Potter and “Pirates of the Caribbean.” What the wizards have conjured for “The Host,” though, takes me back to the heyday of John Carpenter—specifically, to the flowering nastiness of “The Thing.” The emphasis is not on weaponry (the best defense turns out to be a metal pole) but on the organic, as befits a beast that was spawned by environmental pollution—watch it regurgitate victims like a mother disgorging fish to its young in “March of the Penguins.” At one point, Hyun-seo leaps into the air and stays there. For a few seconds, we don’t get it. (Bong likes to prolong the spell.) Then we switch angles, and all becomes clear: the girl is held aloft in the coils of the monster’s sticky tail.\n",
    "\n",
    "Third, Bong, like Carpenter, treats authority with the scorn of the prankster at the back of the class. Anyone in a uniform is fair game. Some guy in a yellow protective suit, seeking to inform the public of what has occurred on the Han, soon gives up and suggests weakly that people watch it on TV. When the girl’s family is held in a hospital, following rumors that the beast may be the source—the host—of a menacing virus, we get a delicate probing of the generational split. Gang-du’s father is all for mollifying the doctors, trying to slip them a sweetener in cash, whereas the son wants to muscle his way out as fast as possible. This niggle of disrespect lends the film a nervous litheness; we want the monster quelled, and order restored, but what, exactly, is so peaceful about the status quo?\n",
    "\n",
    "All of which leads to the director’s fourth and most unlikely virtue: he makes you laugh. Moreover, he keeps doing so in the wrong—or, at any rate, the least laughable—places. This was demonstrated in his earlier movie “Memories of Murder” (2003), in which detectives and forensic experts arriving to study a corpse kept slipping on an embankment and landing on their behinds, like extras in a Mack Sennett comedy. Many graceful directors—Jacques Tati, obviously, but also Krzysztof Kieslowski—have been drawn to the sheer gracelessness of humanity, as if there were something endearing in our habit of falling (or tumbling) short of that noble dignity which, when sitting comfortably, we like to ascribe to ourselves. The most destabilizing scene in “The Host” comes as Gang-du and the others wail with grief before a photograph of Hyun-seo, whom they believe to be dead, and make such a spectacle of themselves, writhing like eels, that despite ourselves we snicker at their collapse. Such maladroit behavior is unusual in a monster flick, where you expect at least a modicum of cool; you can’t really imagine Sigourney Weaver, at the climax of “Aliens,” tripping over her own flamethrower.\n",
    "\n",
    "Given all that, it may seem perverse to hail “The Host” as a thing of beauty, yet that is what it is: a perfect mixture of the silly and the grave. In 1954, the art critic David Sylvester, impatient with the accepted canon, wrote a review of “Them!,” in Encounter, in which he described it as “a frightening, imaginative, beautifully written B-movie-style SF film about giant ants, exactly the sort of film the professional critics could be guaranteed not to latch on to.” Time to make amends. We have shifted from ants to tadpoles (“The Host” could easily have been titled “It!”), but the style is intact. Take the gorgeous wide shot of the Han River, early in the film, with rain gusting across the surface and a hint of something more than murky stirring in its depths. Then leapfrog to the last scene: we are back at Gang-du’s food stand, after dark, with adult and child sharing a heaped table of food. On the television, there is news about the beast—a report, voiced by American officials, about the unseemly events in Seoul. The feasters in the shack, who, after all, were principal players in that drama, want nothing more to do with it: “Should we watch something else?” “Let’s turn it off. Concentrate on eating.” The whole flustered panoply of TV, camera crews, and cell phones that has flashed and clicked throughout the movie is turned off, making way for a glimpse of an older, more peaceable Korea. We move outside for a closing image worthy of Fellini: the small hut, so light and festive within, warmed by the steam of rice, is marooned in a landscape of night and drifting snow. Anything could be out there.\n",
    "\n",
    "'''"
   ]
  },
  {
   "cell_type": "code",
   "execution_count": 88,
   "metadata": {},
   "outputs": [
    {
     "data": {
      "text/plain": [
       "'\\nWithin the first fifteen minutes of “Gwoemul,” director Joon-Ho manages to build up enough tension and characterization to charge at us head on with the central plot. Based on true events, one day an American scientist orders his assistant to empty the remaining jars of Chloroform into his sink. His assistant, in his own feeble way, attempts to protest, but he immediately gives in and dumps almost a hundred jars into the Han River. “Gwoemul” is not just a monster movie, it’s a movie about family, and it’s a movie about the lengths we’ll go to to save our loved ones.\\nThe fantastic yet horrifying attack of the sea monster at the Han River is not only one of the most amazing action scenes to ever be filmed, but Joon-Ho then sideswipes the audience by painting the aftermath of the attack as a true tragedy. In a gut wrenching scene, hundreds grieve their loved ones eaten by the monster, and the victims stand at an altar filled with pictures of the victims as the mourners cry hysterically.\\n\\nThe family we center on is grieving the death of their youngest Hyun-Seo who was taken by the creature and dragged away into the water. To further twist the conventions of the plot, the beast has now infected its victims with a mysterious virus that has spread along their skin, and soon they realize that the beast is only part of the horrors coming to them once the government takes control.\\n\\nInfected with--what the local government calls a virus--the family breaks free from the hospital to save Hyun-seo who is trapped in a sewer. Joon-Ho not only explores the ravages of the monster, but the chain reaction this massive attack causes on the government, the community, and this disconnected family who decide to band together to save one of their own. One a mentally incapable man, one an Olympic archer, a feeble old man, and an alcoholic.\\n\\nWith very strong performances from the entire cast, and rich character focus, Joon-Ho plays their relationship with startling emotion, leaving them wholly outmatched, but powered by their relentless drive to save the youngest of the family. Joon-Ho’s tale of environmental chaos, government induced hysteria, and a monster that is only instrumental in the bigger picture of anarchy, and the collapse of a civilization under man.\\n\\nBut apocalypse be damned, they’ll confront military, scientists, mobs of head hunters, and an unstoppable beast to get their family back, and that’s enough for them. Joon-Ho’s epic is a masterpiece of monster cinema that’s intelligent, innovative, and reaches down to the basic core of family unity to propel its story beyond mere conventions of science fiction.\\n\\n“Gwoemul” has been a financial success in its country, praised by many film fans, critically acclaimed, and sports one of the most dynamic stories I’ve seen in years. How could the US not remake it? But they’ll do it all wrong, because in the end, “Gwoemul” is not a monster movie. It’s about a monster that comes between a family.\\n'"
      ]
     },
     "execution_count": 88,
     "metadata": {},
     "output_type": "execute_result"
    }
   ],
   "source": [
    "'''\n",
    "Within the first fifteen minutes of “Gwoemul,” director Joon-Ho manages to build up enough tension and characterization to charge at us head on with the central plot. Based on true events, one day an American scientist orders his assistant to empty the remaining jars of Chloroform into his sink. His assistant, in his own feeble way, attempts to protest, but he immediately gives in and dumps almost a hundred jars into the Han River. “Gwoemul” is not just a monster movie, it’s a movie about family, and it’s a movie about the lengths we’ll go to to save our loved ones.\n",
    "The fantastic yet horrifying attack of the sea monster at the Han River is not only one of the most amazing action scenes to ever be filmed, but Joon-Ho then sideswipes the audience by painting the aftermath of the attack as a true tragedy. In a gut wrenching scene, hundreds grieve their loved ones eaten by the monster, and the victims stand at an altar filled with pictures of the victims as the mourners cry hysterically.\n",
    "\n",
    "The family we center on is grieving the death of their youngest Hyun-Seo who was taken by the creature and dragged away into the water. To further twist the conventions of the plot, the beast has now infected its victims with a mysterious virus that has spread along their skin, and soon they realize that the beast is only part of the horrors coming to them once the government takes control.\n",
    "\n",
    "Infected with--what the local government calls a virus--the family breaks free from the hospital to save Hyun-seo who is trapped in a sewer. Joon-Ho not only explores the ravages of the monster, but the chain reaction this massive attack causes on the government, the community, and this disconnected family who decide to band together to save one of their own. One a mentally incapable man, one an Olympic archer, a feeble old man, and an alcoholic.\n",
    "\n",
    "With very strong performances from the entire cast, and rich character focus, Joon-Ho plays their relationship with startling emotion, leaving them wholly outmatched, but powered by their relentless drive to save the youngest of the family. Joon-Ho’s tale of environmental chaos, government induced hysteria, and a monster that is only instrumental in the bigger picture of anarchy, and the collapse of a civilization under man.\n",
    "\n",
    "But apocalypse be damned, they’ll confront military, scientists, mobs of head hunters, and an unstoppable beast to get their family back, and that’s enough for them. Joon-Ho’s epic is a masterpiece of monster cinema that’s intelligent, innovative, and reaches down to the basic core of family unity to propel its story beyond mere conventions of science fiction.\n",
    "\n",
    "“Gwoemul” has been a financial success in its country, praised by many film fans, critically acclaimed, and sports one of the most dynamic stories I’ve seen in years. How could the US not remake it? But they’ll do it all wrong, because in the end, “Gwoemul” is not a monster movie. It’s about a monster that comes between a family.\n",
    "'''"
   ]
  },
  {
   "cell_type": "code",
   "execution_count": 89,
   "metadata": {},
   "outputs": [
    {
     "data": {
      "text/plain": [
       "'\\n\"The Host\" isn\\'t just a terrific monster movie. This South Korean box-office smash is also a laugh-out-loud comedy and a surprisingly angry political satire.\\n\\nIt starts when the U.S. Army dumps hundreds of gallons of toxic formaldehyde in Seoul\\'s Han River. (The officer in charge wants to tidy up the lab, you see.)\\n\\nFlash-forward six years: A giant walking trout-monster -- a literal land shark -- leaps out of the river in broad daylight . . . and starts munching on Korean consumers.\\n\\n Advertisement\\n\\t\\n\\n\\n\\t\\n\\n\\nThe monster was designed by Weta Workshop, which did design work on \"The Lord of the Rings\" trilogy. As directed by Bong Joon-ho, the creature attack is one of the best ever staged -- a ballet of mass panic with pulsing music matching the monster\\'s rhythmic gait. It\\'s brilliant, terrifying and weirdly funny.\\n\\nIt also leaves you wondering: Why was the monster fully revealed in the first 10 minutes of the movie?\\n\\nThe answer: Because it\\'s a prelude to the real horror, as \"The Host\" turns into a satire of government misinformation and corruption that plays like \"Godzilla\" crossed with \"Dr. Strangelove.\"\\n\\nAfter the attack, a dim-bulb single dad named Park Gang-du (Song Kang-ho) gets a cell phone call from his 13-year-old daughter. The girl was dragged underwater by the monster and presumed dead -- but she\\'s actually hiding in the beast\\'s sewer lair.\\n\\nIt\\'s joyful news: The monster is stupid, the call can be traced and the army\\'s already on the scene. But Park can\\'t get government bureaucrats to believe him and mount a rescue.\\n\\n\"She\\'s deceased, but she\\'s not dead!\" Park screams. A flunky replies that a cell phone trace is \"not something we do for just anyone.\" Instead, officials get hung up on the idea that the monster spreads a virus -- and do little more than detain anyone they think might be infected.\\n\\nSoon, Park enlists his bickering family of losers in a vigilante hunt for the monster. The movie does an incredible job juggling laughs, suspense and a deep-seated distrust of bureaucracy.\\n\\n\"The Host\" is wildly entertaining; people who love the genre will get their geek buttons pushed hard by this flick. But what makes the movie an instant classic is that it\\'s also, in its dark heart, a furious lampoon. I love how the creature constantly shows up after the appearance of consumer products like beer and packaged snacks. One of the funniest and most biting scenes comes early, when an impromptu grief memorial dissolves into pratfalls and wailing, all captured by a huddle of television cameras.\\n\\nWhile the South Korean and U.S. governments initially are lampooned for laughs, it gets less and less funny as the story becomes more and more tragic. \"The Host,\" in its own silly monster-movie way, is actually kind of a call to arms -- demanding that people wake up, take responsibility for their lifestyles and (above all) ask tough questions of their government and mass media. Failure to do so is more destructive than any land shark.\\n'"
      ]
     },
     "execution_count": 89,
     "metadata": {},
     "output_type": "execute_result"
    }
   ],
   "source": [
    "'''\n",
    "\"The Host\" isn't just a terrific monster movie. This South Korean box-office smash is also a laugh-out-loud comedy and a surprisingly angry political satire.\n",
    "\n",
    "It starts when the U.S. Army dumps hundreds of gallons of toxic formaldehyde in Seoul's Han River. (The officer in charge wants to tidy up the lab, you see.)\n",
    "\n",
    "Flash-forward six years: A giant walking trout-monster -- a literal land shark -- leaps out of the river in broad daylight . . . and starts munching on Korean consumers.\n",
    "\n",
    " Advertisement\n",
    "\t\n",
    "\n",
    "\n",
    "\t\n",
    "\n",
    "\n",
    "The monster was designed by Weta Workshop, which did design work on \"The Lord of the Rings\" trilogy. As directed by Bong Joon-ho, the creature attack is one of the best ever staged -- a ballet of mass panic with pulsing music matching the monster's rhythmic gait. It's brilliant, terrifying and weirdly funny.\n",
    "\n",
    "It also leaves you wondering: Why was the monster fully revealed in the first 10 minutes of the movie?\n",
    "\n",
    "The answer: Because it's a prelude to the real horror, as \"The Host\" turns into a satire of government misinformation and corruption that plays like \"Godzilla\" crossed with \"Dr. Strangelove.\"\n",
    "\n",
    "After the attack, a dim-bulb single dad named Park Gang-du (Song Kang-ho) gets a cell phone call from his 13-year-old daughter. The girl was dragged underwater by the monster and presumed dead -- but she's actually hiding in the beast's sewer lair.\n",
    "\n",
    "It's joyful news: The monster is stupid, the call can be traced and the army's already on the scene. But Park can't get government bureaucrats to believe him and mount a rescue.\n",
    "\n",
    "\"She's deceased, but she's not dead!\" Park screams. A flunky replies that a cell phone trace is \"not something we do for just anyone.\" Instead, officials get hung up on the idea that the monster spreads a virus -- and do little more than detain anyone they think might be infected.\n",
    "\n",
    "Soon, Park enlists his bickering family of losers in a vigilante hunt for the monster. The movie does an incredible job juggling laughs, suspense and a deep-seated distrust of bureaucracy.\n",
    "\n",
    "\"The Host\" is wildly entertaining; people who love the genre will get their geek buttons pushed hard by this flick. But what makes the movie an instant classic is that it's also, in its dark heart, a furious lampoon. I love how the creature constantly shows up after the appearance of consumer products like beer and packaged snacks. One of the funniest and most biting scenes comes early, when an impromptu grief memorial dissolves into pratfalls and wailing, all captured by a huddle of television cameras.\n",
    "\n",
    "While the South Korean and U.S. governments initially are lampooned for laughs, it gets less and less funny as the story becomes more and more tragic. \"The Host,\" in its own silly monster-movie way, is actually kind of a call to arms -- demanding that people wake up, take responsibility for their lifestyles and (above all) ask tough questions of their government and mass media. Failure to do so is more destructive than any land shark.\n",
    "'''"
   ]
  },
  {
   "cell_type": "markdown",
   "metadata": {},
   "source": [
    "So it looks like I can get some of these reviews, but again, I was not able to get all 35. Therefore, I will explore Nexis Uni to see if I can rely on that instead of Metacritic or Rotten Tomatoes for critic reviews.\n",
    "\n",
    "On Nexis Uni, I can search for reviews of both movies that were posted in newspaper, blog, or magazine articles, so I may be able to get the full document text and go through an easier process for analyzing the critic reviews.\n",
    "\n",
    "For this, please refer to `nexis_host_critic` and `nexis_parasite_critic`, and to look at the analysis of critic reviews, please refer to `analysis_critic_nexis`. Thanks!"
   ]
  },
  {
   "cell_type": "code",
   "execution_count": null,
   "metadata": {},
   "outputs": [],
   "source": []
  }
 ],
 "metadata": {
  "kernelspec": {
   "display_name": "Python 3",
   "language": "python",
   "name": "python3"
  },
  "language_info": {
   "codemirror_mode": {
    "name": "ipython",
    "version": 3
   },
   "file_extension": ".py",
   "mimetype": "text/x-python",
   "name": "python",
   "nbconvert_exporter": "python",
   "pygments_lexer": "ipython3",
   "version": "3.7.3"
  }
 },
 "nbformat": 4,
 "nbformat_minor": 2
}
