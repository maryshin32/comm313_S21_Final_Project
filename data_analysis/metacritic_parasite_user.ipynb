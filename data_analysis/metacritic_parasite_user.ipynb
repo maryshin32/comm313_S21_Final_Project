{
 "cells": [
  {
   "cell_type": "markdown",
   "metadata": {},
   "source": [
    "# Scraping Metacritic for User Reviews of _Parasite_\n",
    "\n",
    "In this notebook, I work on scraping [Metacritic](https://www.metacritic.com/movie/parasite/user-reviews?sort-by=date) for user reviews of _Parasite_ . I also work on scraping critic reviews on the site as well, but will end up using critic reviews from Nexis Uni for my analysis."
   ]
  },
  {
   "cell_type": "code",
   "execution_count": 1,
   "metadata": {},
   "outputs": [],
   "source": [
    "import requests\n",
    "from bs4 import BeautifulSoup\n",
    "import time\n",
    "import json\n",
    "from nltk.corpus import stopwords\n",
    "import random\n",
    "import re\n",
    "import os\n",
    "import csv\n",
    "import pandas as pd\n",
    "import numpy as np\n",
    "import matplotlib.pyplot as plt\n",
    "\n",
    "from nltk import tokenize\n",
    "from nltk.sentiment.vader import SentimentIntensityAnalyzer\n",
    "\n",
    "from collections import Counter"
   ]
  },
  {
   "cell_type": "code",
   "execution_count": 2,
   "metadata": {},
   "outputs": [],
   "source": [
    "characters_to_strip = '().[]!,\"'"
   ]
  },
  {
   "cell_type": "code",
   "execution_count": 3,
   "metadata": {},
   "outputs": [],
   "source": [
    "%run functions.ipynb"
   ]
  },
  {
   "cell_type": "code",
   "execution_count": 6,
   "metadata": {},
   "outputs": [],
   "source": [
    "url = 'https://www.metacritic.com/movie/parasite/user-reviews?sort-by=date'\n",
    "url2 = 'https://www.metacritic.com/movie/parasite/user-reviews?sort-by=date&page=1'\n",
    "url3 = 'https://www.metacritic.com/movie/parasite/user-reviews?sort-by=date&page=2'\n",
    "url4 = 'https://www.metacritic.com/movie/parasite/user-reviews?sort-by=date&page=3'\n",
    "\n",
    "headers = {'User-Agent': 'Mozilla/5.0 (Macintosh; Intel Mac OS X 10_10_1) AppleWebKit/537.36 (KHTML, like Gecko) Chrome/39.0.2171.95 Safari/537.36'}\n"
   ]
  },
  {
   "cell_type": "code",
   "execution_count": 43,
   "metadata": {},
   "outputs": [],
   "source": [
    "resp = requests.get(url, headers=headers)\n",
    "resp2 = requests.get(url2, headers=headers)\n",
    "resp3 = requests.get(url3, headers=headers)\n",
    "resp4 = requests.get(url4, headers=headers)"
   ]
  },
  {
   "cell_type": "code",
   "execution_count": 44,
   "metadata": {},
   "outputs": [],
   "source": [
    "html = resp.text\n",
    "html2 = resp2.text\n",
    "html3 = resp3.text\n",
    "html4 = resp4.text"
   ]
  },
  {
   "cell_type": "code",
   "execution_count": 45,
   "metadata": {},
   "outputs": [],
   "source": [
    "doc = BeautifulSoup(html, 'html.parser')\n",
    "doc2 = BeautifulSoup(html2, 'html.parser')\n",
    "doc3 = BeautifulSoup(html3, 'html.parser')\n",
    "doc4 = BeautifulSoup(html4, 'html.parser')"
   ]
  },
  {
   "cell_type": "code",
   "execution_count": 55,
   "metadata": {},
   "outputs": [],
   "source": [
    "parasite_revs1 = doc.find_all('div', attrs={'class':\"review\"})\n",
    "parasite_revs2 = doc2.find_all('div', attrs={'class':\"review\"})\n",
    "parasite_revs3 = doc3.find_all('div', attrs={'class':\"review\"})\n",
    "parasite_revs4 = doc4.find_all('div', attrs={'class':\"review\"})"
   ]
  },
  {
   "cell_type": "code",
   "execution_count": 56,
   "metadata": {
    "scrolled": true
   },
   "outputs": [
    {
     "name": "stdout",
     "output_type": "stream",
     "text": [
      "100\n",
      "100\n",
      "100\n",
      "26\n"
     ]
    }
   ],
   "source": [
    "print(len(parasite_revs1))\n",
    "print(len(parasite_revs2))\n",
    "print(len(parasite_revs3))\n",
    "print(len(parasite_revs4))"
   ]
  },
  {
   "cell_type": "code",
   "execution_count": 57,
   "metadata": {},
   "outputs": [],
   "source": [
    "# Combining the lists into one list:\n",
    "\n",
    "parasite_revs = []\n",
    "\n",
    "for rev in parasite_revs1:\n",
    "    parasite_revs.append(rev)\n",
    "    \n",
    "for rev in parasite_revs2:\n",
    "    parasite_revs.append(rev)\n",
    "    \n",
    "for rev in parasite_revs3:\n",
    "    parasite_revs.append(rev)\n",
    "    \n",
    "for rev in parasite_revs4:\n",
    "    parasite_revs.append(rev)"
   ]
  },
  {
   "cell_type": "code",
   "execution_count": 58,
   "metadata": {},
   "outputs": [
    {
     "data": {
      "text/plain": [
       "326"
      ]
     },
     "execution_count": 58,
     "metadata": {},
     "output_type": "execute_result"
    }
   ],
   "source": [
    "len(parasite_revs)"
   ]
  },
  {
   "cell_type": "code",
   "execution_count": 59,
   "metadata": {
    "scrolled": true
   },
   "outputs": [
    {
     "data": {
      "text/plain": [
       "<div class=\"review pad_top1\">\n",
       "<div class=\"left fl\">\n",
       "<div class=\"metascore_w user large movie positive indiv perfect\">10</div>\n",
       "</div>\n",
       "<div class=\"right fl\">\n",
       "<div class=\"title pad_btm_half\"><span class=\"author\"><a href=\"/user/AkioTenebris\">AkioTenebris</a></span><span class=\"date\">Apr 30, 2021</span></div>\n",
       "<div class=\"summary\">\n",
       "<div class=\"review_body\">\n",
       "<span>Director {Bong Joon-Ho} has done it again with a captivating and extraordinary film. Leaving me questioning if the real world is actually like this! Not only is the climax risen to a new level but the jaw dropping ending left me shook.</span>\n",
       "</div>\n",
       "</div>\n",
       "<div class=\"interactions pad_top1\">\n",
       "<span class=\"helpful_wrapper\">\n",
       "<div class=\"helpful\" data-mcrefid=\"13909291\" data-mcreftype=\"230\">\n",
       "<div class=\"thumbs\">\n",
       "<span class=\"text\"><span class=\"yes_count\">0</span> of <span class=\"total_count\">0</span> users found this helpful</span><span class=\"thumb_up\"><i aria-hidden=\"true\" class=\"fa fa-thumbs-up\"></i><span class=\"count\">0</span></span><span class=\"thumb_down\"><i aria-hidden=\"true\" class=\"fa fa-thumbs-down\"></i><span class=\"count\">0</span></span> <span class=\"progress \">\n",
       "<i class=\"fa fa-spinner\"></i>\n",
       "</span>\n",
       "</div>\n",
       "<div class=\"msg\"></div>\n",
       "</div>\n",
       "</span>\n",
       "<span class=\"all_reviews\"><a href=\"/user/AkioTenebris\">All this user's reviews</a></span> <div class=\"clr\"></div>\n",
       "</div>\n",
       "</div>\n",
       "<div class=\"clr\"></div>\n",
       "</div>"
      ]
     },
     "execution_count": 59,
     "metadata": {},
     "output_type": "execute_result"
    }
   ],
   "source": [
    "parasite_revs[0]"
   ]
  },
  {
   "cell_type": "markdown",
   "metadata": {},
   "source": [
    "Creating a dictionary and extracting the information I want, including date that the review was posted, the text of the review, and the score that the reviewer gave for the movie:"
   ]
  },
  {
   "cell_type": "code",
   "execution_count": 60,
   "metadata": {},
   "outputs": [],
   "source": [
    "def extract_review_data(review_div):\n",
    "    \n",
    "    review = {}\n",
    "    \n",
    "    review['date'] = review_div.find('span', class_='date').text.strip()\n",
    "    review['text'] = review_div.find('div', class_='review_body').text.strip()\n",
    "    review['score'] = review_div.find('div', class_='metascore_w').text.strip()\n",
    "    \n",
    "    return review\n"
   ]
  },
  {
   "cell_type": "code",
   "execution_count": 61,
   "metadata": {},
   "outputs": [
    {
     "data": {
      "text/plain": [
       "{'date': 'Apr 30, 2021',\n",
       " 'score': '10',\n",
       " 'text': 'Director {Bong Joon-Ho} has done it again with a captivating and extraordinary film. Leaving me questioning if the real world is actually like this! Not only is the climax risen to a new level but the jaw dropping ending left me shook.'}"
      ]
     },
     "execution_count": 61,
     "metadata": {},
     "output_type": "execute_result"
    }
   ],
   "source": [
    "extract_review_data(parasite_revs[0])"
   ]
  },
  {
   "cell_type": "code",
   "execution_count": 62,
   "metadata": {},
   "outputs": [
    {
     "data": {
      "text/plain": [
       "{'date': 'Feb  6, 2021',\n",
       " 'score': '8',\n",
       " 'text': \"Second half of this movie has a lot of brawling which I found tiresome. But, this is the type of movie that rewards viewers who pay close attention. While it is sympathetic towards the poor family, it doesn't get into what would happen if theSecond half of this movie has a lot of brawling which I found tiresome. But, this is the type of movie that rewards viewers who pay close attention. While it is sympathetic towards the poor family, it doesn't get into what would happen if the tables were turned. Would the formerly poor family behave like the rich family in the film? Parasite goes only so far as to suggest Maybe. It's a rambunctious movie with considerable underlying subtlety. Remarkable.… Expand\"}"
      ]
     },
     "execution_count": 62,
     "metadata": {},
     "output_type": "execute_result"
    }
   ],
   "source": [
    "extract_review_data(parasite_revs[10])"
   ]
  },
  {
   "cell_type": "code",
   "execution_count": 63,
   "metadata": {},
   "outputs": [
    {
     "data": {
      "text/plain": [
       "{'date': 'Apr  1, 2020',\n",
       " 'score': '5',\n",
       " 'text': 'Parasite starts very well and really get\\'s your attention but after the plot starts to \"develop\\', it goes from amusing to absurd. The ilogical, violent and disapointing ending does not match the clever plot of the beggining.The charactersParasite starts very well and really get\\'s your attention but after the plot starts to \"develop\\', it goes from amusing to absurd. The ilogical, violent and disapointing ending does not match the clever plot of the beggining.The characters are shallowly presented and inconsistent at times. The sister, Da-hye (jung Ji-so) is the best written and also has the best performance, wich makes her the only character I really cared about. Ki-woo, or Kevin is presented to us as a smart guy at the beginning but suddenly, after the first hour or so, he seens extremely dull.the camera work is great and deserves a mention.… Expand'}"
      ]
     },
     "execution_count": 63,
     "metadata": {},
     "output_type": "execute_result"
    }
   ],
   "source": [
    "extract_review_data(parasite_revs[90])"
   ]
  },
  {
   "cell_type": "code",
   "execution_count": 64,
   "metadata": {},
   "outputs": [
    {
     "data": {
      "text/plain": [
       "<div class=\"review pad_top1\">\n",
       "<div class=\"left fl\">\n",
       "<div class=\"metascore_w user large movie mixed indiv\">5</div>\n",
       "</div>\n",
       "<div class=\"right fl\">\n",
       "<div class=\"title pad_btm_half\"><span class=\"author\"><a href=\"/user/FelpsGP\">FelpsGP</a></span><span class=\"date\">Apr  1, 2020</span></div>\n",
       "<div class=\"summary\">\n",
       "<div class=\"review_body\">\n",
       "<span class=\"inline_expand_collapse inline_collapsed\" id=\"review_blurb_11195568\"><span class=\"blurb blurb_collapsed\">Parasite starts very well and really get's your attention but after the plot starts to \"develop', it goes from amusing to absurd. The ilogical, violent and disapointing ending does not match the clever plot of the beggining.<br/>The characters</span><span class=\"blurb blurb_expanded\">Parasite starts very well and really get's your attention but after the plot starts to \"develop', it goes from amusing to absurd. The ilogical, violent and disapointing ending does not match the clever plot of the beggining.<br/>The characters are shallowly presented and inconsistent at times. The sister, Da-hye (jung Ji-so) is the best written and also has the best performance, wich makes her the only character I really cared about. Ki-woo, or Kevin is presented to us as a smart guy at the beginning but suddenly, after the first hour or so, he seens extremely dull.<br/>the camera work is great and deserves a mention.</span><span class=\"blurb_etc\">…</span> <span class=\"toggle_expand_collapse toggle_expand\">Expand</span></span>\n",
       "</div>\n",
       "</div>\n",
       "<div class=\"interactions pad_top1\">\n",
       "<span class=\"helpful_wrapper\">\n",
       "<div class=\"helpful\" data-mcrefid=\"11195568\" data-mcreftype=\"230\">\n",
       "<div class=\"thumbs\">\n",
       "<span class=\"text\"><span class=\"yes_count\">0</span> of <span class=\"total_count\">2</span> users found this helpful</span><span class=\"thumb_up\"><i aria-hidden=\"true\" class=\"fa fa-thumbs-up\"></i><span class=\"count\">0</span></span><span class=\"thumb_down\"><i aria-hidden=\"true\" class=\"fa fa-thumbs-down\"></i><span class=\"count\">2</span></span> <span class=\"progress \">\n",
       "<i class=\"fa fa-spinner\"></i>\n",
       "</span>\n",
       "</div>\n",
       "<div class=\"msg\"></div>\n",
       "</div>\n",
       "</span>\n",
       "<span class=\"all_reviews\"><a href=\"/user/FelpsGP\">All this user's reviews</a></span> <div class=\"clr\"></div>\n",
       "</div>\n",
       "</div>\n",
       "<div class=\"clr\"></div>\n",
       "</div>"
      ]
     },
     "execution_count": 64,
     "metadata": {},
     "output_type": "execute_result"
    }
   ],
   "source": [
    "parasite_revs[90]"
   ]
  },
  {
   "cell_type": "markdown",
   "metadata": {},
   "source": [
    "Making a new list and going through each review to extract the information by using my function:"
   ]
  },
  {
   "cell_type": "code",
   "execution_count": 65,
   "metadata": {},
   "outputs": [],
   "source": [
    "parasite_data = []\n",
    "for review in parasite_revs:\n",
    "    parasite_data.append(extract_review_data(review))"
   ]
  },
  {
   "cell_type": "code",
   "execution_count": 66,
   "metadata": {},
   "outputs": [
    {
     "data": {
      "text/plain": [
       "[{'date': 'Apr 30, 2021',\n",
       "  'score': '10',\n",
       "  'text': 'Director {Bong Joon-Ho} has done it again with a captivating and extraordinary film. Leaving me questioning if the real world is actually like this! Not only is the climax risen to a new level but the jaw dropping ending left me shook.'},\n",
       " {'date': 'Apr 29, 2021',\n",
       "  'score': '10',\n",
       "  'text': 'phenomenal, involves all genres of cinema, and in a fantastic way; like I’ve never seen before.'},\n",
       " {'date': 'Apr 20, 2021',\n",
       "  'score': '9',\n",
       "  'text': \"This review contains spoilers, click expand to view.\\n        \\nNormally I'm not much into Korean entertainment. The only Korean entertainment I have ever consumed is PUBG. So I didn't know what to expect when I begun watching this film. I saw it with a blank slate, with no preformed opinion whatsoever. The only time I had seen a Korean film before was The Train to Busan, and that too is made by Bong Joon-Ho. I had watched it from somewhere in the middle when it was coming on TV. So in a way we can consider this is the first Korean film that I watched.Parasite is a film that makes us feel uncomfortable on purpose. It makes us think what we will do in a situation like this. The Kim family is in a desparate need of money, and the son in the house gets a fake degree to teach at a rich family's house. He learns about the whole family and slowly manipulates the mistress of the house into hiring his other family members over there. Afterwards the family starts getting the already existing servants fired over false accusations and completely takes over the house.Things don't go too well for the Kim family, as one day they decide to live in the mansion while the Park family is away. And then the previous cook comes back and finds out that all of them are the members of the same family. To hide this, they fight and accidentally kill her, and it's at that very moment the Park family comes back.nThey had to hide under their table for the night and then find the perfect opportunity to escape. Later at Dae-Woo's birthday the cook's husband comes out of his hiding and kills Ki-Jung. The family is completely separated, with Ki-Taek hiding in the same basement where the cook's husband was hidingThe only part about this film I don't like is when Ki-Taek kills Mr Park. There are many people defending this part saying that it was the last straw and that Ki-Taek had no more control over his emotions, but this scene would have made sense only if either Ki-Taek was shown to be mentally unstable from the beginning, or if Mr Park hated Ki-Taek for some really deep reason other than his body smell. Nothing justifies his this act. But other than that I liked everything about this movie - the uneasy feelings that it was able to invoke, the acting, the dialogues, the story most of all, everything is phenomenal.Parasite completely lives up to being the Oscar winner that it is. Although it's for a mature audience, I won't mind showing it to someone who hasn't watched it already. It's a masterpiece that deserves the popularity it got and Bong Joon-Ho shall be remembered for it for days to come.… Expand\"}]"
      ]
     },
     "execution_count": 66,
     "metadata": {},
     "output_type": "execute_result"
    }
   ],
   "source": [
    "parasite_data[:3]"
   ]
  },
  {
   "cell_type": "markdown",
   "metadata": {},
   "source": [
    "Writing this out as a JSON file:"
   ]
  },
  {
   "cell_type": "code",
   "execution_count": 69,
   "metadata": {},
   "outputs": [],
   "source": [
    "with open('../data/user_reviews/metacritic_parasite_user.json','w', encoding='UTF-8') as out:\n",
    "    out.write(json.dumps(parasite_data))"
   ]
  },
  {
   "cell_type": "code",
   "execution_count": 70,
   "metadata": {},
   "outputs": [],
   "source": [
    "metacritic_parasite_user = json.load(open('../data/user_reviews/metacritic_parasite_user.json'))"
   ]
  },
  {
   "cell_type": "code",
   "execution_count": 73,
   "metadata": {
    "scrolled": true
   },
   "outputs": [
    {
     "data": {
      "text/plain": [
       "326"
      ]
     },
     "execution_count": 73,
     "metadata": {},
     "output_type": "execute_result"
    }
   ],
   "source": [
    "len(metacritic_parasite_user)"
   ]
  },
  {
   "cell_type": "markdown",
   "metadata": {},
   "source": [
    "Looks like we have 326 user reviews of _Parasite_ and we can take a look at the first few reviews:"
   ]
  },
  {
   "cell_type": "code",
   "execution_count": 72,
   "metadata": {},
   "outputs": [
    {
     "data": {
      "text/plain": [
       "[{'date': 'Apr 30, 2021',\n",
       "  'score': '10',\n",
       "  'text': 'Director {Bong Joon-Ho} has done it again with a captivating and extraordinary film. Leaving me questioning if the real world is actually like this! Not only is the climax risen to a new level but the jaw dropping ending left me shook.'},\n",
       " {'date': 'Apr 29, 2021',\n",
       "  'score': '10',\n",
       "  'text': 'phenomenal, involves all genres of cinema, and in a fantastic way; like I’ve never seen before.'},\n",
       " {'date': 'Apr 20, 2021',\n",
       "  'score': '9',\n",
       "  'text': \"This review contains spoilers, click expand to view.\\n        \\nNormally I'm not much into Korean entertainment. The only Korean entertainment I have ever consumed is PUBG. So I didn't know what to expect when I begun watching this film. I saw it with a blank slate, with no preformed opinion whatsoever. The only time I had seen a Korean film before was The Train to Busan, and that too is made by Bong Joon-Ho. I had watched it from somewhere in the middle when it was coming on TV. So in a way we can consider this is the first Korean film that I watched.Parasite is a film that makes us feel uncomfortable on purpose. It makes us think what we will do in a situation like this. The Kim family is in a desparate need of money, and the son in the house gets a fake degree to teach at a rich family's house. He learns about the whole family and slowly manipulates the mistress of the house into hiring his other family members over there. Afterwards the family starts getting the already existing servants fired over false accusations and completely takes over the house.Things don't go too well for the Kim family, as one day they decide to live in the mansion while the Park family is away. And then the previous cook comes back and finds out that all of them are the members of the same family. To hide this, they fight and accidentally kill her, and it's at that very moment the Park family comes back.nThey had to hide under their table for the night and then find the perfect opportunity to escape. Later at Dae-Woo's birthday the cook's husband comes out of his hiding and kills Ki-Jung. The family is completely separated, with Ki-Taek hiding in the same basement where the cook's husband was hidingThe only part about this film I don't like is when Ki-Taek kills Mr Park. There are many people defending this part saying that it was the last straw and that Ki-Taek had no more control over his emotions, but this scene would have made sense only if either Ki-Taek was shown to be mentally unstable from the beginning, or if Mr Park hated Ki-Taek for some really deep reason other than his body smell. Nothing justifies his this act. But other than that I liked everything about this movie - the uneasy feelings that it was able to invoke, the acting, the dialogues, the story most of all, everything is phenomenal.Parasite completely lives up to being the Oscar winner that it is. Although it's for a mature audience, I won't mind showing it to someone who hasn't watched it already. It's a masterpiece that deserves the popularity it got and Bong Joon-Ho shall be remembered for it for days to come.… Expand\"}]"
      ]
     },
     "execution_count": 72,
     "metadata": {},
     "output_type": "execute_result"
    }
   ],
   "source": [
    "metacritic_parasite_user[:3]"
   ]
  },
  {
   "cell_type": "markdown",
   "metadata": {},
   "source": [
    "## Getting critic reviews of _Parasite_\n",
    "\n",
    "Here I will try scraping critic reviews from the site:"
   ]
  },
  {
   "cell_type": "code",
   "execution_count": 4,
   "metadata": {},
   "outputs": [],
   "source": [
    "critic_url = 'https://www.metacritic.com/movie/parasite/critic-reviews'"
   ]
  },
  {
   "cell_type": "code",
   "execution_count": 7,
   "metadata": {},
   "outputs": [],
   "source": [
    "resp = requests.get(critic_url, headers=headers)"
   ]
  },
  {
   "cell_type": "code",
   "execution_count": 8,
   "metadata": {},
   "outputs": [],
   "source": [
    "html = resp.text"
   ]
  },
  {
   "cell_type": "code",
   "execution_count": 9,
   "metadata": {},
   "outputs": [],
   "source": [
    "doc = BeautifulSoup(html, 'html.parser')"
   ]
  },
  {
   "cell_type": "code",
   "execution_count": 10,
   "metadata": {},
   "outputs": [],
   "source": [
    "review_divs = doc.find_all('div', attrs={'class':'review'})"
   ]
  },
  {
   "cell_type": "code",
   "execution_count": 11,
   "metadata": {},
   "outputs": [
    {
     "data": {
      "text/plain": [
       "53"
      ]
     },
     "execution_count": 11,
     "metadata": {},
     "output_type": "execute_result"
    }
   ],
   "source": [
    "len(review_divs)"
   ]
  },
  {
   "cell_type": "code",
   "execution_count": 12,
   "metadata": {},
   "outputs": [
    {
     "data": {
      "text/plain": [
       "<div class=\"review pad_top1 pad_btm1\">\n",
       "<div class=\"left fl\">\n",
       "<div class=\"metascore_w large movie positive indiv perfect\">100</div>\n",
       "</div>\n",
       "<div class=\"right fl\">\n",
       "<div class=\"title pad_btm_half\"><span class=\"source\"><a href=\"/publication/the-observer-uk?filter=movies\"><img alt=\"The Observer (UK)\" class=\"pub-img\" src=\"https://static.metacritic.com/images/publications/1567125862_2798_2064361283.png\" title=\"The Observer (UK)\"/></a></span><span class=\"author\"><a href=\"/critic/mark-kermode?filter=movies\">Mark Kermode</a></span><span class=\"date\">Feb 10, 2020</span></div>\n",
       "<div class=\"summary\">\n",
       "<a class=\"no_hover\" href=\"https://www.theguardian.com/film/2020/feb/09/parasite-review-bong-joon-ho-tragicomic-masterpiece\" rel=\"noopener\" target=\"_blank\">\n",
       "                                                Thrillingly played by a flawless ensemble cast who hit every note and harmonic resonance of Bong and co-writer Han Jin-won’s multitonal script, it’s a tragicomic masterclass that will get under your skin and eat away at your cinematic soul.\n",
       "                                    </a>\n",
       "<a class=\"read_full\" href=\"https://www.theguardian.com/film/2020/feb/09/parasite-review-bong-joon-ho-tragicomic-masterpiece\" rel=\"noopener\" target=\"_blank\">Read full review<i aria-hidden=\"true\" class=\"fa fa-external-link\"></i></a>\n",
       "</div>\n",
       "</div>\n",
       "<div class=\"clr\"></div>\n",
       "</div>"
      ]
     },
     "execution_count": 12,
     "metadata": {},
     "output_type": "execute_result"
    }
   ],
   "source": [
    "review_divs[0]"
   ]
  },
  {
   "cell_type": "markdown",
   "metadata": {},
   "source": [
    "Writing a function to extract the data I want:"
   ]
  },
  {
   "cell_type": "code",
   "execution_count": 13,
   "metadata": {},
   "outputs": [],
   "source": [
    "def extract_criticreview_data(review_div):\n",
    "    \n",
    "    review = {}\n",
    "    \n",
    "    review['rating'] = review_div.find('div', class_='metascore_w').text.strip()\n",
    "    review['text'] = review_div.find('div', class_='summary').text.strip()\n",
    "    review['review_url'] = review_div.find('a', class_='read_full').attrs['href']\n",
    "    try:\n",
    "        review['source'] = review_div.find('span', class_='source').find('img').attrs['alt']\n",
    "    except:\n",
    "        review['source'] = review_div.find('span', class_='source').text\n",
    "    review['critic'] = review_div.find('span', class_='author').text\n",
    "    \n",
    "    return review\n"
   ]
  },
  {
   "cell_type": "code",
   "execution_count": 15,
   "metadata": {},
   "outputs": [
    {
     "data": {
      "text/plain": [
       "{'critic': 'Ty Burr',\n",
       " 'rating': '100',\n",
       " 'review_url': 'https://www.bostonglobe.com/arts/movies/2019/10/17/family-ties-and-lies-dark-comic-masterpiece-parasite/Yq2AQEsAaZWS4IY56mQ3BM/story.html',\n",
       " 'source': 'Boston Globe',\n",
       " 'text': 'Parasite becomes a social satire of almost breathless audacity, a three-dimensional chess game of Darwinian one-upmanship that is by turns hilarious, terrifying, and brutal.\\n                                    \\nRead full review'}"
      ]
     },
     "execution_count": 15,
     "metadata": {},
     "output_type": "execute_result"
    }
   ],
   "source": [
    "extract_criticreview_data(review_divs[10])"
   ]
  },
  {
   "cell_type": "code",
   "execution_count": 16,
   "metadata": {},
   "outputs": [
    {
     "name": "stdout",
     "output_type": "stream",
     "text": [
      "Error trying to extract review data\n",
      "<div class=\"ad_unit review pad_top1 pad_btm1\" id=\"native_top\">\n",
      "<script type=\"text/javascript\">\r\n",
      "            \r\n",
      "                            pushToDisplay('native_top', null, 'top', false, 'NmEGjUCMQTmJR3rtbiq2vRTC'), false;\r\n",
      "                    </script>\n",
      "</div>\n",
      "\n"
     ]
    }
   ],
   "source": [
    "criticreview_data=[]\n",
    "for review in review_divs:\n",
    "      try:\n",
    "            criticreview_data.append(extract_criticreview_data(review))\n",
    "      except:\n",
    "            print('Error trying to extract review data')\n",
    "            print(review)\n",
    "            print()"
   ]
  },
  {
   "cell_type": "code",
   "execution_count": 17,
   "metadata": {},
   "outputs": [
    {
     "data": {
      "text/plain": [
       "52"
      ]
     },
     "execution_count": 17,
     "metadata": {},
     "output_type": "execute_result"
    }
   ],
   "source": [
    "len(criticreview_data)"
   ]
  },
  {
   "cell_type": "code",
   "execution_count": 18,
   "metadata": {},
   "outputs": [],
   "source": [
    "with open('../data/critic_reviews/metacritic_parasite_critic.json','w', encoding='UTF-8') as out:\n",
    "    out.write(json.dumps(criticreview_data, indent=4))\n",
    "\n",
    "# adding the `indent=4` param to json.dumps will produce multiline output with indents that make\n",
    "# it easier to read and edit the JSON file by hand"
   ]
  },
  {
   "cell_type": "markdown",
   "metadata": {},
   "source": [
    "## Conclusion\n",
    "\n",
    "In this notebook, I scraped user reviews of _Parasite_ and also tried scraping and extracting critic reviews from the site. I ended up with 326 user reviews and 52 critic reviews. Next, I will filter out non-English words in my `lang_detect` notebook, go through analysis of user reviews in `analysis_user_metacritic` and explain my analysis of critic reviews in `analysis_critic_nexis`. \n",
    "\n",
    "Thank you~"
   ]
  },
  {
   "cell_type": "code",
   "execution_count": null,
   "metadata": {},
   "outputs": [],
   "source": []
  }
 ],
 "metadata": {
  "kernelspec": {
   "display_name": "Python 3",
   "language": "python",
   "name": "python3"
  },
  "language_info": {
   "codemirror_mode": {
    "name": "ipython",
    "version": 3
   },
   "file_extension": ".py",
   "mimetype": "text/x-python",
   "name": "python",
   "nbconvert_exporter": "python",
   "pygments_lexer": "ipython3",
   "version": "3.7.3"
  }
 },
 "nbformat": 4,
 "nbformat_minor": 2
}
