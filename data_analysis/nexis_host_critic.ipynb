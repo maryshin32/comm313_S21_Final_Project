{
 "cells": [
  {
   "cell_type": "markdown",
   "metadata": {},
   "source": [
    "# Collecting critic reviews of _The Host_ from Nexis Uni\n",
    "\n",
    "In this short notebook, I am going to be getting text files of critic reviews by searching on LexisNexis. The search criteria I used to gather these critic reviews was searching for: **title('the host') and movie and review and bong** \n",
    "\n",
    "I used the `title` to look up reviews across news and magazine articles, and blogs, that are primarily about 'the host', used `movie` so that the search results would convey movie reviews, used `review` so that the results would actually be reviews, instead of summaries or listicles of top movies (articles that are not actually movie reviews), and `bong` to return results about the correct movie (by Director Bong Joon Ho). \n",
    "\n",
    "Based on my search criteria, I got 27 results. It's a lot fewer than the number of results I got for the same search criteria but just replacing the title to 'parasite'. We can infer from this that _Parasite_ was probably more discussed and better known in mainstream media, since there were so many more critic reviews of this than there were of _The Host_ . \n",
    "\n",
    "Once I collect, clean, and organize the raw text data from the Nexis Uni search results, I will carry out textual analysis (frequency, sentiment analysis) on the data in a separate notebook in this folder, titled `analysis_critic_nexis`. "
   ]
  },
  {
   "cell_type": "code",
   "execution_count": 28,
   "metadata": {},
   "outputs": [],
   "source": [
    "# Setting up my notebook:\n",
    "from collections import Counter\n",
    "import string\n",
    "import os\n",
    "import json"
   ]
  },
  {
   "cell_type": "code",
   "execution_count": 29,
   "metadata": {},
   "outputs": [],
   "source": [
    "%run functions.ipynb"
   ]
  },
  {
   "cell_type": "code",
   "execution_count": 30,
   "metadata": {},
   "outputs": [],
   "source": [
    "chars_to_strip = ',.!?;\"\"'"
   ]
  },
  {
   "cell_type": "code",
   "execution_count": 31,
   "metadata": {},
   "outputs": [],
   "source": [
    "# Opening up the raw text file with downloaded documents from LexisNexis:\n",
    "raw_text = open('../data/critic_reviews/nexis_host_critic.txt').read()"
   ]
  },
  {
   "cell_type": "code",
   "execution_count": 32,
   "metadata": {},
   "outputs": [
    {
     "data": {
      "text/plain": [
       "141365"
      ]
     },
     "execution_count": 32,
     "metadata": {},
     "output_type": "execute_result"
    }
   ],
   "source": [
    "# How many characters in our corpus:\n",
    "len(raw_text)"
   ]
  },
  {
   "cell_type": "code",
   "execution_count": 33,
   "metadata": {},
   "outputs": [
    {
     "name": "stdout",
     "output_type": "stream",
     "text": [
      "Movie Review: The Host\n",
      "Blogcritics.org Video\n",
      "March 8, 2007 Thursday 8:18 PM EST\n",
      "\n",
      " ",
      "Copyright 2007 Newstex LLC\n",
      "All Rights Reserved\n",
      "Newstex Web Blogs\n",
      "Copyright 2007 Blogcritics.org Video\n",
      "Length: 1073 words\n",
      "Byline: Steve Carlson\n",
      "Body\n",
      "\n",
      "\n",
      "\n",
      "\n",
      "  Mar. 8, 2007 (Blogcritics.org delivered by Newstex) -- \n",
      " If there.s one film that will plant South Korean cinema into the mind of the American public, The Host is it. Bong Joon-ho.s lively feature provides all the thrills and sensation of the average American summer spectacle, except that it does so while still remaining a good movie. It.s got heart, hilarity, triumph and tragedy as it gives us a fractured family that finally sets aside their differences and unites towards a common goal. It.s also got a giant mutant fish-monster that tries to eat everything in its path.\n",
      "\n",
      "Still with me? That.s the kind of film that The Host is - able to shift tones on a moment.s notice (often within the same scene), Bong uses all his formidable talents to bring respect to a disreputable genre. And thanks to his sure hand, somehow it all comes together.\n",
      "\n",
      "The genesis of this giant mutant fish-monster comes in the year 2000 prologue, when an American government official, over the objections of his Korean subordinate, orders the disposal of several hundred bottles of formaldehyde (they were dusty). Flash forward to the present, when the monster crawls out of the Han River one fine summer day and wreaks a whole ton of havoc. \n",
      " This is a spellbinding sequence - the first glimmer of the rampage comes when layabout snack-booth merchant Park Gang-du (Song Kang-ho) casually turns to his left and sees the beast running full bore at him, trampling or swallowing everyone in between, and the rest of the sequence has that same disbelieving, half-glimpsed quality about it. Most effective is the first tail whip, which would be played as a major shock-cut in Hollywood but here is viewed from a distance, which makes it somehow both more horrifying and weirdly funny. \n",
      "\n",
      "The attack is all the more impressive for coming not fifteen minutes into a two-hour film; in lieu of arduous story setup, Bong quickly introduces the members of the Park family and jumps straight into the action, leaving the rest to be filled in on the fly as the remainder of the film proceeds. A significant portion of the family is elsewhere at the time -- Nam-joo (Bae Doo-na) is on television attempting to win a gold medal in archery, while Nam-il (Park Hae-il) we learn of only in Gang-du.s conversation with his daughter Hyun-seo (Ko Ah-sung) about his showing up at parent-teacher day in place of the shiftless, borderline-narcoleptic Gang-du. \n",
      " Among other things, Bong demonstrates with The Host that he.s adept at the art of storytelling shorthand. In this early scene alone, he gives us quick sketches of five characters without feeling expository or leaving the snack shack run by Gang-du.s father Hie-bong (Byoen Hie-bong), while simultaneously emphasizing the spatial separateness that is reflected by the family.s emotional divisions. Both of these gulfs are closed in short order by a horrific event, and that.s when the meat of The Host arrives on the scene.\n",
      "\n",
      "It.s a hell of an event, too: During the opening monster mash, Gang-du loses sight of where he.s going, stumbles and accidentally lets go of Hyun-seo.s hand. Just as he realizes his error, he turns to see Hyun-seo being swept up and carried away by the monster.s tail. \n",
      " Initially thinking her dead, the family is crushed. One night, though, Gang-du gets a call; the reception is full of static and the voice on the other end is difficult to hear, but it.s definitely Hyun-seo. Before her cell phone dies, she manages to get across that she.s alive in a sewer somewhere. The family then resolves to band together and save her... but first, they have to get out of quarantine. See, Gang-du got monster blood on him, and the monster might be carrying a new virus, so...\n",
      "\n",
      "As you can see, there.s a lot going on in The Host. I haven.t even touched upon the political dimensions present within the progression of the plot -- it was, after all, the order of an American soldier that caused the mutation in the first place, and as the crisis spins out further, there.s talk of direct intervention. Bong isn.t just indulging in America-bashing, though; the Korean government is consistently displayed as corrupt, inefficient, and incompetent (example: the scene where Gang-du and Hie-bong talk their way through a guard post using quick words, a stolen van, and a bucketful of change). The further along things go, the less willing anyone in charge is to admit mistakes, which leads to some unforeseen narrative complications. By the climactic showdown, the Park family appears to be the only hope for humanity - where the institutions fail, the family will persevere.\n",
      "\n",
      "Lest I lose sight of my target, though, I might as well confess that this is all thematic gravy and the foremost intent of The Host is to entertain. Bong succee\n"
     ]
    }
   ],
   "source": [
    "# get a sneak peak of the text data:\n",
    "print(raw_text[:5000])"
   ]
  },
  {
   "cell_type": "markdown",
   "metadata": {},
   "source": [
    "## Processing the text:\n",
    "\n",
    "Now I will work on processing the text! My goal here is to clean each document and organize the data so that I can save out a new json file which I can work with for frequency and sentiment analysis!\n",
    "\n",
    "The first step is to pre-process the text - Splitting the text by each document:"
   ]
  },
  {
   "cell_type": "code",
   "execution_count": 34,
   "metadata": {},
   "outputs": [],
   "source": [
    "# Splitting the docs:\n",
    "docs = raw_text.split('End of Document')"
   ]
  },
  {
   "cell_type": "code",
   "execution_count": 35,
   "metadata": {
    "scrolled": true
   },
   "outputs": [
    {
     "data": {
      "text/plain": [
       "28"
      ]
     },
     "execution_count": 35,
     "metadata": {},
     "output_type": "execute_result"
    }
   ],
   "source": [
    "len(docs)"
   ]
  },
  {
   "cell_type": "markdown",
   "metadata": {},
   "source": [
    "I should've downloaded 27 documents, so let's see why we have one extra:"
   ]
  },
  {
   "cell_type": "code",
   "execution_count": 36,
   "metadata": {},
   "outputs": [
    {
     "data": {
      "text/plain": [
       "'Movie Review: The Host\\nBlogcritics.org Video\\nMarch 8, 2007 Thursday 8:18 PM EST\\n\\n\\u2028Copyright 2007 Newstex LLC\\nAll Rights Reserved\\nNewstex Web Blogs\\nCopyright 2007 Blogcritics.org Video\\nLength:\\xa01073 words\\nByline:\\xa0Steve Carlson\\nBody\\n\\n\\n\\n\\n  Mar. 8, 2007 (Blogcritics.org delivered by Newstex) -- \\n If there.s one film that will plant South Korean cinema into the mind of the American public, The Host is it. Bong Joon-ho.s lively feature provides all the thrills and sensation of the average American summer spectacle, except that it does so while still remaining a good movie. It.s got heart, hilarity, triumph and tragedy as it gives us a fractured family that finally sets aside their differences and unites towards a common goal. It.s also got a giant mutant fish-monster that tries to eat everything in its path.\\n\\nStill with me? That.s the kind of film that The Host is - able to shift tones on a moment.s notice (often within the same scene), Bong uses all his formidable talents to bring respect to a disreputable genre. And thanks to his sure hand, somehow it all comes together.\\n\\nThe genesis of this giant mutant fish-monster comes in the year 2000 prologue, when an American government official, over the objections of his Korean subordinate, orders the disposal of several hundred bottles of formaldehyde (they were dusty). Flash forward to the present, when the monster crawls out of the Han River one fine summer day and wreaks a whole ton of havoc. \\n This is a spellbinding sequence - the first glimmer of the rampage comes when layabout snack-booth merchant Park Gang-du (Song Kang-ho) casually turns to his left and sees the beast running full bore at him, trampling or swallowing everyone in between, and the rest of the sequence has that same disbelieving, half-glimpsed quality about it. Most effective is the first tail whip, which would be played as a major shock-cut in Hollywood but here is viewed from a distance, which makes it somehow both more horrifying and weirdly funny. \\n\\nThe attack is all the more impressive for coming not fifteen minutes into a two-hour film; in lieu of arduous story setup, Bong quickly introduces the members of the Park family and jumps straight into the action, leaving the rest to be filled in on the fly as the remainder of the film proceeds. A significant portion of the family is elsewhere at the time -- Nam-joo (Bae Doo-na) is on television attempting to win a gold medal in archery, while Nam-il (Park Hae-il) we learn of only in Gang-du.s conversation with his daughter Hyun-seo (Ko Ah-sung) about his showing up at parent-teacher day in place of the shiftless, borderline-narcoleptic Gang-du. \\n Among other things, Bong demonstrates with The Host that he.s adept at the art of storytelling shorthand. In this early scene alone, he gives us quick sketches of five characters without feeling expository or leaving the snack shack run by Gang-du.s father Hie-bong (Byoen Hie-bong), while simultaneously emphasizing the spatial separateness that is reflected by the family.s emotional divisions. Both of these gulfs are closed in short order by a horrific event, and that.s when the meat of The Host arrives on the scene.\\n\\nIt.s a hell of an event, too: During the opening monster mash, Gang-du loses sight of where he.s going, stumbles and accidentally lets go of Hyun-seo.s hand. Just as he realizes his error, he turns to see Hyun-seo being swept up and carried away by the monster.s tail. \\n Initially thinking her dead, the family is crushed. One night, though, Gang-du gets a call; the reception is full of static and the voice on the other end is difficult to hear, but it.s definitely Hyun-seo. Before her cell phone dies, she manages to get across that she.s alive in a sewer somewhere. The family then resolves to band together and save her... but first, they have to get out of quarantine. See, Gang-du got monster blood on him, and the monster might be carrying a new virus, so...\\n\\nAs you can see, there.s a lot going on in The Host. I haven.t even touched upon the political dimensions present within the progression of the plot -- it was, after all, the order of an American soldier that caused the mutation in the first place, and as the crisis spins out further, there.s talk of direct intervention. Bong isn.t just indulging in America-bashing, though; the Korean government is consistently displayed as corrupt, inefficient, and incompetent (example: the scene where Gang-du and Hie-bong talk their way through a guard post using quick words, a stolen van, and a bucketful of change). The further along things go, the less willing anyone in charge is to admit mistakes, which leads to some unforeseen narrative complications. By the climactic showdown, the Park family appears to be the only hope for humanity - where the institutions fail, the family will persevere.\\n\\nLest I lose sight of my target, though, I might as well confess that this is all thematic gravy and the foremost intent of The Host is to entertain. Bong succeeds in this aim grandly. He throws so many balls in the air that it seems inevitable that some will fall, and while a couple subplots go unresolved, on the whole Bong keeps an admirable balance. \\n He.s also not afraid to puncture the creeping seriousness of the situation with absurd comedy, such as the mourning scene degenerating into a thrashing slugfest between Nam-il and Gang-du or the hazmat-suited soldier who, in the middle of Hie-bong.s vow of vengeance against the beast that assumedly killed his granddaughter and apropos of nothing, slips and falls.\\n\\nThe action scenes are also well-handled. While nothing quite tops the jaw-dropping frisson of the monster.s introductory romp, Bong moves the film along at a crisp pace and keeps the tension at a rolling boil. Whether it.s Nam-il giving an impromptu demonstration of his escape artist skills, Nam-joo attempting to get off an arrow at the monster before it runs her over, or Hyen-seo struggling to sneak out of the monster.s lair without attracting attention, The Host keeps the excitement coming.\\n\\nIt.s the finale, with its confrontation between an exhausted monster and a determined Park family, that drives home the true measure of Bong.s achievement. The mutant fish is a means, not an end. While it.s lots of fun to watch a big ugly something chow down, there needs to be something else down the line if a work of art is going to be more than a forgettable diversion. By not losing sight of the humanity of the situation, The Host succeeds in ways most genre efforts wouldn.t think to consider. \\nSteve Carlson has been running his website The Ongoing Cinematic Education of... for over five years. He likes caffeine. And alcohol.\\n\\u2028Notes\\n\\n\\n\\nThe views expressed on blogs distributed by Newstex and its re-distributors (\"Blogs via Newstex\") are solely the author\\'s and not necessarily the views of Newstex or its re-distributors. Posts from such authors are provided \"AS IS\", with no warranties, and confer no rights. The material and information provided in Blogs via Newstex are for general information only and should not, in any respect, be relied on as professional advice. No content on such Blogs via Newstex is \"read and approved\" before it is posted. Accordingly, neither Newstex nor its re-distributors make any claims, promises or guarantees about the accuracy, completeness, or adequacy of the information contained therein or linked to from such blogs, nor take responsibility for any aspect of such blog content. All content on Blogs via Newstex shall be construed as author-based content and commentary. Accordingly, no warranties or other guarantees will be offered as to the quality of the opinions, commentary or anything else offered on such Blogs via Newstex. Reader\\'s comments reflect their individual opinion and their publication within Blogs via Newstex shall not infer or connote an endorsement by Newstex or its re-distributors of such reader\\'s comments or views. Newstex and its re-distributors expressly reserve the right to delete posts and comments at its and their sole discretion.\\u2028\\u2028\\nLoad-Date:\\xa0March 8, 2007\\n\\n\\u2028\\n\\n'"
      ]
     },
     "execution_count": 36,
     "metadata": {},
     "output_type": "execute_result"
    }
   ],
   "source": [
    "# First item in the list of docs:\n",
    "docs[0]"
   ]
  },
  {
   "cell_type": "code",
   "execution_count": 37,
   "metadata": {},
   "outputs": [
    {
     "data": {
      "text/plain": [
       "'\\n'"
      ]
     },
     "execution_count": 37,
     "metadata": {},
     "output_type": "execute_result"
    }
   ],
   "source": [
    "# Last item in the list:\n",
    "docs[-1]"
   ]
  },
  {
   "cell_type": "markdown",
   "metadata": {},
   "source": [
    "Aha! The last document in our list got cut off as an extra document, so we'll need to remove this from our list:"
   ]
  },
  {
   "cell_type": "code",
   "execution_count": 38,
   "metadata": {},
   "outputs": [],
   "source": [
    "docs = docs[:-1]"
   ]
  },
  {
   "cell_type": "code",
   "execution_count": 39,
   "metadata": {},
   "outputs": [
    {
     "data": {
      "text/plain": [
       "27"
      ]
     },
     "execution_count": 39,
     "metadata": {},
     "output_type": "execute_result"
    }
   ],
   "source": [
    "len(docs)"
   ]
  },
  {
   "cell_type": "code",
   "execution_count": 40,
   "metadata": {},
   "outputs": [
    {
     "data": {
      "text/plain": [
       "\"\\n\\n\\nThe Host\\nVideo Business\\nJune 11, 2007\\n\\n\\u2028Copyright 2007 Reed Business Information, US, a division of Reed Elsevier Inc. All Rights Reserved\\n\\u2028\\nSection:\\xa0TIPSHEET; Horror; Pg. 6\\nLength:\\xa0294 words\\nByline:\\xa0By Irv Slifkin\\nBody\\n\\n\\n\\n\\nMAGNOLIA\\nStreet: July 24\\nPrebook: June 26\\n> Unusual foreign mix of monster movie and family dramedy.\\nThe most successful and expensive Korean film ever produced received terrific reviews and brisk arthouse business in the U.S. And it's easy to see why, for this is not only a dazzling technical achievement but a surprisingly complex affair spiked with political satire and pathos that also happens to be quite funny. Think Jaws  meets Little Miss Sunshine , and you get an idea of what to expect from a movie wherein a teenage girl is wrested away from her family snack shop near the Han River by a gigantic amphibious creature. The girl's fractured family-which includes a slacker father and an aunt who happens to be an archery expert-has to put aside their differences to track her down before it's too late. At the same time, the government claims the beast is the product of a mysterious virus and begins putting citizens into quarantine, which puts a big crimp in the clan's rescue plans. Director Joon Ho-Bong (Memories of Murder ) does a miraculous job juggling all the seemingly disparate elements.\\nShelf Talk : Word-of-mouth is definitely in this title's favor, but it's up to retailers whether they want to market it as a foreign film. The precedent for the genre can be seen in such titles as Brotherhood of the Wolf  and such Asian imports as Oldboy  and the Ringu  films, so retailers may want to have The Host  follow in those films' footsteps.\\nHorror, R (mature themes, language, violence), 119 min.; DVD $26.99, Collector's Edition DVD $29.99, Collector's BD or HD $34.99\\nExtras: deleted scenes, commentary; Collector's Edition also has making-of featurettes, storyboards, gag reel, casting tapes\\nDirector: Joon Ho-Bong\\nFirst Run: L, March 2007, $2.1 mil.\\n\\u2028Load-Date:\\xa0June 12, 2007\\n\\n\\u2028\\n\\n\""
      ]
     },
     "execution_count": 40,
     "metadata": {},
     "output_type": "execute_result"
    }
   ],
   "source": [
    "docs[-1]"
   ]
  },
  {
   "cell_type": "markdown",
   "metadata": {},
   "source": [
    "There we go! We have successfully removed the last item so that our `docs` list accurately reflects the number of documents I downloaded. Now in order to get into analyzing these critic reviews of _The Host_ , I am going to write each document in our list to a separate file:"
   ]
  },
  {
   "cell_type": "code",
   "execution_count": 20,
   "metadata": {},
   "outputs": [
    {
     "name": "stdout",
     "output_type": "stream",
     "text": [
      "Creating ../data/critic_reviews/sep_docs/nexis_host_critic001.txt\n",
      "Creating ../data/critic_reviews/sep_docs/nexis_host_critic002.txt\n",
      "Creating ../data/critic_reviews/sep_docs/nexis_host_critic003.txt\n",
      "Creating ../data/critic_reviews/sep_docs/nexis_host_critic004.txt\n",
      "Creating ../data/critic_reviews/sep_docs/nexis_host_critic005.txt\n",
      "Creating ../data/critic_reviews/sep_docs/nexis_host_critic006.txt\n",
      "Creating ../data/critic_reviews/sep_docs/nexis_host_critic007.txt\n",
      "Creating ../data/critic_reviews/sep_docs/nexis_host_critic008.txt\n",
      "Creating ../data/critic_reviews/sep_docs/nexis_host_critic009.txt\n",
      "Creating ../data/critic_reviews/sep_docs/nexis_host_critic010.txt\n",
      "Creating ../data/critic_reviews/sep_docs/nexis_host_critic011.txt\n",
      "Creating ../data/critic_reviews/sep_docs/nexis_host_critic012.txt\n",
      "Creating ../data/critic_reviews/sep_docs/nexis_host_critic013.txt\n",
      "Creating ../data/critic_reviews/sep_docs/nexis_host_critic014.txt\n",
      "Creating ../data/critic_reviews/sep_docs/nexis_host_critic015.txt\n",
      "Creating ../data/critic_reviews/sep_docs/nexis_host_critic016.txt\n",
      "Creating ../data/critic_reviews/sep_docs/nexis_host_critic017.txt\n",
      "Creating ../data/critic_reviews/sep_docs/nexis_host_critic018.txt\n",
      "Creating ../data/critic_reviews/sep_docs/nexis_host_critic019.txt\n",
      "Creating ../data/critic_reviews/sep_docs/nexis_host_critic020.txt\n",
      "Creating ../data/critic_reviews/sep_docs/nexis_host_critic021.txt\n",
      "Creating ../data/critic_reviews/sep_docs/nexis_host_critic022.txt\n",
      "Creating ../data/critic_reviews/sep_docs/nexis_host_critic023.txt\n",
      "Creating ../data/critic_reviews/sep_docs/nexis_host_critic024.txt\n",
      "Creating ../data/critic_reviews/sep_docs/nexis_host_critic025.txt\n",
      "Creating ../data/critic_reviews/sep_docs/nexis_host_critic026.txt\n",
      "Creating ../data/critic_reviews/sep_docs/nexis_host_critic027.txt\n"
     ]
    }
   ],
   "source": [
    "# check to see if the folder to hold the files exists and create if it doesn't\n",
    "if not os.path.exists('../data/critic_reviews/sep_docs'):\n",
    "    os.makedirs('../data/critic_reviews/sep_docs')\n",
    "    \n",
    "    \n",
    "# loop over the list of documents and write each to a separate text file\n",
    "for idx, doc in enumerate(docs, 1):\n",
    "    \n",
    "    filepath = '../data/critic_reviews/sep_docs/nexis_host_critic{:0>3}.txt'.format(idx)\n",
    "    print('Creating', filepath)\n",
    "    \n",
    "    with open(filepath, 'w') as out:\n",
    "        out.write(doc)"
   ]
  },
  {
   "cell_type": "code",
   "execution_count": 41,
   "metadata": {
    "scrolled": true
   },
   "outputs": [
    {
     "data": {
      "text/plain": [
       "27"
      ]
     },
     "execution_count": 41,
     "metadata": {},
     "output_type": "execute_result"
    }
   ],
   "source": [
    "len(docs)"
   ]
  },
  {
   "cell_type": "code",
   "execution_count": 42,
   "metadata": {},
   "outputs": [
    {
     "data": {
      "text/plain": [
       "'Movie Review: The Host\\nBlogcritics.org Video\\nMarch 8, 2007 Thursday 8:18 PM EST\\n\\n\\u2028Copyright 2007 Newstex LLC\\nAll Rights Reserved\\nNewstex Web Blogs\\nCopyright 2007 Blogcritics.org Video\\nLength:\\xa01073 words\\nByline:\\xa0Steve Carlson\\nBody\\n\\n\\n\\n\\n  Mar. 8, 2007 (Blogcritics.org delivered by Newstex) -- \\n If there.s one film that will plant South Korean cinema into the mind of the American public, The Host is it. Bong Joon-ho.s lively feature provides all the thrills and sensation of the average American summer spectacle, except that it does so while still remaining a good movie. It.s got heart, hilarity, triumph and tragedy as it gives us a fractured family that finally sets aside their differences and unites towards a common goal. It.s also got a giant mutant fish-monster that tries to eat everything in its path.\\n\\nStill with me? That.s the kind of film that The Host is - able to shift tones on a moment.s notice (often within the same scene), Bong uses all his formidable talents to bring respect to a disreputable genre. And thanks to his sure hand, somehow it all comes together.\\n\\nThe genesis of this giant mutant fish-monster comes in the year 2000 prologue, when an American government official, over the objections of his Korean subordinate, orders the disposal of several hundred bottles of formaldehyde (they were dusty). Flash forward to the present, when the monster crawls out of the Han River one fine summer day and wreaks a whole ton of havoc. \\n This is a spellbinding sequence - the first glimmer of the rampage comes when layabout snack-booth merchant Park Gang-du (Song Kang-ho) casually turns to his left and sees the beast running full bore at him, trampling or swallowing everyone in between, and the rest of the sequence has that same disbelieving, half-glimpsed quality about it. Most effective is the first tail whip, which would be played as a major shock-cut in Hollywood but here is viewed from a distance, which makes it somehow both more horrifying and weirdly funny. \\n\\nThe attack is all the more impressive for coming not fifteen minutes into a two-hour film; in lieu of arduous story setup, Bong quickly introduces the members of the Park family and jumps straight into the action, leaving the rest to be filled in on the fly as the remainder of the film proceeds. A significant portion of the family is elsewhere at the time -- Nam-joo (Bae Doo-na) is on television attempting to win a gold medal in archery, while Nam-il (Park Hae-il) we learn of only in Gang-du.s conversation with his daughter Hyun-seo (Ko Ah-sung) about his showing up at parent-teacher day in place of the shiftless, borderline-narcoleptic Gang-du. \\n Among other things, Bong demonstrates with The Host that he.s adept at the art of storytelling shorthand. In this early scene alone, he gives us quick sketches of five characters without feeling expository or leaving the snack shack run by Gang-du.s father Hie-bong (Byoen Hie-bong), while simultaneously emphasizing the spatial separateness that is reflected by the family.s emotional divisions. Both of these gulfs are closed in short order by a horrific event, and that.s when the meat of The Host arrives on the scene.\\n\\nIt.s a hell of an event, too: During the opening monster mash, Gang-du loses sight of where he.s going, stumbles and accidentally lets go of Hyun-seo.s hand. Just as he realizes his error, he turns to see Hyun-seo being swept up and carried away by the monster.s tail. \\n Initially thinking her dead, the family is crushed. One night, though, Gang-du gets a call; the reception is full of static and the voice on the other end is difficult to hear, but it.s definitely Hyun-seo. Before her cell phone dies, she manages to get across that she.s alive in a sewer somewhere. The family then resolves to band together and save her... but first, they have to get out of quarantine. See, Gang-du got monster blood on him, and the monster might be carrying a new virus, so...\\n\\nAs you can see, there.s a lot going on in The Host. I haven.t even touched upon the political dimensions present within the progression of the plot -- it was, after all, the order of an American soldier that caused the mutation in the first place, and as the crisis spins out further, there.s talk of direct intervention. Bong isn.t just indulging in America-bashing, though; the Korean government is consistently displayed as corrupt, inefficient, and incompetent (example: the scene where Gang-du and Hie-bong talk their way through a guard post using quick words, a stolen van, and a bucketful of change). The further along things go, the less willing anyone in charge is to admit mistakes, which leads to some unforeseen narrative complications. By the climactic showdown, the Park family appears to be the only hope for humanity - where the institutions fail, the family will persevere.\\n\\nLest I lose sight of my target, though, I might as well confess that this is all thematic gravy and the foremost intent of The Host is to entertain. Bong succeeds in this aim grandly. He throws so many balls in the air that it seems inevitable that some will fall, and while a couple subplots go unresolved, on the whole Bong keeps an admirable balance. \\n He.s also not afraid to puncture the creeping seriousness of the situation with absurd comedy, such as the mourning scene degenerating into a thrashing slugfest between Nam-il and Gang-du or the hazmat-suited soldier who, in the middle of Hie-bong.s vow of vengeance against the beast that assumedly killed his granddaughter and apropos of nothing, slips and falls.\\n\\nThe action scenes are also well-handled. While nothing quite tops the jaw-dropping frisson of the monster.s introductory romp, Bong moves the film along at a crisp pace and keeps the tension at a rolling boil. Whether it.s Nam-il giving an impromptu demonstration of his escape artist skills, Nam-joo attempting to get off an arrow at the monster before it runs her over, or Hyen-seo struggling to sneak out of the monster.s lair without attracting attention, The Host keeps the excitement coming.\\n\\nIt.s the finale, with its confrontation between an exhausted monster and a determined Park family, that drives home the true measure of Bong.s achievement. The mutant fish is a means, not an end. While it.s lots of fun to watch a big ugly something chow down, there needs to be something else down the line if a work of art is going to be more than a forgettable diversion. By not losing sight of the humanity of the situation, The Host succeeds in ways most genre efforts wouldn.t think to consider. \\nSteve Carlson has been running his website The Ongoing Cinematic Education of... for over five years. He likes caffeine. And alcohol.\\n\\u2028Notes\\n\\n\\n\\nThe views expressed on blogs distributed by Newstex and its re-distributors (\"Blogs via Newstex\") are solely the author\\'s and not necessarily the views of Newstex or its re-distributors. Posts from such authors are provided \"AS IS\", with no warranties, and confer no rights. The material and information provided in Blogs via Newstex are for general information only and should not, in any respect, be relied on as professional advice. No content on such Blogs via Newstex is \"read and approved\" before it is posted. Accordingly, neither Newstex nor its re-distributors make any claims, promises or guarantees about the accuracy, completeness, or adequacy of the information contained therein or linked to from such blogs, nor take responsibility for any aspect of such blog content. All content on Blogs via Newstex shall be construed as author-based content and commentary. Accordingly, no warranties or other guarantees will be offered as to the quality of the opinions, commentary or anything else offered on such Blogs via Newstex. Reader\\'s comments reflect their individual opinion and their publication within Blogs via Newstex shall not infer or connote an endorsement by Newstex or its re-distributors of such reader\\'s comments or views. Newstex and its re-distributors expressly reserve the right to delete posts and comments at its and their sole discretion.\\u2028\\u2028\\nLoad-Date:\\xa0March 8, 2007\\n\\n\\u2028\\n\\n'"
      ]
     },
     "execution_count": 42,
     "metadata": {},
     "output_type": "execute_result"
    }
   ],
   "source": [
    "docs[0]"
   ]
  },
  {
   "cell_type": "markdown",
   "metadata": {},
   "source": [
    "Now we have created a different text document for each text entry that we split by! \n",
    "\n",
    "The next step in processing our data is to extract only the body text from each document:"
   ]
  },
  {
   "cell_type": "code",
   "execution_count": 14,
   "metadata": {},
   "outputs": [
    {
     "name": "stdout",
     "output_type": "stream",
     "text": [
      "Movie Review: The Host\n",
      "Blogcritics.org Video\n",
      "March 8, 2007 Thursday 8:18 PM EST\n",
      "\n",
      " ",
      "Copyright 2007 Newstex LLC\n",
      "All Rights Reserved\n",
      "Newstex Web Blogs\n",
      "Copyright 2007 Blogcritics.org Video\n",
      "Length: 1073 words\n",
      "Byline: Steve Carlson\n",
      "Body\n",
      "\n",
      "\n",
      "\n",
      "\n",
      "  Mar. 8, 2007 (Blogcritics.org delivered by Newstex) -- \n",
      " If there.s one film that will plant South Korean cinema into the mind of the American public, The Host is it. Bong Joon-ho.s lively feature provides all the thrills and sensation of the average American summer spectacle, except that it does so while still remaining a good movie. It.s got heart, hilarity, triumph and tragedy as it gives us a fractured family that finally sets aside their differences and unites towards a common goal. It.s also got a giant mutant fish-monster that tries to eat everything in its path.\n",
      "\n",
      "Still with me? That.s the kind of film that The Host is - able to shift tones on a moment.s notice (often within the same scene), Bong uses all his formidable talents to bring respect to a disreputable genre. And thanks to his sure hand, somehow it all comes together.\n",
      "\n",
      "The genesis of this giant mutant fish-monster comes in the year 2000 prologue, when an American government official, over the objections of his Korean subordinate, orders the disposal of several hundred bottles of formaldehyde (they were dusty). Flash forward to the present, when the monster crawls out of the Han River one fine summer day and wreaks a whole ton of havoc. \n",
      " This is a spellbinding sequence - the first glimmer of the rampage comes when layabout snack-booth merchant Park Gang-du (Song Kang-ho) casually turns to his left and sees the beast running full bore at him, trampling or swallowing everyone in between, and the rest of the sequence has that same disbelieving, half-glimpsed quality about it. Most effective is the first tail whip, which would be played as a major shock-cut in Hollywood but here is viewed from a distance, which makes it somehow both more horrifying and weirdly funny. \n",
      "\n",
      "The attack is all the more impressive for coming not fifteen minutes into a two-hour film; in lieu of arduous story setup, Bong quickly introduces the members of the Park family and jumps straight into the action, leaving the rest to be filled in on the fly as the remainder of the film proceeds. A significant portion of the family is elsewhere at the time -- Nam-joo (Bae Doo-na) is on television attempting to win a gold medal in archery, while Nam-il (Park Hae-il) we learn of only in Gang-du.s conversation with his daughter Hyun-seo (Ko Ah-sung) about his showing up at parent-teacher day in place of the shiftless, borderline-narcoleptic Gang-du. \n",
      " Among other things, Bong demonstrates with The Host that he.s adept at the art of storytelling shorthand. In this early scene alone, he gives us quick sketches of five characters without feeling expository or leaving the snack shack run by Gang-du.s father Hie-bong (Byoen Hie-bong), while simultaneously emphasizing the spatial separateness that is reflected by the family.s emotional divisions. Both of these gulfs are closed in short order by a horrific event, and that.s when the meat of The Host arrives on the scene.\n",
      "\n",
      "It.s a hell of an event, too: During the opening monster mash, Gang-du loses sight of where he.s going, stumbles and accidentally lets go of Hyun-seo.s hand. Just as he realizes his error, he turns to see Hyun-seo being swept up and carried away by the monster.s tail. \n",
      " Initially thinking her dead, the family is crushed. One night, though, Gang-du gets a call; the reception is full of static and the voice on the other end is difficult to hear, but it.s definitely Hyun-seo. Before her cell phone dies, she manages to get across that she.s alive in a sewer somewhere. The family then resolves to band together and save her... but first, they have to get out of quarantine. See, Gang-du got monster blood on him, and the monster might be carrying a new virus, so...\n",
      "\n",
      "As you can see, there.s a lot going on in The Host. I haven.t even touched upon the political dimensions present within the progression of the plot -- it was, after all, the order of an American soldier that caused the mutation in the first place, and as the crisis spins out further, there.s talk of direct intervention. Bong isn.t just indulging in America-bashing, though; the Korean government is consistently displayed as corrupt, inefficient, and incompetent (example: the scene where Gang-du and Hie-bong talk their way through a guard post using quick words, a stolen van, and a bucketful of change). The further along things go, the less willing anyone in charge is to admit mistakes, which leads to some unforeseen narrative complications. By the climactic showdown, the Park family appears to be the only hope for humanity - where the institutions fail, the family will persevere.\n",
      "\n",
      "Lest I lose sight of my target, though, I might as well confess that this is all thematic gravy and the foremost intent of The Host is to entertain. Bong succeeds in this aim grandly. He throws so many balls in the air that it seems inevitable that some will fall, and while a couple subplots go unresolved, on the whole Bong keeps an admirable balance. \n",
      " He.s also not afraid to puncture the creeping seriousness of the situation with absurd comedy, such as the mourning scene degenerating into a thrashing slugfest between Nam-il and Gang-du or the hazmat-suited soldier who, in the middle of Hie-bong.s vow of vengeance against the beast that assumedly killed his granddaughter and apropos of nothing, slips and falls.\n",
      "\n",
      "The action scenes are also well-handled. While nothing quite tops the jaw-dropping frisson of the monster.s introductory romp, Bong moves the film along at a crisp pace and keeps the tension at a rolling boil. Whether it.s Nam-il giving an impromptu demonstration of his escape artist skills, Nam-joo attempting to get off an arrow at the monster before it runs her over, or Hyen-seo struggling to sneak out of the monster.s lair without attracting attention, The Host keeps the excitement coming.\n",
      "\n",
      "It.s the finale, with its confrontation between an exhausted monster and a determined Park family, that drives home the true measure of Bong.s achievement. The mutant fish is a means, not an end. While it.s lots of fun to watch a big ugly something chow down, there needs to be something else down the line if a work of art is going to be more than a forgettable diversion. By not losing sight of the humanity of the situation, The Host succeeds in ways most genre efforts wouldn.t think to consider. \n",
      "Steve Carlson has been running his website The Ongoing Cinematic Education of... for over five years. He likes caffeine. And alcohol.\n",
      " ",
      "Notes\n",
      "\n",
      "\n",
      "\n",
      "The views expressed on blogs distributed by Newstex and its re-distributors (\"Blogs via Newstex\") are solely the author's and not necessarily the views of Newstex or its re-distributors. Posts from such authors are provided \"AS IS\", with no warranties, and confer no rights. The material and information provided in Blogs via Newstex are for general information only and should not, in any respect, be relied on as professional advice. No content on such Blogs via Newstex is \"read and approved\" before it is posted. Accordingly, neither Newstex nor its re-distributors make any claims, promises or guarantees about the accuracy, completeness, or adequacy of the information contained therein or linked to from such blogs, nor take responsibility for any aspect of such blog content. All content on Blogs via Newstex shall be construed as author-based content and commentary. Accordingly, no warranties or other guarantees will be offered as to the quality of the opinions, commentary or anything else offered on such Blogs via Newstex. Reader's comments reflect their individual opinion and their publication within Blogs via Newstex shall not infer or connote an endorsement by Newstex or its re-distributors of such reader's comments or views. Newstex and its re-distributors expressly reserve the right to delete posts and comments at its and their sole discretion. ",
      " ",
      "\n",
      "Load-Date: March 8, 2007\n",
      "\n",
      " ",
      "\n",
      "\n",
      "\n"
     ]
    }
   ],
   "source": [
    "# Looking at the doc structure to see how we can extract body text:\n",
    "print(docs[0])"
   ]
  },
  {
   "cell_type": "markdown",
   "metadata": {},
   "source": [
    "It looks like each document's body text comes after the word `Body` at the beginning of the document, and then the body text ends right above the word `Load-Date:`. Knowing this, we can extract the body text by index slicing:"
   ]
  },
  {
   "cell_type": "code",
   "execution_count": 17,
   "metadata": {
    "scrolled": true
   },
   "outputs": [
    {
     "data": {
      "text/plain": [
       "225"
      ]
     },
     "execution_count": 17,
     "metadata": {},
     "output_type": "execute_result"
    }
   ],
   "source": [
    "# Index of the first character that we want 'Body'\n",
    "docs[0].index('Body')"
   ]
  },
  {
   "cell_type": "code",
   "execution_count": 18,
   "metadata": {},
   "outputs": [
    {
     "data": {
      "text/plain": [
       "8080"
      ]
     },
     "execution_count": 18,
     "metadata": {},
     "output_type": "execute_result"
    }
   ],
   "source": [
    "# Index of the last character that we want 'Load'\n",
    "docs[0].index('Load-Date:')"
   ]
  },
  {
   "cell_type": "code",
   "execution_count": 19,
   "metadata": {},
   "outputs": [
    {
     "data": {
      "text/plain": [
       "'\\n\\n\\n\\n\\n  Mar. 8, 2007 (Blogcritics.org delivered by Newstex) -- \\n If there.s one film that will plant South Korean cinema into the mind of the American public, The Host is it. Bong Joon-ho.s lively feature provides all the thrills and sensation of the average American summer spectacle, except that it does so while still remaining a good movie. It.s got heart, hilarity, triumph and tragedy as it gives us a fractured family that finally sets aside their differences and unites towards a common goal. It.s also got a giant mutant fish-monster that tries to eat everything in its path.\\n\\nStill with me? That.s the kind of film that The Host is - able to shift tones on a moment.s notice (often within the same scene), Bong uses all his formidable talents to bring respect to a disreputable genre. And thanks to his sure hand, somehow it all comes together.\\n\\nThe genesis of this giant mutant fish-monster comes in the year 2000 prologue, when an American government official, over the objections of his Korean subordinate, orders the disposal of several hundred bottles of formaldehyde (they were dusty). Flash forward to the present, when the monster crawls out of the Han River one fine summer day and wreaks a whole ton of havoc. \\n This is a spellbinding sequence - the first glimmer of the rampage comes when layabout snack-booth merchant Park Gang-du (Song Kang-ho) casually turns to his left and sees the beast running full bore at him, trampling or swallowing everyone in between, and the rest of the sequence has that same disbelieving, half-glimpsed quality about it. Most effective is the first tail whip, which would be played as a major shock-cut in Hollywood but here is viewed from a distance, which makes it somehow both more horrifying and weirdly funny. \\n\\nThe attack is all the more impressive for coming not fifteen minutes into a two-hour film; in lieu of arduous story setup, Bong quickly introduces the members of the Park family and jumps straight into the action, leaving the rest to be filled in on the fly as the remainder of the film proceeds. A significant portion of the family is elsewhere at the time -- Nam-joo (Bae Doo-na) is on television attempting to win a gold medal in archery, while Nam-il (Park Hae-il) we learn of only in Gang-du.s conversation with his daughter Hyun-seo (Ko Ah-sung) about his showing up at parent-teacher day in place of the shiftless, borderline-narcoleptic Gang-du. \\n Among other things, Bong demonstrates with The Host that he.s adept at the art of storytelling shorthand. In this early scene alone, he gives us quick sketches of five characters without feeling expository or leaving the snack shack run by Gang-du.s father Hie-bong (Byoen Hie-bong), while simultaneously emphasizing the spatial separateness that is reflected by the family.s emotional divisions. Both of these gulfs are closed in short order by a horrific event, and that.s when the meat of The Host arrives on the scene.\\n\\nIt.s a hell of an event, too: During the opening monster mash, Gang-du loses sight of where he.s going, stumbles and accidentally lets go of Hyun-seo.s hand. Just as he realizes his error, he turns to see Hyun-seo being swept up and carried away by the monster.s tail. \\n Initially thinking her dead, the family is crushed. One night, though, Gang-du gets a call; the reception is full of static and the voice on the other end is difficult to hear, but it.s definitely Hyun-seo. Before her cell phone dies, she manages to get across that she.s alive in a sewer somewhere. The family then resolves to band together and save her... but first, they have to get out of quarantine. See, Gang-du got monster blood on him, and the monster might be carrying a new virus, so...\\n\\nAs you can see, there.s a lot going on in The Host. I haven.t even touched upon the political dimensions present within the progression of the plot -- it was, after all, the order of an American soldier that caused the mutation in the first place, and as the crisis spins out further, there.s talk of direct intervention. Bong isn.t just indulging in America-bashing, though; the Korean government is consistently displayed as corrupt, inefficient, and incompetent (example: the scene where Gang-du and Hie-bong talk their way through a guard post using quick words, a stolen van, and a bucketful of change). The further along things go, the less willing anyone in charge is to admit mistakes, which leads to some unforeseen narrative complications. By the climactic showdown, the Park family appears to be the only hope for humanity - where the institutions fail, the family will persevere.\\n\\nLest I lose sight of my target, though, I might as well confess that this is all thematic gravy and the foremost intent of The Host is to entertain. Bong succeeds in this aim grandly. He throws so many balls in the air that it seems inevitable that some will fall, and while a couple subplots go unresolved, on the whole Bong keeps an admirable balance. \\n He.s also not afraid to puncture the creeping seriousness of the situation with absurd comedy, such as the mourning scene degenerating into a thrashing slugfest between Nam-il and Gang-du or the hazmat-suited soldier who, in the middle of Hie-bong.s vow of vengeance against the beast that assumedly killed his granddaughter and apropos of nothing, slips and falls.\\n\\nThe action scenes are also well-handled. While nothing quite tops the jaw-dropping frisson of the monster.s introductory romp, Bong moves the film along at a crisp pace and keeps the tension at a rolling boil. Whether it.s Nam-il giving an impromptu demonstration of his escape artist skills, Nam-joo attempting to get off an arrow at the monster before it runs her over, or Hyen-seo struggling to sneak out of the monster.s lair without attracting attention, The Host keeps the excitement coming.\\n\\nIt.s the finale, with its confrontation between an exhausted monster and a determined Park family, that drives home the true measure of Bong.s achievement. The mutant fish is a means, not an end. While it.s lots of fun to watch a big ugly something chow down, there needs to be something else down the line if a work of art is going to be more than a forgettable diversion. By not losing sight of the humanity of the situation, The Host succeeds in ways most genre efforts wouldn.t think to consider. \\nSteve Carlson has been running his website The Ongoing Cinematic Education of... for over five years. He likes caffeine. And alcohol.\\n\\u2028Notes\\n\\n\\n\\nThe views expressed on blogs distributed by Newstex and its re-distributors (\"Blogs via Newstex\") are solely the author\\'s and not necessarily the views of Newstex or its re-distributors. Posts from such authors are provided \"AS IS\", with no warranties, and confer no rights. The material and information provided in Blogs via Newstex are for general information only and should not, in any respect, be relied on as professional advice. No content on such Blogs via Newstex is \"read and approved\" before it is posted. Accordingly, neither Newstex nor its re-distributors make any claims, promises or guarantees about the accuracy, completeness, or adequacy of the information contained therein or linked to from such blogs, nor take responsibility for any aspect of such blog content. All content on Blogs via Newstex shall be construed as author-based content and commentary. Accordingly, no warranties or other guarantees will be offered as to the quality of the opinions, commentary or anything else offered on such Blogs via Newstex. Reader\\'s comments reflect their individual opinion and their publication within Blogs via Newstex shall not infer or connote an endorsement by Newstex or its re-distributors of such reader\\'s comments or views. Newstex and its re-distributors expressly reserve the right to delete posts and comments at its and their sole discretion.\\u2028\\u2028\\n'"
      ]
     },
     "execution_count": 19,
     "metadata": {},
     "output_type": "execute_result"
    }
   ],
   "source": [
    "# This is what we want to do, but we wanna code for it, not manually find this out each time,\n",
    "# We're generalizing our code like this:\n",
    "docs[0][229:8080]"
   ]
  },
  {
   "cell_type": "markdown",
   "metadata": {},
   "source": [
    "We can create an easier way to do this, instead of having to index slice and extract the text for each of the 27 documents.\n",
    "\n",
    "Extracting the body text from each doc:"
   ]
  },
  {
   "cell_type": "code",
   "execution_count": 20,
   "metadata": {},
   "outputs": [],
   "source": [
    "# Extracting body text:\n",
    "\n",
    "body_start = docs[0].index('Body')+4\n",
    "body_end = docs[0].index('Load-Date:')\n",
    "\n",
    "body_text = docs[0][body_start:body_end].strip()"
   ]
  },
  {
   "cell_type": "code",
   "execution_count": 21,
   "metadata": {},
   "outputs": [
    {
     "name": "stdout",
     "output_type": "stream",
     "text": [
      "Mar. 8, 2007 (Blogcritics.org delivered by Newstex) -- \n",
      " If there.s one film that will plant South Korean cinema into the mind of the American public, The Host is it. Bong Joon-ho.s lively feature provides all the thrills and sensation of the average American summer spectacle, except that it does so while still remaining a good movie. It.s got heart, hilarity, triumph and tragedy as it gives us a fractured family that finally sets aside their differences and unites towards a common goal. It.s also got a giant mutant fish-monster that tries to eat everything in its path.\n",
      "\n",
      "Still with me? That.s the kind of film that The Host is - able to shift tones on a moment.s notice (often within the same scene), Bong uses all his formidable talents to bring respect to a disreputable genre. And thanks to his sure hand, somehow it all comes together.\n",
      "\n",
      "The genesis of this giant mutant fish-monster comes in the year 2000 prologue, when an American government official, over the objections of his Korean subordinate, orders the disposal of several hundred bottles of formaldehyde (they were dusty). Flash forward to the present, when the monster crawls out of the Han River one fine summer day and wreaks a whole ton of havoc. \n",
      " This is a spellbinding sequence - the first glimmer of the rampage comes when layabout snack-booth merchant Park Gang-du (Song Kang-ho) casually turns to his left and sees the beast running full bore at him, trampling or swallowing everyone in between, and the rest of the sequence has that same disbelieving, half-glimpsed quality about it. Most effective is the first tail whip, which would be played as a major shock-cut in Hollywood but here is viewed from a distance, which makes it somehow both more horrifying and weirdly funny. \n",
      "\n",
      "The attack is all the more impressive for coming not fifteen minutes into a two-hour film; in lieu of arduous story setup, Bong quickly introduces the members of the Park family and jumps straight into the action, leaving the rest to be filled in on the fly as the remainder of the film proceeds. A significant portion of the family is elsewhere at the time -- Nam-joo (Bae Doo-na) is on television attempting to win a gold medal in archery, while Nam-il (Park Hae-il) we learn of only in Gang-du.s conversation with his daughter Hyun-seo (Ko Ah-sung) about his showing up at parent-teacher day in place of the shiftless, borderline-narcoleptic Gang-du. \n",
      " Among other things, Bong demonstrates with The Host that he.s adept at the art of storytelling shorthand. In this early scene alone, he gives us quick sketches of five characters without feeling expository or leaving the snack shack run by Gang-du.s father Hie-bong (Byoen Hie-bong), while simultaneously emphasizing the spatial separateness that is reflected by the family.s emotional divisions. Both of these gulfs are closed in short order by a horrific event, and that.s when the meat of The Host arrives on the scene.\n",
      "\n",
      "It.s a hell of an event, too: During the opening monster mash, Gang-du loses sight of where he.s going, stumbles and accidentally lets go of Hyun-seo.s hand. Just as he realizes his error, he turns to see Hyun-seo being swept up and carried away by the monster.s tail. \n",
      " Initially thinking her dead, the family is crushed. One night, though, Gang-du gets a call; the reception is full of static and the voice on the other end is difficult to hear, but it.s definitely Hyun-seo. Before her cell phone dies, she manages to get across that she.s alive in a sewer somewhere. The family then resolves to band together and save her... but first, they have to get out of quarantine. See, Gang-du got monster blood on him, and the monster might be carrying a new virus, so...\n",
      "\n",
      "As you can see, there.s a lot going on in The Host. I haven.t even touched upon the political dimensions present within the progression of the plot -- it was, after all, the order of an American soldier that caused the mutation in the first place, and as the crisis spins out further, there.s talk of direct intervention. Bong isn.t just indulging in America-bashing, though; the Korean government is consistently displayed as corrupt, inefficient, and incompetent (example: the scene where Gang-du and Hie-bong talk their way through a guard post using quick words, a stolen van, and a bucketful of change). The further along things go, the less willing anyone in charge is to admit mistakes, which leads to some unforeseen narrative complications. By the climactic showdown, the Park family appears to be the only hope for humanity - where the institutions fail, the family will persevere.\n",
      "\n",
      "Lest I lose sight of my target, though, I might as well confess that this is all thematic gravy and the foremost intent of The Host is to entertain. Bong succeeds in this aim grandly. He throws so many balls in the air that it seems inevitable that some will fall, and while a couple subplots go unresolved, on the whole Bong keeps an admirable balance. \n",
      " He.s also not afraid to puncture the creeping seriousness of the situation with absurd comedy, such as the mourning scene degenerating into a thrashing slugfest between Nam-il and Gang-du or the hazmat-suited soldier who, in the middle of Hie-bong.s vow of vengeance against the beast that assumedly killed his granddaughter and apropos of nothing, slips and falls.\n",
      "\n",
      "The action scenes are also well-handled. While nothing quite tops the jaw-dropping frisson of the monster.s introductory romp, Bong moves the film along at a crisp pace and keeps the tension at a rolling boil. Whether it.s Nam-il giving an impromptu demonstration of his escape artist skills, Nam-joo attempting to get off an arrow at the monster before it runs her over, or Hyen-seo struggling to sneak out of the monster.s lair without attracting attention, The Host keeps the excitement coming.\n",
      "\n",
      "It.s the finale, with its confrontation between an exhausted monster and a determined Park family, that drives home the true measure of Bong.s achievement. The mutant fish is a means, not an end. While it.s lots of fun to watch a big ugly something chow down, there needs to be something else down the line if a work of art is going to be more than a forgettable diversion. By not losing sight of the humanity of the situation, The Host succeeds in ways most genre efforts wouldn.t think to consider. \n",
      "Steve Carlson has been running his website The Ongoing Cinematic Education of... for over five years. He likes caffeine. And alcohol.\n",
      " ",
      "Notes\n",
      "\n",
      "\n",
      "\n",
      "The views expressed on blogs distributed by Newstex and its re-distributors (\"Blogs via Newstex\") are solely the author's and not necessarily the views of Newstex or its re-distributors. Posts from such authors are provided \"AS IS\", with no warranties, and confer no rights. The material and information provided in Blogs via Newstex are for general information only and should not, in any respect, be relied on as professional advice. No content on such Blogs via Newstex is \"read and approved\" before it is posted. Accordingly, neither Newstex nor its re-distributors make any claims, promises or guarantees about the accuracy, completeness, or adequacy of the information contained therein or linked to from such blogs, nor take responsibility for any aspect of such blog content. All content on Blogs via Newstex shall be construed as author-based content and commentary. Accordingly, no warranties or other guarantees will be offered as to the quality of the opinions, commentary or anything else offered on such Blogs via Newstex. Reader's comments reflect their individual opinion and their publication within Blogs via Newstex shall not infer or connote an endorsement by Newstex or its re-distributors of such reader's comments or views. Newstex and its re-distributors expressly reserve the right to delete posts and comments at its and their sole discretion.\n"
     ]
    }
   ],
   "source": [
    "print(body_text)"
   ]
  },
  {
   "cell_type": "code",
   "execution_count": 22,
   "metadata": {},
   "outputs": [],
   "source": [
    "# Extracting the body text of all docs with a for-loop:\n",
    "\n",
    "body_text_only = []\n",
    "\n",
    "for doc in docs:\n",
    "    body_start = doc.index('Body')+4\n",
    "    body_end = doc.index('Load-Date:')\n",
    "    \n",
    "    body_text = doc[body_start:body_end].strip()\n",
    "    body_text_only.append(body_text)"
   ]
  },
  {
   "cell_type": "code",
   "execution_count": 23,
   "metadata": {},
   "outputs": [
    {
     "data": {
      "text/plain": [
       "\"Last year saw the UK release of Gojira (Godzilla) in its original 1954 Japanese cut, revealing a subtextual depth and philosophical melancholy absent from the bastardised US version of this seminal creature-feature. The ghost of Gojira hangs heavy over The Host , in which South Korean wunderkind Bong Joon-ho unleashes a rampaging monster from the polluted waters of the River Han in the capital, Seoul.\\nLike its thematic predecessor, The Host was inspired by a real-life news story - the case of Albert McFarland, a US forces mortuary attendant in Korea, who was reported to have dumped toxic waste down a drain leading to the Han in July 2000. In Bong's typically off-kilter nightmare, a mutant is duly spawned which attacks local people, providing much eye-popping, monster-munching fun, alongside the usual baffling blend of tragicomic human interest.\\nAccording to Bong, the inspiration for The Host ranged from a childhood fascination with the Loch Ness monster to an admiration for M Night Shyamalan's Signs, an alien invasion thriller. 'My film is a kidnap movie,' says Bong, 'about a family trying to get their daughter back from a kidnapper who happens to be a monster.'\\nThis polymorphous approach to the genre is typical of a director who constantly leaves his audience uncertain whether to laugh, cry or scream - more often than not, the only answer is to do all three. This dual-disc DVD comes with umpteen scenes that were deleted from the final cut, storyboard footage, special-effects breakdowns and behind-the-scenes featurettes in which the cast and crew remember the stinking horrors of filming in the Han sewer system. Bong is gung-ho throughout, happy to get his hands dirty - and his shins bloody - as he throws himself into the production. Along with the weirdly wonderful Memories of Murder , this confirms Bong as a bona fide movie-making maestro.\""
      ]
     },
     "execution_count": 23,
     "metadata": {},
     "output_type": "execute_result"
    }
   ],
   "source": [
    "body_text_only[10]"
   ]
  },
  {
   "cell_type": "code",
   "execution_count": 24,
   "metadata": {},
   "outputs": [
    {
     "data": {
      "text/plain": [
       "\"MAGNOLIA\\nStreet: July 24\\nPrebook: June 26\\n> Unusual foreign mix of monster movie and family dramedy.\\nThe most successful and expensive Korean film ever produced received terrific reviews and brisk arthouse business in the U.S. And it's easy to see why, for this is not only a dazzling technical achievement but a surprisingly complex affair spiked with political satire and pathos that also happens to be quite funny. Think Jaws  meets Little Miss Sunshine , and you get an idea of what to expect from a movie wherein a teenage girl is wrested away from her family snack shop near the Han River by a gigantic amphibious creature. The girl's fractured family-which includes a slacker father and an aunt who happens to be an archery expert-has to put aside their differences to track her down before it's too late. At the same time, the government claims the beast is the product of a mysterious virus and begins putting citizens into quarantine, which puts a big crimp in the clan's rescue plans. Director Joon Ho-Bong (Memories of Murder ) does a miraculous job juggling all the seemingly disparate elements.\\nShelf Talk : Word-of-mouth is definitely in this title's favor, but it's up to retailers whether they want to market it as a foreign film. The precedent for the genre can be seen in such titles as Brotherhood of the Wolf  and such Asian imports as Oldboy  and the Ringu  films, so retailers may want to have The Host  follow in those films' footsteps.\\nHorror, R (mature themes, language, violence), 119 min.; DVD $26.99, Collector's Edition DVD $29.99, Collector's BD or HD $34.99\\nExtras: deleted scenes, commentary; Collector's Edition also has making-of featurettes, storyboards, gag reel, casting tapes\\nDirector: Joon Ho-Bong\\nFirst Run: L, March 2007, $2.1 mil.\""
      ]
     },
     "execution_count": 24,
     "metadata": {},
     "output_type": "execute_result"
    }
   ],
   "source": [
    "body_text_only[-1]"
   ]
  },
  {
   "cell_type": "code",
   "execution_count": 25,
   "metadata": {},
   "outputs": [
    {
     "data": {
      "text/plain": [
       "27"
      ]
     },
     "execution_count": 25,
     "metadata": {},
     "output_type": "execute_result"
    }
   ],
   "source": [
    "len(body_text_only)"
   ]
  },
  {
   "cell_type": "code",
   "execution_count": 48,
   "metadata": {},
   "outputs": [],
   "source": [
    "# Making a list of dictionaries for critic reviews of The Host:\n",
    "critic_reviews = []\n",
    "\n",
    "for rev in body_text_only:\n",
    "    rev_dict = {\n",
    "        'text' : rev\n",
    "    }\n",
    "    critic_reviews.append(rev_dict)"
   ]
  },
  {
   "cell_type": "code",
   "execution_count": 50,
   "metadata": {},
   "outputs": [
    {
     "data": {
      "text/plain": [
       "{'text': 'Mar. 9, 2007 (Blogcritics.org delivered by Newstex) -- \\n A nifty little monster movie with post-modernist touches that both add and detract from its effectiveness, writer-director Bong Joon-ho\\'s The Host gets right to the good stuff. After a quick introduction to Gang-du, who works at his family\\'s food stand (sort of a mini 7-Eleven), and his spunky young daughter Hyun-seo, the movie shifts immediately to a strange sight nearby, drawing a crowd to the bank of Seoul\\'s Han River: something is hanging off a bridge right in the middle of its span. \\n Suddenly, it drops into the water, swimming, and the excited crowd watches its approach. They start to throw food -- and cans of beer -- at the shape in the river. But when that shadow comes to the surface, the playful tone shifts, and the film quickly gets scary as hell: the shape is not the least bit friendly, and it immediately starts chasing, and eating, humans.\\n\\nThe Korean title translates as Creature, and indeed the creature is the single most accomplished thing in the movie: a co-creation of two special effects houses, The Orphanage (Harry Potter and the Goblet of Fire, Superman Returns) and Weta Workshop (The Lord of the Rings). This very frightening beast is part giant cockroach, part carnivorous tadpole, with the terrifying multiple fanged mouths of Alien\\'s alien, plus a really long tongue. Whenever It is on screen, or even threatening to appear, this is a splendidly effective scare picture.\\n\\nBut Bong Joon-ho has other things on his mind. The store-owning family members are a vivid group of eccentrics, and they become outlaws on the run after one of them is snatched by the creature and the authorities refuse to help them rescue her. The family escapes from the quarantine that has been imposed, and ventures out to find the monster\\'s lair. The American title, The Host, is ironic: the behavior of the police and the national health officials is handled with sometimes bitter satire, as they come to the conclusion that the creature has introduced a deadly new virus into the world. The authorities (and a mob of conformists following their orders) become co-villains in the story -- but they act out of blind stupidity, while the creature itself is only doing what comes naturally.\\n\\nIn its mix of superb film craft with sophomoric jokes, slapstick, shocking violence and sometimes satirical social commentary, The Host reminds me of another recent movie from Korea, Park Chan-wook\\'s Lady Vengeance. The disparate elements don\\'t always gel, and American genre fans expecting an ordinary sort of action picture are likely to be unhappy with some of the odd, and sad, plot twists -- but after seeing either The Host or Lady Vengeance, you know you\\'re in the presence of a major talent. (Both of these movies played at the New York Film Festival, and roused crowds accustomed to rather more sedate fare. Bong\\'s earlier film, Memories of Murder, available on DVD, is also a genre picture with downbeat twists, and it has some interesting similarities to, and differences from, the new film Zodiac.)\\n\\nThe photography and editing of The Host are top-notch. The Han River location is vividly evoked, and the chases that take place near -- and beneath -- the river bank are breathtakingly well done. The Park family\\'s journey isn\\'t very long geographically, but it takes on the nature of a heroic quest, even though as heroes they have their ups and downs. Gang-du\\'s sister Nam-joo (played by Bae Doo-na) is a champion archer (well, a bronze medalist) whose Achilles heel is being a little too&hellip; slow to let the arrow fly -- and this becomes a witty visual joke at various points in the movie. Their brother Nam-il (Park Hae-il) seems at first a worthless, belligerent young drunk, but he proves his worth as the adventure continues. Gang-du himself is a bit of a goofy, shiftless layabout, but as events give his life a grim purpose, actor Song Kang-ho skillfully transforms the character into a real hero of sorts. (Actors Park and Song were also in Memories of Murder.)\\n\\nThe plot is sometimes sketchy, unc onvincing, even silly, as is the satirical way the army and health officials are portrayed. But the movie has enough energy to ride over these faults. When the family\\'s quest takes a tragic turn, however, it feels like a miscalculation -- the tone has been mostly fast and smartass up to that point, and one may not know how to react to the jarring shift. This may be just what director Bong has in mind, however, being a bit of an absurdist, gleefully mixing the comic and the sad.\\n\\nSo you may or may not feel completely satisfied by the story itself. But if you\\'re a monster movie aficionado, this is a monster you won\\'t want to miss. And if you\\'re interested in the Asian movies that have been expanding and subverting genres, such as Lady Vengeance and Infernal Affairs (the Hong Kong film on which The Departed is based), Bong Joon-ho is a director to watch -- and The Host is a good place to start. \\nHandyguy (aka Randall Byrn) is a marketing director at a business magazine\\'s conference division in New York. A transplanted Southerner, he has been a movie buff since birth. He\\'s always secretly wanted to be Pauline Kael, and blogcritics gives him an approximation of that, or so he likes to fantasize at least. Handy has a film degree from USC.\\n\\u2028Notes\\n\\n\\n\\nThe views expressed on blogs distributed by Newstex and its re-distributors (\"Blogs via Newstex\") are solely the author\\'s and not necessarily the views of Newstex or its re-distributors. Posts from such authors are provided \"AS IS\", with no warranties, and confer no rights. The material and information provided in Blogs via Newstex are for general information only and should not, in any respect, be relied on as professional advice. No content on such Blogs via Newstex is \"read and approved\" before it is posted. Accordingly, neither Newstex nor its re-distributors make any claims, promises or guarantees about the accuracy, completeness, or adequacy of the information contained therein or linked to from such blogs, nor take responsibility for any aspect of such blog content. All content on Blogs via Newstex shall be construed as author-based content and commentary. Accordingly, no warranties or other guarantees will be offered as to the quality of the opinions, commentary or anything else offered on such Blogs via Newstex. Reader\\'s comments reflect their individual opinion and their publication within Blogs via Newstex shall not infer or connote an endorsement by Newstex or its re-distributors of such reader\\'s comments or views. Newstex and its re-distributors expressly reserve the right to delete posts and comments at its and their sole discretion.'}"
      ]
     },
     "execution_count": 50,
     "metadata": {},
     "output_type": "execute_result"
    }
   ],
   "source": [
    "critic_reviews[1]"
   ]
  },
  {
   "cell_type": "code",
   "execution_count": 51,
   "metadata": {},
   "outputs": [],
   "source": [
    "# Saving this out as a json file:\n",
    "with open('../data/critic_reviews/nexis_host_critic.json','w', encoding='UTF-8') as out:\n",
    "    out.write(json.dumps(critic_reviews))"
   ]
  },
  {
   "cell_type": "markdown",
   "metadata": {},
   "source": [
    "## Conclusion\n",
    "\n",
    "Since I have finished cleaning, organizing, and extracting text from these critic reviews, let's move on to doing the same process for that of _Parasite_ ! This will occur in the next notebook titled `nexis_parasite_critic`. See you there!"
   ]
  },
  {
   "cell_type": "code",
   "execution_count": null,
   "metadata": {},
   "outputs": [],
   "source": []
  }
 ],
 "metadata": {
  "kernelspec": {
   "display_name": "Python 3",
   "language": "python",
   "name": "python3"
  },
  "language_info": {
   "codemirror_mode": {
    "name": "ipython",
    "version": 3
   },
   "file_extension": ".py",
   "mimetype": "text/x-python",
   "name": "python",
   "nbconvert_exporter": "python",
   "pygments_lexer": "ipython3",
   "version": "3.7.3"
  }
 },
 "nbformat": 4,
 "nbformat_minor": 2
}
