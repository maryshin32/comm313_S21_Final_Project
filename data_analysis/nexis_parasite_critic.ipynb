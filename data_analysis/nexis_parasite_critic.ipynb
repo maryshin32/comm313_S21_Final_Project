{
 "cells": [
  {
   "cell_type": "markdown",
   "metadata": {},
   "source": [
    "# Collecting corpus from nexis uni on critic reviews of _Parasite_\n",
    "\n",
    "In this notebook, similar to the structure of the notebook titled `nexis_host_critic`, I am going to be cleaning and organizing the text files of _Parasite_ critic reviews that I got by searching on LexisNexis. The search criteria I used to gather these critic reviews was searching for: **title('parasite') and movie and review and bong** \n",
    "\n",
    "I used the `title` to look up reviews across news and magazine articles, and blogs, that are primarily about 'parasite', used `movie` so that the search results would convey movie reviews, used `review` so that the results would actually be reviews, instead of summaries or listicles of top movies (articles that are not actually movie reviews), and `bong` to return results about the correct movie (by Director Bong Joon Ho). \n",
    "\n",
    "Based on my search criteria, I got 268 results. This is many more reviews than the 27 search results I got for critic reviews of _The Host_ through NexisUni.  \n",
    "\n",
    "Once I collect, clean, and organize the raw text data from the Nexis Uni search results, I will carry out textual analysis (frequency, sentiment analysis) on the data in a separate notebook in this folder, titled `analysis_critic_nexis`. "
   ]
  },
  {
   "cell_type": "code",
   "execution_count": 48,
   "metadata": {},
   "outputs": [],
   "source": [
    "from collections import Counter\n",
    "import string\n",
    "import os\n",
    "import json"
   ]
  },
  {
   "cell_type": "code",
   "execution_count": 49,
   "metadata": {},
   "outputs": [],
   "source": [
    "%run functions.ipynb"
   ]
  },
  {
   "cell_type": "code",
   "execution_count": 50,
   "metadata": {},
   "outputs": [],
   "source": [
    "chars_to_strip = '.,!?\"\";'"
   ]
  },
  {
   "cell_type": "code",
   "execution_count": 51,
   "metadata": {},
   "outputs": [],
   "source": [
    "# Opening up the raw text files with downloaded documents from LexisNexis:\n",
    "raw_text1 = open('../data/critic_reviews/nexis_parasite_critic1.txt').read()\n",
    "raw_text2 = open('../data/critic_reviews/nexis_parasite_critic2.txt').read()\n",
    "raw_text3 = open('../data/critic_reviews/nexis_parasite_critic3.txt').read()"
   ]
  },
  {
   "cell_type": "code",
   "execution_count": 52,
   "metadata": {},
   "outputs": [
    {
     "data": {
      "text/plain": [
       "1633950"
      ]
     },
     "execution_count": 52,
     "metadata": {},
     "output_type": "execute_result"
    }
   ],
   "source": [
    "# How many total characters in our raw text files:\n",
    "\n",
    "len(raw_text1) + len(raw_text2) + len(raw_text3)"
   ]
  },
  {
   "cell_type": "code",
   "execution_count": 53,
   "metadata": {},
   "outputs": [
    {
     "name": "stdout",
     "output_type": "stream",
     "text": [
      "Oscars 2020: What Movies Has #8216;Parasite' Director Bong Joon-ho Made?\n",
      "Newstex Blogs \n",
      "The Cheat Sheet\n",
      "January 27, 2020 Monday 12:05 AM EST\n",
      "\n",
      " ",
      "Copyright 2020 Newstex LLC All Rights Reserved\n",
      "Length: 1178 words\n",
      "Byline: Robert Yaniz Jr.\n",
      "Body\n",
      "\n",
      "\n",
      "\n",
      "\n",
      "Jan 27, 2020( The Cheat Sheet: http://www.cheatsheet.com/ Delivered by Newstex)  Parasite[1] is taking Hollywood by storm[2] this award season. In fact, the South Korean release is gearing up as a Best Picture frontrunner[3] heading into Oscars 2020. Director Bong Joon-ho's latest film defies genre to tell a complex story about two interconnected families and, by extension, delivers some crucial social commentary[4].With Parasite#8216;s success, we're sure moviegoers will be interested to see some of Bong's previous work. Prior to his Oscar-nominated hit[5], the director had made six films. Here's a quick breakdown of the features he has directed throughout his career. \n",
      " Bong Joon-ho and the cast of #8216;Parasite' at the Screen ActorsGuild Awards | John Sciulli/Getty Images for Turner#8216;Barking Dogs Never Bite' (2000)Barking Dogs Never Bite (Trailer)[6]In his 2000 directorial debut, Bong already aimed to combine genres in an innovative way. This dark comedy-drama follows an unemployed college professor (Lee Sung-jae) who begins abusing and kidnapping dogs the barking dogs in his apartment building. At the same time, a young woman (Bae Doona) takes note of his activities, launching an investigation into the surge of missing dogs. Despite its bizarre-sounding premise, Barking Dogs Never Bite gave Bong the chance to try his hand at directing a feature. Prior to this film, the [7]Parasite[8] filmmaker[9] had only directed three short films. However, he previously earned writing credits on 1997's Motel Cactus and 1999's Phantom: The Submarine. #8216;Memories of Murder' (2003)Memories of Murder (2003) - movie trailer[10]In his 2003 sophomore effort, Bong landed his first collaboration with Song Kang-ho. The actor delivers a critically acclaimed standout performance in [11]Parasite[12]. Song has sustained an ongoing collaboration with Bong over the course of both their careers.In Memories of Murder, the actor andKim Sang-kyung play two detectives trying to solve the real-life case of Korea's first serial murders. The investigation continued from 1986 to 1991, and the film — based on a 1996 play — earned strong reviews for its depiction and performances. #8216;The Host' (2006)The Host (2006) #8212; Trailer[13]Memories of Murder gained Bong international acclaim. But The Host solidified him as a commercially successful filmmaker. The film follows a man's (Song) effort to rescue his daughter after she is kidnapped by a giant monster.At the time of its release, The Host became the highest-grossing South Korean movie of all time. Although mainstream success in the United States eluded Bong, this film was a critical step in establishing his reputation for offbeat, inventive genre projects.  #8216;Mother' (2009)Mother Official HD Trailer - From the Director of THE HOST[14]No, this one has nothing to do with either the 1996 Albert Brooks film or the 2017 Darren Aronofsky release[15]. Rather, this Mother follows a mother's (Kim Hye-ja) search for the killer responsible for framing her son (Won Bin) for murder.It might not have received as much attention stateside as some of Bong's other films. However, Mother was still a critical smash in South Korea and beloved by critics. As has become Bong's trademark, the movie expertly combines a number of genres, including family drama, horror, and comedy. #8216;Snowpiercer' (2013)Snowpiercer Official US Release Trailer #1 (2014) - Chris Evans Movie HD[16]Bong made his English-language directorial debut with this dystopian sci-fi thriller. Led by Chris Evans, the film features an all-star cast that includes Tilda Swinton, Octavia Spencer, Jamie Bell, John Hurt, Ed Harris, and — of course — Song. It's also the most expensive Korean production in history.Snowpiercer is set aboard the titular train, which carries the last remnants of the human race. The film tackles key issues such as climate change but does so in a way that never fails to be thrilling. In fact, its success — much like that of [17]Parasite[18] — has inspired a new TV series[19]. #8216;Okja' (2017)Okja | Official Trailer [HD] | Netflix[20]This Netflix film might be a lot of moviegoers' first exposure to Bong. Part of that comes from its accessibility on the streaming service. Yet, Okja — Bong's second consecutive English-language release[21] — is just as much in line with his distinctive sensibility as his other films.The movie centers on a genetically modified creature named Okja, its friendship with a young girl (Ahn Seo-hyun), and her efforts to protect it. Okja also features an international cast which combines South Korean performers with stars like Jake Gyllenhaal, Paul Dano, and Swinton.  Read the original article from The Cheat Sheet[22] [ 1]: https://www.cheatsheet.com/\n"
     ]
    }
   ],
   "source": [
    "# get a sneak peak of the text data:\n",
    "print(raw_text1[:5000])"
   ]
  },
  {
   "cell_type": "markdown",
   "metadata": {},
   "source": [
    "## Processing the text:\n",
    "\n",
    "Now I will work on processing the text! Right now, the 3 text files constitute the 264 documents I downloaded from Nexis Uni. I want to split the text by each document to create a list of docs, then I can combine all the docs in my 3 files into one giant list of reviews. \n",
    "\n",
    "My goal here is to clean each document and organize the data so that I can save out a new json file which I can work with for frequency and sentiment analysis!\n",
    "\n",
    "The first step is to pre-process the text - Splitting the text by each document:"
   ]
  },
  {
   "cell_type": "code",
   "execution_count": 54,
   "metadata": {},
   "outputs": [],
   "source": [
    "# Splitting the docs:\n",
    "docs1 = raw_text1.split('End of Document')\n",
    "docs2 = raw_text2.split('End of Document')\n",
    "docs3 = raw_text3.split('End of Document')"
   ]
  },
  {
   "cell_type": "code",
   "execution_count": 55,
   "metadata": {},
   "outputs": [
    {
     "data": {
      "text/plain": [
       "264"
      ]
     },
     "execution_count": 55,
     "metadata": {},
     "output_type": "execute_result"
    }
   ],
   "source": [
    "len(docs1) + len(docs2) + len(docs3)"
   ]
  },
  {
   "cell_type": "code",
   "execution_count": 56,
   "metadata": {},
   "outputs": [
    {
     "data": {
      "text/plain": [
       "'\\n'"
      ]
     },
     "execution_count": 56,
     "metadata": {},
     "output_type": "execute_result"
    }
   ],
   "source": [
    "docs1[-1]"
   ]
  },
  {
   "cell_type": "code",
   "execution_count": 57,
   "metadata": {},
   "outputs": [
    {
     "data": {
      "text/plain": [
       "'\\n'"
      ]
     },
     "execution_count": 57,
     "metadata": {},
     "output_type": "execute_result"
    }
   ],
   "source": [
    "docs2[-1]"
   ]
  },
  {
   "cell_type": "code",
   "execution_count": 58,
   "metadata": {},
   "outputs": [
    {
     "data": {
      "text/plain": [
       "'\\n'"
      ]
     },
     "execution_count": 58,
     "metadata": {},
     "output_type": "execute_result"
    }
   ],
   "source": [
    "docs3[-1]"
   ]
  },
  {
   "cell_type": "code",
   "execution_count": 59,
   "metadata": {},
   "outputs": [],
   "source": [
    "docs1 = docs1[:-1]\n",
    "docs2 = docs2[:-1]\n",
    "docs3 = docs3[:-1]"
   ]
  },
  {
   "cell_type": "code",
   "execution_count": 60,
   "metadata": {},
   "outputs": [],
   "source": [
    "# Combining the text files into one list:\n",
    "\n",
    "docs = []\n",
    "\n",
    "for doc in docs1:\n",
    "    docs.append(doc)\n",
    "    \n",
    "for doc in docs2:\n",
    "    docs.append(doc)\n",
    "    \n",
    "for doc in docs3:\n",
    "    docs.append(doc)"
   ]
  },
  {
   "cell_type": "code",
   "execution_count": 61,
   "metadata": {},
   "outputs": [
    {
     "data": {
      "text/plain": [
       "261"
      ]
     },
     "execution_count": 61,
     "metadata": {},
     "output_type": "execute_result"
    }
   ],
   "source": [
    "# Making sure I have 264 docs:\n",
    "len(docs)"
   ]
  },
  {
   "cell_type": "code",
   "execution_count": 44,
   "metadata": {},
   "outputs": [
    {
     "data": {
      "text/plain": [
       "\"Oscars 2020: What Movies Has #8216;Parasite' Director Bong Joon-ho Made?\\nNewstex Blogs \\nThe Cheat Sheet\\nJanuary 27, 2020 Monday 12:05 AM EST\\n\\n\\u2028Copyright 2020 Newstex LLC All Rights Reserved\\nLength:\\xa01178 words\\nByline:\\xa0Robert Yaniz Jr.\\nBody\\n\\n\\n\\n\\nJan 27, 2020( The Cheat Sheet: http://www.cheatsheet.com/ Delivered by Newstex)  Parasite[1] is taking Hollywood by storm[2] this award season. In fact, the South Korean release is gearing up as a Best Picture frontrunner[3] heading into Oscars 2020. Director Bong Joon-ho's latest film defies genre to tell a complex story about two interconnected families and, by extension, delivers some crucial social commentary[4].With Parasite#8216;s success, we're sure moviegoers will be interested to see some of Bong's previous work. Prior to his Oscar-nominated hit[5], the director had made six films. Here's a quick breakdown of the features he has directed throughout his career. \\n Bong Joon-ho and the cast of #8216;Parasite' at the Screen ActorsGuild Awards | John Sciulli/Getty Images for Turner#8216;Barking Dogs Never Bite' (2000)Barking Dogs Never Bite (Trailer)[6]In his 2000 directorial debut, Bong already aimed to combine genres in an innovative way. This dark comedy-drama follows an unemployed college professor (Lee Sung-jae) who begins abusing and kidnapping dogs the barking dogs in his apartment building. At the same time, a young woman (Bae Doona) takes note of his activities, launching an investigation into the surge of missing dogs. Despite its bizarre-sounding premise, Barking Dogs Never Bite gave Bong the chance to try his hand at directing a feature. Prior to this film, the [7]Parasite[8] filmmaker[9] had only directed three short films. However, he previously earned writing credits on 1997's Motel Cactus and 1999's Phantom: The Submarine. #8216;Memories of Murder' (2003)Memories of Murder (2003) - movie trailer[10]In his 2003 sophomore effort, Bong landed his first collaboration with Song Kang-ho. The actor delivers a critically acclaimed standout performance in [11]Parasite[12]. Song has sustained an ongoing collaboration with Bong over the course of both their careers.In Memories of Murder, the actor andKim Sang-kyung play two detectives trying to solve the real-life case of Korea's first serial murders. The investigation continued from 1986 to 1991, and the film — based on a 1996 play — earned strong reviews for its depiction and performances. #8216;The Host' (2006)The Host (2006) #8212; Trailer[13]Memories of Murder gained Bong international acclaim. But The Host solidified him as a commercially successful filmmaker. The film follows a man's (Song) effort to rescue his daughter after she is kidnapped by a giant monster.At the time of its release, The Host became the highest-grossing South Korean movie of all time. Although mainstream success in the United States eluded Bong, this film was a critical step in establishing his reputation for offbeat, inventive genre projects.  #8216;Mother' (2009)Mother Official HD Trailer - From the Director of THE HOST[14]No, this one has nothing to do with either the 1996 Albert Brooks film or the 2017 Darren Aronofsky release[15]. Rather, this Mother follows a mother's (Kim Hye-ja) search for the killer responsible for framing her son (Won Bin) for murder.It might not have received as much attention stateside as some of Bong's other films. However, Mother was still a critical smash in South Korea and beloved by critics. As has become Bong's trademark, the movie expertly combines a number of genres, including family drama, horror, and comedy. #8216;Snowpiercer' (2013)Snowpiercer Official US Release Trailer #1 (2014) - Chris Evans Movie HD[16]Bong made his English-language directorial debut with this dystopian sci-fi thriller. Led by Chris Evans, the film features an all-star cast that includes Tilda Swinton, Octavia Spencer, Jamie Bell, John Hurt, Ed Harris, and — of course — Song. It's also the most expensive Korean production in history.Snowpiercer is set aboard the titular train, which carries the last remnants of the human race. The film tackles key issues such as climate change but does so in a way that never fails to be thrilling. In fact, its success — much like that of [17]Parasite[18] — has inspired a new TV series[19]. #8216;Okja' (2017)Okja | Official Trailer [HD] | Netflix[20]This Netflix film might be a lot of moviegoers' first exposure to Bong. Part of that comes from its accessibility on the streaming service. Yet, Okja — Bong's second consecutive English-language release[21] — is just as much in line with his distinctive sensibility as his other films.The movie centers on a genetically modified creature named Okja, its friendship with a young girl (Ahn Seo-hyun), and her efforts to protect it. Okja also features an international cast which combines South Korean performers with stars like Jake Gyllenhaal, Paul Dano, and Swinton.  Read the original article from The Cheat Sheet[22] [ 1]: https://www.cheatsheet.com/entertainment/parasite-is-the-oscar-nominated-film-based-on-a-true-story.html/ [ 2]:       \\xa0    https://www.cheatsheet.com/entertainment/parasite-is-the-oscar-nominated-film-based-on-a-true-story.html/ [ 3]:       \\xa0    https://www.cheatsheet.com/entertainment/oscars-2020-does-its-historic-sag-win-make-parasite-a-lock-for-best-picture.html/ [ 4]:       \\xa0    https://www.vulture.com/2020/01/parasite-ending-explained-by-bong-joon-ho.html [ 5]:       \\xa0    https://www.cheatsheet.com/entertainment/parasite-makes-history-with-2020-oscar-nominations-best-picture.html/ [ 6]:       \\xa0    https://www.youtube.com/embed/ezx9nKqqmbE?feature=oembed [ 7]:       \\xa0    https://www.cheatsheet.com/entertainment/golden-globe-winning-director-of-parasite-praises-bts.html/ [ 8]:       \\xa0    https://www.cheatsheet.com/entertainment/golden-globe-winning-director-of-parasite-praises-bts.html/ [ 9]:       \\xa0    https://www.cheatsheet.com/entertainment/golden-globe-winning-director-of-parasite-praises-bts.html/ [ 10]:       \\xa0    https://www.youtube.com/embed/dTnyhLywdJc?feature=oembed [ 11]:       \\xa0    https://www.cheatsheet.com/entertainment/beyond-fest-review-parasite-peachy-con.html/ [ 12]:       \\xa0    https://www.cheatsheet.com/entertainment/beyond-fest-review-parasite-peachy-con.html/ [ 13]:       \\xa0    https://www.youtube.com/embed/1HRTy26s4hw?feature=oembed [ 14]:       \\xa0    https://www.youtube.com/embed/0oBwQHWeYxo?feature=oembed [ 15]:       \\xa0    https://www.cheatsheet.com/entertainment/is-jennifer-lawrences-mother-amazing-or-terrible.html/ [ 16]:       \\xa0    https://www.youtube.com/embed/nX5PwfEMBM0?feature=oembed [ 17]:       \\xa0    https://www.cheatsheet.com/entertainment/bong-joon-hos-parasite-slated-for-hbo-show-what-we-know.html/ [ 18]:       \\xa0    https://www.cheatsheet.com/entertainment/bong-joon-hos-parasite-slated-for-hbo-show-what-we-know.html/ [ 19]:       \\xa0    https://www.cheatsheet.com/entertainment/snowpiercer-the-surprising-way-it-reminded-daveed-diggs-of-hamilton.html/ [ 20]:       \\xa0    https://www.youtube.com/embed/AjCebKn4iic?feature=oembed [ 21]:       \\xa0    https://www.cheatsheet.com/entertainment/snowpiercer-director-will-make-a-netflix-monster-movie.html/ [ 22]:       \\xa0    https://www.cheatsheet.com/entertainment/oscars-2020-what-movies-has-parasite-director-bong-joon-ho-made.html/ \\n\\u2028Load-Date:\\xa0January 26, 2020\\n\\n\\u2028\\n\\n\""
      ]
     },
     "execution_count": 44,
     "metadata": {},
     "output_type": "execute_result"
    }
   ],
   "source": [
    "# Looking at the first doc in my list:\n",
    "docs[0]"
   ]
  },
  {
   "cell_type": "markdown",
   "metadata": {},
   "source": [
    "We have successfully made a list with the documents I downloaded. Now in order to get into analyzing these critic reviews of _Parasite_ , I am going to write each document in our list to a separate file:"
   ]
  },
  {
   "cell_type": "code",
   "execution_count": 62,
   "metadata": {},
   "outputs": [
    {
     "name": "stdout",
     "output_type": "stream",
     "text": [
      "Creating ../data/critic_reviews/sep_docs/nexis_parasite_critic001.txt\n",
      "Creating ../data/critic_reviews/sep_docs/nexis_parasite_critic002.txt\n",
      "Creating ../data/critic_reviews/sep_docs/nexis_parasite_critic003.txt\n",
      "Creating ../data/critic_reviews/sep_docs/nexis_parasite_critic004.txt\n",
      "Creating ../data/critic_reviews/sep_docs/nexis_parasite_critic005.txt\n",
      "Creating ../data/critic_reviews/sep_docs/nexis_parasite_critic006.txt\n",
      "Creating ../data/critic_reviews/sep_docs/nexis_parasite_critic007.txt\n",
      "Creating ../data/critic_reviews/sep_docs/nexis_parasite_critic008.txt\n",
      "Creating ../data/critic_reviews/sep_docs/nexis_parasite_critic009.txt\n",
      "Creating ../data/critic_reviews/sep_docs/nexis_parasite_critic010.txt\n",
      "Creating ../data/critic_reviews/sep_docs/nexis_parasite_critic011.txt\n",
      "Creating ../data/critic_reviews/sep_docs/nexis_parasite_critic012.txt\n",
      "Creating ../data/critic_reviews/sep_docs/nexis_parasite_critic013.txt\n",
      "Creating ../data/critic_reviews/sep_docs/nexis_parasite_critic014.txt\n",
      "Creating ../data/critic_reviews/sep_docs/nexis_parasite_critic015.txt\n",
      "Creating ../data/critic_reviews/sep_docs/nexis_parasite_critic016.txt\n",
      "Creating ../data/critic_reviews/sep_docs/nexis_parasite_critic017.txt\n",
      "Creating ../data/critic_reviews/sep_docs/nexis_parasite_critic018.txt\n",
      "Creating ../data/critic_reviews/sep_docs/nexis_parasite_critic019.txt\n",
      "Creating ../data/critic_reviews/sep_docs/nexis_parasite_critic020.txt\n",
      "Creating ../data/critic_reviews/sep_docs/nexis_parasite_critic021.txt\n",
      "Creating ../data/critic_reviews/sep_docs/nexis_parasite_critic022.txt\n",
      "Creating ../data/critic_reviews/sep_docs/nexis_parasite_critic023.txt\n",
      "Creating ../data/critic_reviews/sep_docs/nexis_parasite_critic024.txt\n",
      "Creating ../data/critic_reviews/sep_docs/nexis_parasite_critic025.txt\n",
      "Creating ../data/critic_reviews/sep_docs/nexis_parasite_critic026.txt\n",
      "Creating ../data/critic_reviews/sep_docs/nexis_parasite_critic027.txt\n",
      "Creating ../data/critic_reviews/sep_docs/nexis_parasite_critic028.txt\n",
      "Creating ../data/critic_reviews/sep_docs/nexis_parasite_critic029.txt\n",
      "Creating ../data/critic_reviews/sep_docs/nexis_parasite_critic030.txt\n",
      "Creating ../data/critic_reviews/sep_docs/nexis_parasite_critic031.txt\n",
      "Creating ../data/critic_reviews/sep_docs/nexis_parasite_critic032.txt\n",
      "Creating ../data/critic_reviews/sep_docs/nexis_parasite_critic033.txt\n",
      "Creating ../data/critic_reviews/sep_docs/nexis_parasite_critic034.txt\n",
      "Creating ../data/critic_reviews/sep_docs/nexis_parasite_critic035.txt\n",
      "Creating ../data/critic_reviews/sep_docs/nexis_parasite_critic036.txt\n",
      "Creating ../data/critic_reviews/sep_docs/nexis_parasite_critic037.txt\n",
      "Creating ../data/critic_reviews/sep_docs/nexis_parasite_critic038.txt\n",
      "Creating ../data/critic_reviews/sep_docs/nexis_parasite_critic039.txt\n",
      "Creating ../data/critic_reviews/sep_docs/nexis_parasite_critic040.txt\n",
      "Creating ../data/critic_reviews/sep_docs/nexis_parasite_critic041.txt\n",
      "Creating ../data/critic_reviews/sep_docs/nexis_parasite_critic042.txt\n",
      "Creating ../data/critic_reviews/sep_docs/nexis_parasite_critic043.txt\n",
      "Creating ../data/critic_reviews/sep_docs/nexis_parasite_critic044.txt\n",
      "Creating ../data/critic_reviews/sep_docs/nexis_parasite_critic045.txt\n",
      "Creating ../data/critic_reviews/sep_docs/nexis_parasite_critic046.txt\n",
      "Creating ../data/critic_reviews/sep_docs/nexis_parasite_critic047.txt\n",
      "Creating ../data/critic_reviews/sep_docs/nexis_parasite_critic048.txt\n",
      "Creating ../data/critic_reviews/sep_docs/nexis_parasite_critic049.txt\n",
      "Creating ../data/critic_reviews/sep_docs/nexis_parasite_critic050.txt\n",
      "Creating ../data/critic_reviews/sep_docs/nexis_parasite_critic051.txt\n",
      "Creating ../data/critic_reviews/sep_docs/nexis_parasite_critic052.txt\n",
      "Creating ../data/critic_reviews/sep_docs/nexis_parasite_critic053.txt\n",
      "Creating ../data/critic_reviews/sep_docs/nexis_parasite_critic054.txt\n",
      "Creating ../data/critic_reviews/sep_docs/nexis_parasite_critic055.txt\n",
      "Creating ../data/critic_reviews/sep_docs/nexis_parasite_critic056.txt\n",
      "Creating ../data/critic_reviews/sep_docs/nexis_parasite_critic057.txt\n",
      "Creating ../data/critic_reviews/sep_docs/nexis_parasite_critic058.txt\n",
      "Creating ../data/critic_reviews/sep_docs/nexis_parasite_critic059.txt\n",
      "Creating ../data/critic_reviews/sep_docs/nexis_parasite_critic060.txt\n",
      "Creating ../data/critic_reviews/sep_docs/nexis_parasite_critic061.txt\n",
      "Creating ../data/critic_reviews/sep_docs/nexis_parasite_critic062.txt\n",
      "Creating ../data/critic_reviews/sep_docs/nexis_parasite_critic063.txt\n",
      "Creating ../data/critic_reviews/sep_docs/nexis_parasite_critic064.txt\n",
      "Creating ../data/critic_reviews/sep_docs/nexis_parasite_critic065.txt\n",
      "Creating ../data/critic_reviews/sep_docs/nexis_parasite_critic066.txt\n",
      "Creating ../data/critic_reviews/sep_docs/nexis_parasite_critic067.txt\n",
      "Creating ../data/critic_reviews/sep_docs/nexis_parasite_critic068.txt\n",
      "Creating ../data/critic_reviews/sep_docs/nexis_parasite_critic069.txt\n",
      "Creating ../data/critic_reviews/sep_docs/nexis_parasite_critic070.txt\n",
      "Creating ../data/critic_reviews/sep_docs/nexis_parasite_critic071.txt\n",
      "Creating ../data/critic_reviews/sep_docs/nexis_parasite_critic072.txt\n",
      "Creating ../data/critic_reviews/sep_docs/nexis_parasite_critic073.txt\n",
      "Creating ../data/critic_reviews/sep_docs/nexis_parasite_critic074.txt\n",
      "Creating ../data/critic_reviews/sep_docs/nexis_parasite_critic075.txt\n",
      "Creating ../data/critic_reviews/sep_docs/nexis_parasite_critic076.txt\n",
      "Creating ../data/critic_reviews/sep_docs/nexis_parasite_critic077.txt\n",
      "Creating ../data/critic_reviews/sep_docs/nexis_parasite_critic078.txt\n",
      "Creating ../data/critic_reviews/sep_docs/nexis_parasite_critic079.txt\n",
      "Creating ../data/critic_reviews/sep_docs/nexis_parasite_critic080.txt\n",
      "Creating ../data/critic_reviews/sep_docs/nexis_parasite_critic081.txt\n",
      "Creating ../data/critic_reviews/sep_docs/nexis_parasite_critic082.txt\n",
      "Creating ../data/critic_reviews/sep_docs/nexis_parasite_critic083.txt\n",
      "Creating ../data/critic_reviews/sep_docs/nexis_parasite_critic084.txt\n",
      "Creating ../data/critic_reviews/sep_docs/nexis_parasite_critic085.txt\n",
      "Creating ../data/critic_reviews/sep_docs/nexis_parasite_critic086.txt\n",
      "Creating ../data/critic_reviews/sep_docs/nexis_parasite_critic087.txt\n",
      "Creating ../data/critic_reviews/sep_docs/nexis_parasite_critic088.txt\n",
      "Creating ../data/critic_reviews/sep_docs/nexis_parasite_critic089.txt\n",
      "Creating ../data/critic_reviews/sep_docs/nexis_parasite_critic090.txt\n",
      "Creating ../data/critic_reviews/sep_docs/nexis_parasite_critic091.txt\n",
      "Creating ../data/critic_reviews/sep_docs/nexis_parasite_critic092.txt\n",
      "Creating ../data/critic_reviews/sep_docs/nexis_parasite_critic093.txt\n",
      "Creating ../data/critic_reviews/sep_docs/nexis_parasite_critic094.txt\n",
      "Creating ../data/critic_reviews/sep_docs/nexis_parasite_critic095.txt\n",
      "Creating ../data/critic_reviews/sep_docs/nexis_parasite_critic096.txt\n",
      "Creating ../data/critic_reviews/sep_docs/nexis_parasite_critic097.txt\n",
      "Creating ../data/critic_reviews/sep_docs/nexis_parasite_critic098.txt\n",
      "Creating ../data/critic_reviews/sep_docs/nexis_parasite_critic099.txt\n",
      "Creating ../data/critic_reviews/sep_docs/nexis_parasite_critic100.txt\n",
      "Creating ../data/critic_reviews/sep_docs/nexis_parasite_critic101.txt\n",
      "Creating ../data/critic_reviews/sep_docs/nexis_parasite_critic102.txt\n",
      "Creating ../data/critic_reviews/sep_docs/nexis_parasite_critic103.txt\n",
      "Creating ../data/critic_reviews/sep_docs/nexis_parasite_critic104.txt\n",
      "Creating ../data/critic_reviews/sep_docs/nexis_parasite_critic105.txt\n",
      "Creating ../data/critic_reviews/sep_docs/nexis_parasite_critic106.txt\n",
      "Creating ../data/critic_reviews/sep_docs/nexis_parasite_critic107.txt\n",
      "Creating ../data/critic_reviews/sep_docs/nexis_parasite_critic108.txt\n",
      "Creating ../data/critic_reviews/sep_docs/nexis_parasite_critic109.txt\n",
      "Creating ../data/critic_reviews/sep_docs/nexis_parasite_critic110.txt\n",
      "Creating ../data/critic_reviews/sep_docs/nexis_parasite_critic111.txt\n",
      "Creating ../data/critic_reviews/sep_docs/nexis_parasite_critic112.txt\n",
      "Creating ../data/critic_reviews/sep_docs/nexis_parasite_critic113.txt\n",
      "Creating ../data/critic_reviews/sep_docs/nexis_parasite_critic114.txt\n",
      "Creating ../data/critic_reviews/sep_docs/nexis_parasite_critic115.txt\n",
      "Creating ../data/critic_reviews/sep_docs/nexis_parasite_critic116.txt\n",
      "Creating ../data/critic_reviews/sep_docs/nexis_parasite_critic117.txt\n",
      "Creating ../data/critic_reviews/sep_docs/nexis_parasite_critic118.txt\n",
      "Creating ../data/critic_reviews/sep_docs/nexis_parasite_critic119.txt\n",
      "Creating ../data/critic_reviews/sep_docs/nexis_parasite_critic120.txt\n",
      "Creating ../data/critic_reviews/sep_docs/nexis_parasite_critic121.txt\n",
      "Creating ../data/critic_reviews/sep_docs/nexis_parasite_critic122.txt\n"
     ]
    },
    {
     "name": "stdout",
     "output_type": "stream",
     "text": [
      "Creating ../data/critic_reviews/sep_docs/nexis_parasite_critic123.txt\n",
      "Creating ../data/critic_reviews/sep_docs/nexis_parasite_critic124.txt\n",
      "Creating ../data/critic_reviews/sep_docs/nexis_parasite_critic125.txt\n",
      "Creating ../data/critic_reviews/sep_docs/nexis_parasite_critic126.txt\n",
      "Creating ../data/critic_reviews/sep_docs/nexis_parasite_critic127.txt\n",
      "Creating ../data/critic_reviews/sep_docs/nexis_parasite_critic128.txt\n",
      "Creating ../data/critic_reviews/sep_docs/nexis_parasite_critic129.txt\n",
      "Creating ../data/critic_reviews/sep_docs/nexis_parasite_critic130.txt\n",
      "Creating ../data/critic_reviews/sep_docs/nexis_parasite_critic131.txt\n",
      "Creating ../data/critic_reviews/sep_docs/nexis_parasite_critic132.txt\n",
      "Creating ../data/critic_reviews/sep_docs/nexis_parasite_critic133.txt\n",
      "Creating ../data/critic_reviews/sep_docs/nexis_parasite_critic134.txt\n",
      "Creating ../data/critic_reviews/sep_docs/nexis_parasite_critic135.txt\n",
      "Creating ../data/critic_reviews/sep_docs/nexis_parasite_critic136.txt\n",
      "Creating ../data/critic_reviews/sep_docs/nexis_parasite_critic137.txt\n",
      "Creating ../data/critic_reviews/sep_docs/nexis_parasite_critic138.txt\n",
      "Creating ../data/critic_reviews/sep_docs/nexis_parasite_critic139.txt\n",
      "Creating ../data/critic_reviews/sep_docs/nexis_parasite_critic140.txt\n",
      "Creating ../data/critic_reviews/sep_docs/nexis_parasite_critic141.txt\n",
      "Creating ../data/critic_reviews/sep_docs/nexis_parasite_critic142.txt\n",
      "Creating ../data/critic_reviews/sep_docs/nexis_parasite_critic143.txt\n",
      "Creating ../data/critic_reviews/sep_docs/nexis_parasite_critic144.txt\n",
      "Creating ../data/critic_reviews/sep_docs/nexis_parasite_critic145.txt\n",
      "Creating ../data/critic_reviews/sep_docs/nexis_parasite_critic146.txt\n",
      "Creating ../data/critic_reviews/sep_docs/nexis_parasite_critic147.txt\n",
      "Creating ../data/critic_reviews/sep_docs/nexis_parasite_critic148.txt\n",
      "Creating ../data/critic_reviews/sep_docs/nexis_parasite_critic149.txt\n",
      "Creating ../data/critic_reviews/sep_docs/nexis_parasite_critic150.txt\n",
      "Creating ../data/critic_reviews/sep_docs/nexis_parasite_critic151.txt\n",
      "Creating ../data/critic_reviews/sep_docs/nexis_parasite_critic152.txt\n",
      "Creating ../data/critic_reviews/sep_docs/nexis_parasite_critic153.txt\n",
      "Creating ../data/critic_reviews/sep_docs/nexis_parasite_critic154.txt\n",
      "Creating ../data/critic_reviews/sep_docs/nexis_parasite_critic155.txt\n",
      "Creating ../data/critic_reviews/sep_docs/nexis_parasite_critic156.txt\n",
      "Creating ../data/critic_reviews/sep_docs/nexis_parasite_critic157.txt\n",
      "Creating ../data/critic_reviews/sep_docs/nexis_parasite_critic158.txt\n",
      "Creating ../data/critic_reviews/sep_docs/nexis_parasite_critic159.txt\n",
      "Creating ../data/critic_reviews/sep_docs/nexis_parasite_critic160.txt\n",
      "Creating ../data/critic_reviews/sep_docs/nexis_parasite_critic161.txt\n",
      "Creating ../data/critic_reviews/sep_docs/nexis_parasite_critic162.txt\n",
      "Creating ../data/critic_reviews/sep_docs/nexis_parasite_critic163.txt\n",
      "Creating ../data/critic_reviews/sep_docs/nexis_parasite_critic164.txt\n",
      "Creating ../data/critic_reviews/sep_docs/nexis_parasite_critic165.txt\n",
      "Creating ../data/critic_reviews/sep_docs/nexis_parasite_critic166.txt\n",
      "Creating ../data/critic_reviews/sep_docs/nexis_parasite_critic167.txt\n",
      "Creating ../data/critic_reviews/sep_docs/nexis_parasite_critic168.txt\n",
      "Creating ../data/critic_reviews/sep_docs/nexis_parasite_critic169.txt\n",
      "Creating ../data/critic_reviews/sep_docs/nexis_parasite_critic170.txt\n",
      "Creating ../data/critic_reviews/sep_docs/nexis_parasite_critic171.txt\n",
      "Creating ../data/critic_reviews/sep_docs/nexis_parasite_critic172.txt\n",
      "Creating ../data/critic_reviews/sep_docs/nexis_parasite_critic173.txt\n",
      "Creating ../data/critic_reviews/sep_docs/nexis_parasite_critic174.txt\n",
      "Creating ../data/critic_reviews/sep_docs/nexis_parasite_critic175.txt\n",
      "Creating ../data/critic_reviews/sep_docs/nexis_parasite_critic176.txt\n",
      "Creating ../data/critic_reviews/sep_docs/nexis_parasite_critic177.txt\n",
      "Creating ../data/critic_reviews/sep_docs/nexis_parasite_critic178.txt\n",
      "Creating ../data/critic_reviews/sep_docs/nexis_parasite_critic179.txt\n",
      "Creating ../data/critic_reviews/sep_docs/nexis_parasite_critic180.txt\n",
      "Creating ../data/critic_reviews/sep_docs/nexis_parasite_critic181.txt\n",
      "Creating ../data/critic_reviews/sep_docs/nexis_parasite_critic182.txt\n",
      "Creating ../data/critic_reviews/sep_docs/nexis_parasite_critic183.txt\n",
      "Creating ../data/critic_reviews/sep_docs/nexis_parasite_critic184.txt\n",
      "Creating ../data/critic_reviews/sep_docs/nexis_parasite_critic185.txt\n",
      "Creating ../data/critic_reviews/sep_docs/nexis_parasite_critic186.txt\n",
      "Creating ../data/critic_reviews/sep_docs/nexis_parasite_critic187.txt\n",
      "Creating ../data/critic_reviews/sep_docs/nexis_parasite_critic188.txt\n",
      "Creating ../data/critic_reviews/sep_docs/nexis_parasite_critic189.txt\n",
      "Creating ../data/critic_reviews/sep_docs/nexis_parasite_critic190.txt\n",
      "Creating ../data/critic_reviews/sep_docs/nexis_parasite_critic191.txt\n",
      "Creating ../data/critic_reviews/sep_docs/nexis_parasite_critic192.txt\n",
      "Creating ../data/critic_reviews/sep_docs/nexis_parasite_critic193.txt\n",
      "Creating ../data/critic_reviews/sep_docs/nexis_parasite_critic194.txt\n",
      "Creating ../data/critic_reviews/sep_docs/nexis_parasite_critic195.txt\n",
      "Creating ../data/critic_reviews/sep_docs/nexis_parasite_critic196.txt\n",
      "Creating ../data/critic_reviews/sep_docs/nexis_parasite_critic197.txt\n",
      "Creating ../data/critic_reviews/sep_docs/nexis_parasite_critic198.txt\n",
      "Creating ../data/critic_reviews/sep_docs/nexis_parasite_critic199.txt\n",
      "Creating ../data/critic_reviews/sep_docs/nexis_parasite_critic200.txt\n",
      "Creating ../data/critic_reviews/sep_docs/nexis_parasite_critic201.txt\n",
      "Creating ../data/critic_reviews/sep_docs/nexis_parasite_critic202.txt\n",
      "Creating ../data/critic_reviews/sep_docs/nexis_parasite_critic203.txt\n",
      "Creating ../data/critic_reviews/sep_docs/nexis_parasite_critic204.txt\n",
      "Creating ../data/critic_reviews/sep_docs/nexis_parasite_critic205.txt\n",
      "Creating ../data/critic_reviews/sep_docs/nexis_parasite_critic206.txt\n",
      "Creating ../data/critic_reviews/sep_docs/nexis_parasite_critic207.txt\n",
      "Creating ../data/critic_reviews/sep_docs/nexis_parasite_critic208.txt\n",
      "Creating ../data/critic_reviews/sep_docs/nexis_parasite_critic209.txt\n",
      "Creating ../data/critic_reviews/sep_docs/nexis_parasite_critic210.txt\n",
      "Creating ../data/critic_reviews/sep_docs/nexis_parasite_critic211.txt\n",
      "Creating ../data/critic_reviews/sep_docs/nexis_parasite_critic212.txt\n",
      "Creating ../data/critic_reviews/sep_docs/nexis_parasite_critic213.txt\n",
      "Creating ../data/critic_reviews/sep_docs/nexis_parasite_critic214.txt\n",
      "Creating ../data/critic_reviews/sep_docs/nexis_parasite_critic215.txt\n",
      "Creating ../data/critic_reviews/sep_docs/nexis_parasite_critic216.txt\n",
      "Creating ../data/critic_reviews/sep_docs/nexis_parasite_critic217.txt\n",
      "Creating ../data/critic_reviews/sep_docs/nexis_parasite_critic218.txt\n",
      "Creating ../data/critic_reviews/sep_docs/nexis_parasite_critic219.txt\n",
      "Creating ../data/critic_reviews/sep_docs/nexis_parasite_critic220.txt\n",
      "Creating ../data/critic_reviews/sep_docs/nexis_parasite_critic221.txt\n",
      "Creating ../data/critic_reviews/sep_docs/nexis_parasite_critic222.txt\n",
      "Creating ../data/critic_reviews/sep_docs/nexis_parasite_critic223.txt\n",
      "Creating ../data/critic_reviews/sep_docs/nexis_parasite_critic224.txt\n",
      "Creating ../data/critic_reviews/sep_docs/nexis_parasite_critic225.txt\n",
      "Creating ../data/critic_reviews/sep_docs/nexis_parasite_critic226.txt\n",
      "Creating ../data/critic_reviews/sep_docs/nexis_parasite_critic227.txt\n",
      "Creating ../data/critic_reviews/sep_docs/nexis_parasite_critic228.txt\n",
      "Creating ../data/critic_reviews/sep_docs/nexis_parasite_critic229.txt\n",
      "Creating ../data/critic_reviews/sep_docs/nexis_parasite_critic230.txt\n",
      "Creating ../data/critic_reviews/sep_docs/nexis_parasite_critic231.txt\n",
      "Creating ../data/critic_reviews/sep_docs/nexis_parasite_critic232.txt\n",
      "Creating ../data/critic_reviews/sep_docs/nexis_parasite_critic233.txt\n",
      "Creating ../data/critic_reviews/sep_docs/nexis_parasite_critic234.txt\n",
      "Creating ../data/critic_reviews/sep_docs/nexis_parasite_critic235.txt\n",
      "Creating ../data/critic_reviews/sep_docs/nexis_parasite_critic236.txt\n",
      "Creating ../data/critic_reviews/sep_docs/nexis_parasite_critic237.txt\n",
      "Creating ../data/critic_reviews/sep_docs/nexis_parasite_critic238.txt\n",
      "Creating ../data/critic_reviews/sep_docs/nexis_parasite_critic239.txt\n",
      "Creating ../data/critic_reviews/sep_docs/nexis_parasite_critic240.txt\n"
     ]
    },
    {
     "name": "stdout",
     "output_type": "stream",
     "text": [
      "Creating ../data/critic_reviews/sep_docs/nexis_parasite_critic241.txt\n",
      "Creating ../data/critic_reviews/sep_docs/nexis_parasite_critic242.txt\n",
      "Creating ../data/critic_reviews/sep_docs/nexis_parasite_critic243.txt\n",
      "Creating ../data/critic_reviews/sep_docs/nexis_parasite_critic244.txt\n",
      "Creating ../data/critic_reviews/sep_docs/nexis_parasite_critic245.txt\n",
      "Creating ../data/critic_reviews/sep_docs/nexis_parasite_critic246.txt\n",
      "Creating ../data/critic_reviews/sep_docs/nexis_parasite_critic247.txt\n",
      "Creating ../data/critic_reviews/sep_docs/nexis_parasite_critic248.txt\n",
      "Creating ../data/critic_reviews/sep_docs/nexis_parasite_critic249.txt\n",
      "Creating ../data/critic_reviews/sep_docs/nexis_parasite_critic250.txt\n",
      "Creating ../data/critic_reviews/sep_docs/nexis_parasite_critic251.txt\n",
      "Creating ../data/critic_reviews/sep_docs/nexis_parasite_critic252.txt\n",
      "Creating ../data/critic_reviews/sep_docs/nexis_parasite_critic253.txt\n",
      "Creating ../data/critic_reviews/sep_docs/nexis_parasite_critic254.txt\n",
      "Creating ../data/critic_reviews/sep_docs/nexis_parasite_critic255.txt\n",
      "Creating ../data/critic_reviews/sep_docs/nexis_parasite_critic256.txt\n",
      "Creating ../data/critic_reviews/sep_docs/nexis_parasite_critic257.txt\n",
      "Creating ../data/critic_reviews/sep_docs/nexis_parasite_critic258.txt\n",
      "Creating ../data/critic_reviews/sep_docs/nexis_parasite_critic259.txt\n",
      "Creating ../data/critic_reviews/sep_docs/nexis_parasite_critic260.txt\n",
      "Creating ../data/critic_reviews/sep_docs/nexis_parasite_critic261.txt\n"
     ]
    }
   ],
   "source": [
    "# check to see if the folder to hold the files exists and create if it doesn't\n",
    "if not os.path.exists('../data/critic_reviews/sep_docs'):\n",
    "    os.makedirs('../data/critic_reviews/sep_docs')\n",
    "    \n",
    "    \n",
    "# loop over the list of documents and write each to a separate text file\n",
    "for idx, doc in enumerate(docs, 1):\n",
    "    \n",
    "    filepath = '../data/critic_reviews/sep_docs/nexis_parasite_critic{:0>3}.txt'.format(idx)\n",
    "    print('Creating', filepath)\n",
    "    \n",
    "    with open(filepath, 'w') as out:\n",
    "        out.write(doc)"
   ]
  },
  {
   "cell_type": "code",
   "execution_count": 63,
   "metadata": {},
   "outputs": [
    {
     "data": {
      "text/plain": [
       "261"
      ]
     },
     "execution_count": 63,
     "metadata": {},
     "output_type": "execute_result"
    }
   ],
   "source": [
    "len(docs)"
   ]
  },
  {
   "cell_type": "code",
   "execution_count": 64,
   "metadata": {},
   "outputs": [
    {
     "name": "stdout",
     "output_type": "stream",
     "text": [
      "Oscars 2020: What Movies Has #8216;Parasite' Director Bong Joon-ho Made?\n",
      "Newstex Blogs \n",
      "The Cheat Sheet\n",
      "January 27, 2020 Monday 12:05 AM EST\n",
      "\n",
      " ",
      "Copyright 2020 Newstex LLC All Rights Reserved\n",
      "Length: 1178 words\n",
      "Byline: Robert Yaniz Jr.\n",
      "Body\n",
      "\n",
      "\n",
      "\n",
      "\n",
      "Jan 27, 2020( The Cheat Sheet: http://www.cheatsheet.com/ Delivered by Newstex)  Parasite[1] is taking Hollywood by storm[2] this award season. In fact, the South Korean release is gearing up as a Best Picture frontrunner[3] heading into Oscars 2020. Director Bong Joon-ho's latest film defies genre to tell a complex story about two interconnected families and, by extension, delivers some crucial social commentary[4].With Parasite#8216;s success, we're sure moviegoers will be interested to see some of Bong's previous work. Prior to his Oscar-nominated hit[5], the director had made six films. Here's a quick breakdown of the features he has directed throughout his career. \n",
      " Bong Joon-ho and the cast of #8216;Parasite' at the Screen ActorsGuild Awards | John Sciulli/Getty Images for Turner#8216;Barking Dogs Never Bite' (2000)Barking Dogs Never Bite (Trailer)[6]In his 2000 directorial debut, Bong already aimed to combine genres in an innovative way. This dark comedy-drama follows an unemployed college professor (Lee Sung-jae) who begins abusing and kidnapping dogs the barking dogs in his apartment building. At the same time, a young woman (Bae Doona) takes note of his activities, launching an investigation into the surge of missing dogs. Despite its bizarre-sounding premise, Barking Dogs Never Bite gave Bong the chance to try his hand at directing a feature. Prior to this film, the [7]Parasite[8] filmmaker[9] had only directed three short films. However, he previously earned writing credits on 1997's Motel Cactus and 1999's Phantom: The Submarine. #8216;Memories of Murder' (2003)Memories of Murder (2003) - movie trailer[10]In his 2003 sophomore effort, Bong landed his first collaboration with Song Kang-ho. The actor delivers a critically acclaimed standout performance in [11]Parasite[12]. Song has sustained an ongoing collaboration with Bong over the course of both their careers.In Memories of Murder, the actor andKim Sang-kyung play two detectives trying to solve the real-life case of Korea's first serial murders. The investigation continued from 1986 to 1991, and the film — based on a 1996 play — earned strong reviews for its depiction and performances. #8216;The Host' (2006)The Host (2006) #8212; Trailer[13]Memories of Murder gained Bong international acclaim. But The Host solidified him as a commercially successful filmmaker. The film follows a man's (Song) effort to rescue his daughter after she is kidnapped by a giant monster.At the time of its release, The Host became the highest-grossing South Korean movie of all time. Although mainstream success in the United States eluded Bong, this film was a critical step in establishing his reputation for offbeat, inventive genre projects.  #8216;Mother' (2009)Mother Official HD Trailer - From the Director of THE HOST[14]No, this one has nothing to do with either the 1996 Albert Brooks film or the 2017 Darren Aronofsky release[15]. Rather, this Mother follows a mother's (Kim Hye-ja) search for the killer responsible for framing her son (Won Bin) for murder.It might not have received as much attention stateside as some of Bong's other films. However, Mother was still a critical smash in South Korea and beloved by critics. As has become Bong's trademark, the movie expertly combines a number of genres, including family drama, horror, and comedy. #8216;Snowpiercer' (2013)Snowpiercer Official US Release Trailer #1 (2014) - Chris Evans Movie HD[16]Bong made his English-language directorial debut with this dystopian sci-fi thriller. Led by Chris Evans, the film features an all-star cast that includes Tilda Swinton, Octavia Spencer, Jamie Bell, John Hurt, Ed Harris, and — of course — Song. It's also the most expensive Korean production in history.Snowpiercer is set aboard the titular train, which carries the last remnants of the human race. The film tackles key issues such as climate change but does so in a way that never fails to be thrilling. In fact, its success — much like that of [17]Parasite[18] — has inspired a new TV series[19]. #8216;Okja' (2017)Okja | Official Trailer [HD] | Netflix[20]This Netflix film might be a lot of moviegoers' first exposure to Bong. Part of that comes from its accessibility on the streaming service. Yet, Okja — Bong's second consecutive English-language release[21] — is just as much in line with his distinctive sensibility as his other films.The movie centers on a genetically modified creature named Okja, its friendship with a young girl (Ahn Seo-hyun), and her efforts to protect it. Okja also features an international cast which combines South Korean performers with stars like Jake Gyllenhaal, Paul Dano, and Swinton.  Read the original article from The Cheat Sheet[22] [ 1]: https://www.cheatsheet.com/entertainment/parasite-is-the-oscar-nominated-film-based-on-a-true-story.html/ [ 2]:            https://www.cheatsheet.com/entertainment/parasite-is-the-oscar-nominated-film-based-on-a-true-story.html/ [ 3]:            https://www.cheatsheet.com/entertainment/oscars-2020-does-its-historic-sag-win-make-parasite-a-lock-for-best-picture.html/ [ 4]:            https://www.vulture.com/2020/01/parasite-ending-explained-by-bong-joon-ho.html [ 5]:            https://www.cheatsheet.com/entertainment/parasite-makes-history-with-2020-oscar-nominations-best-picture.html/ [ 6]:            https://www.youtube.com/embed/ezx9nKqqmbE?feature=oembed [ 7]:            https://www.cheatsheet.com/entertainment/golden-globe-winning-director-of-parasite-praises-bts.html/ [ 8]:            https://www.cheatsheet.com/entertainment/golden-globe-winning-director-of-parasite-praises-bts.html/ [ 9]:            https://www.cheatsheet.com/entertainment/golden-globe-winning-director-of-parasite-praises-bts.html/ [ 10]:            https://www.youtube.com/embed/dTnyhLywdJc?feature=oembed [ 11]:            https://www.cheatsheet.com/entertainment/beyond-fest-review-parasite-peachy-con.html/ [ 12]:            https://www.cheatsheet.com/entertainment/beyond-fest-review-parasite-peachy-con.html/ [ 13]:            https://www.youtube.com/embed/1HRTy26s4hw?feature=oembed [ 14]:            https://www.youtube.com/embed/0oBwQHWeYxo?feature=oembed [ 15]:            https://www.cheatsheet.com/entertainment/is-jennifer-lawrences-mother-amazing-or-terrible.html/ [ 16]:            https://www.youtube.com/embed/nX5PwfEMBM0?feature=oembed [ 17]:            https://www.cheatsheet.com/entertainment/bong-joon-hos-parasite-slated-for-hbo-show-what-we-know.html/ [ 18]:            https://www.cheatsheet.com/entertainment/bong-joon-hos-parasite-slated-for-hbo-show-what-we-know.html/ [ 19]:            https://www.cheatsheet.com/entertainment/snowpiercer-the-surprising-way-it-reminded-daveed-diggs-of-hamilton.html/ [ 20]:            https://www.youtube.com/embed/AjCebKn4iic?feature=oembed [ 21]:            https://www.cheatsheet.com/entertainment/snowpiercer-director-will-make-a-netflix-monster-movie.html/ [ 22]:            https://www.cheatsheet.com/entertainment/oscars-2020-what-movies-has-parasite-director-bong-joon-ho-made.html/ \n",
      " ",
      "Load-Date: January 26, 2020\n",
      "\n",
      " ",
      "\n",
      "\n",
      "\n"
     ]
    }
   ],
   "source": [
    "# Looking at the doc structure to see how we can extract body text:\n",
    "print(docs[0])"
   ]
  },
  {
   "cell_type": "code",
   "execution_count": 65,
   "metadata": {},
   "outputs": [],
   "source": [
    "# Extracting body text:\n",
    "\n",
    "body_start = docs[0].index('Body')+4\n",
    "body_end = docs[0].index('Load-Date:')\n",
    "\n",
    "body_text = docs[0][body_start:body_end].strip()"
   ]
  },
  {
   "cell_type": "code",
   "execution_count": 66,
   "metadata": {},
   "outputs": [
    {
     "data": {
      "text/plain": [
       "\"Jan 27, 2020( The Cheat Sheet: http://www.cheatsheet.com/ Delivered by Newstex)  Parasite[1] is taking Hollywood by storm[2] this award season. In fact, the South Korean release is gearing up as a Best Picture frontrunner[3] heading into Oscars 2020. Director Bong Joon-ho's latest film defies genre to tell a complex story about two interconnected families and, by extension, delivers some crucial social commentary[4].With Parasite#8216;s success, we're sure moviegoers will be interested to see some of Bong's previous work. Prior to his Oscar-nominated hit[5], the director had made six films. Here's a quick breakdown of the features he has directed throughout his career. \\n Bong Joon-ho and the cast of #8216;Parasite' at the Screen ActorsGuild Awards | John Sciulli/Getty Images for Turner#8216;Barking Dogs Never Bite' (2000)Barking Dogs Never Bite (Trailer)[6]In his 2000 directorial debut, Bong already aimed to combine genres in an innovative way. This dark comedy-drama follows an unemployed college professor (Lee Sung-jae) who begins abusing and kidnapping dogs the barking dogs in his apartment building. At the same time, a young woman (Bae Doona) takes note of his activities, launching an investigation into the surge of missing dogs. Despite its bizarre-sounding premise, Barking Dogs Never Bite gave Bong the chance to try his hand at directing a feature. Prior to this film, the [7]Parasite[8] filmmaker[9] had only directed three short films. However, he previously earned writing credits on 1997's Motel Cactus and 1999's Phantom: The Submarine. #8216;Memories of Murder' (2003)Memories of Murder (2003) - movie trailer[10]In his 2003 sophomore effort, Bong landed his first collaboration with Song Kang-ho. The actor delivers a critically acclaimed standout performance in [11]Parasite[12]. Song has sustained an ongoing collaboration with Bong over the course of both their careers.In Memories of Murder, the actor andKim Sang-kyung play two detectives trying to solve the real-life case of Korea's first serial murders. The investigation continued from 1986 to 1991, and the film — based on a 1996 play — earned strong reviews for its depiction and performances. #8216;The Host' (2006)The Host (2006) #8212; Trailer[13]Memories of Murder gained Bong international acclaim. But The Host solidified him as a commercially successful filmmaker. The film follows a man's (Song) effort to rescue his daughter after she is kidnapped by a giant monster.At the time of its release, The Host became the highest-grossing South Korean movie of all time. Although mainstream success in the United States eluded Bong, this film was a critical step in establishing his reputation for offbeat, inventive genre projects.  #8216;Mother' (2009)Mother Official HD Trailer - From the Director of THE HOST[14]No, this one has nothing to do with either the 1996 Albert Brooks film or the 2017 Darren Aronofsky release[15]. Rather, this Mother follows a mother's (Kim Hye-ja) search for the killer responsible for framing her son (Won Bin) for murder.It might not have received as much attention stateside as some of Bong's other films. However, Mother was still a critical smash in South Korea and beloved by critics. As has become Bong's trademark, the movie expertly combines a number of genres, including family drama, horror, and comedy. #8216;Snowpiercer' (2013)Snowpiercer Official US Release Trailer #1 (2014) - Chris Evans Movie HD[16]Bong made his English-language directorial debut with this dystopian sci-fi thriller. Led by Chris Evans, the film features an all-star cast that includes Tilda Swinton, Octavia Spencer, Jamie Bell, John Hurt, Ed Harris, and — of course — Song. It's also the most expensive Korean production in history.Snowpiercer is set aboard the titular train, which carries the last remnants of the human race. The film tackles key issues such as climate change but does so in a way that never fails to be thrilling. In fact, its success — much like that of [17]Parasite[18] — has inspired a new TV series[19]. #8216;Okja' (2017)Okja | Official Trailer [HD] | Netflix[20]This Netflix film might be a lot of moviegoers' first exposure to Bong. Part of that comes from its accessibility on the streaming service. Yet, Okja — Bong's second consecutive English-language release[21] — is just as much in line with his distinctive sensibility as his other films.The movie centers on a genetically modified creature named Okja, its friendship with a young girl (Ahn Seo-hyun), and her efforts to protect it. Okja also features an international cast which combines South Korean performers with stars like Jake Gyllenhaal, Paul Dano, and Swinton.  Read the original article from The Cheat Sheet[22] [ 1]: https://www.cheatsheet.com/entertainment/parasite-is-the-oscar-nominated-film-based-on-a-true-story.html/ [ 2]:       \\xa0    https://www.cheatsheet.com/entertainment/parasite-is-the-oscar-nominated-film-based-on-a-true-story.html/ [ 3]:       \\xa0    https://www.cheatsheet.com/entertainment/oscars-2020-does-its-historic-sag-win-make-parasite-a-lock-for-best-picture.html/ [ 4]:       \\xa0    https://www.vulture.com/2020/01/parasite-ending-explained-by-bong-joon-ho.html [ 5]:       \\xa0    https://www.cheatsheet.com/entertainment/parasite-makes-history-with-2020-oscar-nominations-best-picture.html/ [ 6]:       \\xa0    https://www.youtube.com/embed/ezx9nKqqmbE?feature=oembed [ 7]:       \\xa0    https://www.cheatsheet.com/entertainment/golden-globe-winning-director-of-parasite-praises-bts.html/ [ 8]:       \\xa0    https://www.cheatsheet.com/entertainment/golden-globe-winning-director-of-parasite-praises-bts.html/ [ 9]:       \\xa0    https://www.cheatsheet.com/entertainment/golden-globe-winning-director-of-parasite-praises-bts.html/ [ 10]:       \\xa0    https://www.youtube.com/embed/dTnyhLywdJc?feature=oembed [ 11]:       \\xa0    https://www.cheatsheet.com/entertainment/beyond-fest-review-parasite-peachy-con.html/ [ 12]:       \\xa0    https://www.cheatsheet.com/entertainment/beyond-fest-review-parasite-peachy-con.html/ [ 13]:       \\xa0    https://www.youtube.com/embed/1HRTy26s4hw?feature=oembed [ 14]:       \\xa0    https://www.youtube.com/embed/0oBwQHWeYxo?feature=oembed [ 15]:       \\xa0    https://www.cheatsheet.com/entertainment/is-jennifer-lawrences-mother-amazing-or-terrible.html/ [ 16]:       \\xa0    https://www.youtube.com/embed/nX5PwfEMBM0?feature=oembed [ 17]:       \\xa0    https://www.cheatsheet.com/entertainment/bong-joon-hos-parasite-slated-for-hbo-show-what-we-know.html/ [ 18]:       \\xa0    https://www.cheatsheet.com/entertainment/bong-joon-hos-parasite-slated-for-hbo-show-what-we-know.html/ [ 19]:       \\xa0    https://www.cheatsheet.com/entertainment/snowpiercer-the-surprising-way-it-reminded-daveed-diggs-of-hamilton.html/ [ 20]:       \\xa0    https://www.youtube.com/embed/AjCebKn4iic?feature=oembed [ 21]:       \\xa0    https://www.cheatsheet.com/entertainment/snowpiercer-director-will-make-a-netflix-monster-movie.html/ [ 22]:       \\xa0    https://www.cheatsheet.com/entertainment/oscars-2020-what-movies-has-parasite-director-bong-joon-ho-made.html/\""
      ]
     },
     "execution_count": 66,
     "metadata": {},
     "output_type": "execute_result"
    }
   ],
   "source": [
    "body_text"
   ]
  },
  {
   "cell_type": "code",
   "execution_count": 67,
   "metadata": {},
   "outputs": [],
   "source": [
    "body_text_only = []\n",
    "\n",
    "for doc in docs:\n",
    "    body_start = doc.index('Body')+4\n",
    "    body_end = doc.index('Load-Date:')\n",
    "    \n",
    "    body_text = doc[body_start:body_end].strip()\n",
    "    body_text_only.append(body_text)"
   ]
  },
  {
   "cell_type": "code",
   "execution_count": 69,
   "metadata": {},
   "outputs": [
    {
     "data": {
      "text/plain": [
       "'ABSTRACT\\nFor anyone not yet familiar with Bong, Parasite is ready and eager to infect your consciousness and soul, quickly turning you into an eager host for all things Bong\\nFULL TEXT\\nEvery week, the film industry offers a fresh slap to the face. Between the increasing dominance of mindless franchise product and the erosion of substantive films made for discerning audiences, it is difficult to feel hopeful about stepping into the dark of a cinema - as wondrous and transformative an experience as modern life affords.\\nBut this past weekend, salvation reared its head in New York and Los Angeles, where a new film smashed box-office records. The unlikely culprit: Parasite, a small-scale South Korean drama with no special effects to speak of and zero sequel or spinoff potential to tempt skeptical audiences. Thanks to audience word-of-mouth and https://www.theglobeandmail.com/arts/film/tiff/article-tiff-2019-from-hustlers-to-joker-to-parasite-make-way-in-the/ culled       \\xa0    https://www.theglobeandmail.com/arts/film/tiff/article-tiff-2019-the-globes-guide-to-movies-screening-at-the-festival/, Parasite earned an average of more than US$128,000 in each of the three theatres it screened, an unheard of figure for a foreign-language film, especially one unable to boast a high-concept narrative or internationally renowned star.\\n \\nParasite does, however, have one semi-known quantity to boast of: writer and director Bong Joon-ho. Arthouse-attuned moviegoers will recognize the name from his early Seoul-based dramas Mother and Memories of Murder, while anyone with a Netflix subscription will recall his https://www.theglobeandmail.com/arts/film/film-reviews/review-okja-an-over-the-top-blockbuster-with-a-message/article35420921/, or perhaps his politically charged sci-fi thriller Snowpiercer. But for anyone not yet familiar with Bong, Parasite is ready and eager to infect your consciousness and soul, quickly turning you into an eager host for all things Bong.\\nhttps://www.theglobeandmail.com/arts/film/reviews/article-bong-joon-hos-parasite-is-a-four-star-polemic-sharp-enough-to-draw/\\nFollowing the messy intersection of two modern Seoul families - one clan destitute and scheming for a better life, the other perched comfortably and ignorantly at the upper crust of society - Parasite is exhilarating, thrilling, furious and deeply upsetting. It is also, and here\\'s where things get tricky, extraordinarily surprising, with its story pivoting on a huge twist that arrives one-third through. All of which is to say: Bong hopes you see Parasite, before Parasite becomes inescapable.\\n\"Thankfully, everyone has so far been really cooperative with keeping the spoilers to themselves. I\\'ve seen families eating out in Seoul, talking about the film, but once they discover there are people among them who haven\\'t seen it, they got up and left,\" says Bong, 50. \"People are really protective of this film.\"\\nIt is the opening weekend of the Toronto International Film Festival, and Bong seems deeply exhausted. The director has been discussing - and, well, not discussing - the implications of Parasite\\'s twist since this past May, when the film had its world premiere at Cannes, bowling over critics and capturing the film festival\\'s coveted Palme d\\'Or. Somehow, as the film has since travelled to Telluride and Toronto (where it would go on to win second runner-up for TIFF\\'s People\\'s Choice Award), Parasite\\'s big reveal has been preserved, a testament to either audiences\\' newfound ability to keep something special to themselves in an era of instant spoiler-y Twitter tidal waves, or the sheer power that the film carries. Likely both.\\n\"The film has been released in several countries now, and I\\'ve begun to see people diving into it as if it were a game - discussing the details, the foreshadowing of the twist, the symbolism in the film,\" Bong says, \"but no one is spoiling it. Mostly everyone, at least in the Korean online community, are talking about poverty and their own experiences. And how it\\'s actually worse than it seems in the movie.\"\\nAnd Parasite makes life on South Korea\\'s lower rung look absolutely awful. Bong introduces the Kim family - Parasite\\'s quasi-protagonists - as sympathetic bottom-feeders, with the foursome occupying an overcrowded basement apartment where the toilet is faulty, the WiFi must be leeched from neighbouring businesses, and the air is thick with either the scent of drunkards\\' urine or the debilitating fog of street-level fumigation. Patriarch Kim Ki-taek (Bong regular Song Kang-ho) is desperate and clever in equal measure, but cannot seem to imagine a world even one step higher. Until, that is, his son Ki-woo (Choi Woo-sik) sneakily scores a tutoring job for the son of wealthy tech entrepreneur Park Dong-ik (Lee Sun-kyun). Over the course of about two hours, fortunes are changed, lives are upended, and the class tensions of South Korea - or anywhere in the world, really - are stretched till they snap.\\n\"As Korea went through the Korean War and the military dictatorships, we\\'ve become a very developed and rich country,\" Bong explains. \"But despite the growth, the gap between the rich and the poor has only widened. As the country overall seems wealthy and extravagant, there are still so many people who are saying, \\'Why are we still struggling?\\' That sense of inferiority and loss, it\\'s felt. And it\\'s not just emotional, it\\'s physical.\"\\nIn typical Bong fashion - reminiscent of how Okja\\'s zany corporate satire comes equipped with a too-bizarre-for-words Tilda Swinton or how The Host\\'s family melodrama is backgrounded by a good old-fashioned monster hunt - Parasite\\'s central themes are delivered in a blessedly shocking manner. The Kim family\\'s slow invasion of the Parks is tightly controlled dark comedy until Bong flips the story on its head to produce a shocking and sickening tragedy. As his film\\'s title suggests - who is the real bloodsucker here, the Kims or the Parks? - Bong doesn\\'t so much upend expectations as he dares you to forever abandon yours.\\nThe film also marks a surprising, if perhaps inevitable, return for Bong to his home country. After spending the past half-decade working if not exactly in then explicitly for Hollywood with Snowpiercer and Okja, Parasite finds Bong returning to a more familiar country and language.\\n\"I tend to improvise a lot on set, so it\\'s adjusting dialogue and suggesting new ideas, so it was great to not need a translator this time, and being able to have fun with my actors,\" Bong says. \"But a lot of the joy this time came from not coming back to Korea, but to coming back to films of this size and scale. Working on Parasite was like working on Mother or Memories of Murder. Smaller, controlled, comfortable.\"\\nPart of the comfort comes from having actor Song Kang-ho around once again. Although the Korean star had a supporting role in Snowpiercer, the full weight of Parasite rests on Song\\'s sizeable shoulders - a task he carries with the dedication and commitment familiar to anyone who\\'s seen him blaze the screen in such Korean hits as Sympathy for Mr. Vengeance and Thirst. His Parasite patriarch, at once beaten down and invigorated by a world that wants nothing to do with him, is one of the more complex and memorable characters that audiences of any culture will encounter this year.\\n\"It\\'s not as if there\\'s a special nerve on the back heel of Song\\'s foot that\\'s connected to my finger, but sometimes it does feel as if we have that connection,\" Bong says of his relationship with his frequent collaborator. \"We don\\'t talk a lot on set - we don\\'t discuss the character for hours - but I think Song, as an actor, instinctively understands what I want to say with my script, and what we need to show with a particular scene. There\\'s never been a time when I\\'ve disagreed with a decision in his performance.\"\\nAs Parasite begins to creep further into North America - it opens in Toronto this Friday, before expanding into more Canadian theatres in November - Bong is faced with a sort of Bong-esque dilemma: Should he trust that the typical hopes for a film of his pedigree and provenance will prevail, i.e., that the film will get Academy Award attention in the Best International Film category? Or should he prepare for an upending of his own expectations, and find Parasite instead nominated in the mainstream Best Picture slot, alongside Hollywood\\'s finest? In a tiny way, the film\\'s fate is in his hands.\\n\"Song and I have been members of the [Academy of Motion Picture Arts and Sciences] for the past five years, now that the Academy is trying to increase the diversity of its membership. So this year, we talked about, \\'Oh, should we vote for Parasite?\\'\" Bong says with a laugh. \"Is it embarrassing? Is it illegal? But anyway, it\\'s a secret vote.\"\\nAnd secrets are Bong\\'s specialty. He\\'ll keep his, so long as you keep Parasite\\'s.\\nParasite opens Oct. 18 in Toronto.\\nFollow this link to view this story on globeandmail.com: https://www.theglobeandmail.com/arts/film/article-why-you-should-let-parasites-brilliant-bong-joon-ho-infect-your/ The viewing of this article is only available to Globe Unlimited subscribers.'"
      ]
     },
     "execution_count": 69,
     "metadata": {},
     "output_type": "execute_result"
    }
   ],
   "source": [
    "body_text_only[10]"
   ]
  },
  {
   "cell_type": "code",
   "execution_count": 70,
   "metadata": {},
   "outputs": [],
   "source": [
    "# Making a list of dictionaries for critic reviews of Parasite:\n",
    "critic_reviews = []\n",
    "\n",
    "for rev in body_text_only:\n",
    "    rev_dict = {\n",
    "        'text' : rev\n",
    "    }\n",
    "    critic_reviews.append(rev_dict)"
   ]
  },
  {
   "cell_type": "code",
   "execution_count": 71,
   "metadata": {},
   "outputs": [
    {
     "data": {
      "text/plain": [
       "{'text': \"How does one get rid of a parasite?\\nBong Joon Ho sets the tone for the Oscar-nominated, Cannes Palme d'Or 2019-winner and Golden Globes 2020 Best Foreign Language Film-winner Parasite in the first scene itself. A family of four, living in a semi-basement level home, scouts the corners of their house to find WiFi signal. The neighbour must have changed the password, let's try 123456789 or in reverse. Still not working? Oops, no WhatsApp then.\\nKim Ki-taek (played by Song Kang-ho) leads an unambitious family with wife Chung-sook (played by Chang Hyae-jin), daughter Kim Ki-jeong (played by Park So-dam) and son Kim Ki-woo (played by Choi Woo-shik). Their current source of income is folding pizza boxes for a pizza delivery joint, and it doesn't take someone solid knowledge in World Cinema to know that that money isn't going to be enough to feed four grown mouths. But, they have a plan, as Kim Ki-taek elaborates - it is to not have a plan at all. For then, the risk of anything going wrong is nil.\\nWatch the trailer of Parasite here:\\nParasite is, therefore, a story of submission. On one end of the spectrum, the Kim family has submitted to their condition never improving, of scavenging through life. On the other end of the spectrum, the Park family has submitted to never peeping out of their ivory towers. They don't need to. Their ivory towers are guarded with surveillance cameras and windows are sealed with tempered glasses, monitoring even the sunlight seeping in. Led by Park Dong-ik (played by Lee Sun-kyun) with wife Yeon-gyo (played by Cho Yeo-jeong), daughter Park Da-hye (played by Jeong Ji-so) and son Park Da-song (played by Jung Hyeon-jun), the Park family doesn't live in a bubble; they live in a fortress, fortified by wilful ignorance.\\nRead: Why Bong Joon Ho's Parasite rises beyond the subtitle barrier\\nAnd then their worlds collide. The Kim family slowly and steadily creeps into the Park family, landing odd jobs with them, eliminating the competition as they move ahead. The son takes up the job of the English tutor replacing a friend, the daughter becomes the art teacher to the son, playing a hapless (and clueless) mother; the father lands the job of the driver replacing the older one, and finally, the older housekeeper is practically thrown out overnight and replaced with the mother. All this without letting the Parks catch a whiff that the Kims know each other, lest their finally steady quadruple income is snatched away. But the whiff is too strong, too strong coming from poverty.\\nThe more they collide, the more apparent their differences get. They are separated by class, a difference that is almost flowing in their bloodstreams now, they are basically sweating class difference. It appears the Kims have gotten so used to living in hiding that they'd prefer living the life of a parasite, rather than disclose they are related and have a fair chance at being judged on the basis of their good work. Even they don't think they are worth it. Of course, the Parks don't either.\\nThrough Parasite, Bong Joon Ho gives you a very clear picture of the South Korean society, or of any other place where unequal distribution and growth of wealth have resulted in the 'rich becoming richer, poor becoming poorer' model. This could very well be the story of a family living in the slums of Dharavi, juxtaposed against another living in that plush skyrise on Altamount Road, both in Mumbai. Which is why it hits so hard.\\nIn Parasite, the cinematography by Kyung-pyo Hong, and editing by Jinmo Yang (nominated in the Best Achievement in Film Editing category at Oscars 2020) deserve a special mention. Staring out the window at Parks', you soak in the lush green of their front yard, while at the Kims', there's a drunkard peeing at the lamppost, who wouldn't stop even if you were to throw a bucket of water at him. But the visuals of those water droplets twinkling against the light from the lamppost, in slow motion, and the good laugh the have-nots like the Kim family share at that moment, is like poetry.\\nThe storytelling style of Parasite is also unique. Bong Joon Ho goes from dark comedy to absurd comedy, to simply dark, and then darker. Finally, it touches a point of hope, and while one could look at it as just hope, it could also be the point where the film reached its darkest - for there is no hope. Let's just submit to that, shall we?\\nBong Joon Ho had said at an interview that the idea for Parasite had been in his brain for a while - like a parasite, if you will. We're glad he didn't get rid of it, though.\\n(The Delhi premiere of Parasite was organised by the Embassy of the Republic of Korea in India.)\\n(Writer tweets as @NotThatNairita)\\nALSO READ |Joaquin Phoenix's Joker to re-release in India on February 14\\nALSO READ | Joaquin Phoenix on Joker leading Oscars 2020 nominations: Honoured by the Academy's recognition\\nALSO READ |Oscars 2020: 92nd Academy Awards full nominations list\\nALSO READ | Joaquin Phoenix wins Best Actor for Joker at Golden Globes 2020: The ascent after the descent\\nALSO READ | Joaquin Phoenix and director Todd Phillips may reunite for Joker sequel\\nALSO READ | Joker trailer out: Joaquin Phoenix film traces the origins of Batman's most terrifying enemy\\nALSO READ | Joker to now release in India on October 2, will clash with Hrithik Roshan's War\\nALSO WATCH | Joaquin Phoenix's Joker gets 8 minute standing ovation at Venice Premiere\\nLink to Image\\n\\u2028Graphic\\n\\n\\n\\n \\nParasite Movie Review: Bong Joon Ho film is like poetry\"}"
      ]
     },
     "execution_count": 71,
     "metadata": {},
     "output_type": "execute_result"
    }
   ],
   "source": [
    "critic_reviews[1]"
   ]
  },
  {
   "cell_type": "code",
   "execution_count": 72,
   "metadata": {},
   "outputs": [],
   "source": [
    "# Saving this out as a json file:\n",
    "with open('../data/critic_reviews/nexis_parasite_critic.json','w', encoding='UTF-8') as out:\n",
    "    out.write(json.dumps(critic_reviews))"
   ]
  },
  {
   "cell_type": "markdown",
   "metadata": {},
   "source": [
    "## Conclusion\n",
    "\n",
    "Awesome! In this notebook, I successfully cleaned, organized, and extracted the body text from critic review documents of _Parasite_ that I downloaded from Nexis Uni. Going through the same process for critic reviews of _The Host_ , I have saved out new JSON files that contain all the critic reviews of each movie.\n",
    "\n",
    "Now, I can move onto analyzing these reviews. This will occur in two notebooks, the very first one titled `analysis_critic_nexis` looks at using VADER for sentiment analysis and also running word and n-gram frequency analysis to figure out what kinds of words or phrases occur more often in either list of critic reviews. The second notebook is titled `trying_TextBlob_SA` and in here, I try a different tool called TextBlob, rather than VADER, for carrying out sentiment analysis. Please refer to each of those notebooks to see what analysis I carried out with these critic reviews. \n",
    "\n",
    "Thank you!"
   ]
  },
  {
   "cell_type": "code",
   "execution_count": null,
   "metadata": {},
   "outputs": [],
   "source": []
  }
 ],
 "metadata": {
  "kernelspec": {
   "display_name": "Python 3",
   "language": "python",
   "name": "python3"
  },
  "language_info": {
   "codemirror_mode": {
    "name": "ipython",
    "version": 3
   },
   "file_extension": ".py",
   "mimetype": "text/x-python",
   "name": "python",
   "nbconvert_exporter": "python",
   "pygments_lexer": "ipython3",
   "version": "3.7.3"
  }
 },
 "nbformat": 4,
 "nbformat_minor": 2
}
