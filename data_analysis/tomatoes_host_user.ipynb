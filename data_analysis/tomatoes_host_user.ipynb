{
 "cells": [
  {
   "cell_type": "markdown",
   "metadata": {},
   "source": [
    "# Scraping Rotten Tomatoes for User Reviews of _The Host_\n",
    "\n",
    "Throughout this notebook, I will work on scraping user reviews of _The Host_ on [Rotten Tomatoes](https://www.rottentomatoes.com/m/the_host_2007/reviews?type=user&intcmp=rt-scorecard_audience-score-reviews). After scraping these user reviews, I will also filter by date to include only reviews posted between 2007 and 2009 (which I explain further down below). "
   ]
  },
  {
   "cell_type": "code",
   "execution_count": 1,
   "metadata": {},
   "outputs": [],
   "source": [
    "import requests\n",
    "from bs4 import BeautifulSoup\n",
    "import time\n",
    "import json\n",
    "from nltk.corpus import stopwords\n",
    "import random\n",
    "import re\n",
    "import os\n",
    "import csv\n",
    "import pandas as pd\n",
    "import numpy as np\n",
    "import matplotlib.pyplot as plt\n",
    "\n",
    "from nltk import tokenize\n",
    "from nltk.sentiment.vader import SentimentIntensityAnalyzer\n",
    "\n",
    "from collections import Counter"
   ]
  },
  {
   "cell_type": "code",
   "execution_count": 2,
   "metadata": {},
   "outputs": [],
   "source": [
    "characters_to_strip = '().[]!,\"'"
   ]
  },
  {
   "cell_type": "code",
   "execution_count": 3,
   "metadata": {},
   "outputs": [],
   "source": [
    "%run functions.ipynb"
   ]
  },
  {
   "cell_type": "code",
   "execution_count": 4,
   "metadata": {},
   "outputs": [],
   "source": [
    "url = 'https://www.rottentomatoes.com/m/the_host_2007/reviews?type=user&intcmp=rt-scorecard_audience-score-reviews'\n",
    "\n",
    "headers = {'User-Agent': 'Mozilla/5.0 (Macintosh; Intel Mac OS X 10_10_1) AppleWebKit/537.36 (KHTML, like Gecko) Chrome/39.0.2171.95 Safari/537.36'}\n"
   ]
  },
  {
   "cell_type": "code",
   "execution_count": 5,
   "metadata": {},
   "outputs": [],
   "source": [
    "resp = requests.get(url, headers=headers)"
   ]
  },
  {
   "cell_type": "code",
   "execution_count": 6,
   "metadata": {},
   "outputs": [],
   "source": [
    "html = resp.text"
   ]
  },
  {
   "cell_type": "code",
   "execution_count": 7,
   "metadata": {},
   "outputs": [],
   "source": [
    "doc = BeautifulSoup(html, 'html.parser')"
   ]
  },
  {
   "cell_type": "code",
   "execution_count": 8,
   "metadata": {},
   "outputs": [],
   "source": [
    "reviews = doc.find_all('li', attrs={'class':'audience-reviews__item'})"
   ]
  },
  {
   "cell_type": "code",
   "execution_count": 9,
   "metadata": {},
   "outputs": [
    {
     "data": {
      "text/plain": [
       "10"
      ]
     },
     "execution_count": 9,
     "metadata": {},
     "output_type": "execute_result"
    }
   ],
   "source": [
    "len(reviews)"
   ]
  },
  {
   "cell_type": "code",
   "execution_count": 10,
   "metadata": {},
   "outputs": [
    {
     "data": {
      "text/plain": [
       "<li class=\"audience-reviews__item\" data-qa=\"review-item\">\n",
       "<div class=\"audience-reviews__user-wrap\">\n",
       "<a href=\"/user/id/979050185\">\n",
       "<span class=\"audience-review__default-image\"></span>\n",
       "</a>\n",
       "<div class=\"audience-reviews__name-wrap \">\n",
       "<a class=\"audience-reviews__name\" data-qa=\"review-name\" href=\"/user/id/979050185\">\n",
       "                                woofy g\n",
       "                            </a>\n",
       "</div>\n",
       "</div>\n",
       "<div class=\"audience-reviews__review-wrap\">\n",
       "<span class=\"audience-reviews__score\"><span class=\"star-display\" data-qa=\"star-display\"><span class=\"star-display__filled \"></span><span class=\"star-display__filled \"></span><span class=\"star-display__filled \"></span><span class=\"star-display__filled \"></span><span class=\"star-display__filled \"></span></span></span>\n",
       "<span class=\"audience-reviews__duration\" data-qa=\"review-duration\">Mar 16, 2021</span>\n",
       "<p class=\"audience-reviews__review js-review-text clamp clamp-8 js-clamp\" data-qa=\"review-text\">Amazing monster movie about the strength of the familial bind, as well as the cringey stupidity of authority figures and social hierarchies.</p>\n",
       "<p class=\"audience-reviews__review--mobile js-review-text clamp clamp-4 js-clamp\" data-qa=\"review-mobile-text\">Amazing monster movie about the strength of the familial bind, as well as the cringey stupidity of authority figures and social hierarchies.</p>\n",
       "<div class=\"review-flag-btn__wrapper\">\n",
       "<button class=\"js-review-flag-btn review-flag-btn review-flag-btn--right\" data-author-id=\"979050185\" data-author-realm=\"RT\" data-review-id=\"\">Flag this review</button>\n",
       "</div>\n",
       "</div>\n",
       "</li>"
      ]
     },
     "execution_count": 10,
     "metadata": {},
     "output_type": "execute_result"
    }
   ],
   "source": [
    "reviews[0]"
   ]
  },
  {
   "cell_type": "markdown",
   "metadata": {},
   "source": [
    "* Credit:\n",
    "The code below, used to scrape audience reviews from Rotten Tomatoes, was adapted from: https://stackoverflow.com/questions/62386747/how-to-scrape-rottentomatoes-audience-reviews-using-python"
   ]
  },
  {
   "cell_type": "code",
   "execution_count": 30,
   "metadata": {},
   "outputs": [
    {
     "name": "stdout",
     "output_type": "stream",
     "text": [
      "[0] request review\n",
      "[1] request review\n",
      "[2] request review\n",
      "[3] request review\n",
      "[4] request review\n",
      "[5] request review\n",
      "[6] request review\n",
      "[7] request review\n",
      "[8] request review\n",
      "[9] request review\n",
      "[10] request review\n",
      "[11] request review\n",
      "[12] request review\n",
      "[13] request review\n",
      "[14] request review\n",
      "[15] request review\n",
      "[16] request review\n",
      "[17] request review\n",
      "[18] request review\n",
      "[19] request review\n",
      "[20] request review\n",
      "[21] request review\n",
      "[22] request review\n",
      "[23] request review\n",
      "[24] request review\n",
      "[25] request review\n",
      "[26] request review\n",
      "[27] request review\n",
      "[28] request review\n",
      "[29] request review\n",
      "[30] request review\n",
      "[31] request review\n",
      "[32] request review\n",
      "[33] request review\n",
      "[34] request review\n",
      "[35] request review\n",
      "[36] request review\n",
      "[37] request review\n",
      "[38] request review\n",
      "[39] request review\n",
      "[40] request review\n",
      "[41] request review\n",
      "[42] request review\n",
      "[43] request review\n",
      "[44] request review\n",
      "[45] request review\n",
      "[46] request review\n",
      "[47] request review\n",
      "[48] request review\n",
      "[49] request review\n",
      "[50] request review\n",
      "[51] request review\n",
      "[52] request review\n",
      "[53] request review\n",
      "[54] request review\n",
      "[55] request review\n",
      "[56] request review\n",
      "[57] request review\n",
      "[58] request review\n",
      "[59] request review\n",
      "[60] request review\n",
      "[61] request review\n",
      "[62] request review\n",
      "[63] request review\n",
      "[64] request review\n",
      "[65] request review\n",
      "[66] request review\n",
      "[67] request review\n",
      "[68] request review\n",
      "[69] request review\n",
      "[70] request review\n",
      "[71] request review\n",
      "[72] request review\n",
      "[73] request review\n",
      "[74] request review\n",
      "[75] request review\n",
      "[76] request review\n",
      "[77] request review\n",
      "[78] request review\n",
      "[79] request review\n",
      "[80] request review\n",
      "[81] request review\n",
      "[82] request review\n",
      "[83] request review\n",
      "[84] request review\n",
      "[85] request review\n",
      "[86] request review\n",
      "[87] request review\n",
      "[88] request review\n",
      "[89] request review\n",
      "[90] request review\n",
      "[91] request review\n",
      "[92] request review\n",
      "[93] request review\n",
      "[94] request review\n",
      "[95] request review\n",
      "[96] request review\n",
      "[97] request review\n",
      "[98] request review\n",
      "[99] request review\n",
      "[100] request review\n",
      "[101] request review\n",
      "[102] request review\n",
      "[103] request review\n",
      "[104] request review\n",
      "[105] request review\n",
      "[106] request review\n",
      "[107] request review\n",
      "[108] request review\n",
      "[109] request review\n",
      "[110] request review\n",
      "[111] request review\n",
      "[112] request review\n",
      "[113] request review\n",
      "[114] request review\n",
      "[115] request review\n",
      "[116] request review\n",
      "[117] request review\n",
      "[118] request review\n",
      "[119] request review\n",
      "[120] request review\n",
      "[121] request review\n",
      "[122] request review\n",
      "[123] request review\n",
      "[124] request review\n",
      "[125] request review\n",
      "[126] request review\n",
      "[127] request review\n",
      "[128] request review\n",
      "[129] request review\n",
      "[130] request review\n",
      "[131] request review\n",
      "[132] request review\n",
      "[133] request review\n",
      "[134] request review\n",
      "[135] request review\n",
      "[136] request review\n",
      "[137] request review\n",
      "[138] request review\n",
      "[139] request review\n",
      "[140] request review\n",
      "[141] request review\n",
      "[142] request review\n",
      "[143] request review\n",
      "[144] request review\n",
      "[145] request review\n",
      "[146] request review\n",
      "[147] request review\n",
      "[148] request review\n",
      "[149] request review\n",
      "[150] request review\n",
      "[151] request review\n",
      "[152] request review\n",
      "[153] request review\n",
      "[154] request review\n",
      "[155] request review\n",
      "[156] request review\n",
      "[157] request review\n",
      "[158] request review\n",
      "[159] request review\n",
      "[160] request review\n",
      "[161] request review\n",
      "[162] request review\n",
      "[163] request review\n",
      "[164] request review\n",
      "[165] request review\n",
      "[166] request review\n",
      "[167] request review\n",
      "[168] request review\n",
      "[169] request review\n",
      "[170] request review\n",
      "[171] request review\n",
      "[172] request review\n",
      "[173] request review\n",
      "[174] request review\n",
      "[175] request review\n",
      "[176] request review\n",
      "[177] request review\n",
      "[178] request review\n",
      "[179] request review\n",
      "[180] request review\n",
      "[181] request review\n",
      "[182] request review\n",
      "[183] request review\n",
      "[184] request review\n",
      "[185] request review\n",
      "[186] request review\n",
      "[187] request review\n",
      "[188] request review\n",
      "[189] request review\n",
      "[190] request review\n",
      "[191] request review\n",
      "[192] request review\n",
      "[193] request review\n",
      "[194] request review\n",
      "[195] request review\n",
      "[196] request review\n",
      "[197] request review\n",
      "[198] request review\n",
      "[199] request review\n",
      "[200] request review\n",
      "[201] request review\n",
      "[202] request review\n",
      "[203] request review\n",
      "[204] request review\n",
      "[205] request review\n",
      "[206] request review\n",
      "[207] request review\n",
      "[208] request review\n",
      "[209] request review\n",
      "[210] request review\n",
      "[211] request review\n",
      "[212] request review\n",
      "[213] request review\n",
      "[214] request review\n",
      "[215] request review\n",
      "[216] request review\n",
      "[217] request review\n",
      "[218] request review\n",
      "[219] request review\n",
      "[220] request review\n",
      "[221] request review\n",
      "[222] request review\n",
      "[223] request review\n",
      "[224] request review\n",
      "[225] request review\n",
      "[226] request review\n",
      "[227] request review\n",
      "[228] request review\n",
      "[229] request review\n",
      "[230] request review\n",
      "[231] request review\n",
      "[232] request review\n",
      "[233] request review\n",
      "[234] request review\n",
      "[235] request review\n",
      "[236] request review\n",
      "[237] request review\n",
      "[238] request review\n",
      "[239] request review\n",
      "[240] request review\n",
      "[241] request review\n",
      "[242] request review\n",
      "[243] request review\n",
      "[244] request review\n",
      "[245] request review\n",
      "[246] request review\n",
      "[247] request review\n",
      "[248] request review\n",
      "[249] request review\n",
      "[250] request review\n",
      "[251] request review\n",
      "[252] request review\n",
      "[253] request review\n",
      "[254] request review\n",
      "[255] request review\n",
      "[256] request review\n",
      "[257] request review\n",
      "[258] request review\n",
      "[259] request review\n",
      "[260] request review\n",
      "[261] request review\n",
      "[262] request review\n",
      "[263] request review\n",
      "[264] request review\n",
      "[265] request review\n",
      "[266] request review\n",
      "[267] request review\n",
      "[268] request review\n",
      "[269] request review\n",
      "[270] request review\n",
      "[271] request review\n",
      "[272] request review\n",
      "[273] request review\n",
      "[274] request review\n",
      "[275] request review\n",
      "[276] request review\n",
      "[277] request review\n",
      "[278] request review\n",
      "[279] request review\n",
      "[280] request review\n",
      "[281] request review\n",
      "[282] request review\n",
      "[283] request review\n",
      "[284] request review\n",
      "[285] request review\n",
      "[286] request review\n",
      "[287] request review\n",
      "[288] request review\n",
      "[289] request review\n",
      "[290] request review\n",
      "[291] request review\n",
      "[292] request review\n",
      "[293] request review\n",
      "[294] request review\n",
      "[295] request review\n",
      "[296] request review\n",
      "[297] request review\n",
      "[298] request review\n",
      "[299] request review\n",
      "[300] request review\n",
      "[301] request review\n",
      "[302] request review\n",
      "[303] request review\n",
      "[304] request review\n",
      "[305] request review\n",
      "[306] request review\n",
      "[307] request review\n",
      "[308] request review\n",
      "[309] request review\n",
      "[310] request review\n",
      "[311] request review\n",
      "[312] request review\n",
      "[313] request review\n",
      "[314] request review\n",
      "[315] request review\n",
      "[316] request review\n",
      "[317] request review\n",
      "[318] request review\n",
      "[319] request review\n",
      "[320] request review\n",
      "[321] request review\n",
      "[322] request review\n",
      "[323] request review\n",
      "[324] request review\n",
      "[325] request review\n",
      "[326] request review\n",
      "[327] request review\n",
      "[328] request review\n",
      "[329] request review\n",
      "[330] request review\n",
      "[331] request review\n",
      "[332] request review\n",
      "[333] request review\n",
      "[334] request review\n",
      "[335] request review\n",
      "[336] request review\n",
      "[337] request review\n",
      "[338] request review\n",
      "[339] request review\n",
      "[340] request review\n",
      "[341] request review\n",
      "[342] request review\n",
      "[343] request review\n",
      "[344] request review\n",
      "[345] request review\n",
      "[346] request review\n",
      "[347] request review\n",
      "[348] request review\n",
      "[349] request review\n",
      "[350] request review\n",
      "[351] request review\n",
      "[352] request review\n",
      "[353] request review\n",
      "[354] request review\n",
      "[355] request review\n",
      "[356] request review\n",
      "[357] request review\n",
      "[358] request review\n",
      "[359] request review\n",
      "[360] request review\n",
      "[361] request review\n",
      "[362] request review\n",
      "[363] request review\n",
      "[364] request review\n",
      "[365] request review\n",
      "[366] request review\n",
      "[367] request review\n",
      "[368] request review\n",
      "[369] request review\n",
      "[370] request review\n",
      "[371] request review\n",
      "[372] request review\n",
      "[373] request review\n",
      "[374] request review\n",
      "[375] request review\n",
      "[376] request review\n",
      "[377] request review\n",
      "[378] request review\n",
      "[379] request review\n",
      "[380] request review\n",
      "[381] request review\n",
      "[382] request review\n",
      "[383] request review\n",
      "[384] request review\n",
      "[385] request review\n",
      "[386] request review\n",
      "[387] request review\n",
      "[388] request review\n",
      "[389] request review\n",
      "[390] request review\n",
      "[391] request review\n",
      "[392] request review\n",
      "[393] request review\n",
      "[394] request review\n",
      "[395] request review\n"
     ]
    },
    {
     "name": "stdout",
     "output_type": "stream",
     "text": [
      "[396] request review\n",
      "[397] request review\n",
      "[398] request review\n",
      "[399] request review\n",
      "[400] request review\n",
      "[401] request review\n",
      "[402] request review\n",
      "[403] request review\n",
      "[404] request review\n",
      "[405] request review\n",
      "[406] request review\n",
      "[407] request review\n",
      "[408] request review\n",
      "[409] request review\n",
      "[410] request review\n",
      "[411] request review\n",
      "[412] request review\n",
      "[413] request review\n",
      "[414] request review\n",
      "[415] request review\n",
      "[416] request review\n",
      "[417] request review\n",
      "[418] request review\n",
      "[419] request review\n",
      "[420] request review\n",
      "[421] request review\n",
      "[422] request review\n",
      "[423] request review\n",
      "[424] request review\n",
      "[425] request review\n",
      "[426] request review\n",
      "[427] request review\n",
      "[428] request review\n",
      "[429] request review\n",
      "[430] request review\n",
      "[431] request review\n",
      "[432] request review\n",
      "[433] request review\n",
      "[434] request review\n",
      "[435] request review\n",
      "[436] request review\n",
      "[437] request review\n",
      "[438] request review\n",
      "[439] request review\n",
      "[440] request review\n",
      "[441] request review\n",
      "[442] request review\n",
      "[443] request review\n",
      "[444] request review\n",
      "[445] request review\n",
      "[446] request review\n",
      "[447] request review\n",
      "[448] request review\n",
      "[449] request review\n",
      "[450] request review\n",
      "[451] request review\n",
      "[452] request review\n",
      "[453] request review\n",
      "[454] request review\n",
      "[455] request review\n",
      "[456] request review\n",
      "[457] request review\n",
      "[458] request review\n",
      "[459] request review\n",
      "[460] request review\n",
      "[461] request review\n",
      "[462] request review\n",
      "[463] request review\n",
      "[464] request review\n",
      "[465] request review\n",
      "[466] request review\n",
      "[467] request review\n",
      "[468] request review\n",
      "[469] request review\n",
      "[470] request review\n",
      "[471] request review\n",
      "[472] request review\n",
      "[473] request review\n",
      "[474] request review\n",
      "[475] request review\n",
      "[476] request review\n",
      "[477] request review\n",
      "[478] request review\n",
      "[479] request review\n",
      "[480] request review\n",
      "[481] request review\n",
      "[482] request review\n",
      "[483] request review\n",
      "[484] request review\n",
      "[485] request review\n",
      "[486] request review\n",
      "[487] request review\n",
      "[488] request review\n",
      "[489] request review\n",
      "[490] request review\n",
      "[491] request review\n",
      "[492] request review\n",
      "[493] request review\n",
      "[494] request review\n",
      "[495] request review\n",
      "[496] request review\n",
      "[497] request review\n",
      "[498] request review\n",
      "[499] request review\n",
      "[500] request review\n",
      "[501] request review\n",
      "[502] request review\n",
      "[503] request review\n",
      "[504] request review\n",
      "[505] request review\n",
      "[506] request review\n",
      "[507] request review\n",
      "[508] request review\n",
      "[509] request review\n",
      "[510] request review\n",
      "[511] request review\n",
      "[512] request review\n",
      "[513] request review\n",
      "[514] request review\n",
      "[515] request review\n",
      "[516] request review\n",
      "[517] request review\n",
      "[518] request review\n",
      "[519] request review\n",
      "[520] request review\n",
      "[521] request review\n",
      "[522] request review\n",
      "[523] request review\n",
      "[524] request review\n",
      "[525] request review\n",
      "[526] request review\n",
      "[527] request review\n",
      "[528] request review\n",
      "[529] request review\n",
      "[530] request review\n",
      "[531] request review\n",
      "[532] request review\n",
      "[533] request review\n",
      "[534] request review\n",
      "[535] request review\n",
      "[536] request review\n",
      "[537] request review\n",
      "[538] request review\n",
      "[539] request review\n",
      "[540] request review\n",
      "[541] request review\n",
      "[542] request review\n",
      "[543] request review\n",
      "[544] request review\n",
      "[545] request review\n",
      "[546] request review\n",
      "[547] request review\n",
      "[548] request review\n",
      "[549] request review\n",
      "[550] request review\n",
      "[551] request review\n",
      "[552] request review\n",
      "[553] request review\n",
      "[554] request review\n",
      "[555] request review\n",
      "[556] request review\n",
      "[557] request review\n",
      "[558] request review\n",
      "[559] request review\n",
      "[560] request review\n",
      "[561] request review\n",
      "[562] request review\n",
      "[563] request review\n",
      "[564] request review\n",
      "[565] request review\n",
      "[566] request review\n",
      "[567] request review\n",
      "[568] request review\n",
      "[569] request review\n",
      "[570] request review\n",
      "[571] request review\n",
      "[572] request review\n",
      "[573] request review\n",
      "[574] request review\n",
      "[575] request review\n",
      "[576] request review\n",
      "[577] request review\n",
      "[578] request review\n",
      "[579] request review\n",
      "[580] request review\n",
      "[581] request review\n",
      "[582] request review\n",
      "[583] request review\n",
      "[584] request review\n",
      "[585] request review\n",
      "[586] request review\n",
      "[587] request review\n",
      "[588] request review\n",
      "[589] request review\n",
      "[590] request review\n",
      "[591] request review\n",
      "[592] request review\n",
      "[593] request review\n",
      "[594] request review\n",
      "[595] request review\n",
      "[596] request review\n",
      "[597] request review\n",
      "[598] request review\n",
      "[599] request review\n",
      "got 6000 reviews\n"
     ]
    }
   ],
   "source": [
    "r = requests.get(\"https://www.rottentomatoes.com/m/the_host_2007/reviews?type=user\")\n",
    "data = json.loads(re.search('movieReview\\s=\\s(.*);', r.text).group(1))\n",
    "\n",
    "movieId = data[\"movieId\"]\n",
    "\n",
    "def getReviews(endCursor):\n",
    "    r = requests.get(f\"https://www.rottentomatoes.com/napi/movie/{movieId}/reviews/user\",\n",
    "    params = {\n",
    "        \"direction\": \"next\",\n",
    "        \"endCursor\": endCursor,\n",
    "        \"startCursor\": \"\"\n",
    "    })\n",
    "    return r.json()\n",
    "\n",
    "reviews = []\n",
    "result = {}\n",
    "for i in range(0, 600):\n",
    "    print(f\"[{i}] request review\")\n",
    "    result = getReviews(result[\"pageInfo\"][\"endCursor\"] if i != 0  else \"\")\n",
    "    reviews.extend([t for t in result[\"reviews\"]])\n",
    "    time.sleep(0.1)\n",
    "\n",
    "print(f\"got {len(reviews)} reviews\")"
   ]
  },
  {
   "cell_type": "code",
   "execution_count": 11,
   "metadata": {
    "scrolled": true
   },
   "outputs": [
    {
     "data": {
      "text/plain": [
       "<li class=\"audience-reviews__item\" data-qa=\"review-item\">\n",
       "<div class=\"audience-reviews__user-wrap\">\n",
       "<a href=\"/user/id/978895067\">\n",
       "<span class=\"audience-review__default-image\"></span>\n",
       "</a>\n",
       "<div class=\"audience-reviews__name-wrap \">\n",
       "<a class=\"audience-reviews__name\" data-qa=\"review-name\" href=\"/user/id/978895067\">\n",
       "                                Huizi P\n",
       "                            </a>\n",
       "</div>\n",
       "</div>\n",
       "<div class=\"audience-reviews__review-wrap\">\n",
       "<span class=\"audience-reviews__score\"><span class=\"star-display\" data-qa=\"star-display\"><span class=\"star-display__filled \"></span><span class=\"star-display__filled \"></span><span class=\"star-display__filled \"></span><span class=\"star-display__filled \"></span><span class=\"star-display__empty\"></span></span></span>\n",
       "<span class=\"audience-reviews__duration\" data-qa=\"review-duration\">Nov 05, 2020</span>\n",
       "<p class=\"audience-reviews__review js-review-text clamp clamp-8 js-clamp\" data-qa=\"review-text\">\"The host\" has the usual routine of South Korean disaster films: first, it was caused by mistakes, and South Korean assistants poured it into Hanjiang at the direction of Americans after they clearly knew it was a highly toxic chemical, metaphorically comparing South Korea's position with the United States. The theme of Korean disaster films never seems to show disasters, and even more lies in the irony of the government and human nature. It is also worth mentioning that the film focuses on the insinuation of the relationship between the United States and South Korea. What this movie wants to tell the audience is that when the real disaster comes, it seems that the government cannot protect its citizens. Whether it is facing foreign repression or internal protests, the government will only make promises and do nothing, even for him.  Citizens bring layers of obstacles.</p>\n",
       "<p class=\"audience-reviews__review--mobile js-review-text clamp clamp-4 js-clamp\" data-qa=\"review-mobile-text\">\"The host\" has the usual routine of South Korean disaster films: first, it was caused by mistakes, and South Korean assistants poured it into Hanjiang at the direction of Americans after they clearly knew it was a highly toxic chemical, metaphorically comparing South Korea's position with the United States. The theme of Korean disaster films never seems to show disasters, and even more lies in the irony of the government and human nature. It is also worth mentioning that the film focuses on the insinuation of the relationship between the United States and South Korea. What this movie wants to tell the audience is that when the real disaster comes, it seems that the government cannot protect its citizens. Whether it is facing foreign repression or internal protests, the government will only make promises and do nothing, even for him.  Citizens bring layers of obstacles.</p>\n",
       "<div class=\"review-flag-btn__wrapper\">\n",
       "<button class=\"js-review-flag-btn review-flag-btn review-flag-btn--right\" data-author-id=\"978895067\" data-author-realm=\"RT\" data-review-id=\"\">Flag this review</button>\n",
       "</div>\n",
       "</div>\n",
       "</li>"
      ]
     },
     "execution_count": 11,
     "metadata": {},
     "output_type": "execute_result"
    }
   ],
   "source": [
    "reviews[-1]"
   ]
  },
  {
   "cell_type": "code",
   "execution_count": 75,
   "metadata": {},
   "outputs": [
    {
     "ename": "KeyError",
     "evalue": "'timeFromCreation'",
     "output_type": "error",
     "traceback": [
      "\u001b[0;31m---------------------------------------------------------------------------\u001b[0m",
      "\u001b[0;31mKeyError\u001b[0m                                  Traceback (most recent call last)",
      "\u001b[0;32m<ipython-input-75-d875e4511cd1>\u001b[0m in \u001b[0;36m<module>\u001b[0;34m()\u001b[0m\n\u001b[1;32m      5\u001b[0m \u001b[0;32mfor\u001b[0m \u001b[0mreview\u001b[0m \u001b[0;32min\u001b[0m \u001b[0mreviews\u001b[0m\u001b[0;34m:\u001b[0m\u001b[0;34m\u001b[0m\u001b[0;34m\u001b[0m\u001b[0m\n\u001b[1;32m      6\u001b[0m     rev_dict = {\n\u001b[0;32m----> 7\u001b[0;31m         \u001b[0;34m'date'\u001b[0m \u001b[0;34m:\u001b[0m \u001b[0mreview\u001b[0m\u001b[0;34m[\u001b[0m\u001b[0;34m'timeFromCreation'\u001b[0m\u001b[0;34m]\u001b[0m\u001b[0;34m,\u001b[0m\u001b[0;34m\u001b[0m\u001b[0;34m\u001b[0m\u001b[0m\n\u001b[0m\u001b[1;32m      8\u001b[0m         \u001b[0;34m'text'\u001b[0m \u001b[0;34m:\u001b[0m \u001b[0mreview\u001b[0m\u001b[0;34m[\u001b[0m\u001b[0;34m'review'\u001b[0m\u001b[0;34m]\u001b[0m\u001b[0;34m,\u001b[0m\u001b[0;34m\u001b[0m\u001b[0;34m\u001b[0m\u001b[0m\n\u001b[1;32m      9\u001b[0m         \u001b[0;34m'score'\u001b[0m \u001b[0;34m:\u001b[0m \u001b[0mreview\u001b[0m\u001b[0;34m[\u001b[0m\u001b[0;34m'score'\u001b[0m\u001b[0;34m]\u001b[0m\u001b[0;34m\u001b[0m\u001b[0;34m\u001b[0m\u001b[0m\n",
      "\u001b[0;32m/usr/local/anaconda3/lib/python3.7/site-packages/bs4/element.py\u001b[0m in \u001b[0;36m__getitem__\u001b[0;34m(self, key)\u001b[0m\n\u001b[1;32m   1009\u001b[0m         \"\"\"tag[key] returns the value of the 'key' attribute for the tag,\n\u001b[1;32m   1010\u001b[0m         and throws an exception if it's not there.\"\"\"\n\u001b[0;32m-> 1011\u001b[0;31m         \u001b[0;32mreturn\u001b[0m \u001b[0mself\u001b[0m\u001b[0;34m.\u001b[0m\u001b[0mattrs\u001b[0m\u001b[0;34m[\u001b[0m\u001b[0mkey\u001b[0m\u001b[0;34m]\u001b[0m\u001b[0;34m\u001b[0m\u001b[0;34m\u001b[0m\u001b[0m\n\u001b[0m\u001b[1;32m   1012\u001b[0m \u001b[0;34m\u001b[0m\u001b[0m\n\u001b[1;32m   1013\u001b[0m     \u001b[0;32mdef\u001b[0m \u001b[0m__iter__\u001b[0m\u001b[0;34m(\u001b[0m\u001b[0mself\u001b[0m\u001b[0;34m)\u001b[0m\u001b[0;34m:\u001b[0m\u001b[0;34m\u001b[0m\u001b[0;34m\u001b[0m\u001b[0m\n",
      "\u001b[0;31mKeyError\u001b[0m: 'timeFromCreation'"
     ]
    }
   ],
   "source": [
    "# Getting info I want:\n",
    "\n",
    "host_reviews = []\n",
    "\n",
    "for review in reviews:\n",
    "    rev_dict = {\n",
    "        'date' : review['timeFromCreation'],\n",
    "        'text' : review['review'],\n",
    "        'score' : review['score']\n",
    "    }\n",
    "    host_reviews.append(rev_dict)\n",
    "    "
   ]
  },
  {
   "cell_type": "code",
   "execution_count": 38,
   "metadata": {},
   "outputs": [
    {
     "data": {
      "text/plain": [
       "[{'date': 'Mar 16, 2021',\n",
       "  'score': 5,\n",
       "  'text': 'Amazing monster movie about the strength of the familial bind, as well as the cringey stupidity of authority figures and social hierarchies.'},\n",
       " {'date': 'Feb 14, 2021',\n",
       "  'score': 3.5,\n",
       "  'text': \"Bong Joon Ho's humor just gets me. I love it. As a monster movie it isn't bad. I suggest just watching it for the great directing, the good acting, and the silliness that ensues.\"},\n",
       " {'date': 'Feb 05, 2021',\n",
       "  'score': 0.5,\n",
       "  'text': 'God Awful Horrendous Film Than Is An Insult To The Film Industry And The History Of Cinematography!!1!!!'}]"
      ]
     },
     "execution_count": 38,
     "metadata": {},
     "output_type": "execute_result"
    }
   ],
   "source": [
    "host_reviews[:3]"
   ]
  },
  {
   "cell_type": "markdown",
   "metadata": {},
   "source": [
    "Next steps: Write out as json file, filter words I don't want\n",
    "\n",
    "at least 5000 revs for each movie\n",
    "\n",
    "the host: 2007-2009\n",
    "parasite: 2019-2021"
   ]
  },
  {
   "cell_type": "markdown",
   "metadata": {},
   "source": [
    "Write out the list as a json file:"
   ]
  },
  {
   "cell_type": "code",
   "execution_count": 39,
   "metadata": {},
   "outputs": [],
   "source": [
    "#with open('../data/user_reviews/tomatoes_host_user.json','w', encoding='UTF-8') as out:\n",
    "    out.write(json.dumps(host_reviews))"
   ]
  },
  {
   "cell_type": "markdown",
   "metadata": {},
   "source": [
    "Open the json file that I just downloaded:"
   ]
  },
  {
   "cell_type": "code",
   "execution_count": 76,
   "metadata": {},
   "outputs": [],
   "source": [
    "host_rt = json.load(open('../data/user_reviews/tomatoes_host_user.json'))"
   ]
  },
  {
   "cell_type": "markdown",
   "metadata": {},
   "source": [
    "Look at a random example from the list of Rotten Tomatoes (rt) user reviews of _The Host_ :"
   ]
  },
  {
   "cell_type": "code",
   "execution_count": 77,
   "metadata": {},
   "outputs": [
    {
     "data": {
      "text/plain": [
       "{'date': 'Aug 30, 2007',\n",
       " 'score': 4,\n",
       " 'text': \"All the buzz is well-deserved; it's just as good as people say. Only gripe being that it lulls for 20 min or so in the middle, but only because the rest is brilliant.\"}"
      ]
     },
     "execution_count": 77,
     "metadata": {},
     "output_type": "execute_result"
    }
   ],
   "source": [
    "host_rt[4000]"
   ]
  },
  {
   "cell_type": "markdown",
   "metadata": {},
   "source": [
    "Filter by date! \n",
    "\n",
    "I only want reviews that were posted between its availability in the US, which was starting in 2007, and 2009. This is because I want to analyze audience reviews that were posted within the first two years of the movie's release. That way, these reviews would not be affected by more recent hype around Director Bong Joon Ho's work. Instead, reviews that are most closely posted to the release date would reflect more authentic reviews on the movie. Additionally, this works well because _Parasite_ was released in 2019, which means at the time I am completing this project in 2021, it has been 2 years since that movie came out. Thus, for the audience reviews, this evens out the time between the film's release date and when the reviews are posted.\n",
    "\n",
    "_The Host_ \n",
    "\"The film was released on a limited basis in the United States on March 9, 2007, and on DVD, Blu-ray, and HD DVD formats on July 24, 2007\""
   ]
  },
  {
   "cell_type": "code",
   "execution_count": 78,
   "metadata": {},
   "outputs": [
    {
     "data": {
      "text/plain": [
       "'Aug 30, 2007'"
      ]
     },
     "execution_count": 78,
     "metadata": {},
     "output_type": "execute_result"
    }
   ],
   "source": [
    "host_rt[4000]['date']"
   ]
  },
  {
   "cell_type": "markdown",
   "metadata": {},
   "source": [
    "date: mmm dd, yyyy"
   ]
  },
  {
   "cell_type": "code",
   "execution_count": 79,
   "metadata": {
    "scrolled": true
   },
   "outputs": [
    {
     "data": {
      "text/plain": [
       "'2007'"
      ]
     },
     "execution_count": 79,
     "metadata": {},
     "output_type": "execute_result"
    }
   ],
   "source": [
    "host_rt[4000]['date'][8:12]"
   ]
  },
  {
   "cell_type": "code",
   "execution_count": 80,
   "metadata": {},
   "outputs": [],
   "source": [
    "# Creating a new key:value pair for the year that the review was posted:\n",
    "\n",
    "years = []\n",
    "\n",
    "for rev in host_rt:\n",
    "    years.append(rev['date'][8:12])\n",
    "    rev['year'] = int(rev['date'][8:12])\n",
    "    "
   ]
  },
  {
   "cell_type": "code",
   "execution_count": 81,
   "metadata": {},
   "outputs": [
    {
     "data": {
      "text/plain": [
       "{'date': 'Aug 30, 2007',\n",
       " 'score': 4,\n",
       " 'text': \"All the buzz is well-deserved; it's just as good as people say. Only gripe being that it lulls for 20 min or so in the middle, but only because the rest is brilliant.\",\n",
       " 'year': 2007}"
      ]
     },
     "execution_count": 81,
     "metadata": {},
     "output_type": "execute_result"
    }
   ],
   "source": [
    "# Checking to see if this worked:\n",
    "\n",
    "host_rt[4000]"
   ]
  },
  {
   "cell_type": "markdown",
   "metadata": {},
   "source": [
    "Yay! It worked! Now we can use this new key:value pair in each dictionary in our list, called `year`, and we can filter by year so that we get a list of only the reviews that were posted between 2007 and 2009."
   ]
  },
  {
   "cell_type": "code",
   "execution_count": 82,
   "metadata": {},
   "outputs": [
    {
     "data": {
      "text/plain": [
       "int"
      ]
     },
     "execution_count": 82,
     "metadata": {},
     "output_type": "execute_result"
    }
   ],
   "source": [
    "type(host_rt[4000]['year'])"
   ]
  },
  {
   "cell_type": "code",
   "execution_count": 84,
   "metadata": {},
   "outputs": [],
   "source": [
    "# Filtering by year:\n",
    "\n",
    "rt_host_user = []\n",
    "\n",
    "for rev in host_rt:\n",
    "    if rev['year']<2010:\n",
    "        revs_dict = {\n",
    "            'date' : rev['date'],\n",
    "            'score' : rev['score'],\n",
    "            'text' : rev['text']\n",
    "        }\n",
    "        rt_host_user.append(revs_dict)"
   ]
  },
  {
   "cell_type": "code",
   "execution_count": 87,
   "metadata": {},
   "outputs": [
    {
     "data": {
      "text/plain": [
       "5216"
      ]
     },
     "execution_count": 87,
     "metadata": {},
     "output_type": "execute_result"
    }
   ],
   "source": [
    "len(rt_host_user)"
   ]
  },
  {
   "cell_type": "markdown",
   "metadata": {},
   "source": [
    "I have 5216 user reviews of _The Host_ to work with!"
   ]
  },
  {
   "cell_type": "code",
   "execution_count": 85,
   "metadata": {
    "scrolled": true
   },
   "outputs": [
    {
     "data": {
      "text/plain": [
       "{'date': 'Dec 30, 2009',\n",
       " 'score': 3.5,\n",
       " 'text': 'For a monster movie this was quite good. Decent special effects and good acting all around. I feel that the aspect of military involvement and the supposed virus scare was never really expanded upon properly, leaving lots of \"why?\" when the credits role. Overall a great overseas horror flick, and I gotta say it\\'s good to see something from that part of te globe where te main antagonist is NOT a woman with long black hair hanging in front of her face :)'}"
      ]
     },
     "execution_count": 85,
     "metadata": {},
     "output_type": "execute_result"
    }
   ],
   "source": [
    "rt_host_user[0]"
   ]
  },
  {
   "cell_type": "code",
   "execution_count": 86,
   "metadata": {},
   "outputs": [
    {
     "data": {
      "text/plain": [
       "{'date': 'Jul 05, 2007',\n",
       " 'score': 4.5,\n",
       " 'text': 'Forget every monster movie you have ever seen: the Host wins hands down. Funny, poignant and exciting, this movie is more about the dysfunctional family that combat the mutated fish thingy rather than the monster itself. Similar in style to Q: the Winged Serpent, this nevertheless has a unique style, especially with the colour-saturated tones and the unorthodox way they show the monster in the first ten minutes of the film. I did think they could have dissed the Yanks more for the pollutuon of their river though. Awesome: I insist that everyone see this fantastic movie immediately! ZFK maximum rating.'}"
      ]
     },
     "execution_count": 86,
     "metadata": {},
     "output_type": "execute_result"
    }
   ],
   "source": [
    "rt_host_user[-1]"
   ]
  },
  {
   "cell_type": "markdown",
   "metadata": {},
   "source": [
    "Saving out this new list of dictionaries as a json file, so that I can carry out analysis on my list of user reviews for _The Host_ that were posted between 2007 and 2009:"
   ]
  },
  {
   "cell_type": "code",
   "execution_count": 88,
   "metadata": {},
   "outputs": [],
   "source": [
    "with open('../data/user_reviews/tomatoes_host_user.json','w', encoding='UTF-8') as out:\n",
    "    out.write(json.dumps(rt_host_user))"
   ]
  },
  {
   "cell_type": "code",
   "execution_count": 89,
   "metadata": {},
   "outputs": [],
   "source": [
    "rt_host_user = json.load(open('../data/user_reviews/tomatoes_host_user.json'))"
   ]
  },
  {
   "cell_type": "code",
   "execution_count": 90,
   "metadata": {},
   "outputs": [
    {
     "data": {
      "text/plain": [
       "5216"
      ]
     },
     "execution_count": 90,
     "metadata": {},
     "output_type": "execute_result"
    }
   ],
   "source": [
    "len(rt_host_user)"
   ]
  },
  {
   "cell_type": "markdown",
   "metadata": {},
   "source": [
    "It looks like we have plenty of reviews (5,216) to work with!\n",
    "\n",
    "## Conclusion\n",
    "\n",
    "In this notebook, I worked on scraping, cleaning, extracting information from user reviews of _The Host_ using the Rotten Tomatoes site. Next, before I move onto analysis of these reviews, I will look into filtering out non-English reviews so that I can carry out my analyses on English ones. This will be done in the `lang_detect` notebook, and once I am finished with that, please refer to `analysis_user_tomatoes1` and `analysis_user_tomatoes2` to see what analysis I carried out!\n",
    "\n",
    "Thank you."
   ]
  },
  {
   "cell_type": "code",
   "execution_count": null,
   "metadata": {},
   "outputs": [],
   "source": []
  }
 ],
 "metadata": {
  "kernelspec": {
   "display_name": "Python 3",
   "language": "python",
   "name": "python3"
  },
  "language_info": {
   "codemirror_mode": {
    "name": "ipython",
    "version": 3
   },
   "file_extension": ".py",
   "mimetype": "text/x-python",
   "name": "python",
   "nbconvert_exporter": "python",
   "pygments_lexer": "ipython3",
   "version": "3.7.3"
  }
 },
 "nbformat": 4,
 "nbformat_minor": 2
}
