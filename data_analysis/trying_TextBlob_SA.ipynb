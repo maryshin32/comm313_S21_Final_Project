{
 "cells": [
  {
   "cell_type": "markdown",
   "metadata": {},
   "source": [
    "### Trying the sentiment analyzer in TextBlob\n",
    "\n",
    "In this notebook I will try to see if TextBlob works better than VADER for sentiment analysis (whether I get different results or more comprehensive findings).\n",
    "* `TextBlob` is a Python NLP processor that builds on top of NLTK.\n",
    "\n",
    "* One of the components is a sentiment analyzer that has two modes:\n",
    "    1. a lexical approach using a lexicon of adjectives scored for subjectivity\n",
    "    2. a machine learning classifier approach (using Naive Bayes algorithm) trained on the Movie Review corpus\n",
    "    \n",
    "    \n",
    "* I wonder if this tool might be a better fit to my corpora than VADER"
   ]
  },
  {
   "cell_type": "code",
   "execution_count": 1,
   "metadata": {},
   "outputs": [],
   "source": [
    "import json\n",
    "\n",
    "import seaborn as sns\n",
    "import numpy as np\n",
    "import textblob\n",
    "from textblob.sentiments import NaiveBayesAnalyzer\n",
    "\n",
    "from nltk.sentiment import SentimentIntensityAnalyzer"
   ]
  },
  {
   "cell_type": "markdown",
   "metadata": {},
   "source": [
    "#### Load data"
   ]
  },
  {
   "cell_type": "code",
   "execution_count": 2,
   "metadata": {},
   "outputs": [],
   "source": [
    "nexis_host = json.load(open('../data/critic_reviews/nexis_host_critic.json'))\n",
    "nexis_parasite = json.load(open('../data/critic_reviews/nexis_parasite_critic.json'))"
   ]
  },
  {
   "cell_type": "markdown",
   "metadata": {},
   "source": [
    "### Set up SA tools\n",
    "\n",
    "* VADER\n",
    "* TextBlob"
   ]
  },
  {
   "cell_type": "code",
   "execution_count": 3,
   "metadata": {},
   "outputs": [],
   "source": [
    "sid = SentimentIntensityAnalyzer()"
   ]
  },
  {
   "cell_type": "markdown",
   "metadata": {},
   "source": [
    "Looking at The Host first:"
   ]
  },
  {
   "cell_type": "code",
   "execution_count": 4,
   "metadata": {},
   "outputs": [],
   "source": [
    "# TextBlob\n",
    "# mode 1 (intensity)\n",
    "tb1=textblob.TextBlob(nexis_host[0]['text'])\n",
    "\n",
    "# mode 2 (classifier trained on reviews)\n",
    "tb2=textblob.TextBlob(nexis_host[0]['text'], analyzer=NaiveBayesAnalyzer())"
   ]
  },
  {
   "cell_type": "code",
   "execution_count": 5,
   "metadata": {},
   "outputs": [
    {
     "data": {
      "text/plain": [
       "Sentiment(polarity=0.0825819203944204, subjectivity=0.4820716089466091)"
      ]
     },
     "execution_count": 5,
     "metadata": {},
     "output_type": "execute_result"
    }
   ],
   "source": [
    "tb1.sentiment"
   ]
  },
  {
   "cell_type": "markdown",
   "metadata": {},
   "source": [
    "* Mode 1 gives a polarity and subjectivity score\n",
    "\n",
    "* And in this mode you can also see the words that are driving the score"
   ]
  },
  {
   "cell_type": "code",
   "execution_count": 6,
   "metadata": {},
   "outputs": [
    {
     "data": {
      "text/plain": [
       "Sentiment(polarity=0.0825819203944204, subjectivity=0.4820716089466091, assessments=[(['american'], 0.0, 0.0, None), (['public'], 0.0, 0.06666666666666667, None), (['lively'], 0.13636363636363635, 0.5, None), (['average'], -0.15, 0.39999999999999997, None), (['american'], 0.0, 0.0, None), (['good'], 0.7, 0.6000000000000001, None), (['finally'], 0.0, 1.0, None), (['common'], -0.3, 0.5, None), (['giant'], 0.0, 1.0, None), (['tries'], -0.1, 0.4, None), (['kind'], 0.6, 0.9, None), (['able'], 0.5, 0.625, None), (['same'], 0.0, 0.125, None), (['thanks'], 0.2, 0.2, None), (['sure'], 0.5, 0.8888888888888888, None), (['giant'], 0.0, 1.0, None), (['american'], 0.0, 0.0, None), (['several'], 0.0, 0.0, None), (['dusty'], -0.4, 0.6, None), (['present'], 0.0, 0.0, None), (['fine'], 0.4166666666666667, 0.5, None), (['whole'], 0.2, 0.4, None), (['first'], 0.25, 0.3333333333333333, None), (['casually'], -0.5000000000000001, 0.8666666666666667, None), (['left'], 0.0, 0.0, None), (['full'], 0.35, 0.55, None), (['same'], 0.0, 0.125, None), (['disbelieving'], -0.1, 0.8, None), (['most'], 0.5, 0.5, None), (['effective'], 0.6, 0.8, None), (['first'], 0.25, 0.3333333333333333, None), (['major'], 0.0625, 0.5, None), (['more'], 0.5, 0.5, None), (['horrifying'], -0.9, 1.0, None), (['weirdly', 'funny'], 0.25, 1.0, None), (['more'], 0.5, 0.5, None), (['impressive'], 1.0, 1.0, None), (['arduous'], -0.35, 0.85, None), (['quickly'], 0.3333333333333333, 0.5, None), (['straight'], 0.2, 0.4, None), (['action'], 0.1, 0.1, None), (['filled'], 0.4, 0.9, None), (['fly'], 0.8, 0.9, None), (['significant'], 0.375, 0.875, None), (['win'], 0.8, 0.4, None), (['only'], 0.0, 1.0, None), (['other'], -0.125, 0.375, None), (['adept'], 0.6, 0.9, None), (['early'], 0.1, 0.3, None), (['quick'], 0.3333333333333333, 0.5, None), (['emotional'], 0.0, 0.65, None), (['closed'], -0.1, 0.1, None), (['short'], 0.0, 0.3, None), (['horrific'], -1.0, 1.0, None), (['loses'], -0.3, 0.1, None), (['initially'], 0.0, 0.0, None), (['dead'], -0.2, 0.4, None), (['crushed'], -0.1, 0.1, None), (['full'], 0.35, 0.55, None), (['static'], 0.5, 0.9, None), (['other'], -0.125, 0.375, None), (['difficult'], -0.5, 1.0, None), (['definitely'], 0.0, 0.5, None), (['alive'], 0.1, 0.4, None), (['first'], 0.25, 0.3333333333333333, None), (['new'], 0.13636363636363635, 0.45454545454545453, None), (['political'], 0.0, 0.1, None), (['present'], 0.0, 0.0, None), (['american'], 0.0, 0.0, None), (['first'], 0.25, 0.3333333333333333, None), (['further'], 0.0, 0.5, None), (['direct'], 0.1, 0.4, None), (['consistently'], 0.25, 0.25, None), (['corrupt'], -0.5, 1.0, None), (['incompetent'], -0.35, 0.3666666666666667, None), (['quick'], 0.3333333333333333, 0.5, None), (['further'], 0.0, 0.5, None), (['less'], -0.16666666666666666, 0.06666666666666667, None), (['willing'], 0.25, 0.75, None), (['only'], 0.0, 1.0, None), (['fail'], -0.5, 0.29999999999999993, None), (['thematic'], 0.0, 0.0, None), (['succeeds'], 0.7, 0.1, None), (['grandly'], 0.5, 1.0, None), (['many'], 0.5, 0.5, None), (['inevitable'], 0.0, 1.0, None), (['whole'], 0.2, 0.4, None), (['not', 'afraid'], 0.3, 0.9, None), (['absurd'], -0.5, 1.0, None), (['such'], 0.0, 0.5, None), (['middle'], 0.0, 0.0, None), (['killed'], -0.2, 0.0, None), (['action'], 0.1, 0.1, None), (['crisp'], 0.25, 0.4166666666666667, None), (['exhausted'], -0.4, 0.7, None), (['true'], 0.35, 0.65, None), (['fun'], 0.3, 0.2, None), (['big'], 0.0, 0.1, None), (['ugly'], -0.7, 1.0, None), (['down'], -0.15555555555555559, 0.2888888888888889, None), (['down'], -0.15555555555555559, 0.2888888888888889, None), (['more'], 0.5, 0.5, None), (['forgettable'], -0.5, 0.5, None), (['succeeds'], 0.7, 0.1, None), (['most'], 0.5, 0.5, None), (['cinematic'], 0.0, 0.2, None), (['not', 'necessarily'], -0.0, 1.0, None), (['such'], 0.0, 0.5, None), (['general'], 0.05000000000000002, 0.5, None), (['only'], 0.0, 1.0, None), (['professional'], 0.1, 0.1, None), (['such'], 0.0, 0.5, None), (['such'], 0.0, 0.5, None), (['such'], 0.0, 0.5, None), (['other'], -0.125, 0.375, None), (['such'], 0.0, 0.5, None), (['individual'], 0.0, 0.4, None), (['such'], 0.0, 0.5, None), (['right'], 0.2857142857142857, 0.5357142857142857, None), (['sole'], 0.0, 0.25, None)])"
      ]
     },
     "execution_count": 6,
     "metadata": {},
     "output_type": "execute_result"
    }
   ],
   "source": [
    "tb1.sentiment_assessments"
   ]
  },
  {
   "cell_type": "code",
   "execution_count": 7,
   "metadata": {
    "scrolled": true
   },
   "outputs": [
    {
     "data": {
      "text/plain": [
       "Sentiment(classification='pos', p_pos=1.0, p_neg=1.9087236869021277e-29)"
      ]
     },
     "execution_count": 7,
     "metadata": {},
     "output_type": "execute_result"
    }
   ],
   "source": [
    "tb2.sentiment"
   ]
  },
  {
   "cell_type": "markdown",
   "metadata": {},
   "source": [
    "* Mode 2 gives a label (`pos`/`neg`) and a confidence/probalility score)\n",
    "\n",
    "* So then you could create a dictionary:"
   ]
  },
  {
   "cell_type": "code",
   "execution_count": 8,
   "metadata": {},
   "outputs": [],
   "source": [
    "tb_score = {\n",
    "            'tb_polarity': tb1.sentiment.polarity, \n",
    "            'tb_subjectivity': tb1.sentiment.subjectivity,\n",
    "            'tb_class': tb2.sentiment.classification,\n",
    "            'tb_prob_pos': tb2.sentiment.p_pos\n",
    "           }"
   ]
  },
  {
   "cell_type": "code",
   "execution_count": 9,
   "metadata": {},
   "outputs": [
    {
     "data": {
      "text/plain": [
       "{'tb_class': 'pos',\n",
       " 'tb_polarity': 0.0825819203944204,\n",
       " 'tb_prob_pos': 1.0,\n",
       " 'tb_subjectivity': 0.4820716089466091}"
      ]
     },
     "execution_count": 9,
     "metadata": {},
     "output_type": "execute_result"
    }
   ],
   "source": [
    "tb_score"
   ]
  },
  {
   "cell_type": "markdown",
   "metadata": {},
   "source": [
    "* Compare with VADER"
   ]
  },
  {
   "cell_type": "code",
   "execution_count": 10,
   "metadata": {
    "scrolled": true
   },
   "outputs": [
    {
     "data": {
      "text/plain": [
       "{'compound': -0.6895, 'neg': 0.09, 'neu': 0.815, 'pos': 0.094}"
      ]
     },
     "execution_count": 10,
     "metadata": {},
     "output_type": "execute_result"
    }
   ],
   "source": [
    "sid.polarity_scores(nexis_host[0]['text'])"
   ]
  },
  {
   "cell_type": "code",
   "execution_count": 11,
   "metadata": {},
   "outputs": [
    {
     "data": {
      "text/plain": [
       "'Mar. 8, 2007 (Blogcritics.org delivered by Newstex) -- \\n If there.s one film that will plant South Korean cinema into the mind of the American public, The Host is it. Bong Joon-ho.s lively feature provides all the thrills and sensation of the average American summer spectacle, except that it does so while still remaining a good movie. It.s got heart, hilarity, triumph and tragedy as it gives us a fractured family that finally sets aside their differences and unites towards a common goal. It.s also got a giant mutant fish-monster that tries to eat everything in its path.\\n\\nStill with me? That.s the kind of film that The Host is - able to shift tones on a moment.s notice (often within the same scene), Bong uses all his formidable talents to bring respect to a disreputable genre. And thanks to his sure hand, somehow it all comes together.\\n\\nThe genesis of this giant mutant fish-monster comes in the year 2000 prologue, when an American government official, over the objections of his Korean subordinate, orders the disposal of several hundred bottles of formaldehyde (they were dusty). Flash forward to the present, when the monster crawls out of the Han River one fine summer day and wreaks a whole ton of havoc. \\n This is a spellbinding sequence - the first glimmer of the rampage comes when layabout snack-booth merchant Park Gang-du (Song Kang-ho) casually turns to his left and sees the beast running full bore at him, trampling or swallowing everyone in between, and the rest of the sequence has that same disbelieving, half-glimpsed quality about it. Most effective is the first tail whip, which would be played as a major shock-cut in Hollywood but here is viewed from a distance, which makes it somehow both more horrifying and weirdly funny. \\n\\nThe attack is all the more impressive for coming not fifteen minutes into a two-hour film; in lieu of arduous story setup, Bong quickly introduces the members of the Park family and jumps straight into the action, leaving the rest to be filled in on the fly as the remainder of the film proceeds. A significant portion of the family is elsewhere at the time -- Nam-joo (Bae Doo-na) is on television attempting to win a gold medal in archery, while Nam-il (Park Hae-il) we learn of only in Gang-du.s conversation with his daughter Hyun-seo (Ko Ah-sung) about his showing up at parent-teacher day in place of the shiftless, borderline-narcoleptic Gang-du. \\n Among other things, Bong demonstrates with The Host that he.s adept at the art of storytelling shorthand. In this early scene alone, he gives us quick sketches of five characters without feeling expository or leaving the snack shack run by Gang-du.s father Hie-bong (Byoen Hie-bong), while simultaneously emphasizing the spatial separateness that is reflected by the family.s emotional divisions. Both of these gulfs are closed in short order by a horrific event, and that.s when the meat of The Host arrives on the scene.\\n\\nIt.s a hell of an event, too: During the opening monster mash, Gang-du loses sight of where he.s going, stumbles and accidentally lets go of Hyun-seo.s hand. Just as he realizes his error, he turns to see Hyun-seo being swept up and carried away by the monster.s tail. \\n Initially thinking her dead, the family is crushed. One night, though, Gang-du gets a call; the reception is full of static and the voice on the other end is difficult to hear, but it.s definitely Hyun-seo. Before her cell phone dies, she manages to get across that she.s alive in a sewer somewhere. The family then resolves to band together and save her... but first, they have to get out of quarantine. See, Gang-du got monster blood on him, and the monster might be carrying a new virus, so...\\n\\nAs you can see, there.s a lot going on in The Host. I haven.t even touched upon the political dimensions present within the progression of the plot -- it was, after all, the order of an American soldier that caused the mutation in the first place, and as the crisis spins out further, there.s talk of direct intervention. Bong isn.t just indulging in America-bashing, though; the Korean government is consistently displayed as corrupt, inefficient, and incompetent (example: the scene where Gang-du and Hie-bong talk their way through a guard post using quick words, a stolen van, and a bucketful of change). The further along things go, the less willing anyone in charge is to admit mistakes, which leads to some unforeseen narrative complications. By the climactic showdown, the Park family appears to be the only hope for humanity - where the institutions fail, the family will persevere.\\n\\nLest I lose sight of my target, though, I might as well confess that this is all thematic gravy and the foremost intent of The Host is to entertain. Bong succeeds in this aim grandly. He throws so many balls in the air that it seems inevitable that some will fall, and while a couple subplots go unresolved, on the whole Bong keeps an admirable balance. \\n He.s also not afraid to puncture the creeping seriousness of the situation with absurd comedy, such as the mourning scene degenerating into a thrashing slugfest between Nam-il and Gang-du or the hazmat-suited soldier who, in the middle of Hie-bong.s vow of vengeance against the beast that assumedly killed his granddaughter and apropos of nothing, slips and falls.\\n\\nThe action scenes are also well-handled. While nothing quite tops the jaw-dropping frisson of the monster.s introductory romp, Bong moves the film along at a crisp pace and keeps the tension at a rolling boil. Whether it.s Nam-il giving an impromptu demonstration of his escape artist skills, Nam-joo attempting to get off an arrow at the monster before it runs her over, or Hyen-seo struggling to sneak out of the monster.s lair without attracting attention, The Host keeps the excitement coming.\\n\\nIt.s the finale, with its confrontation between an exhausted monster and a determined Park family, that drives home the true measure of Bong.s achievement. The mutant fish is a means, not an end. While it.s lots of fun to watch a big ugly something chow down, there needs to be something else down the line if a work of art is going to be more than a forgettable diversion. By not losing sight of the humanity of the situation, The Host succeeds in ways most genre efforts wouldn.t think to consider. \\nSteve Carlson has been running his website The Ongoing Cinematic Education of... for over five years. He likes caffeine. And alcohol.\\n\\u2028Notes\\n\\n\\n\\nThe views expressed on blogs distributed by Newstex and its re-distributors (\"Blogs via Newstex\") are solely the author\\'s and not necessarily the views of Newstex or its re-distributors. Posts from such authors are provided \"AS IS\", with no warranties, and confer no rights. The material and information provided in Blogs via Newstex are for general information only and should not, in any respect, be relied on as professional advice. No content on such Blogs via Newstex is \"read and approved\" before it is posted. Accordingly, neither Newstex nor its re-distributors make any claims, promises or guarantees about the accuracy, completeness, or adequacy of the information contained therein or linked to from such blogs, nor take responsibility for any aspect of such blog content. All content on Blogs via Newstex shall be construed as author-based content and commentary. Accordingly, no warranties or other guarantees will be offered as to the quality of the opinions, commentary or anything else offered on such Blogs via Newstex. Reader\\'s comments reflect their individual opinion and their publication within Blogs via Newstex shall not infer or connote an endorsement by Newstex or its re-distributors of such reader\\'s comments or views. Newstex and its re-distributors expressly reserve the right to delete posts and comments at its and their sole discretion.'"
      ]
     },
     "execution_count": 11,
     "metadata": {},
     "output_type": "execute_result"
    }
   ],
   "source": [
    "# Looking at that review:\n",
    "\n",
    "nexis_host[0]['text']"
   ]
  },
  {
   "cell_type": "markdown",
   "metadata": {},
   "source": [
    "So that's a pretty big difference. For the same review, we see that the TextBlob analysis shows it as a positive sentiment review, and it's very confident/probable (`tb_prob_pos` = 1.0). And then we look at the VADER results, and it shows that review as having a compound sentiment score of -0.6895. So, this means VADER really isn't doing the best job! Especially because that first review was not that negative, after reading some of the text above!\n",
    "\n",
    "So let's do the same process, but now for the whole list of `nexis_host`:"
   ]
  },
  {
   "cell_type": "code",
   "execution_count": 12,
   "metadata": {},
   "outputs": [],
   "source": [
    "# use TextBlob for whole critic rev document list\n",
    "# make dictionary, add in the label and scores, and add this dict to a list:\n",
    "\n",
    "tb_host = []\n",
    "\n",
    "for rev in nexis_host:\n",
    "    tb1 = textblob.TextBlob(rev['text'])\n",
    "    tb2 = textblob.TextBlob(rev['text'], analyzer = NaiveBayesAnalyzer())\n",
    "    tb_score = {\n",
    "        'tb_polarity_host' : tb1.sentiment.polarity,\n",
    "        'tb_subjectivity_host' : tb1.sentiment.subjectivity,\n",
    "        'tb_class_host' : tb2.sentiment.classification,\n",
    "        'tb_prob_pos_host' : tb2.sentiment.p_pos\n",
    "    }\n",
    "    tb_host.append(tb_score)"
   ]
  },
  {
   "cell_type": "markdown",
   "metadata": {},
   "source": [
    "Great, now let's take a look at the first 3 critic reviews:"
   ]
  },
  {
   "cell_type": "code",
   "execution_count": 13,
   "metadata": {},
   "outputs": [
    {
     "data": {
      "text/plain": [
       "[{'tb_class_host': 'pos',\n",
       "  'tb_polarity_host': 0.0825819203944204,\n",
       "  'tb_prob_pos_host': 1.0,\n",
       "  'tb_subjectivity_host': 0.4820716089466091},\n",
       " {'tb_class_host': 'pos',\n",
       "  'tb_polarity_host': 0.03815231152495305,\n",
       "  'tb_prob_pos_host': 1.0,\n",
       "  'tb_subjectivity_host': 0.5624783549783549},\n",
       " {'tb_class_host': 'pos',\n",
       "  'tb_polarity_host': 0.03232905500141327,\n",
       "  'tb_prob_pos_host': 1.0,\n",
       "  'tb_subjectivity_host': 0.3851694410972762}]"
      ]
     },
     "execution_count": 13,
     "metadata": {},
     "output_type": "execute_result"
    }
   ],
   "source": [
    "tb_host[:3]"
   ]
  },
  {
   "cell_type": "markdown",
   "metadata": {},
   "source": [
    "Just based on these 3 above, all of them have been classified as `pos` sentiment, and we can compare these 3 to VADER results again, because I'm curious:"
   ]
  },
  {
   "cell_type": "code",
   "execution_count": 14,
   "metadata": {},
   "outputs": [],
   "source": [
    "vader_host = []\n",
    "\n",
    "for rev in nexis_host:\n",
    "    scores = sid.polarity_scores(rev['text'])\n",
    "    vader_host.append(scores)"
   ]
  },
  {
   "cell_type": "code",
   "execution_count": 15,
   "metadata": {},
   "outputs": [
    {
     "data": {
      "text/plain": [
       "[{'compound': -0.6895, 'neg': 0.09, 'neu': 0.815, 'pos': 0.094},\n",
       " {'compound': -0.0268, 'neg': 0.085, 'neu': 0.829, 'pos': 0.086},\n",
       " {'compound': -0.9949, 'neg': 0.118, 'neu': 0.805, 'pos': 0.076}]"
      ]
     },
     "execution_count": 15,
     "metadata": {},
     "output_type": "execute_result"
    }
   ],
   "source": [
    "vader_host[:3]"
   ]
  },
  {
   "cell_type": "markdown",
   "metadata": {},
   "source": [
    "Yup, this shows us the limitations of VADER. It doesn't pick up the context, it only looks at individual words, so it won't give us a very accurate view of the sentiment. All of the first 3 reviews were classified as positive from TextBlob, but all of them show up negative compound sentiment scores when using the VADER tool. \n",
    "\n",
    "Now that we know this, let's do the same process with _Parasite_ critic reviews:\n",
    "\n",
    "### Same process with _Parasite_ critic reviews:"
   ]
  },
  {
   "cell_type": "code",
   "execution_count": 16,
   "metadata": {},
   "outputs": [],
   "source": [
    "# use TextBlob for whole critic rev document list\n",
    "# make dictionary, add in the label and scores, and add this dict to a list:\n",
    "\n",
    "tb_ps = []\n",
    "\n",
    "for rev in nexis_parasite:\n",
    "    tb1 = textblob.TextBlob(rev['text'])\n",
    "    tb2 = textblob.TextBlob(rev['text'], analyzer = NaiveBayesAnalyzer())\n",
    "    tb_score = {\n",
    "        'tb_polarity_ps' : tb1.sentiment.polarity,\n",
    "        'tb_subjectivity_ps' : tb1.sentiment.subjectivity,\n",
    "        'tb_class_ps' : tb2.sentiment.classification,\n",
    "        'tb_prob_pos_ps' : tb2.sentiment.p_pos\n",
    "    }\n",
    "    tb_ps.append(tb_score)"
   ]
  },
  {
   "cell_type": "markdown",
   "metadata": {},
   "source": [
    "Looking at the first few items in our new list:"
   ]
  },
  {
   "cell_type": "code",
   "execution_count": 17,
   "metadata": {},
   "outputs": [
    {
     "data": {
      "text/plain": [
       "[{'tb_class_ps': 'pos',\n",
       "  'tb_polarity_ps': 0.13687327823691461,\n",
       "  'tb_prob_pos_ps': 1.0,\n",
       "  'tb_subjectivity_ps': 0.44578971533516987},\n",
       " {'tb_class_ps': 'pos',\n",
       "  'tb_polarity_ps': 0.15391450216450217,\n",
       "  'tb_prob_pos_ps': 1.0,\n",
       "  'tb_subjectivity_ps': 0.5154682539682541},\n",
       " {'tb_class_ps': 'pos',\n",
       "  'tb_polarity_ps': 0.13007865646258504,\n",
       "  'tb_prob_pos_ps': 0.9999999998011833,\n",
       "  'tb_subjectivity_ps': 0.5135331632653062}]"
      ]
     },
     "execution_count": 17,
     "metadata": {},
     "output_type": "execute_result"
    }
   ],
   "source": [
    "tb_ps[:3]"
   ]
  },
  {
   "cell_type": "markdown",
   "metadata": {},
   "source": [
    "Same thing as above, let's compare with VADER:"
   ]
  },
  {
   "cell_type": "code",
   "execution_count": 18,
   "metadata": {},
   "outputs": [],
   "source": [
    "vader_ps = []\n",
    "\n",
    "for rev in nexis_parasite:\n",
    "    scores = sid.polarity_scores(rev['text'])\n",
    "    vader_ps.append(scores)"
   ]
  },
  {
   "cell_type": "code",
   "execution_count": 19,
   "metadata": {},
   "outputs": [
    {
     "data": {
      "text/plain": [
       "[{'compound': 0.9894, 'neg': 0.044, 'neu': 0.855, 'pos': 0.101},\n",
       " {'compound': 0.9958, 'neg': 0.049, 'neu': 0.836, 'pos': 0.115},\n",
       " {'compound': 0.9774, 'neg': 0.052, 'neu': 0.864, 'pos': 0.085}]"
      ]
     },
     "execution_count": 19,
     "metadata": {},
     "output_type": "execute_result"
    }
   ],
   "source": [
    "vader_ps[:3]"
   ]
  },
  {
   "cell_type": "markdown",
   "metadata": {},
   "source": [
    "Well that's really fascinating!! It looks like for these reviews, both tools (TextBlob and VADER) seem to work! TextBlob tells us that the first 3 are classified as positive sentiment, and VADER also has high compound sentiment scores. \n",
    "\n",
    "What I want to do now is to create some sort of visual to display the counts of positively classified critic reviews of _The Host_ vs. those of _Parasite_ :"
   ]
  },
  {
   "cell_type": "code",
   "execution_count": 20,
   "metadata": {},
   "outputs": [],
   "source": [
    "class_host = []\n",
    "\n",
    "for item in tb_host:\n",
    "    class_host.append(item['tb_class_host'])"
   ]
  },
  {
   "cell_type": "code",
   "execution_count": 21,
   "metadata": {
    "scrolled": true
   },
   "outputs": [
    {
     "data": {
      "text/plain": [
       "['pos',\n",
       " 'pos',\n",
       " 'pos',\n",
       " 'pos',\n",
       " 'pos',\n",
       " 'pos',\n",
       " 'pos',\n",
       " 'pos',\n",
       " 'pos',\n",
       " 'pos',\n",
       " 'pos',\n",
       " 'pos',\n",
       " 'pos',\n",
       " 'pos',\n",
       " 'pos',\n",
       " 'pos',\n",
       " 'pos',\n",
       " 'pos',\n",
       " 'pos',\n",
       " 'pos',\n",
       " 'pos',\n",
       " 'pos',\n",
       " 'pos',\n",
       " 'pos',\n",
       " 'pos',\n",
       " 'pos',\n",
       " 'pos']"
      ]
     },
     "execution_count": 21,
     "metadata": {},
     "output_type": "execute_result"
    }
   ],
   "source": [
    "class_host"
   ]
  },
  {
   "cell_type": "code",
   "execution_count": 22,
   "metadata": {},
   "outputs": [
    {
     "name": "stderr",
     "output_type": "stream",
     "text": [
      "/usr/local/anaconda3/lib/python3.7/site-packages/seaborn/_decorators.py:43: FutureWarning: Pass the following variable as a keyword arg: x. From version 0.12, the only valid positional argument will be `data`, and passing other arguments without an explicit keyword will result in an error or misinterpretation.\n",
      "  FutureWarning\n"
     ]
    },
    {
     "data": {
      "text/plain": [
       "<AxesSubplot:ylabel='count'>"
      ]
     },
     "execution_count": 22,
     "metadata": {},
     "output_type": "execute_result"
    },
    {
     "data": {
      "image/png": "[encoded data removed]",
      "text/plain": [
       "<Figure size 432x288 with 1 Axes>"
      ]
     },
     "metadata": {
      "needs_background": "light"
     },
     "output_type": "display_data"
    }
   ],
   "source": [
    "# Using seaborn to display results:\n",
    "\n",
    "sns.countplot(class_host)"
   ]
  },
  {
   "cell_type": "markdown",
   "metadata": {},
   "source": [
    "Well, it looks like all of the reviews are positive...Which does not tell us much to be honest. Let's try doing the same thing for reviews of _Parasite_ "
   ]
  },
  {
   "cell_type": "code",
   "execution_count": 23,
   "metadata": {},
   "outputs": [],
   "source": [
    "class_ps = []\n",
    "\n",
    "for item in tb_ps:\n",
    "    class_ps.append(item['tb_class_ps'])"
   ]
  },
  {
   "cell_type": "code",
   "execution_count": 24,
   "metadata": {},
   "outputs": [
    {
     "name": "stderr",
     "output_type": "stream",
     "text": [
      "/usr/local/anaconda3/lib/python3.7/site-packages/seaborn/_decorators.py:43: FutureWarning: Pass the following variable as a keyword arg: x. From version 0.12, the only valid positional argument will be `data`, and passing other arguments without an explicit keyword will result in an error or misinterpretation.\n",
      "  FutureWarning\n"
     ]
    },
    {
     "data": {
      "text/plain": [
       "<AxesSubplot:ylabel='count'>"
      ]
     },
     "execution_count": 24,
     "metadata": {},
     "output_type": "execute_result"
    },
    {
     "data": {
      "image/png": "[encoded data removed]",
      "text/plain": [
       "<Figure size 432x288 with 1 Axes>"
      ]
     },
     "metadata": {
      "needs_background": "light"
     },
     "output_type": "display_data"
    }
   ],
   "source": [
    "sns.countplot(class_ps)"
   ]
  },
  {
   "cell_type": "markdown",
   "metadata": {},
   "source": [
    "Okay, this has the same results. All of the critic reviews are positive. This doesn't tell us much about the data, so let's see if something else can give us more insight.\n",
    "\n",
    "Moving on, let's try looking at mean polarity scores:"
   ]
  },
  {
   "cell_type": "code",
   "execution_count": 25,
   "metadata": {
    "scrolled": true
   },
   "outputs": [
    {
     "data": {
      "text/plain": [
       "0.05794903438879061"
      ]
     },
     "execution_count": 25,
     "metadata": {},
     "output_type": "execute_result"
    }
   ],
   "source": [
    "sum([review['tb_polarity_host'] for review in tb_host])/ len(tb_host)"
   ]
  },
  {
   "cell_type": "code",
   "execution_count": 26,
   "metadata": {},
   "outputs": [
    {
     "data": {
      "text/plain": [
       "0.19022014280174124"
      ]
     },
     "execution_count": 26,
     "metadata": {},
     "output_type": "execute_result"
    }
   ],
   "source": [
    "sum([review['tb_polarity_ps'] for review in tb_ps])/ len(tb_ps)"
   ]
  },
  {
   "cell_type": "markdown",
   "metadata": {},
   "source": [
    "The polarity scores give us scores from -1 to 1, where negative scores indicate negative sentiment and positive scores greater than 0 indicate positive sentiment. Based on this, it does look like the reviews of _The Host_ have less positive sentiment than that of _Parasite_ but the difference is minimal. They're within 0.2 of each other. \n",
    "\n",
    "Next, we're exploring what else TextBlob can do. But in terms of my analysis and information for my data story, I want to focus on what we've done above. \n",
    "\n",
    "### Sub-document units (i.e. sentences)\n",
    "\n",
    "* TextBlob also does sentence segmentation and can be used to score sentiment at that level.\n",
    "\n",
    "* Here we can find sentences that have a polarity < -0.1"
   ]
  },
  {
   "cell_type": "code",
   "execution_count": 27,
   "metadata": {},
   "outputs": [
    {
     "data": {
      "text/plain": [
       "[(\"Related stories from TheWrap: 'Bad Boys' Rides High Again at Box Office While 'Dolittle' Crashes[1]'Little Women' Could Help the Oscars Break a Box Office Drought[2]'Star Wars: The Rise of Skywalker' Set to Cross $1 Billion at Global Box Office[3] [ 1]: https://www.thewrap.com/bad-boys-rides-high-again-at-box-office-while-dolittle-crashes-will-smith-martin-lawrence/ [ 2]:       \\xa0    https://www.thewrap.com/little-women-could-help-the-oscars-break-a-box-office-drought/ [ 3]:       \\xa0    https://www.thewrap.com/star-wars-the-rise-of-skywalker-set-to-cross-1-billion-at-global-box-office/\",\n",
       "  Sentiment(polarity=-0.12124999999999997, subjectivity=0.3511111111111111))]"
      ]
     },
     "execution_count": 27,
     "metadata": {},
     "output_type": "execute_result"
    }
   ],
   "source": [
    "[(s.string, s.sentiment) for s in tb1.sentences if s.sentiment.polarity<-0.1]"
   ]
  },
  {
   "cell_type": "markdown",
   "metadata": {},
   "source": [
    "* Or above 0.3 "
   ]
  },
  {
   "cell_type": "code",
   "execution_count": 28,
   "metadata": {},
   "outputs": [
    {
     "data": {
      "text/plain": [
       "[(\"Jan 19, 2020( The Wrap: http://www.thewrap.com/ Delivered by Newstex)  Several Best Picture Oscar contenders got a box office boost from their nominations this weekend, including NEON's 'Parasite' and Searchlight's 'Jojo Rabbit,' both of which had their theater counts significantly expanded to accommodate renewed audience interest.\",\n",
       "  Sentiment(polarity=0.4583333333333333, subjectivity=0.39166666666666666)),\n",
       " ('The Bong Joon-ho film became the first Korean movie ever to earn a nomination for Best Picture and took six nominations in all, including Best International Film, Best Director and Best Original Screenplay.',\n",
       "  Sentiment(polarity=0.6607142857142857, subjectivity=0.3261904761904762)),\n",
       " (\"'Jojo Rabbit' was one of two films that Scarlett Johansson earned Oscar nominations for, taking a Best Supporting Actress nod for her work here to go with her Best Actress nod for 'Marriage Story.\",\n",
       "  Sentiment(polarity=0.75, subjectivity=0.2833333333333334)),\n",
       " (\"'Jojo' took six nominations overall, including Best Adapted Screenplay for writer-director Taika Waititi.\",\n",
       "  Sentiment(polarity=0.5, subjectivity=0.15))]"
      ]
     },
     "execution_count": 28,
     "metadata": {},
     "output_type": "execute_result"
    }
   ],
   "source": [
    "[(s.string, s.sentiment) for s in tb1.sentences if s.sentiment.polarity>0.3]"
   ]
  },
  {
   "cell_type": "markdown",
   "metadata": {},
   "source": [
    "### Making a distribution by sentence\n",
    "\n",
    "Reminder, this is just for one critic review, the first one in the list of `nexis_host`:"
   ]
  },
  {
   "cell_type": "code",
   "execution_count": 29,
   "metadata": {},
   "outputs": [],
   "source": [
    "sp = [s.sentiment.polarity for s in tb1.sentences ]"
   ]
  },
  {
   "cell_type": "code",
   "execution_count": 30,
   "metadata": {},
   "outputs": [
    {
     "data": {
      "text/plain": [
       "[0.4583333333333333,\n",
       " 0.05,\n",
       " 0.6607142857142857,\n",
       " 0.0,\n",
       " 0.0,\n",
       " 0.75,\n",
       " 0.5,\n",
       " 0.06818181818181818,\n",
       " 0.10212121212121213,\n",
       " -0.12124999999999997]"
      ]
     },
     "execution_count": 30,
     "metadata": {},
     "output_type": "execute_result"
    }
   ],
   "source": [
    "sp"
   ]
  },
  {
   "cell_type": "code",
   "execution_count": 31,
   "metadata": {},
   "outputs": [
    {
     "data": {
      "text/plain": [
       "0.2468100649350649"
      ]
     },
     "execution_count": 31,
     "metadata": {},
     "output_type": "execute_result"
    }
   ],
   "source": [
    "np.mean(sp)"
   ]
  },
  {
   "cell_type": "code",
   "execution_count": 32,
   "metadata": {},
   "outputs": [
    {
     "data": {
      "text/plain": [
       "<seaborn.axisgrid.FacetGrid at 0x7f328289beb8>"
      ]
     },
     "execution_count": 32,
     "metadata": {},
     "output_type": "execute_result"
    },
    {
     "data": {
      "image/png": "[encoded data removed]",
      "text/plain": [
       "<Figure size 360x360 with 1 Axes>"
      ]
     },
     "metadata": {
      "needs_background": "light"
     },
     "output_type": "display_data"
    }
   ],
   "source": [
    "sns.displot(sp)"
   ]
  },
  {
   "cell_type": "markdown",
   "metadata": {},
   "source": [
    "Above is the distribution of each sentence's polarity scores in that same review.\n",
    "\n",
    "We can also look at the count of sentiment classification (pos or neg) for each sentence, and then make a chart based on that to show whether the review has more pos classified sentences or neg:"
   ]
  },
  {
   "cell_type": "code",
   "execution_count": 33,
   "metadata": {},
   "outputs": [],
   "source": [
    "sent_class = [s.sentiment.classification for s in tb2.sentences]"
   ]
  },
  {
   "cell_type": "code",
   "execution_count": 34,
   "metadata": {},
   "outputs": [
    {
     "data": {
      "text/plain": [
       "['pos', 'pos', 'pos', 'pos', 'pos', 'pos', 'pos', 'pos', 'pos', 'pos']"
      ]
     },
     "execution_count": 34,
     "metadata": {},
     "output_type": "execute_result"
    }
   ],
   "source": [
    "sent_class"
   ]
  },
  {
   "cell_type": "code",
   "execution_count": 35,
   "metadata": {},
   "outputs": [
    {
     "name": "stderr",
     "output_type": "stream",
     "text": [
      "/usr/local/anaconda3/lib/python3.7/site-packages/seaborn/_decorators.py:43: FutureWarning: Pass the following variable as a keyword arg: x. From version 0.12, the only valid positional argument will be `data`, and passing other arguments without an explicit keyword will result in an error or misinterpretation.\n",
      "  FutureWarning\n"
     ]
    },
    {
     "data": {
      "text/plain": [
       "<AxesSubplot:ylabel='count'>"
      ]
     },
     "execution_count": 35,
     "metadata": {},
     "output_type": "execute_result"
    },
    {
     "data": {
      "image/png": "[encoded data removed]",
      "text/plain": [
       "<Figure size 432x288 with 1 Axes>"
      ]
     },
     "metadata": {
      "needs_background": "light"
     },
     "output_type": "display_data"
    }
   ],
   "source": [
    "sns.countplot(sent_class)"
   ]
  },
  {
   "cell_type": "markdown",
   "metadata": {},
   "source": [
    "This is compiling the classification of each sentence.\n",
    "\n",
    "## Conclusion\n",
    "\n",
    "In this notebook, I explored using TextBlob for sentiment analysis. Although it seems to work a bit better than VADER, it looks like for my data, the differences shown are minimal. It might also have to do with the fact that there's such a large discrepancy between the size of the data files (27 of Host vs. 261 of Parasite), which in and of itself is an intriguing observation. \n",
    "\n",
    "Overall, the results of TextBlob tell us that sentiment analysis is not as clear-cut and precise as we sometimes think it will be. VADER and TextBlob both have their limitations, nothing is perfect! In that case, I will stick to what I have discovered with using VADER for sentiment analysis. If you want to see that process of using VADER, please refer to `analysis_critic_nexis`. Thank you!"
   ]
  },
  {
   "cell_type": "code",
   "execution_count": null,
   "metadata": {},
   "outputs": [],
   "source": []
  }
 ],
 "metadata": {
  "kernelspec": {
   "display_name": "Python 3",
   "language": "python",
   "name": "python3"
  },
  "language_info": {
   "codemirror_mode": {
    "name": "ipython",
    "version": 3
   },
   "file_extension": ".py",
   "mimetype": "text/x-python",
   "name": "python",
   "nbconvert_exporter": "python",
   "pygments_lexer": "ipython3",
   "version": "3.7.3"
  }
 },
 "nbformat": 4,
 "nbformat_minor": 2
}
