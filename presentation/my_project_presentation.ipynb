{
 "cells": [
  {
   "cell_type": "markdown",
   "metadata": {
    "slideshow": {
     "slide_type": "skip"
    }
   },
   "source": [
    "# My Final Project Presentation\n",
    "\n",
    "This is a series of cells that 1) sets up my code and data analysis that I will be sharing with the class in COMM 313, and 2) uses Jupyter Hub's presentation slide format! \n",
    "\n",
    "It includes my project title, rationale for why I chose my topic, research question and hypothesis, data collection and descriptives, initial data analysis (sentiment analysis) and results, and next steps.\n",
    "\n",
    "Thank you and enjoy!"
   ]
  },
  {
   "cell_type": "code",
   "execution_count": 1,
   "metadata": {
    "slideshow": {
     "slide_type": "skip"
    }
   },
   "outputs": [],
   "source": [
    "import requests\n",
    "from bs4 import BeautifulSoup\n",
    "import math\n",
    "import time\n",
    "import json\n",
    "from nltk.corpus import stopwords\n",
    "import random\n",
    "import re\n",
    "import os\n",
    "import csv\n",
    "import pandas as pd\n",
    "import numpy as np\n",
    "import matplotlib.pyplot as plt\n",
    "\n",
    "from nltk import tokenize\n",
    "from nltk.sentiment.vader import SentimentIntensityAnalyzer\n",
    "\n",
    "from collections import Counter"
   ]
  },
  {
   "cell_type": "code",
   "execution_count": 2,
   "metadata": {
    "slideshow": {
     "slide_type": "skip"
    }
   },
   "outputs": [],
   "source": [
    "def tokenize(text, lowercase=False, strip_chars=''):\n",
    "    '''create a list of tokens from a string by splitting on whitespace and applying optional normalization \n",
    "    \n",
    "    Args:\n",
    "        text        -- a string object containing the text to be tokenized\n",
    "        lowercase   -- should text string be normalized as lowercase (default: False)\n",
    "        strip_chars -- a string indicating characters to strip out of text, e.g. punctuation (default: empty string) \n",
    "        \n",
    "    Return:\n",
    "        A list of tokens\n",
    "    '''\n",
    "    \n",
    "    # create a replacement dictionary from the\n",
    "    # string of characters in the **strip_chars**\n",
    "    rdict = str.maketrans('','',strip_chars)\n",
    "    \n",
    "    if lowercase:\n",
    "        text = text.lower()\n",
    "    \n",
    "    tokens = text.translate(rdict).split()\n",
    "    \n",
    "    return tokens"
   ]
  },
  {
   "cell_type": "code",
   "execution_count": 3,
   "metadata": {
    "slideshow": {
     "slide_type": "skip"
    }
   },
   "outputs": [],
   "source": [
    "characters_to_strip = '().[]!,\"'"
   ]
  },
  {
   "cell_type": "code",
   "execution_count": 4,
   "metadata": {
    "slideshow": {
     "slide_type": "skip"
    }
   },
   "outputs": [],
   "source": [
    "metacritic_host_user = json.load(open('../data/user_reviews/metacritic_host_user.json'))"
   ]
  },
  {
   "cell_type": "code",
   "execution_count": 5,
   "metadata": {
    "slideshow": {
     "slide_type": "skip"
    }
   },
   "outputs": [],
   "source": [
    "metacritic_parasite_user = json.load(open('../data/user_reviews/metacritic_parasite_user.json'))"
   ]
  },
  {
   "cell_type": "code",
   "execution_count": 6,
   "metadata": {
    "slideshow": {
     "slide_type": "skip"
    }
   },
   "outputs": [],
   "source": [
    "sid = SentimentIntensityAnalyzer()"
   ]
  },
  {
   "cell_type": "code",
   "execution_count": 7,
   "metadata": {
    "slideshow": {
     "slide_type": "skip"
    }
   },
   "outputs": [],
   "source": [
    "words_to_remove = [\n",
    "    'monster',\n",
    "    'virus',\n",
    "    'expand',\n",
    "    'host',\n",
    "    'movie',\n",
    "     'kill',\n",
    "    'expand',\n",
    "    'parasite',\n",
    "    'movie',\n",
    "    'sucks',\n",
    "    'poor',\n",
    "    'struggles',\n",
    "    'hard'\n",
    "]"
   ]
  },
  {
   "cell_type": "markdown",
   "metadata": {
    "slideshow": {
     "slide_type": "slide"
    }
   },
   "source": [
    "# Final Project Presentation"
   ]
  },
  {
   "cell_type": "markdown",
   "metadata": {
    "slideshow": {
     "slide_type": "-"
    }
   },
   "source": [
    "## _Parasite_ and _The Host_ - How has Director Bong Joon Ho's work grown on us? \n",
    "\n",
    "#### Mary Shin | COMM 313 Spring 2021"
   ]
  },
  {
   "cell_type": "markdown",
   "metadata": {
    "slideshow": {
     "slide_type": "subslide"
    }
   },
   "source": [
    "## Research Question:\n",
    "\n",
    "### How have public audiences and film critics reacted to Director Bong Joon Ho's _Parasite_ and _The Host_ ?\n"
   ]
  },
  {
   "cell_type": "markdown",
   "metadata": {
    "slideshow": {
     "slide_type": "-"
    }
   },
   "source": [
    "\n",
    "## Hypothesis:\n",
    "\n",
    "### _Parasite_ (2019) has been more well-received (higher ratings, more positive sentiment reviews) than _The Host_ (2006)"
   ]
  },
  {
   "cell_type": "markdown",
   "metadata": {
    "slideshow": {
     "slide_type": "slide"
    }
   },
   "source": [
    "## Background:\n",
    "\n",
    "* Movie reviews from public audience vs. film critics\n",
    "* 2x2 research design: _The Host_ vs. _Parasite_ and User review vs. Critic review"
   ]
  },
  {
   "cell_type": "code",
   "execution_count": 23,
   "metadata": {
    "slideshow": {
     "slide_type": "skip"
    }
   },
   "outputs": [
    {
     "data": {
      "text/plain": [
       "Text(0.5, 1.0, '2x2: Film vs. User/Critic Review')"
      ]
     },
     "execution_count": 23,
     "metadata": {},
     "output_type": "execute_result"
    },
    {
     "data": {
      "image/png": "[encoded data removed]",
      "text/plain": [
       "<Figure size 432x288 with 1 Axes>"
      ]
     },
     "metadata": {
      "needs_background": "light"
     },
     "output_type": "display_data"
    }
   ],
   "source": [
    "fig, ax = plt.subplots()\n",
    "\n",
    "two_by_two = [\n",
    "    ['User reviews of \"The Host\"', 'User reviews of \"Parasite\"'],\n",
    "    ['Film critic reviews of \"The Host\"', 'Film critic reviews of \"Parasite\"']\n",
    "]\n",
    "\n",
    "table = ax.table(cellText = two_by_two, loc='center')\n",
    "table.set_fontsize(20)\n",
    "table.scale(2,4)\n",
    "ax.axis('off')\n",
    "plt.title('2x2: Film vs. User/Critic Review', size=20)"
   ]
  },
  {
   "cell_type": "code",
   "execution_count": 26,
   "metadata": {
    "slideshow": {
     "slide_type": "subslide"
    }
   },
   "outputs": [
    {
     "data": {
      "image/png": "[encoded data removed]",
      "text/plain": [
       "<Figure size 432x288 with 1 Axes>"
      ]
     },
     "execution_count": 26,
     "metadata": {},
     "output_type": "execute_result"
    }
   ],
   "source": [
    "fig"
   ]
  },
  {
   "cell_type": "markdown",
   "metadata": {
    "slideshow": {
     "slide_type": "slide"
    }
   },
   "source": [
    "## Data\n",
    "\n",
    "* Web-scraping - Metacritic and Rotten Tomatoes: user reviews, critic reviews \n",
    "   -  However, need more data on critic reviews!\n",
    "* To fill in the gap for critic reviews - Nexis Uni: newspaper and blog articles that are movie reviews\n",
    "\n",
    "What I have so far:\n",
    "* _The Host_ - 100 user reviews, 217 critic reviews and _Parasite_ - 324 user reviews, 314 critic reviews\n"
   ]
  },
  {
   "cell_type": "markdown",
   "metadata": {
    "slideshow": {
     "slide_type": "notes"
    }
   },
   "source": [
    "To fill the gap between the user reviews:\n",
    "* Scrape more user reviews on Rotten Tomatoes"
   ]
  },
  {
   "cell_type": "markdown",
   "metadata": {
    "slideshow": {
     "slide_type": "slide"
    }
   },
   "source": [
    "## Analysis\n",
    "\n",
    "* Small sample of user reviews for both movies, amount of positively rated vs. negatively rated\n",
    "* Mean compound sentiment scores"
   ]
  },
  {
   "cell_type": "code",
   "execution_count": 9,
   "metadata": {
    "slideshow": {
     "slide_type": "-"
    }
   },
   "outputs": [
    {
     "data": {
      "text/plain": [
       "{'date': 'Nov  5, 2015',\n",
       " 'score': '8',\n",
       " 'text': 'Fresh, exciting and not your typical cliched Hollywood rubbish. Loved it. Great effects, real tension and all the elements you want in a horror/action film. Those who dont get it should go back to crap like Godzilla.'}"
      ]
     },
     "execution_count": 9,
     "metadata": {},
     "output_type": "execute_result"
    }
   ],
   "source": [
    "# Looking at one random user review of The Host in my dict:\n",
    "metacritic_host_user[10]"
   ]
  },
  {
   "cell_type": "code",
   "execution_count": 10,
   "metadata": {
    "slideshow": {
     "slide_type": "-"
    }
   },
   "outputs": [
    {
     "data": {
      "text/plain": [
       "{'date': 'Jan 22, 2021',\n",
       " 'score': '7',\n",
       " 'text': \"It's an interesting movie, hard to compare to anything else. It has its own unique style. Thrilling and funny at the same time. Has some society critical messages included. Anyway the characters and plot don't feel comprehensible. It's anIt's an interesting movie, hard to compare to anything else. It has its own unique style. Thrilling and funny at the same time. Has some society critical messages included. Anyway the characters and plot don't feel comprehensible. It's an interestic movie but no 'must see' for me. Overall I can't understand this huge hype at all, even so I am a big fan of movies with an unexpectable plot.… Expand\"}"
      ]
     },
     "execution_count": 10,
     "metadata": {},
     "output_type": "execute_result"
    }
   ],
   "source": [
    "# Random user review of Parasite:\n",
    "metacritic_parasite_user[10]"
   ]
  },
  {
   "cell_type": "markdown",
   "metadata": {
    "slideshow": {
     "slide_type": "subslide"
    }
   },
   "source": [
    "## How many positively rated vs. negatively rated reviews?"
   ]
  },
  {
   "cell_type": "code",
   "execution_count": 11,
   "metadata": {
    "slideshow": {
     "slide_type": "-"
    }
   },
   "outputs": [],
   "source": [
    "# Positive vs. negative scores (on a scale of 0-10)\n",
    "\n",
    "pos_host = []\n",
    "neg_host = []\n",
    "\n",
    "for review in metacritic_host_user:\n",
    "    if int(review['score'])>5:\n",
    "        pos_host.append(review)\n",
    "    else:\n",
    "        neg_host.append(review)"
   ]
  },
  {
   "cell_type": "code",
   "execution_count": 12,
   "metadata": {
    "slideshow": {
     "slide_type": "-"
    }
   },
   "outputs": [],
   "source": [
    "# Same thing for parasite user reviews:\n",
    "\n",
    "pos_parasite = []\n",
    "neg_parasite = []\n",
    "\n",
    "for review in metacritic_parasite_user:\n",
    "    if int(review['score'])>5:\n",
    "        pos_parasite.append(review)\n",
    "    else:\n",
    "        neg_parasite.append(review)"
   ]
  },
  {
   "cell_type": "code",
   "execution_count": 13,
   "metadata": {
    "slideshow": {
     "slide_type": "subslide"
    }
   },
   "outputs": [
    {
     "name": "stdout",
     "output_type": "stream",
     "text": [
      "52 positive user reviews of The Host\n",
      "48 negative user reviews of The Host\n",
      "and\n",
      "88 positive user reviews of Parasite\n",
      "12 negative user reviews of Parasite\n"
     ]
    }
   ],
   "source": [
    "print(f'{len(pos_host)} positive user reviews of The Host')\n",
    "print(f'{len(neg_host)} negative user reviews of The Host')\n",
    "print('and')\n",
    "print(f'{len(pos_parasite)} positive user reviews of Parasite')\n",
    "print(f'{len(neg_parasite)} negative user reviews of Parasite')"
   ]
  },
  {
   "cell_type": "markdown",
   "metadata": {
    "slideshow": {
     "slide_type": "slide"
    }
   },
   "source": [
    "### Sentiment Analysis using VADER\n",
    "\n",
    "1) Tokenize each review\n",
    "\n",
    "2) Filter tokens to exclude words that would mess up the sentiment scores\n",
    "  * Words to describe the plot, movie descriptives, rather than about reviewer's opinion/thought/feeling\n",
    "\n",
    "3) For each review, run `sid.polarity_scores` function and add those scores to each review"
   ]
  },
  {
   "cell_type": "code",
   "execution_count": 14,
   "metadata": {
    "slideshow": {
     "slide_type": "-"
    }
   },
   "outputs": [],
   "source": [
    "for review in metacritic_host_user:\n",
    "    tokens = tokenize(review['text'], lowercase=True, strip_chars=characters_to_strip)\n",
    "    filtered_tokens = [t for t in tokens if t not in words_to_remove]\n",
    "    review['tokens']=filtered_tokens"
   ]
  },
  {
   "cell_type": "code",
   "execution_count": 15,
   "metadata": {
    "slideshow": {
     "slide_type": "-"
    }
   },
   "outputs": [],
   "source": [
    "for review in metacritic_host_user:\n",
    "    text = ' '.join(review['tokens'])\n",
    "    scores = sid.polarity_scores(text)\n",
    "    review.update(scores)"
   ]
  },
  {
   "cell_type": "code",
   "execution_count": 16,
   "metadata": {
    "slideshow": {
     "slide_type": "subslide"
    }
   },
   "outputs": [],
   "source": [
    "# Same thing for user reviews of parasite:\n",
    "for review in metacritic_parasite_user:\n",
    "    tokens = tokenize(review['text'], lowercase=True, strip_chars=characters_to_strip)\n",
    "    filtered_tokens = [t for t in tokens if t not in words_to_remove]\n",
    "    review['tokens']=filtered_tokens"
   ]
  },
  {
   "cell_type": "code",
   "execution_count": 17,
   "metadata": {
    "slideshow": {
     "slide_type": "-"
    }
   },
   "outputs": [],
   "source": [
    "for review in metacritic_parasite_user:\n",
    "    text = ' '.join(review['tokens'])\n",
    "    scores = sid.polarity_scores(text)\n",
    "    review.update(scores)"
   ]
  },
  {
   "cell_type": "markdown",
   "metadata": {
    "slideshow": {
     "slide_type": "slide"
    }
   },
   "source": [
    "## Results\n",
    "\n",
    "* Finding mean compound scores from sentiment analysis \n",
    "* Comparing those review sentiment scores between the two movies"
   ]
  },
  {
   "cell_type": "code",
   "execution_count": 21,
   "metadata": {
    "slideshow": {
     "slide_type": "-"
    }
   },
   "outputs": [
    {
     "data": {
      "text/plain": [
       "0.15178400000000009"
      ]
     },
     "execution_count": 21,
     "metadata": {},
     "output_type": "execute_result"
    }
   ],
   "source": [
    "# Mean sentiment score for user reviews of the host:\n",
    "\n",
    "sum([review['compound'] for review in metacritic_host_user])/len(metacritic_host_user)\n"
   ]
  },
  {
   "cell_type": "code",
   "execution_count": 22,
   "metadata": {
    "slideshow": {
     "slide_type": "-"
    }
   },
   "outputs": [
    {
     "data": {
      "text/plain": [
       "0.5880540000000001"
      ]
     },
     "execution_count": 22,
     "metadata": {},
     "output_type": "execute_result"
    }
   ],
   "source": [
    "# Mean sentiment score for user reviews of parasite:\n",
    "\n",
    "sum([review['compound'] for review in metacritic_parasite_user])/ len(metacritic_parasite_user)"
   ]
  },
  {
   "cell_type": "markdown",
   "metadata": {},
   "source": [
    "Based on this initial analysis, there are 1) **more positively rated reviews** of _Parasite_ than _The Host_ and 2) **higher mean compound sentiment scores** among reviews of _Parasite_ than _The Host_ "
   ]
  },
  {
   "cell_type": "markdown",
   "metadata": {
    "slideshow": {
     "slide_type": "slide"
    }
   },
   "source": [
    "## Next Steps\n",
    "\n",
    "* Collect more data on _The Host_ user reviews, fill in the gaps in data\n",
    "* Clean and organize data from metacritic, nexis uni\n",
    "* Try sentiment analysis using NRC Lexicon\n",
    "* Run sentiment analysis and look into what's driving either positive or negative sentiment\n",
    "    - Perhaps specific words that tend to occur for positive sentiment reviews (e.g. \"masterpiece\")"
   ]
  },
  {
   "cell_type": "markdown",
   "metadata": {
    "slideshow": {
     "slide_type": "subslide"
    }
   },
   "source": [
    "## Thank you! :)\n",
    "\n",
    "\n",
    "-Mary Shin"
   ]
  }
 ],
 "metadata": {
  "celltoolbar": "Slideshow",
  "kernelspec": {
   "display_name": "Python 3",
   "language": "python",
   "name": "python3"
  },
  "language_info": {
   "codemirror_mode": {
    "name": "ipython",
    "version": 3
   },
   "file_extension": ".py",
   "mimetype": "text/x-python",
   "name": "python",
   "nbconvert_exporter": "python",
   "pygments_lexer": "ipython3",
   "version": "3.7.3"
  }
 },
 "nbformat": 4,
 "nbformat_minor": 2
}
